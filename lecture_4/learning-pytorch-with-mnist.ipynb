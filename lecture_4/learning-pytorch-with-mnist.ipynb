{
 "cells": [
  {
   "cell_type": "markdown",
   "id": "dda6e230",
   "metadata": {
    "papermill": {
     "duration": 0.016414,
     "end_time": "2023-03-30T15:32:12.750915",
     "exception": false,
     "start_time": "2023-03-30T15:32:12.734501",
     "status": "completed"
    },
    "tags": []
   },
   "source": [
    "In this notebook we will attempt to learn how to construct and train a deep neural network from scratch to predict the handwritten digits. For this task we will perform the following:\n",
    "- download and check the data\n",
    "- prepare the dataset for training\n",
    "- train the baseline model\n",
    "- process to develop a better model\n",
    "- analyze results\n",
    "\n",
    "First, we import all the libraries we need:"
   ]
  },
  {
   "cell_type": "code",
   "execution_count": 1,
   "id": "c2b6b39f",
   "metadata": {
    "_cell_guid": "b1076dfc-b9ad-4769-8c92-a6c4dae69d19",
    "_uuid": "8f2839f25d086af736a60e9eeb907d3b93b6e0e5",
    "execution": {
     "iopub.execute_input": "2023-03-30T15:32:12.783018Z",
     "iopub.status.busy": "2023-03-30T15:32:12.781874Z",
     "iopub.status.idle": "2023-03-30T15:32:16.848204Z",
     "shell.execute_reply": "2023-03-30T15:32:16.846835Z"
    },
    "papermill": {
     "duration": 4.085893,
     "end_time": "2023-03-30T15:32:16.851479",
     "exception": false,
     "start_time": "2023-03-30T15:32:12.765586",
     "status": "completed"
    },
    "tags": []
   },
   "outputs": [],
   "source": [
    "%matplotlib inline\n",
    "import matplotlib.pyplot as plt\n",
    "import seaborn as sns\n",
    "\n",
    "from pathlib import Path\n",
    "\n",
    "import numpy as np\n",
    "import pandas as pd\n",
    "\n",
    "# PyTorch\n",
    "import torch\n",
    "import torch.nn as nn\n",
    "import torch.nn.functional as F\n",
    "import torch.optim as optim\n",
    "from torchvision import datasets\n",
    "from torch.utils.data import DataLoader\n",
    "from torchvision.transforms import ToTensor\n",
    "from torch.utils.data import SubsetRandomSampler"
   ]
  },
  {
   "cell_type": "markdown",
   "id": "9e71598d",
   "metadata": {
    "papermill": {
     "duration": 0.014076,
     "end_time": "2023-03-30T15:32:16.880051",
     "exception": false,
     "start_time": "2023-03-30T15:32:16.865975",
     "status": "completed"
    },
    "tags": []
   },
   "source": [
    "Nest, we define global variables and plot style:"
   ]
  },
  {
   "cell_type": "code",
   "execution_count": 2,
   "id": "9295e5e8",
   "metadata": {
    "execution": {
     "iopub.execute_input": "2023-03-30T15:32:16.912858Z",
     "iopub.status.busy": "2023-03-30T15:32:16.911868Z",
     "iopub.status.idle": "2023-03-30T15:32:16.917903Z",
     "shell.execute_reply": "2023-03-30T15:32:16.916984Z"
    },
    "papermill": {
     "duration": 0.024564,
     "end_time": "2023-03-30T15:32:16.920275",
     "exception": false,
     "start_time": "2023-03-30T15:32:16.895711",
     "status": "completed"
    },
    "tags": []
   },
   "outputs": [],
   "source": [
    "# Plotting style\n",
    "plt.style.use('ggplot')\n",
    "\n",
    "# Global variables\n",
    "DATA_DIR = Path('/kaggle/working/data/')"
   ]
  },
  {
   "cell_type": "markdown",
   "id": "a2dfda02",
   "metadata": {
    "papermill": {
     "duration": 0.014169,
     "end_time": "2023-03-30T15:32:16.948845",
     "exception": false,
     "start_time": "2023-03-30T15:32:16.934676",
     "status": "completed"
    },
    "tags": []
   },
   "source": [
    "# About the dataset"
   ]
  },
  {
   "cell_type": "markdown",
   "id": "119827c8",
   "metadata": {
    "papermill": {
     "duration": 0.014064,
     "end_time": "2023-03-30T15:32:16.977452",
     "exception": false,
     "start_time": "2023-03-30T15:32:16.963388",
     "status": "completed"
    },
    "tags": []
   },
   "source": [
    "## Download the dataset"
   ]
  },
  {
   "cell_type": "markdown",
   "id": "f213583f",
   "metadata": {
    "papermill": {
     "duration": 0.014833,
     "end_time": "2023-03-30T15:32:17.006648",
     "exception": false,
     "start_time": "2023-03-30T15:32:16.991815",
     "status": "completed"
    },
    "tags": []
   },
   "source": [
    "To train anything we first need the data. For this project we will use the famous [MNIST dataset](https://pytorch.org/vision/stable/generated/torchvision.datasets.MNIST.html#torchvision.datasets.MNIST) comprised of images of digits from 0 to 9 where our task is to predict the digit based on the image provided. The dataset is already provided in the `dataset` module of `torchvision` library. To view which datasets are available see the [link](https://pytorch.org/vision/stable/datasets.html).\n",
    "\n",
    "To download the dataset we need to provide the following arguments: `root`: where to save the downloaded files, `train`: should the train dataset be downloaded, and `download` whether to download the dataset. Note that if the data already exists locally in the provided `root` argument then the data will not be downloaded. The dataset will be processed as PyTorch `DataSet`."
   ]
  },
  {
   "cell_type": "code",
   "execution_count": 3,
   "id": "8841ae90",
   "metadata": {
    "execution": {
     "iopub.execute_input": "2023-03-30T15:32:17.038868Z",
     "iopub.status.busy": "2023-03-30T15:32:17.038196Z",
     "iopub.status.idle": "2023-03-30T15:32:18.739809Z",
     "shell.execute_reply": "2023-03-30T15:32:18.738391Z"
    },
    "papermill": {
     "duration": 1.721527,
     "end_time": "2023-03-30T15:32:18.742956",
     "exception": false,
     "start_time": "2023-03-30T15:32:17.021429",
     "status": "completed"
    },
    "tags": []
   },
   "outputs": [
    {
     "name": "stdout",
     "output_type": "stream",
     "text": [
      "Downloading http://yann.lecun.com/exdb/mnist/train-images-idx3-ubyte.gz\n",
      "Downloading http://yann.lecun.com/exdb/mnist/train-images-idx3-ubyte.gz to /kaggle/working/data/MNIST/raw/train-images-idx3-ubyte.gz\n"
     ]
    },
    {
     "data": {
      "application/vnd.jupyter.widget-view+json": {
       "model_id": "68a0325804404608bf37ab60b3cfbc86",
       "version_major": 2,
       "version_minor": 0
      },
      "text/plain": [
       "  0%|          | 0/9912422 [00:00<?, ?it/s]"
      ]
     },
     "metadata": {},
     "output_type": "display_data"
    },
    {
     "name": "stdout",
     "output_type": "stream",
     "text": [
      "Extracting /kaggle/working/data/MNIST/raw/train-images-idx3-ubyte.gz to /kaggle/working/data/MNIST/raw\n",
      "\n",
      "Downloading http://yann.lecun.com/exdb/mnist/train-labels-idx1-ubyte.gz\n",
      "Downloading http://yann.lecun.com/exdb/mnist/train-labels-idx1-ubyte.gz to /kaggle/working/data/MNIST/raw/train-labels-idx1-ubyte.gz\n"
     ]
    },
    {
     "data": {
      "application/vnd.jupyter.widget-view+json": {
       "model_id": "5d2352fa32e14f76823cd3634ca0bc04",
       "version_major": 2,
       "version_minor": 0
      },
      "text/plain": [
       "  0%|          | 0/28881 [00:00<?, ?it/s]"
      ]
     },
     "metadata": {},
     "output_type": "display_data"
    },
    {
     "name": "stdout",
     "output_type": "stream",
     "text": [
      "Extracting /kaggle/working/data/MNIST/raw/train-labels-idx1-ubyte.gz to /kaggle/working/data/MNIST/raw\n",
      "\n",
      "Downloading http://yann.lecun.com/exdb/mnist/t10k-images-idx3-ubyte.gz\n",
      "Downloading http://yann.lecun.com/exdb/mnist/t10k-images-idx3-ubyte.gz to /kaggle/working/data/MNIST/raw/t10k-images-idx3-ubyte.gz\n"
     ]
    },
    {
     "data": {
      "application/vnd.jupyter.widget-view+json": {
       "model_id": "30a4b1b4c2ed47499fec41c3aa3ad9ab",
       "version_major": 2,
       "version_minor": 0
      },
      "text/plain": [
       "  0%|          | 0/1648877 [00:00<?, ?it/s]"
      ]
     },
     "metadata": {},
     "output_type": "display_data"
    },
    {
     "name": "stdout",
     "output_type": "stream",
     "text": [
      "Extracting /kaggle/working/data/MNIST/raw/t10k-images-idx3-ubyte.gz to /kaggle/working/data/MNIST/raw\n",
      "\n",
      "Downloading http://yann.lecun.com/exdb/mnist/t10k-labels-idx1-ubyte.gz\n",
      "Downloading http://yann.lecun.com/exdb/mnist/t10k-labels-idx1-ubyte.gz to /kaggle/working/data/MNIST/raw/t10k-labels-idx1-ubyte.gz\n"
     ]
    },
    {
     "data": {
      "application/vnd.jupyter.widget-view+json": {
       "model_id": "740a0c49db51471cadc33a11aa797580",
       "version_major": 2,
       "version_minor": 0
      },
      "text/plain": [
       "  0%|          | 0/4542 [00:00<?, ?it/s]"
      ]
     },
     "metadata": {},
     "output_type": "display_data"
    },
    {
     "name": "stdout",
     "output_type": "stream",
     "text": [
      "Extracting /kaggle/working/data/MNIST/raw/t10k-labels-idx1-ubyte.gz to /kaggle/working/data/MNIST/raw\n",
      "\n",
      "Train data: 60000\n",
      "Test data: 10000\n"
     ]
    }
   ],
   "source": [
    "# Train set\n",
    "data_train = datasets.MNIST(root=DATA_DIR, train=True, download=True,\n",
    "                            transform=ToTensor())\n",
    "# Test set\n",
    "data_test = datasets.MNIST(root=DATA_DIR, train=False, download=True,\n",
    "                           transform=ToTensor())\n",
    "\n",
    "print(f'Train data: {len(data_train)}')\n",
    "print(f'Test data: {len(data_test)}')"
   ]
  },
  {
   "cell_type": "markdown",
   "id": "86bb974d",
   "metadata": {
    "papermill": {
     "duration": 0.016534,
     "end_time": "2023-03-30T15:32:18.775953",
     "exception": false,
     "start_time": "2023-03-30T15:32:18.759419",
     "status": "completed"
    },
    "tags": []
   },
   "source": [
    "- `root`: file directory into which the data is downloaded\n",
    "- `train`: should the training data set be downloaded\n",
    "- `download`: should we download the data. If the data already exists in the `root` it will not be downloaded\n",
    "- `transform = ToTensor()`: \"Convert a PIL Image or ndarray to tensor and scale the values accordingly.\" ([Ref.](https://pytorch.org/vision/stable/generated/torchvision.transforms.ToTensor.html#torchvision.transforms.ToTensor))"
   ]
  },
  {
   "cell_type": "markdown",
   "id": "18fcd7f6",
   "metadata": {
    "papermill": {
     "duration": 0.015337,
     "end_time": "2023-03-30T15:32:18.807101",
     "exception": false,
     "start_time": "2023-03-30T15:32:18.791764",
     "status": "completed"
    },
    "tags": []
   },
   "source": [
    "Let's check that the data transformation was applied:"
   ]
  },
  {
   "cell_type": "code",
   "execution_count": 4,
   "id": "2974cd50",
   "metadata": {
    "execution": {
     "iopub.execute_input": "2023-03-30T15:32:18.840537Z",
     "iopub.status.busy": "2023-03-30T15:32:18.840127Z",
     "iopub.status.idle": "2023-03-30T15:32:18.872689Z",
     "shell.execute_reply": "2023-03-30T15:32:18.871709Z"
    },
    "papermill": {
     "duration": 0.052724,
     "end_time": "2023-03-30T15:32:18.875494",
     "exception": false,
     "start_time": "2023-03-30T15:32:18.822770",
     "status": "completed"
    },
    "tags": []
   },
   "outputs": [
    {
     "name": "stdout",
     "output_type": "stream",
     "text": [
      "<class 'torch.Tensor'>\n"
     ]
    }
   ],
   "source": [
    "img, label = data_train[0]\n",
    "print(type(img))"
   ]
  },
  {
   "cell_type": "markdown",
   "id": "806821e7",
   "metadata": {
    "papermill": {
     "duration": 0.014998,
     "end_time": "2023-03-30T15:32:18.906128",
     "exception": false,
     "start_time": "2023-03-30T15:32:18.891130",
     "status": "completed"
    },
    "tags": []
   },
   "source": [
    "Let's check the size of the datasets:"
   ]
  },
  {
   "cell_type": "code",
   "execution_count": 5,
   "id": "7108948d",
   "metadata": {
    "execution": {
     "iopub.execute_input": "2023-03-30T15:32:18.939797Z",
     "iopub.status.busy": "2023-03-30T15:32:18.938329Z",
     "iopub.status.idle": "2023-03-30T15:32:18.945866Z",
     "shell.execute_reply": "2023-03-30T15:32:18.944015Z"
    },
    "papermill": {
     "duration": 0.027254,
     "end_time": "2023-03-30T15:32:18.948714",
     "exception": false,
     "start_time": "2023-03-30T15:32:18.921460",
     "status": "completed"
    },
    "tags": []
   },
   "outputs": [
    {
     "name": "stdout",
     "output_type": "stream",
     "text": [
      "Train: torch.Size([60000, 28, 28])\n",
      "Test: torch.Size([10000, 28, 28])\n"
     ]
    }
   ],
   "source": [
    "print(f'Train: {data_train.data.shape}')\n",
    "print(f'Test: {data_test.data.shape}')"
   ]
  },
  {
   "cell_type": "markdown",
   "id": "818fa7da",
   "metadata": {
    "papermill": {
     "duration": 0.015782,
     "end_time": "2023-03-30T15:32:18.980612",
     "exception": false,
     "start_time": "2023-03-30T15:32:18.964830",
     "status": "completed"
    },
    "tags": []
   },
   "source": [
    "So in total there are 70000 images of handrwitten digits, where each is of size 28 by 28 pixels. Since the data is processed as PyTorch dataset then we know that each element of `data_train` is a tuple of inputs and labels."
   ]
  },
  {
   "cell_type": "markdown",
   "id": "e7a8cf45",
   "metadata": {
    "papermill": {
     "duration": 0.016706,
     "end_time": "2023-03-30T15:32:19.013642",
     "exception": false,
     "start_time": "2023-03-30T15:32:18.996936",
     "status": "completed"
    },
    "tags": []
   },
   "source": [
    "Let's see visualize some of the images look like:"
   ]
  },
  {
   "cell_type": "code",
   "execution_count": 6,
   "id": "05f4d1fd",
   "metadata": {
    "execution": {
     "iopub.execute_input": "2023-03-30T15:32:19.047671Z",
     "iopub.status.busy": "2023-03-30T15:32:19.046387Z",
     "iopub.status.idle": "2023-03-30T15:32:19.055531Z",
     "shell.execute_reply": "2023-03-30T15:32:19.054207Z"
    },
    "jupyter": {
     "source_hidden": true
    },
    "papermill": {
     "duration": 0.029132,
     "end_time": "2023-03-30T15:32:19.058457",
     "exception": false,
     "start_time": "2023-03-30T15:32:19.029325",
     "status": "completed"
    },
    "tags": []
   },
   "outputs": [],
   "source": [
    "def show_sample(data):\n",
    "    \"\"\"Ref: https://pytorch.org/tutorials/beginner/basics/data_tutorial.html\"\"\"\n",
    "    fig = plt.figure(figsize=(7,7))\n",
    "    cols, rows = 3,3\n",
    "    for i in range(1, cols*rows+1):\n",
    "        sample_idx = torch.randint(len(data), size=(1,)).item()\n",
    "        # Get image and the corresponding label\n",
    "        img, label = data[sample_idx]\n",
    "        fig.add_subplot(rows,cols,i)\n",
    "        plt.imshow(img.squeeze(), cmap='Blues')\n",
    "        plt.title(f'Label: {label}', size=10)\n",
    "        plt.axis(\"off\")\n",
    "    plt.show()"
   ]
  },
  {
   "cell_type": "code",
   "execution_count": 7,
   "id": "7189d4a8",
   "metadata": {
    "execution": {
     "iopub.execute_input": "2023-03-30T15:32:19.091962Z",
     "iopub.status.busy": "2023-03-30T15:32:19.091525Z",
     "iopub.status.idle": "2023-03-30T15:32:19.471507Z",
     "shell.execute_reply": "2023-03-30T15:32:19.470329Z"
    },
    "papermill": {
     "duration": 0.400327,
     "end_time": "2023-03-30T15:32:19.474864",
     "exception": false,
     "start_time": "2023-03-30T15:32:19.074537",
     "status": "completed"
    },
    "tags": []
   },
   "outputs": [
    {
     "data": {
      "image/png": "[encoded data removed]",
      "text/plain": [
       "<Figure size 700x700 with 9 Axes>"
      ]
     },
     "metadata": {},
     "output_type": "display_data"
    }
   ],
   "source": [
    "show_sample(data_train)"
   ]
  },
  {
   "cell_type": "markdown",
   "id": "252ac1af",
   "metadata": {
    "papermill": {
     "duration": 0.015711,
     "end_time": "2023-03-30T15:32:19.506914",
     "exception": false,
     "start_time": "2023-03-30T15:32:19.491203",
     "status": "completed"
    },
    "tags": []
   },
   "source": [
    "Each of the images is composed of pixels ranging from 0 to 255, where 0 represents white and 255 black, but since we applied the `ToTensor()` transform while downloading the data all of the pixel values will be in the range of `(0,1)`. Let's see what we mean by that:"
   ]
  },
  {
   "cell_type": "code",
   "execution_count": 8,
   "id": "f66b14ea",
   "metadata": {
    "execution": {
     "iopub.execute_input": "2023-03-30T15:32:19.541203Z",
     "iopub.status.busy": "2023-03-30T15:32:19.540762Z",
     "iopub.status.idle": "2023-03-30T15:32:19.549366Z",
     "shell.execute_reply": "2023-03-30T15:32:19.547434Z"
    },
    "papermill": {
     "duration": 0.029519,
     "end_time": "2023-03-30T15:32:19.552460",
     "exception": false,
     "start_time": "2023-03-30T15:32:19.522941",
     "status": "completed"
    },
    "tags": []
   },
   "outputs": [
    {
     "name": "stdout",
     "output_type": "stream",
     "text": [
      "Image dimension: torch.Size([1, 28, 28])\n",
      "Label: 5\n"
     ]
    }
   ],
   "source": [
    "# Extract the first image and its label from the dataset\n",
    "img, label = data_train[0]\n",
    "print(f'Image dimension: {img.shape}')\n",
    "print(f'Label: {label}')"
   ]
  },
  {
   "cell_type": "markdown",
   "id": "2c9c8aca",
   "metadata": {
    "papermill": {
     "duration": 0.015692,
     "end_time": "2023-03-30T15:32:19.584427",
     "exception": false,
     "start_time": "2023-03-30T15:32:19.568735",
     "status": "completed"
    },
    "tags": []
   },
   "source": [
    "So the image size is 28 by 28 pixels and the first image should represent digit 5. Let's see the pixel data with gradient colors for better visualization. We will use pandas `style` to apply the gradient effect. Since our image is of rank 3 in order to convert it to a pandas dataframe we need to remove the first dimension. We will do this using the `numpy` `squeeze()` which removes axes of length 1. Below image gives us the normalized pixel representation of the first digit image in the training sample. The label for this image is 5."
   ]
  },
  {
   "cell_type": "code",
   "execution_count": 9,
   "id": "1d3d62b9",
   "metadata": {
    "execution": {
     "iopub.execute_input": "2023-03-30T15:32:19.620089Z",
     "iopub.status.busy": "2023-03-30T15:32:19.618881Z",
     "iopub.status.idle": "2023-03-30T15:32:19.836672Z",
     "shell.execute_reply": "2023-03-30T15:32:19.835417Z"
    },
    "papermill": {
     "duration": 0.238565,
     "end_time": "2023-03-30T15:32:19.839924",
     "exception": false,
     "start_time": "2023-03-30T15:32:19.601359",
     "status": "completed"
    },
    "tags": []
   },
   "outputs": [
    {
     "data": {
      "text/html": [
       "<style type=\"text/css\">\n",
       "#T_384a0_row0_col0, #T_384a0_row0_col1, #T_384a0_row0_col2, #T_384a0_row0_col3, #T_384a0_row0_col4, #T_384a0_row0_col5, #T_384a0_row0_col6, #T_384a0_row0_col7, #T_384a0_row0_col8, #T_384a0_row0_col9, #T_384a0_row0_col10, #T_384a0_row0_col11, #T_384a0_row0_col12, #T_384a0_row0_col13, #T_384a0_row0_col14, #T_384a0_row0_col15, #T_384a0_row0_col16, #T_384a0_row0_col17, #T_384a0_row0_col18, #T_384a0_row0_col19, #T_384a0_row0_col20, #T_384a0_row0_col21, #T_384a0_row0_col22, #T_384a0_row0_col23, #T_384a0_row0_col24, #T_384a0_row0_col25, #T_384a0_row0_col26, #T_384a0_row0_col27, #T_384a0_row1_col0, #T_384a0_row1_col1, #T_384a0_row1_col2, #T_384a0_row1_col3, #T_384a0_row1_col4, #T_384a0_row1_col5, #T_384a0_row1_col6, #T_384a0_row1_col7, #T_384a0_row1_col8, #T_384a0_row1_col9, #T_384a0_row1_col10, #T_384a0_row1_col11, #T_384a0_row1_col12, #T_384a0_row1_col13, #T_384a0_row1_col14, #T_384a0_row1_col15, #T_384a0_row1_col16, #T_384a0_row1_col17, #T_384a0_row1_col18, #T_384a0_row1_col19, #T_384a0_row1_col20, #T_384a0_row1_col21, #T_384a0_row1_col22, #T_384a0_row1_col23, #T_384a0_row1_col24, #T_384a0_row1_col25, #T_384a0_row1_col26, #T_384a0_row1_col27, #T_384a0_row2_col0, #T_384a0_row2_col1, #T_384a0_row2_col2, #T_384a0_row2_col3, #T_384a0_row2_col4, #T_384a0_row2_col5, #T_384a0_row2_col6, #T_384a0_row2_col7, #T_384a0_row2_col8, #T_384a0_row2_col9, #T_384a0_row2_col10, #T_384a0_row2_col11, #T_384a0_row2_col12, #T_384a0_row2_col13, #T_384a0_row2_col14, #T_384a0_row2_col15, #T_384a0_row2_col16, #T_384a0_row2_col17, #T_384a0_row2_col18, #T_384a0_row2_col19, #T_384a0_row2_col20, #T_384a0_row2_col21, #T_384a0_row2_col22, #T_384a0_row2_col23, #T_384a0_row2_col24, #T_384a0_row2_col25, #T_384a0_row2_col26, #T_384a0_row2_col27, #T_384a0_row3_col0, #T_384a0_row3_col1, #T_384a0_row3_col2, #T_384a0_row3_col3, #T_384a0_row3_col4, #T_384a0_row3_col5, #T_384a0_row3_col6, #T_384a0_row3_col7, #T_384a0_row3_col8, #T_384a0_row3_col9, #T_384a0_row3_col10, #T_384a0_row3_col11, #T_384a0_row3_col12, #T_384a0_row3_col13, #T_384a0_row3_col14, #T_384a0_row3_col15, #T_384a0_row3_col16, #T_384a0_row3_col17, #T_384a0_row3_col18, #T_384a0_row3_col19, #T_384a0_row3_col20, #T_384a0_row3_col21, #T_384a0_row3_col22, #T_384a0_row3_col23, #T_384a0_row3_col24, #T_384a0_row3_col25, #T_384a0_row3_col26, #T_384a0_row3_col27, #T_384a0_row4_col0, #T_384a0_row4_col1, #T_384a0_row4_col2, #T_384a0_row4_col3, #T_384a0_row4_col4, #T_384a0_row4_col5, #T_384a0_row4_col6, #T_384a0_row4_col7, #T_384a0_row4_col8, #T_384a0_row4_col9, #T_384a0_row4_col10, #T_384a0_row4_col11, #T_384a0_row4_col12, #T_384a0_row4_col13, #T_384a0_row4_col14, #T_384a0_row4_col15, #T_384a0_row4_col16, #T_384a0_row4_col17, #T_384a0_row4_col18, #T_384a0_row4_col19, #T_384a0_row4_col20, #T_384a0_row4_col21, #T_384a0_row4_col22, #T_384a0_row4_col23, #T_384a0_row4_col24, #T_384a0_row4_col25, #T_384a0_row4_col26, #T_384a0_row4_col27, #T_384a0_row5_col0, #T_384a0_row5_col1, #T_384a0_row5_col2, #T_384a0_row5_col3, #T_384a0_row5_col4, #T_384a0_row5_col5, #T_384a0_row5_col6, #T_384a0_row5_col7, #T_384a0_row5_col8, #T_384a0_row5_col9, #T_384a0_row5_col10, #T_384a0_row5_col11, #T_384a0_row5_col24, #T_384a0_row5_col25, #T_384a0_row5_col26, #T_384a0_row5_col27, #T_384a0_row6_col0, #T_384a0_row6_col1, #T_384a0_row6_col2, #T_384a0_row6_col3, #T_384a0_row6_col4, #T_384a0_row6_col5, #T_384a0_row6_col6, #T_384a0_row6_col7, #T_384a0_row6_col24, #T_384a0_row6_col25, #T_384a0_row6_col26, #T_384a0_row6_col27, #T_384a0_row7_col0, #T_384a0_row7_col1, #T_384a0_row7_col2, #T_384a0_row7_col3, #T_384a0_row7_col4, #T_384a0_row7_col5, #T_384a0_row7_col6, #T_384a0_row7_col23, #T_384a0_row7_col24, #T_384a0_row7_col25, #T_384a0_row7_col26, #T_384a0_row7_col27, #T_384a0_row8_col0, #T_384a0_row8_col1, #T_384a0_row8_col2, #T_384a0_row8_col3, #T_384a0_row8_col4, #T_384a0_row8_col5, #T_384a0_row8_col6, #T_384a0_row8_col18, #T_384a0_row8_col19, #T_384a0_row8_col20, #T_384a0_row8_col21, #T_384a0_row8_col22, #T_384a0_row8_col23, #T_384a0_row8_col24, #T_384a0_row8_col25, #T_384a0_row8_col26, #T_384a0_row8_col27, #T_384a0_row9_col0, #T_384a0_row9_col1, #T_384a0_row9_col2, #T_384a0_row9_col3, #T_384a0_row9_col4, #T_384a0_row9_col5, #T_384a0_row9_col6, #T_384a0_row9_col7, #T_384a0_row9_col15, #T_384a0_row9_col18, #T_384a0_row9_col19, #T_384a0_row9_col20, #T_384a0_row9_col21, #T_384a0_row9_col22, #T_384a0_row9_col23, #T_384a0_row9_col24, #T_384a0_row9_col25, #T_384a0_row9_col26, #T_384a0_row9_col27, #T_384a0_row10_col0, #T_384a0_row10_col1, #T_384a0_row10_col2, #T_384a0_row10_col3, #T_384a0_row10_col4, #T_384a0_row10_col5, #T_384a0_row10_col6, #T_384a0_row10_col7, #T_384a0_row10_col8, #T_384a0_row10_col14, #T_384a0_row10_col15, #T_384a0_row10_col16, #T_384a0_row10_col17, #T_384a0_row10_col18, #T_384a0_row10_col19, #T_384a0_row10_col20, #T_384a0_row10_col21, #T_384a0_row10_col22, #T_384a0_row10_col23, #T_384a0_row10_col24, #T_384a0_row10_col25, #T_384a0_row10_col26, #T_384a0_row10_col27, #T_384a0_row11_col0, #T_384a0_row11_col1, #T_384a0_row11_col2, #T_384a0_row11_col3, #T_384a0_row11_col4, #T_384a0_row11_col5, #T_384a0_row11_col6, #T_384a0_row11_col7, #T_384a0_row11_col8, #T_384a0_row11_col9, #T_384a0_row11_col10, #T_384a0_row11_col15, #T_384a0_row11_col16, #T_384a0_row11_col17, #T_384a0_row11_col18, #T_384a0_row11_col19, #T_384a0_row11_col20, #T_384a0_row11_col21, #T_384a0_row11_col22, #T_384a0_row11_col23, #T_384a0_row11_col24, #T_384a0_row11_col25, #T_384a0_row11_col26, #T_384a0_row11_col27, #T_384a0_row12_col0, #T_384a0_row12_col1, #T_384a0_row12_col2, #T_384a0_row12_col3, #T_384a0_row12_col4, #T_384a0_row12_col5, #T_384a0_row12_col6, #T_384a0_row12_col7, #T_384a0_row12_col8, #T_384a0_row12_col9, #T_384a0_row12_col10, #T_384a0_row12_col15, #T_384a0_row12_col16, #T_384a0_row12_col17, #T_384a0_row12_col18, #T_384a0_row12_col19, #T_384a0_row12_col20, #T_384a0_row12_col21, #T_384a0_row12_col22, #T_384a0_row12_col23, #T_384a0_row12_col24, #T_384a0_row12_col25, #T_384a0_row12_col26, #T_384a0_row12_col27, #T_384a0_row13_col0, #T_384a0_row13_col1, #T_384a0_row13_col2, #T_384a0_row13_col3, #T_384a0_row13_col4, #T_384a0_row13_col5, #T_384a0_row13_col6, #T_384a0_row13_col7, #T_384a0_row13_col8, #T_384a0_row13_col9, #T_384a0_row13_col10, #T_384a0_row13_col11, #T_384a0_row13_col18, #T_384a0_row13_col19, #T_384a0_row13_col20, #T_384a0_row13_col21, #T_384a0_row13_col22, #T_384a0_row13_col23, #T_384a0_row13_col24, #T_384a0_row13_col25, #T_384a0_row13_col26, #T_384a0_row13_col27, #T_384a0_row14_col0, #T_384a0_row14_col1, #T_384a0_row14_col2, #T_384a0_row14_col3, #T_384a0_row14_col4, #T_384a0_row14_col5, #T_384a0_row14_col6, #T_384a0_row14_col7, #T_384a0_row14_col8, #T_384a0_row14_col9, #T_384a0_row14_col10, #T_384a0_row14_col11, #T_384a0_row14_col12, #T_384a0_row14_col19, #T_384a0_row14_col20, #T_384a0_row14_col21, #T_384a0_row14_col22, #T_384a0_row14_col23, #T_384a0_row14_col24, #T_384a0_row14_col25, #T_384a0_row14_col26, #T_384a0_row14_col27, #T_384a0_row15_col0, #T_384a0_row15_col1, #T_384a0_row15_col2, #T_384a0_row15_col3, #T_384a0_row15_col4, #T_384a0_row15_col5, #T_384a0_row15_col6, #T_384a0_row15_col7, #T_384a0_row15_col8, #T_384a0_row15_col9, #T_384a0_row15_col10, #T_384a0_row15_col11, #T_384a0_row15_col12, #T_384a0_row15_col13, #T_384a0_row15_col20, #T_384a0_row15_col21, #T_384a0_row15_col22, #T_384a0_row15_col23, #T_384a0_row15_col24, #T_384a0_row15_col25, #T_384a0_row15_col26, #T_384a0_row15_col27, #T_384a0_row16_col0, #T_384a0_row16_col1, #T_384a0_row16_col2, #T_384a0_row16_col3, #T_384a0_row16_col4, #T_384a0_row16_col5, #T_384a0_row16_col6, #T_384a0_row16_col7, #T_384a0_row16_col8, #T_384a0_row16_col9, #T_384a0_row16_col10, #T_384a0_row16_col11, #T_384a0_row16_col12, #T_384a0_row16_col13, #T_384a0_row16_col14, #T_384a0_row16_col20, #T_384a0_row16_col21, #T_384a0_row16_col22, #T_384a0_row16_col23, #T_384a0_row16_col24, #T_384a0_row16_col25, #T_384a0_row16_col26, #T_384a0_row16_col27, #T_384a0_row17_col0, #T_384a0_row17_col1, #T_384a0_row17_col2, #T_384a0_row17_col3, #T_384a0_row17_col4, #T_384a0_row17_col5, #T_384a0_row17_col6, #T_384a0_row17_col7, #T_384a0_row17_col8, #T_384a0_row17_col9, #T_384a0_row17_col10, #T_384a0_row17_col11, #T_384a0_row17_col12, #T_384a0_row17_col13, #T_384a0_row17_col14, #T_384a0_row17_col15, #T_384a0_row17_col16, #T_384a0_row17_col21, #T_384a0_row17_col22, #T_384a0_row17_col23, #T_384a0_row17_col24, #T_384a0_row17_col25, #T_384a0_row17_col26, #T_384a0_row17_col27, #T_384a0_row18_col0, #T_384a0_row18_col1, #T_384a0_row18_col2, #T_384a0_row18_col3, #T_384a0_row18_col4, #T_384a0_row18_col5, #T_384a0_row18_col6, #T_384a0_row18_col7, #T_384a0_row18_col8, #T_384a0_row18_col9, #T_384a0_row18_col10, #T_384a0_row18_col11, #T_384a0_row18_col12, #T_384a0_row18_col13, #T_384a0_row18_col21, #T_384a0_row18_col22, #T_384a0_row18_col23, #T_384a0_row18_col24, #T_384a0_row18_col25, #T_384a0_row18_col26, #T_384a0_row18_col27, #T_384a0_row19_col0, #T_384a0_row19_col1, #T_384a0_row19_col2, #T_384a0_row19_col3, #T_384a0_row19_col4, #T_384a0_row19_col5, #T_384a0_row19_col6, #T_384a0_row19_col7, #T_384a0_row19_col8, #T_384a0_row19_col9, #T_384a0_row19_col10, #T_384a0_row19_col11, #T_384a0_row19_col20, #T_384a0_row19_col21, #T_384a0_row19_col22, #T_384a0_row19_col23, #T_384a0_row19_col24, #T_384a0_row19_col25, #T_384a0_row19_col26, #T_384a0_row19_col27, #T_384a0_row20_col0, #T_384a0_row20_col1, #T_384a0_row20_col2, #T_384a0_row20_col3, #T_384a0_row20_col4, #T_384a0_row20_col5, #T_384a0_row20_col6, #T_384a0_row20_col7, #T_384a0_row20_col8, #T_384a0_row20_col9, #T_384a0_row20_col19, #T_384a0_row20_col20, #T_384a0_row20_col21, #T_384a0_row20_col22, #T_384a0_row20_col23, #T_384a0_row20_col24, #T_384a0_row20_col25, #T_384a0_row20_col26, #T_384a0_row20_col27, #T_384a0_row21_col0, #T_384a0_row21_col1, #T_384a0_row21_col2, #T_384a0_row21_col3, #T_384a0_row21_col4, #T_384a0_row21_col5, #T_384a0_row21_col6, #T_384a0_row21_col7, #T_384a0_row21_col18, #T_384a0_row21_col19, #T_384a0_row21_col20, #T_384a0_row21_col21, #T_384a0_row21_col22, #T_384a0_row21_col23, #T_384a0_row21_col24, #T_384a0_row21_col25, #T_384a0_row21_col26, #T_384a0_row21_col27, #T_384a0_row22_col0, #T_384a0_row22_col1, #T_384a0_row22_col2, #T_384a0_row22_col3, #T_384a0_row22_col4, #T_384a0_row22_col5, #T_384a0_row22_col16, #T_384a0_row22_col17, #T_384a0_row22_col18, #T_384a0_row22_col19, #T_384a0_row22_col20, #T_384a0_row22_col21, #T_384a0_row22_col22, #T_384a0_row22_col23, #T_384a0_row22_col24, #T_384a0_row22_col25, #T_384a0_row22_col26, #T_384a0_row22_col27, #T_384a0_row23_col0, #T_384a0_row23_col1, #T_384a0_row23_col2, #T_384a0_row23_col3, #T_384a0_row23_col14, #T_384a0_row23_col15, #T_384a0_row23_col16, #T_384a0_row23_col17, #T_384a0_row23_col18, #T_384a0_row23_col19, #T_384a0_row23_col20, #T_384a0_row23_col21, #T_384a0_row23_col22, #T_384a0_row23_col23, #T_384a0_row23_col24, #T_384a0_row23_col25, #T_384a0_row23_col26, #T_384a0_row23_col27, #T_384a0_row24_col0, #T_384a0_row24_col1, #T_384a0_row24_col2, #T_384a0_row24_col3, #T_384a0_row24_col12, #T_384a0_row24_col13, #T_384a0_row24_col14, #T_384a0_row24_col15, #T_384a0_row24_col16, #T_384a0_row24_col17, #T_384a0_row24_col18, #T_384a0_row24_col19, #T_384a0_row24_col20, #T_384a0_row24_col21, #T_384a0_row24_col22, #T_384a0_row24_col23, #T_384a0_row24_col24, #T_384a0_row24_col25, #T_384a0_row24_col26, #T_384a0_row24_col27, #T_384a0_row25_col0, #T_384a0_row25_col1, #T_384a0_row25_col2, #T_384a0_row25_col3, #T_384a0_row25_col4, #T_384a0_row25_col5, #T_384a0_row25_col6, #T_384a0_row25_col7, #T_384a0_row25_col8, #T_384a0_row25_col9, #T_384a0_row25_col10, #T_384a0_row25_col11, #T_384a0_row25_col12, #T_384a0_row25_col13, #T_384a0_row25_col14, #T_384a0_row25_col15, #T_384a0_row25_col16, #T_384a0_row25_col17, #T_384a0_row25_col18, #T_384a0_row25_col19, #T_384a0_row25_col20, #T_384a0_row25_col21, #T_384a0_row25_col22, #T_384a0_row25_col23, #T_384a0_row25_col24, #T_384a0_row25_col25, #T_384a0_row25_col26, #T_384a0_row25_col27, #T_384a0_row26_col0, #T_384a0_row26_col1, #T_384a0_row26_col2, #T_384a0_row26_col3, #T_384a0_row26_col4, #T_384a0_row26_col5, #T_384a0_row26_col6, #T_384a0_row26_col7, #T_384a0_row26_col8, #T_384a0_row26_col9, #T_384a0_row26_col10, #T_384a0_row26_col11, #T_384a0_row26_col12, #T_384a0_row26_col13, #T_384a0_row26_col14, #T_384a0_row26_col15, #T_384a0_row26_col16, #T_384a0_row26_col17, #T_384a0_row26_col18, #T_384a0_row26_col19, #T_384a0_row26_col20, #T_384a0_row26_col21, #T_384a0_row26_col22, #T_384a0_row26_col23, #T_384a0_row26_col24, #T_384a0_row26_col25, #T_384a0_row26_col26, #T_384a0_row26_col27, #T_384a0_row27_col0, #T_384a0_row27_col1, #T_384a0_row27_col2, #T_384a0_row27_col3, #T_384a0_row27_col4, #T_384a0_row27_col5, #T_384a0_row27_col6, #T_384a0_row27_col7, #T_384a0_row27_col8, #T_384a0_row27_col9, #T_384a0_row27_col10, #T_384a0_row27_col11, #T_384a0_row27_col12, #T_384a0_row27_col13, #T_384a0_row27_col14, #T_384a0_row27_col15, #T_384a0_row27_col16, #T_384a0_row27_col17, #T_384a0_row27_col18, #T_384a0_row27_col19, #T_384a0_row27_col20, #T_384a0_row27_col21, #T_384a0_row27_col22, #T_384a0_row27_col23, #T_384a0_row27_col24, #T_384a0_row27_col25, #T_384a0_row27_col26, #T_384a0_row27_col27 {\n",
       "  font-size: 6pt;\n",
       "  background-color: #f7fbff;\n",
       "  color: #000000;\n",
       "}\n",
       "#T_384a0_row5_col12 {\n",
       "  font-size: 6pt;\n",
       "  background-color: #f5f9fe;\n",
       "  color: #000000;\n",
       "}\n",
       "#T_384a0_row5_col13, #T_384a0_row5_col14, #T_384a0_row5_col15, #T_384a0_row8_col7, #T_384a0_row22_col6 {\n",
       "  font-size: 6pt;\n",
       "  background-color: #e9f2fa;\n",
       "  color: #000000;\n",
       "}\n",
       "#T_384a0_row5_col16 {\n",
       "  font-size: 6pt;\n",
       "  background-color: #6caed6;\n",
       "  color: #f1f1f1;\n",
       "}\n",
       "#T_384a0_row5_col17 {\n",
       "  font-size: 6pt;\n",
       "  background-color: #5fa6d1;\n",
       "  color: #f1f1f1;\n",
       "}\n",
       "#T_384a0_row5_col18 {\n",
       "  font-size: 6pt;\n",
       "  background-color: #3080bd;\n",
       "  color: #f1f1f1;\n",
       "}\n",
       "#T_384a0_row5_col19 {\n",
       "  font-size: 6pt;\n",
       "  background-color: #e3eef8;\n",
       "  color: #000000;\n",
       "}\n",
       "#T_384a0_row5_col20 {\n",
       "  font-size: 6pt;\n",
       "  background-color: #3a8ac2;\n",
       "  color: #f1f1f1;\n",
       "}\n",
       "#T_384a0_row5_col21, #T_384a0_row5_col22, #T_384a0_row5_col23, #T_384a0_row6_col13, #T_384a0_row6_col14, #T_384a0_row6_col15, #T_384a0_row6_col16, #T_384a0_row6_col17, #T_384a0_row6_col20, #T_384a0_row7_col9, #T_384a0_row7_col10, #T_384a0_row7_col11, #T_384a0_row7_col12, #T_384a0_row7_col13, #T_384a0_row7_col14, #T_384a0_row7_col15, #T_384a0_row7_col16, #T_384a0_row8_col9, #T_384a0_row8_col10, #T_384a0_row8_col11, #T_384a0_row8_col12, #T_384a0_row8_col13, #T_384a0_row9_col11, #T_384a0_row9_col12, #T_384a0_row10_col12, #T_384a0_row11_col12, #T_384a0_row12_col13, #T_384a0_row14_col15, #T_384a0_row14_col16, #T_384a0_row15_col16, #T_384a0_row15_col17, #T_384a0_row16_col18, #T_384a0_row17_col18, #T_384a0_row17_col19, #T_384a0_row18_col17, #T_384a0_row18_col18, #T_384a0_row19_col15, #T_384a0_row19_col16, #T_384a0_row19_col17, #T_384a0_row20_col13, #T_384a0_row20_col14, #T_384a0_row20_col15, #T_384a0_row20_col16, #T_384a0_row21_col11, #T_384a0_row21_col12, #T_384a0_row21_col13, #T_384a0_row21_col14, #T_384a0_row22_col9, #T_384a0_row22_col10, #T_384a0_row22_col11, #T_384a0_row22_col12, #T_384a0_row23_col7, #T_384a0_row23_col8, #T_384a0_row23_col9, #T_384a0_row23_col10, #T_384a0_row24_col4, #T_384a0_row24_col5, #T_384a0_row24_col6, #T_384a0_row24_col7 {\n",
       "  font-size: 6pt;\n",
       "  background-color: #08306b;\n",
       "  color: #f1f1f1;\n",
       "}\n",
       "#T_384a0_row6_col8 {\n",
       "  font-size: 6pt;\n",
       "  background-color: #dfecf7;\n",
       "  color: #000000;\n",
       "}\n",
       "#T_384a0_row6_col9 {\n",
       "  font-size: 6pt;\n",
       "  background-color: #dbe9f6;\n",
       "  color: #000000;\n",
       "}\n",
       "#T_384a0_row6_col10 {\n",
       "  font-size: 6pt;\n",
       "  background-color: #9fcae1;\n",
       "  color: #000000;\n",
       "}\n",
       "#T_384a0_row6_col11, #T_384a0_row9_col17, #T_384a0_row10_col11 {\n",
       "  font-size: 6pt;\n",
       "  background-color: #4896c8;\n",
       "  color: #f1f1f1;\n",
       "}\n",
       "#T_384a0_row6_col12 {\n",
       "  font-size: 6pt;\n",
       "  background-color: #3585bf;\n",
       "  color: #f1f1f1;\n",
       "}\n",
       "#T_384a0_row6_col18, #T_384a0_row13_col14 {\n",
       "  font-size: 6pt;\n",
       "  background-color: #084d96;\n",
       "  color: #f1f1f1;\n",
       "}\n",
       "#T_384a0_row6_col19 {\n",
       "  font-size: 6pt;\n",
       "  background-color: #3181bd;\n",
       "  color: #f1f1f1;\n",
       "}\n",
       "#T_384a0_row6_col21, #T_384a0_row14_col14 {\n",
       "  font-size: 6pt;\n",
       "  background-color: #083d7f;\n",
       "  color: #f1f1f1;\n",
       "}\n",
       "#T_384a0_row6_col22 {\n",
       "  font-size: 6pt;\n",
       "  background-color: #1966ad;\n",
       "  color: #f1f1f1;\n",
       "}\n",
       "#T_384a0_row6_col23 {\n",
       "  font-size: 6pt;\n",
       "  background-color: #69add5;\n",
       "  color: #f1f1f1;\n",
       "}\n",
       "#T_384a0_row7_col7 {\n",
       "  font-size: 6pt;\n",
       "  background-color: #d1e2f3;\n",
       "  color: #000000;\n",
       "}\n",
       "#T_384a0_row7_col8 {\n",
       "  font-size: 6pt;\n",
       "  background-color: #084082;\n",
       "  color: #f1f1f1;\n",
       "}\n",
       "#T_384a0_row7_col17 {\n",
       "  font-size: 6pt;\n",
       "  background-color: #08326e;\n",
       "  color: #f1f1f1;\n",
       "}\n",
       "#T_384a0_row7_col18, #T_384a0_row16_col16 {\n",
       "  font-size: 6pt;\n",
       "  background-color: #a0cbe2;\n",
       "  color: #000000;\n",
       "}\n",
       "#T_384a0_row7_col19 {\n",
       "  font-size: 6pt;\n",
       "  background-color: #add0e6;\n",
       "  color: #000000;\n",
       "}\n",
       "#T_384a0_row7_col20 {\n",
       "  font-size: 6pt;\n",
       "  background-color: #afd1e7;\n",
       "  color: #000000;\n",
       "}\n",
       "#T_384a0_row7_col21 {\n",
       "  font-size: 6pt;\n",
       "  background-color: #ccdff1;\n",
       "  color: #000000;\n",
       "}\n",
       "#T_384a0_row7_col22 {\n",
       "  font-size: 6pt;\n",
       "  background-color: #d8e7f5;\n",
       "  color: #000000;\n",
       "}\n",
       "#T_384a0_row8_col8, #T_384a0_row22_col8 {\n",
       "  font-size: 6pt;\n",
       "  background-color: #0a539e;\n",
       "  color: #f1f1f1;\n",
       "}\n",
       "#T_384a0_row8_col14, #T_384a0_row21_col15 {\n",
       "  font-size: 6pt;\n",
       "  background-color: #1a68ae;\n",
       "  color: #f1f1f1;\n",
       "}\n",
       "#T_384a0_row8_col15 {\n",
       "  font-size: 6pt;\n",
       "  background-color: #2979b9;\n",
       "  color: #f1f1f1;\n",
       "}\n",
       "#T_384a0_row8_col16 {\n",
       "  font-size: 6pt;\n",
       "  background-color: #083674;\n",
       "  color: #f1f1f1;\n",
       "}\n",
       "#T_384a0_row8_col17, #T_384a0_row13_col13 {\n",
       "  font-size: 6pt;\n",
       "  background-color: #083c7d;\n",
       "  color: #f1f1f1;\n",
       "}\n",
       "#T_384a0_row9_col8, #T_384a0_row22_col14 {\n",
       "  font-size: 6pt;\n",
       "  background-color: #b2d2e8;\n",
       "  color: #000000;\n",
       "}\n",
       "#T_384a0_row9_col9 {\n",
       "  font-size: 6pt;\n",
       "  background-color: #4594c7;\n",
       "  color: #f1f1f1;\n",
       "}\n",
       "#T_384a0_row9_col10 {\n",
       "  font-size: 6pt;\n",
       "  background-color: #8abfdd;\n",
       "  color: #000000;\n",
       "}\n",
       "#T_384a0_row9_col13 {\n",
       "  font-size: 6pt;\n",
       "  background-color: #1561a9;\n",
       "  color: #f1f1f1;\n",
       "}\n",
       "#T_384a0_row9_col14, #T_384a0_row12_col11, #T_384a0_row23_col13 {\n",
       "  font-size: 6pt;\n",
       "  background-color: #eef5fc;\n",
       "  color: #000000;\n",
       "}\n",
       "#T_384a0_row9_col16 {\n",
       "  font-size: 6pt;\n",
       "  background-color: #d6e5f4;\n",
       "  color: #000000;\n",
       "}\n",
       "#T_384a0_row10_col9 {\n",
       "  font-size: 6pt;\n",
       "  background-color: #ecf4fb;\n",
       "  color: #000000;\n",
       "}\n",
       "#T_384a0_row10_col10, #T_384a0_row13_col17 {\n",
       "  font-size: 6pt;\n",
       "  background-color: #f6faff;\n",
       "  color: #000000;\n",
       "}\n",
       "#T_384a0_row10_col13 {\n",
       "  font-size: 6pt;\n",
       "  background-color: #a4cce3;\n",
       "  color: #000000;\n",
       "}\n",
       "#T_384a0_row11_col11 {\n",
       "  font-size: 6pt;\n",
       "  background-color: #5ba3d0;\n",
       "  color: #f1f1f1;\n",
       "}\n",
       "#T_384a0_row11_col13, #T_384a0_row12_col12, #T_384a0_row16_col19 {\n",
       "  font-size: 6pt;\n",
       "  background-color: #2070b4;\n",
       "  color: #f1f1f1;\n",
       "}\n",
       "#T_384a0_row11_col14, #T_384a0_row18_col20, #T_384a0_row21_col17 {\n",
       "  font-size: 6pt;\n",
       "  background-color: #f5fafe;\n",
       "  color: #000000;\n",
       "}\n",
       "#T_384a0_row12_col14 {\n",
       "  font-size: 6pt;\n",
       "  background-color: #bed8ec;\n",
       "  color: #000000;\n",
       "}\n",
       "#T_384a0_row13_col12 {\n",
       "  font-size: 6pt;\n",
       "  background-color: #dce9f6;\n",
       "  color: #000000;\n",
       "}\n",
       "#T_384a0_row13_col15 {\n",
       "  font-size: 6pt;\n",
       "  background-color: #4090c5;\n",
       "  color: #f1f1f1;\n",
       "}\n",
       "#T_384a0_row13_col16 {\n",
       "  font-size: 6pt;\n",
       "  background-color: #89bedc;\n",
       "  color: #000000;\n",
       "}\n",
       "#T_384a0_row14_col13, #T_384a0_row21_col16 {\n",
       "  font-size: 6pt;\n",
       "  background-color: #b0d2e7;\n",
       "  color: #000000;\n",
       "}\n",
       "#T_384a0_row14_col17 {\n",
       "  font-size: 6pt;\n",
       "  background-color: #77b5d9;\n",
       "  color: #000000;\n",
       "}\n",
       "#T_384a0_row14_col18 {\n",
       "  font-size: 6pt;\n",
       "  background-color: #e3eef9;\n",
       "  color: #000000;\n",
       "}\n",
       "#T_384a0_row15_col14 {\n",
       "  font-size: 6pt;\n",
       "  background-color: #d4e4f4;\n",
       "  color: #000000;\n",
       "}\n",
       "#T_384a0_row15_col15 {\n",
       "  font-size: 6pt;\n",
       "  background-color: #2474b7;\n",
       "  color: #f1f1f1;\n",
       "}\n",
       "#T_384a0_row15_col18 {\n",
       "  font-size: 6pt;\n",
       "  background-color: #4d99ca;\n",
       "  color: #f1f1f1;\n",
       "}\n",
       "#T_384a0_row15_col19 {\n",
       "  font-size: 6pt;\n",
       "  background-color: #e2edf8;\n",
       "  color: #000000;\n",
       "}\n",
       "#T_384a0_row16_col15, #T_384a0_row24_col11 {\n",
       "  font-size: 6pt;\n",
       "  background-color: #eaf3fb;\n",
       "  color: #000000;\n",
       "}\n",
       "#T_384a0_row16_col17 {\n",
       "  font-size: 6pt;\n",
       "  background-color: #08316d;\n",
       "  color: #f1f1f1;\n",
       "}\n",
       "#T_384a0_row17_col17 {\n",
       "  font-size: 6pt;\n",
       "  background-color: #083471;\n",
       "  color: #f1f1f1;\n",
       "}\n",
       "#T_384a0_row17_col20 {\n",
       "  font-size: 6pt;\n",
       "  background-color: #c6dbef;\n",
       "  color: #000000;\n",
       "}\n",
       "#T_384a0_row18_col14 {\n",
       "  font-size: 6pt;\n",
       "  background-color: #d3e4f3;\n",
       "  color: #000000;\n",
       "}\n",
       "#T_384a0_row18_col15 {\n",
       "  font-size: 6pt;\n",
       "  background-color: #66abd4;\n",
       "  color: #f1f1f1;\n",
       "}\n",
       "#T_384a0_row18_col16 {\n",
       "  font-size: 6pt;\n",
       "  background-color: #2777b8;\n",
       "  color: #f1f1f1;\n",
       "}\n",
       "#T_384a0_row18_col19 {\n",
       "  font-size: 6pt;\n",
       "  background-color: #115ca5;\n",
       "  color: #f1f1f1;\n",
       "}\n",
       "#T_384a0_row19_col12 {\n",
       "  font-size: 6pt;\n",
       "  background-color: #d9e7f5;\n",
       "  color: #000000;\n",
       "}\n",
       "#T_384a0_row19_col13 {\n",
       "  font-size: 6pt;\n",
       "  background-color: #4f9bcb;\n",
       "  color: #f1f1f1;\n",
       "}\n",
       "#T_384a0_row19_col14 {\n",
       "  font-size: 6pt;\n",
       "  background-color: #084990;\n",
       "  color: #f1f1f1;\n",
       "}\n",
       "#T_384a0_row19_col18 {\n",
       "  font-size: 6pt;\n",
       "  background-color: #083370;\n",
       "  color: #f1f1f1;\n",
       "}\n",
       "#T_384a0_row19_col19 {\n",
       "  font-size: 6pt;\n",
       "  background-color: #2575b7;\n",
       "  color: #f1f1f1;\n",
       "}\n",
       "#T_384a0_row20_col10 {\n",
       "  font-size: 6pt;\n",
       "  background-color: #e4eff9;\n",
       "  color: #000000;\n",
       "}\n",
       "#T_384a0_row20_col11 {\n",
       "  font-size: 6pt;\n",
       "  background-color: #7fb9da;\n",
       "  color: #000000;\n",
       "}\n",
       "#T_384a0_row20_col12 {\n",
       "  font-size: 6pt;\n",
       "  background-color: #08519c;\n",
       "  color: #f1f1f1;\n",
       "}\n",
       "#T_384a0_row20_col17 {\n",
       "  font-size: 6pt;\n",
       "  background-color: #1865ac;\n",
       "  color: #f1f1f1;\n",
       "}\n",
       "#T_384a0_row20_col18 {\n",
       "  font-size: 6pt;\n",
       "  background-color: #b4d3e9;\n",
       "  color: #000000;\n",
       "}\n",
       "#T_384a0_row21_col8 {\n",
       "  font-size: 6pt;\n",
       "  background-color: #e5eff9;\n",
       "  color: #000000;\n",
       "}\n",
       "#T_384a0_row21_col9 {\n",
       "  font-size: 6pt;\n",
       "  background-color: #c3daee;\n",
       "  color: #000000;\n",
       "}\n",
       "#T_384a0_row21_col10 {\n",
       "  font-size: 6pt;\n",
       "  background-color: #0e59a2;\n",
       "  color: #f1f1f1;\n",
       "}\n",
       "#T_384a0_row22_col7 {\n",
       "  font-size: 6pt;\n",
       "  background-color: #3484bf;\n",
       "  color: #f1f1f1;\n",
       "}\n",
       "#T_384a0_row22_col13 {\n",
       "  font-size: 6pt;\n",
       "  background-color: #1c6bb0;\n",
       "  color: #f1f1f1;\n",
       "}\n",
       "#T_384a0_row22_col15 {\n",
       "  font-size: 6pt;\n",
       "  background-color: #f0f6fd;\n",
       "  color: #000000;\n",
       "}\n",
       "#T_384a0_row23_col4 {\n",
       "  font-size: 6pt;\n",
       "  background-color: #92c4de;\n",
       "  color: #000000;\n",
       "}\n",
       "#T_384a0_row23_col5 {\n",
       "  font-size: 6pt;\n",
       "  background-color: #3383be;\n",
       "  color: #f1f1f1;\n",
       "}\n",
       "#T_384a0_row23_col6 {\n",
       "  font-size: 6pt;\n",
       "  background-color: #084c95;\n",
       "  color: #f1f1f1;\n",
       "}\n",
       "#T_384a0_row23_col11 {\n",
       "  font-size: 6pt;\n",
       "  background-color: #083979;\n",
       "  color: #f1f1f1;\n",
       "}\n",
       "#T_384a0_row23_col12 {\n",
       "  font-size: 6pt;\n",
       "  background-color: #63a8d3;\n",
       "  color: #f1f1f1;\n",
       "}\n",
       "#T_384a0_row24_col8 {\n",
       "  font-size: 6pt;\n",
       "  background-color: #0f5aa3;\n",
       "  color: #f1f1f1;\n",
       "}\n",
       "#T_384a0_row24_col9 {\n",
       "  font-size: 6pt;\n",
       "  background-color: #60a7d2;\n",
       "  color: #f1f1f1;\n",
       "}\n",
       "#T_384a0_row24_col10 {\n",
       "  font-size: 6pt;\n",
       "  background-color: #64a9d3;\n",
       "  color: #f1f1f1;\n",
       "}\n",
       "</style>\n",
       "<table id=\"T_384a0_\">\n",
       "  <thead>\n",
       "    <tr>\n",
       "      <th class=\"blank level0\" >&nbsp;</th>\n",
       "      <th class=\"col_heading level0 col0\" >0</th>\n",
       "      <th class=\"col_heading level0 col1\" >1</th>\n",
       "      <th class=\"col_heading level0 col2\" >2</th>\n",
       "      <th class=\"col_heading level0 col3\" >3</th>\n",
       "      <th class=\"col_heading level0 col4\" >4</th>\n",
       "      <th class=\"col_heading level0 col5\" >5</th>\n",
       "      <th class=\"col_heading level0 col6\" >6</th>\n",
       "      <th class=\"col_heading level0 col7\" >7</th>\n",
       "      <th class=\"col_heading level0 col8\" >8</th>\n",
       "      <th class=\"col_heading level0 col9\" >9</th>\n",
       "      <th class=\"col_heading level0 col10\" >10</th>\n",
       "      <th class=\"col_heading level0 col11\" >11</th>\n",
       "      <th class=\"col_heading level0 col12\" >12</th>\n",
       "      <th class=\"col_heading level0 col13\" >13</th>\n",
       "      <th class=\"col_heading level0 col14\" >14</th>\n",
       "      <th class=\"col_heading level0 col15\" >15</th>\n",
       "      <th class=\"col_heading level0 col16\" >16</th>\n",
       "      <th class=\"col_heading level0 col17\" >17</th>\n",
       "      <th class=\"col_heading level0 col18\" >18</th>\n",
       "      <th class=\"col_heading level0 col19\" >19</th>\n",
       "      <th class=\"col_heading level0 col20\" >20</th>\n",
       "      <th class=\"col_heading level0 col21\" >21</th>\n",
       "      <th class=\"col_heading level0 col22\" >22</th>\n",
       "      <th class=\"col_heading level0 col23\" >23</th>\n",
       "      <th class=\"col_heading level0 col24\" >24</th>\n",
       "      <th class=\"col_heading level0 col25\" >25</th>\n",
       "      <th class=\"col_heading level0 col26\" >26</th>\n",
       "      <th class=\"col_heading level0 col27\" >27</th>\n",
       "    </tr>\n",
       "  </thead>\n",
       "  <tbody>\n",
       "    <tr>\n",
       "      <th id=\"T_384a0_level0_row0\" class=\"row_heading level0 row0\" >0</th>\n",
       "      <td id=\"T_384a0_row0_col0\" class=\"data row0 col0\" >0.000000</td>\n",
       "      <td id=\"T_384a0_row0_col1\" class=\"data row0 col1\" >0.000000</td>\n",
       "      <td id=\"T_384a0_row0_col2\" class=\"data row0 col2\" >0.000000</td>\n",
       "      <td id=\"T_384a0_row0_col3\" class=\"data row0 col3\" >0.000000</td>\n",
       "      <td id=\"T_384a0_row0_col4\" class=\"data row0 col4\" >0.000000</td>\n",
       "      <td id=\"T_384a0_row0_col5\" class=\"data row0 col5\" >0.000000</td>\n",
       "      <td id=\"T_384a0_row0_col6\" class=\"data row0 col6\" >0.000000</td>\n",
       "      <td id=\"T_384a0_row0_col7\" class=\"data row0 col7\" >0.000000</td>\n",
       "      <td id=\"T_384a0_row0_col8\" class=\"data row0 col8\" >0.000000</td>\n",
       "      <td id=\"T_384a0_row0_col9\" class=\"data row0 col9\" >0.000000</td>\n",
       "      <td id=\"T_384a0_row0_col10\" class=\"data row0 col10\" >0.000000</td>\n",
       "      <td id=\"T_384a0_row0_col11\" class=\"data row0 col11\" >0.000000</td>\n",
       "      <td id=\"T_384a0_row0_col12\" class=\"data row0 col12\" >0.000000</td>\n",
       "      <td id=\"T_384a0_row0_col13\" class=\"data row0 col13\" >0.000000</td>\n",
       "      <td id=\"T_384a0_row0_col14\" class=\"data row0 col14\" >0.000000</td>\n",
       "      <td id=\"T_384a0_row0_col15\" class=\"data row0 col15\" >0.000000</td>\n",
       "      <td id=\"T_384a0_row0_col16\" class=\"data row0 col16\" >0.000000</td>\n",
       "      <td id=\"T_384a0_row0_col17\" class=\"data row0 col17\" >0.000000</td>\n",
       "      <td id=\"T_384a0_row0_col18\" class=\"data row0 col18\" >0.000000</td>\n",
       "      <td id=\"T_384a0_row0_col19\" class=\"data row0 col19\" >0.000000</td>\n",
       "      <td id=\"T_384a0_row0_col20\" class=\"data row0 col20\" >0.000000</td>\n",
       "      <td id=\"T_384a0_row0_col21\" class=\"data row0 col21\" >0.000000</td>\n",
       "      <td id=\"T_384a0_row0_col22\" class=\"data row0 col22\" >0.000000</td>\n",
       "      <td id=\"T_384a0_row0_col23\" class=\"data row0 col23\" >0.000000</td>\n",
       "      <td id=\"T_384a0_row0_col24\" class=\"data row0 col24\" >0.000000</td>\n",
       "      <td id=\"T_384a0_row0_col25\" class=\"data row0 col25\" >0.000000</td>\n",
       "      <td id=\"T_384a0_row0_col26\" class=\"data row0 col26\" >0.000000</td>\n",
       "      <td id=\"T_384a0_row0_col27\" class=\"data row0 col27\" >0.000000</td>\n",
       "    </tr>\n",
       "    <tr>\n",
       "      <th id=\"T_384a0_level0_row1\" class=\"row_heading level0 row1\" >1</th>\n",
       "      <td id=\"T_384a0_row1_col0\" class=\"data row1 col0\" >0.000000</td>\n",
       "      <td id=\"T_384a0_row1_col1\" class=\"data row1 col1\" >0.000000</td>\n",
       "      <td id=\"T_384a0_row1_col2\" class=\"data row1 col2\" >0.000000</td>\n",
       "      <td id=\"T_384a0_row1_col3\" class=\"data row1 col3\" >0.000000</td>\n",
       "      <td id=\"T_384a0_row1_col4\" class=\"data row1 col4\" >0.000000</td>\n",
       "      <td id=\"T_384a0_row1_col5\" class=\"data row1 col5\" >0.000000</td>\n",
       "      <td id=\"T_384a0_row1_col6\" class=\"data row1 col6\" >0.000000</td>\n",
       "      <td id=\"T_384a0_row1_col7\" class=\"data row1 col7\" >0.000000</td>\n",
       "      <td id=\"T_384a0_row1_col8\" class=\"data row1 col8\" >0.000000</td>\n",
       "      <td id=\"T_384a0_row1_col9\" class=\"data row1 col9\" >0.000000</td>\n",
       "      <td id=\"T_384a0_row1_col10\" class=\"data row1 col10\" >0.000000</td>\n",
       "      <td id=\"T_384a0_row1_col11\" class=\"data row1 col11\" >0.000000</td>\n",
       "      <td id=\"T_384a0_row1_col12\" class=\"data row1 col12\" >0.000000</td>\n",
       "      <td id=\"T_384a0_row1_col13\" class=\"data row1 col13\" >0.000000</td>\n",
       "      <td id=\"T_384a0_row1_col14\" class=\"data row1 col14\" >0.000000</td>\n",
       "      <td id=\"T_384a0_row1_col15\" class=\"data row1 col15\" >0.000000</td>\n",
       "      <td id=\"T_384a0_row1_col16\" class=\"data row1 col16\" >0.000000</td>\n",
       "      <td id=\"T_384a0_row1_col17\" class=\"data row1 col17\" >0.000000</td>\n",
       "      <td id=\"T_384a0_row1_col18\" class=\"data row1 col18\" >0.000000</td>\n",
       "      <td id=\"T_384a0_row1_col19\" class=\"data row1 col19\" >0.000000</td>\n",
       "      <td id=\"T_384a0_row1_col20\" class=\"data row1 col20\" >0.000000</td>\n",
       "      <td id=\"T_384a0_row1_col21\" class=\"data row1 col21\" >0.000000</td>\n",
       "      <td id=\"T_384a0_row1_col22\" class=\"data row1 col22\" >0.000000</td>\n",
       "      <td id=\"T_384a0_row1_col23\" class=\"data row1 col23\" >0.000000</td>\n",
       "      <td id=\"T_384a0_row1_col24\" class=\"data row1 col24\" >0.000000</td>\n",
       "      <td id=\"T_384a0_row1_col25\" class=\"data row1 col25\" >0.000000</td>\n",
       "      <td id=\"T_384a0_row1_col26\" class=\"data row1 col26\" >0.000000</td>\n",
       "      <td id=\"T_384a0_row1_col27\" class=\"data row1 col27\" >0.000000</td>\n",
       "    </tr>\n",
       "    <tr>\n",
       "      <th id=\"T_384a0_level0_row2\" class=\"row_heading level0 row2\" >2</th>\n",
       "      <td id=\"T_384a0_row2_col0\" class=\"data row2 col0\" >0.000000</td>\n",
       "      <td id=\"T_384a0_row2_col1\" class=\"data row2 col1\" >0.000000</td>\n",
       "      <td id=\"T_384a0_row2_col2\" class=\"data row2 col2\" >0.000000</td>\n",
       "      <td id=\"T_384a0_row2_col3\" class=\"data row2 col3\" >0.000000</td>\n",
       "      <td id=\"T_384a0_row2_col4\" class=\"data row2 col4\" >0.000000</td>\n",
       "      <td id=\"T_384a0_row2_col5\" class=\"data row2 col5\" >0.000000</td>\n",
       "      <td id=\"T_384a0_row2_col6\" class=\"data row2 col6\" >0.000000</td>\n",
       "      <td id=\"T_384a0_row2_col7\" class=\"data row2 col7\" >0.000000</td>\n",
       "      <td id=\"T_384a0_row2_col8\" class=\"data row2 col8\" >0.000000</td>\n",
       "      <td id=\"T_384a0_row2_col9\" class=\"data row2 col9\" >0.000000</td>\n",
       "      <td id=\"T_384a0_row2_col10\" class=\"data row2 col10\" >0.000000</td>\n",
       "      <td id=\"T_384a0_row2_col11\" class=\"data row2 col11\" >0.000000</td>\n",
       "      <td id=\"T_384a0_row2_col12\" class=\"data row2 col12\" >0.000000</td>\n",
       "      <td id=\"T_384a0_row2_col13\" class=\"data row2 col13\" >0.000000</td>\n",
       "      <td id=\"T_384a0_row2_col14\" class=\"data row2 col14\" >0.000000</td>\n",
       "      <td id=\"T_384a0_row2_col15\" class=\"data row2 col15\" >0.000000</td>\n",
       "      <td id=\"T_384a0_row2_col16\" class=\"data row2 col16\" >0.000000</td>\n",
       "      <td id=\"T_384a0_row2_col17\" class=\"data row2 col17\" >0.000000</td>\n",
       "      <td id=\"T_384a0_row2_col18\" class=\"data row2 col18\" >0.000000</td>\n",
       "      <td id=\"T_384a0_row2_col19\" class=\"data row2 col19\" >0.000000</td>\n",
       "      <td id=\"T_384a0_row2_col20\" class=\"data row2 col20\" >0.000000</td>\n",
       "      <td id=\"T_384a0_row2_col21\" class=\"data row2 col21\" >0.000000</td>\n",
       "      <td id=\"T_384a0_row2_col22\" class=\"data row2 col22\" >0.000000</td>\n",
       "      <td id=\"T_384a0_row2_col23\" class=\"data row2 col23\" >0.000000</td>\n",
       "      <td id=\"T_384a0_row2_col24\" class=\"data row2 col24\" >0.000000</td>\n",
       "      <td id=\"T_384a0_row2_col25\" class=\"data row2 col25\" >0.000000</td>\n",
       "      <td id=\"T_384a0_row2_col26\" class=\"data row2 col26\" >0.000000</td>\n",
       "      <td id=\"T_384a0_row2_col27\" class=\"data row2 col27\" >0.000000</td>\n",
       "    </tr>\n",
       "    <tr>\n",
       "      <th id=\"T_384a0_level0_row3\" class=\"row_heading level0 row3\" >3</th>\n",
       "      <td id=\"T_384a0_row3_col0\" class=\"data row3 col0\" >0.000000</td>\n",
       "      <td id=\"T_384a0_row3_col1\" class=\"data row3 col1\" >0.000000</td>\n",
       "      <td id=\"T_384a0_row3_col2\" class=\"data row3 col2\" >0.000000</td>\n",
       "      <td id=\"T_384a0_row3_col3\" class=\"data row3 col3\" >0.000000</td>\n",
       "      <td id=\"T_384a0_row3_col4\" class=\"data row3 col4\" >0.000000</td>\n",
       "      <td id=\"T_384a0_row3_col5\" class=\"data row3 col5\" >0.000000</td>\n",
       "      <td id=\"T_384a0_row3_col6\" class=\"data row3 col6\" >0.000000</td>\n",
       "      <td id=\"T_384a0_row3_col7\" class=\"data row3 col7\" >0.000000</td>\n",
       "      <td id=\"T_384a0_row3_col8\" class=\"data row3 col8\" >0.000000</td>\n",
       "      <td id=\"T_384a0_row3_col9\" class=\"data row3 col9\" >0.000000</td>\n",
       "      <td id=\"T_384a0_row3_col10\" class=\"data row3 col10\" >0.000000</td>\n",
       "      <td id=\"T_384a0_row3_col11\" class=\"data row3 col11\" >0.000000</td>\n",
       "      <td id=\"T_384a0_row3_col12\" class=\"data row3 col12\" >0.000000</td>\n",
       "      <td id=\"T_384a0_row3_col13\" class=\"data row3 col13\" >0.000000</td>\n",
       "      <td id=\"T_384a0_row3_col14\" class=\"data row3 col14\" >0.000000</td>\n",
       "      <td id=\"T_384a0_row3_col15\" class=\"data row3 col15\" >0.000000</td>\n",
       "      <td id=\"T_384a0_row3_col16\" class=\"data row3 col16\" >0.000000</td>\n",
       "      <td id=\"T_384a0_row3_col17\" class=\"data row3 col17\" >0.000000</td>\n",
       "      <td id=\"T_384a0_row3_col18\" class=\"data row3 col18\" >0.000000</td>\n",
       "      <td id=\"T_384a0_row3_col19\" class=\"data row3 col19\" >0.000000</td>\n",
       "      <td id=\"T_384a0_row3_col20\" class=\"data row3 col20\" >0.000000</td>\n",
       "      <td id=\"T_384a0_row3_col21\" class=\"data row3 col21\" >0.000000</td>\n",
       "      <td id=\"T_384a0_row3_col22\" class=\"data row3 col22\" >0.000000</td>\n",
       "      <td id=\"T_384a0_row3_col23\" class=\"data row3 col23\" >0.000000</td>\n",
       "      <td id=\"T_384a0_row3_col24\" class=\"data row3 col24\" >0.000000</td>\n",
       "      <td id=\"T_384a0_row3_col25\" class=\"data row3 col25\" >0.000000</td>\n",
       "      <td id=\"T_384a0_row3_col26\" class=\"data row3 col26\" >0.000000</td>\n",
       "      <td id=\"T_384a0_row3_col27\" class=\"data row3 col27\" >0.000000</td>\n",
       "    </tr>\n",
       "    <tr>\n",
       "      <th id=\"T_384a0_level0_row4\" class=\"row_heading level0 row4\" >4</th>\n",
       "      <td id=\"T_384a0_row4_col0\" class=\"data row4 col0\" >0.000000</td>\n",
       "      <td id=\"T_384a0_row4_col1\" class=\"data row4 col1\" >0.000000</td>\n",
       "      <td id=\"T_384a0_row4_col2\" class=\"data row4 col2\" >0.000000</td>\n",
       "      <td id=\"T_384a0_row4_col3\" class=\"data row4 col3\" >0.000000</td>\n",
       "      <td id=\"T_384a0_row4_col4\" class=\"data row4 col4\" >0.000000</td>\n",
       "      <td id=\"T_384a0_row4_col5\" class=\"data row4 col5\" >0.000000</td>\n",
       "      <td id=\"T_384a0_row4_col6\" class=\"data row4 col6\" >0.000000</td>\n",
       "      <td id=\"T_384a0_row4_col7\" class=\"data row4 col7\" >0.000000</td>\n",
       "      <td id=\"T_384a0_row4_col8\" class=\"data row4 col8\" >0.000000</td>\n",
       "      <td id=\"T_384a0_row4_col9\" class=\"data row4 col9\" >0.000000</td>\n",
       "      <td id=\"T_384a0_row4_col10\" class=\"data row4 col10\" >0.000000</td>\n",
       "      <td id=\"T_384a0_row4_col11\" class=\"data row4 col11\" >0.000000</td>\n",
       "      <td id=\"T_384a0_row4_col12\" class=\"data row4 col12\" >0.000000</td>\n",
       "      <td id=\"T_384a0_row4_col13\" class=\"data row4 col13\" >0.000000</td>\n",
       "      <td id=\"T_384a0_row4_col14\" class=\"data row4 col14\" >0.000000</td>\n",
       "      <td id=\"T_384a0_row4_col15\" class=\"data row4 col15\" >0.000000</td>\n",
       "      <td id=\"T_384a0_row4_col16\" class=\"data row4 col16\" >0.000000</td>\n",
       "      <td id=\"T_384a0_row4_col17\" class=\"data row4 col17\" >0.000000</td>\n",
       "      <td id=\"T_384a0_row4_col18\" class=\"data row4 col18\" >0.000000</td>\n",
       "      <td id=\"T_384a0_row4_col19\" class=\"data row4 col19\" >0.000000</td>\n",
       "      <td id=\"T_384a0_row4_col20\" class=\"data row4 col20\" >0.000000</td>\n",
       "      <td id=\"T_384a0_row4_col21\" class=\"data row4 col21\" >0.000000</td>\n",
       "      <td id=\"T_384a0_row4_col22\" class=\"data row4 col22\" >0.000000</td>\n",
       "      <td id=\"T_384a0_row4_col23\" class=\"data row4 col23\" >0.000000</td>\n",
       "      <td id=\"T_384a0_row4_col24\" class=\"data row4 col24\" >0.000000</td>\n",
       "      <td id=\"T_384a0_row4_col25\" class=\"data row4 col25\" >0.000000</td>\n",
       "      <td id=\"T_384a0_row4_col26\" class=\"data row4 col26\" >0.000000</td>\n",
       "      <td id=\"T_384a0_row4_col27\" class=\"data row4 col27\" >0.000000</td>\n",
       "    </tr>\n",
       "    <tr>\n",
       "      <th id=\"T_384a0_level0_row5\" class=\"row_heading level0 row5\" >5</th>\n",
       "      <td id=\"T_384a0_row5_col0\" class=\"data row5 col0\" >0.000000</td>\n",
       "      <td id=\"T_384a0_row5_col1\" class=\"data row5 col1\" >0.000000</td>\n",
       "      <td id=\"T_384a0_row5_col2\" class=\"data row5 col2\" >0.000000</td>\n",
       "      <td id=\"T_384a0_row5_col3\" class=\"data row5 col3\" >0.000000</td>\n",
       "      <td id=\"T_384a0_row5_col4\" class=\"data row5 col4\" >0.000000</td>\n",
       "      <td id=\"T_384a0_row5_col5\" class=\"data row5 col5\" >0.000000</td>\n",
       "      <td id=\"T_384a0_row5_col6\" class=\"data row5 col6\" >0.000000</td>\n",
       "      <td id=\"T_384a0_row5_col7\" class=\"data row5 col7\" >0.000000</td>\n",
       "      <td id=\"T_384a0_row5_col8\" class=\"data row5 col8\" >0.000000</td>\n",
       "      <td id=\"T_384a0_row5_col9\" class=\"data row5 col9\" >0.000000</td>\n",
       "      <td id=\"T_384a0_row5_col10\" class=\"data row5 col10\" >0.000000</td>\n",
       "      <td id=\"T_384a0_row5_col11\" class=\"data row5 col11\" >0.000000</td>\n",
       "      <td id=\"T_384a0_row5_col12\" class=\"data row5 col12\" >0.011765</td>\n",
       "      <td id=\"T_384a0_row5_col13\" class=\"data row5 col13\" >0.070588</td>\n",
       "      <td id=\"T_384a0_row5_col14\" class=\"data row5 col14\" >0.070588</td>\n",
       "      <td id=\"T_384a0_row5_col15\" class=\"data row5 col15\" >0.070588</td>\n",
       "      <td id=\"T_384a0_row5_col16\" class=\"data row5 col16\" >0.494118</td>\n",
       "      <td id=\"T_384a0_row5_col17\" class=\"data row5 col17\" >0.533333</td>\n",
       "      <td id=\"T_384a0_row5_col18\" class=\"data row5 col18\" >0.686275</td>\n",
       "      <td id=\"T_384a0_row5_col19\" class=\"data row5 col19\" >0.101961</td>\n",
       "      <td id=\"T_384a0_row5_col20\" class=\"data row5 col20\" >0.650980</td>\n",
       "      <td id=\"T_384a0_row5_col21\" class=\"data row5 col21\" >1.000000</td>\n",
       "      <td id=\"T_384a0_row5_col22\" class=\"data row5 col22\" >0.968627</td>\n",
       "      <td id=\"T_384a0_row5_col23\" class=\"data row5 col23\" >0.498039</td>\n",
       "      <td id=\"T_384a0_row5_col24\" class=\"data row5 col24\" >0.000000</td>\n",
       "      <td id=\"T_384a0_row5_col25\" class=\"data row5 col25\" >0.000000</td>\n",
       "      <td id=\"T_384a0_row5_col26\" class=\"data row5 col26\" >0.000000</td>\n",
       "      <td id=\"T_384a0_row5_col27\" class=\"data row5 col27\" >0.000000</td>\n",
       "    </tr>\n",
       "    <tr>\n",
       "      <th id=\"T_384a0_level0_row6\" class=\"row_heading level0 row6\" >6</th>\n",
       "      <td id=\"T_384a0_row6_col0\" class=\"data row6 col0\" >0.000000</td>\n",
       "      <td id=\"T_384a0_row6_col1\" class=\"data row6 col1\" >0.000000</td>\n",
       "      <td id=\"T_384a0_row6_col2\" class=\"data row6 col2\" >0.000000</td>\n",
       "      <td id=\"T_384a0_row6_col3\" class=\"data row6 col3\" >0.000000</td>\n",
       "      <td id=\"T_384a0_row6_col4\" class=\"data row6 col4\" >0.000000</td>\n",
       "      <td id=\"T_384a0_row6_col5\" class=\"data row6 col5\" >0.000000</td>\n",
       "      <td id=\"T_384a0_row6_col6\" class=\"data row6 col6\" >0.000000</td>\n",
       "      <td id=\"T_384a0_row6_col7\" class=\"data row6 col7\" >0.000000</td>\n",
       "      <td id=\"T_384a0_row6_col8\" class=\"data row6 col8\" >0.117647</td>\n",
       "      <td id=\"T_384a0_row6_col9\" class=\"data row6 col9\" >0.141176</td>\n",
       "      <td id=\"T_384a0_row6_col10\" class=\"data row6 col10\" >0.368627</td>\n",
       "      <td id=\"T_384a0_row6_col11\" class=\"data row6 col11\" >0.603922</td>\n",
       "      <td id=\"T_384a0_row6_col12\" class=\"data row6 col12\" >0.666667</td>\n",
       "      <td id=\"T_384a0_row6_col13\" class=\"data row6 col13\" >0.992157</td>\n",
       "      <td id=\"T_384a0_row6_col14\" class=\"data row6 col14\" >0.992157</td>\n",
       "      <td id=\"T_384a0_row6_col15\" class=\"data row6 col15\" >0.992157</td>\n",
       "      <td id=\"T_384a0_row6_col16\" class=\"data row6 col16\" >0.992157</td>\n",
       "      <td id=\"T_384a0_row6_col17\" class=\"data row6 col17\" >0.992157</td>\n",
       "      <td id=\"T_384a0_row6_col18\" class=\"data row6 col18\" >0.882353</td>\n",
       "      <td id=\"T_384a0_row6_col19\" class=\"data row6 col19\" >0.674510</td>\n",
       "      <td id=\"T_384a0_row6_col20\" class=\"data row6 col20\" >0.992157</td>\n",
       "      <td id=\"T_384a0_row6_col21\" class=\"data row6 col21\" >0.949020</td>\n",
       "      <td id=\"T_384a0_row6_col22\" class=\"data row6 col22\" >0.764706</td>\n",
       "      <td id=\"T_384a0_row6_col23\" class=\"data row6 col23\" >0.250980</td>\n",
       "      <td id=\"T_384a0_row6_col24\" class=\"data row6 col24\" >0.000000</td>\n",
       "      <td id=\"T_384a0_row6_col25\" class=\"data row6 col25\" >0.000000</td>\n",
       "      <td id=\"T_384a0_row6_col26\" class=\"data row6 col26\" >0.000000</td>\n",
       "      <td id=\"T_384a0_row6_col27\" class=\"data row6 col27\" >0.000000</td>\n",
       "    </tr>\n",
       "    <tr>\n",
       "      <th id=\"T_384a0_level0_row7\" class=\"row_heading level0 row7\" >7</th>\n",
       "      <td id=\"T_384a0_row7_col0\" class=\"data row7 col0\" >0.000000</td>\n",
       "      <td id=\"T_384a0_row7_col1\" class=\"data row7 col1\" >0.000000</td>\n",
       "      <td id=\"T_384a0_row7_col2\" class=\"data row7 col2\" >0.000000</td>\n",
       "      <td id=\"T_384a0_row7_col3\" class=\"data row7 col3\" >0.000000</td>\n",
       "      <td id=\"T_384a0_row7_col4\" class=\"data row7 col4\" >0.000000</td>\n",
       "      <td id=\"T_384a0_row7_col5\" class=\"data row7 col5\" >0.000000</td>\n",
       "      <td id=\"T_384a0_row7_col6\" class=\"data row7 col6\" >0.000000</td>\n",
       "      <td id=\"T_384a0_row7_col7\" class=\"data row7 col7\" >0.192157</td>\n",
       "      <td id=\"T_384a0_row7_col8\" class=\"data row7 col8\" >0.933333</td>\n",
       "      <td id=\"T_384a0_row7_col9\" class=\"data row7 col9\" >0.992157</td>\n",
       "      <td id=\"T_384a0_row7_col10\" class=\"data row7 col10\" >0.992157</td>\n",
       "      <td id=\"T_384a0_row7_col11\" class=\"data row7 col11\" >0.992157</td>\n",
       "      <td id=\"T_384a0_row7_col12\" class=\"data row7 col12\" >0.992157</td>\n",
       "      <td id=\"T_384a0_row7_col13\" class=\"data row7 col13\" >0.992157</td>\n",
       "      <td id=\"T_384a0_row7_col14\" class=\"data row7 col14\" >0.992157</td>\n",
       "      <td id=\"T_384a0_row7_col15\" class=\"data row7 col15\" >0.992157</td>\n",
       "      <td id=\"T_384a0_row7_col16\" class=\"data row7 col16\" >0.992157</td>\n",
       "      <td id=\"T_384a0_row7_col17\" class=\"data row7 col17\" >0.984314</td>\n",
       "      <td id=\"T_384a0_row7_col18\" class=\"data row7 col18\" >0.364706</td>\n",
       "      <td id=\"T_384a0_row7_col19\" class=\"data row7 col19\" >0.321569</td>\n",
       "      <td id=\"T_384a0_row7_col20\" class=\"data row7 col20\" >0.321569</td>\n",
       "      <td id=\"T_384a0_row7_col21\" class=\"data row7 col21\" >0.219608</td>\n",
       "      <td id=\"T_384a0_row7_col22\" class=\"data row7 col22\" >0.152941</td>\n",
       "      <td id=\"T_384a0_row7_col23\" class=\"data row7 col23\" >0.000000</td>\n",
       "      <td id=\"T_384a0_row7_col24\" class=\"data row7 col24\" >0.000000</td>\n",
       "      <td id=\"T_384a0_row7_col25\" class=\"data row7 col25\" >0.000000</td>\n",
       "      <td id=\"T_384a0_row7_col26\" class=\"data row7 col26\" >0.000000</td>\n",
       "      <td id=\"T_384a0_row7_col27\" class=\"data row7 col27\" >0.000000</td>\n",
       "    </tr>\n",
       "    <tr>\n",
       "      <th id=\"T_384a0_level0_row8\" class=\"row_heading level0 row8\" >8</th>\n",
       "      <td id=\"T_384a0_row8_col0\" class=\"data row8 col0\" >0.000000</td>\n",
       "      <td id=\"T_384a0_row8_col1\" class=\"data row8 col1\" >0.000000</td>\n",
       "      <td id=\"T_384a0_row8_col2\" class=\"data row8 col2\" >0.000000</td>\n",
       "      <td id=\"T_384a0_row8_col3\" class=\"data row8 col3\" >0.000000</td>\n",
       "      <td id=\"T_384a0_row8_col4\" class=\"data row8 col4\" >0.000000</td>\n",
       "      <td id=\"T_384a0_row8_col5\" class=\"data row8 col5\" >0.000000</td>\n",
       "      <td id=\"T_384a0_row8_col6\" class=\"data row8 col6\" >0.000000</td>\n",
       "      <td id=\"T_384a0_row8_col7\" class=\"data row8 col7\" >0.070588</td>\n",
       "      <td id=\"T_384a0_row8_col8\" class=\"data row8 col8\" >0.858824</td>\n",
       "      <td id=\"T_384a0_row8_col9\" class=\"data row8 col9\" >0.992157</td>\n",
       "      <td id=\"T_384a0_row8_col10\" class=\"data row8 col10\" >0.992157</td>\n",
       "      <td id=\"T_384a0_row8_col11\" class=\"data row8 col11\" >0.992157</td>\n",
       "      <td id=\"T_384a0_row8_col12\" class=\"data row8 col12\" >0.992157</td>\n",
       "      <td id=\"T_384a0_row8_col13\" class=\"data row8 col13\" >0.992157</td>\n",
       "      <td id=\"T_384a0_row8_col14\" class=\"data row8 col14\" >0.776471</td>\n",
       "      <td id=\"T_384a0_row8_col15\" class=\"data row8 col15\" >0.713726</td>\n",
       "      <td id=\"T_384a0_row8_col16\" class=\"data row8 col16\" >0.968627</td>\n",
       "      <td id=\"T_384a0_row8_col17\" class=\"data row8 col17\" >0.945098</td>\n",
       "      <td id=\"T_384a0_row8_col18\" class=\"data row8 col18\" >0.000000</td>\n",
       "      <td id=\"T_384a0_row8_col19\" class=\"data row8 col19\" >0.000000</td>\n",
       "      <td id=\"T_384a0_row8_col20\" class=\"data row8 col20\" >0.000000</td>\n",
       "      <td id=\"T_384a0_row8_col21\" class=\"data row8 col21\" >0.000000</td>\n",
       "      <td id=\"T_384a0_row8_col22\" class=\"data row8 col22\" >0.000000</td>\n",
       "      <td id=\"T_384a0_row8_col23\" class=\"data row8 col23\" >0.000000</td>\n",
       "      <td id=\"T_384a0_row8_col24\" class=\"data row8 col24\" >0.000000</td>\n",
       "      <td id=\"T_384a0_row8_col25\" class=\"data row8 col25\" >0.000000</td>\n",
       "      <td id=\"T_384a0_row8_col26\" class=\"data row8 col26\" >0.000000</td>\n",
       "      <td id=\"T_384a0_row8_col27\" class=\"data row8 col27\" >0.000000</td>\n",
       "    </tr>\n",
       "    <tr>\n",
       "      <th id=\"T_384a0_level0_row9\" class=\"row_heading level0 row9\" >9</th>\n",
       "      <td id=\"T_384a0_row9_col0\" class=\"data row9 col0\" >0.000000</td>\n",
       "      <td id=\"T_384a0_row9_col1\" class=\"data row9 col1\" >0.000000</td>\n",
       "      <td id=\"T_384a0_row9_col2\" class=\"data row9 col2\" >0.000000</td>\n",
       "      <td id=\"T_384a0_row9_col3\" class=\"data row9 col3\" >0.000000</td>\n",
       "      <td id=\"T_384a0_row9_col4\" class=\"data row9 col4\" >0.000000</td>\n",
       "      <td id=\"T_384a0_row9_col5\" class=\"data row9 col5\" >0.000000</td>\n",
       "      <td id=\"T_384a0_row9_col6\" class=\"data row9 col6\" >0.000000</td>\n",
       "      <td id=\"T_384a0_row9_col7\" class=\"data row9 col7\" >0.000000</td>\n",
       "      <td id=\"T_384a0_row9_col8\" class=\"data row9 col8\" >0.313726</td>\n",
       "      <td id=\"T_384a0_row9_col9\" class=\"data row9 col9\" >0.611765</td>\n",
       "      <td id=\"T_384a0_row9_col10\" class=\"data row9 col10\" >0.419608</td>\n",
       "      <td id=\"T_384a0_row9_col11\" class=\"data row9 col11\" >0.992157</td>\n",
       "      <td id=\"T_384a0_row9_col12\" class=\"data row9 col12\" >0.992157</td>\n",
       "      <td id=\"T_384a0_row9_col13\" class=\"data row9 col13\" >0.803922</td>\n",
       "      <td id=\"T_384a0_row9_col14\" class=\"data row9 col14\" >0.043137</td>\n",
       "      <td id=\"T_384a0_row9_col15\" class=\"data row9 col15\" >0.000000</td>\n",
       "      <td id=\"T_384a0_row9_col16\" class=\"data row9 col16\" >0.168627</td>\n",
       "      <td id=\"T_384a0_row9_col17\" class=\"data row9 col17\" >0.603922</td>\n",
       "      <td id=\"T_384a0_row9_col18\" class=\"data row9 col18\" >0.000000</td>\n",
       "      <td id=\"T_384a0_row9_col19\" class=\"data row9 col19\" >0.000000</td>\n",
       "      <td id=\"T_384a0_row9_col20\" class=\"data row9 col20\" >0.000000</td>\n",
       "      <td id=\"T_384a0_row9_col21\" class=\"data row9 col21\" >0.000000</td>\n",
       "      <td id=\"T_384a0_row9_col22\" class=\"data row9 col22\" >0.000000</td>\n",
       "      <td id=\"T_384a0_row9_col23\" class=\"data row9 col23\" >0.000000</td>\n",
       "      <td id=\"T_384a0_row9_col24\" class=\"data row9 col24\" >0.000000</td>\n",
       "      <td id=\"T_384a0_row9_col25\" class=\"data row9 col25\" >0.000000</td>\n",
       "      <td id=\"T_384a0_row9_col26\" class=\"data row9 col26\" >0.000000</td>\n",
       "      <td id=\"T_384a0_row9_col27\" class=\"data row9 col27\" >0.000000</td>\n",
       "    </tr>\n",
       "    <tr>\n",
       "      <th id=\"T_384a0_level0_row10\" class=\"row_heading level0 row10\" >10</th>\n",
       "      <td id=\"T_384a0_row10_col0\" class=\"data row10 col0\" >0.000000</td>\n",
       "      <td id=\"T_384a0_row10_col1\" class=\"data row10 col1\" >0.000000</td>\n",
       "      <td id=\"T_384a0_row10_col2\" class=\"data row10 col2\" >0.000000</td>\n",
       "      <td id=\"T_384a0_row10_col3\" class=\"data row10 col3\" >0.000000</td>\n",
       "      <td id=\"T_384a0_row10_col4\" class=\"data row10 col4\" >0.000000</td>\n",
       "      <td id=\"T_384a0_row10_col5\" class=\"data row10 col5\" >0.000000</td>\n",
       "      <td id=\"T_384a0_row10_col6\" class=\"data row10 col6\" >0.000000</td>\n",
       "      <td id=\"T_384a0_row10_col7\" class=\"data row10 col7\" >0.000000</td>\n",
       "      <td id=\"T_384a0_row10_col8\" class=\"data row10 col8\" >0.000000</td>\n",
       "      <td id=\"T_384a0_row10_col9\" class=\"data row10 col9\" >0.054902</td>\n",
       "      <td id=\"T_384a0_row10_col10\" class=\"data row10 col10\" >0.003922</td>\n",
       "      <td id=\"T_384a0_row10_col11\" class=\"data row10 col11\" >0.603922</td>\n",
       "      <td id=\"T_384a0_row10_col12\" class=\"data row10 col12\" >0.992157</td>\n",
       "      <td id=\"T_384a0_row10_col13\" class=\"data row10 col13\" >0.352941</td>\n",
       "      <td id=\"T_384a0_row10_col14\" class=\"data row10 col14\" >0.000000</td>\n",
       "      <td id=\"T_384a0_row10_col15\" class=\"data row10 col15\" >0.000000</td>\n",
       "      <td id=\"T_384a0_row10_col16\" class=\"data row10 col16\" >0.000000</td>\n",
       "      <td id=\"T_384a0_row10_col17\" class=\"data row10 col17\" >0.000000</td>\n",
       "      <td id=\"T_384a0_row10_col18\" class=\"data row10 col18\" >0.000000</td>\n",
       "      <td id=\"T_384a0_row10_col19\" class=\"data row10 col19\" >0.000000</td>\n",
       "      <td id=\"T_384a0_row10_col20\" class=\"data row10 col20\" >0.000000</td>\n",
       "      <td id=\"T_384a0_row10_col21\" class=\"data row10 col21\" >0.000000</td>\n",
       "      <td id=\"T_384a0_row10_col22\" class=\"data row10 col22\" >0.000000</td>\n",
       "      <td id=\"T_384a0_row10_col23\" class=\"data row10 col23\" >0.000000</td>\n",
       "      <td id=\"T_384a0_row10_col24\" class=\"data row10 col24\" >0.000000</td>\n",
       "      <td id=\"T_384a0_row10_col25\" class=\"data row10 col25\" >0.000000</td>\n",
       "      <td id=\"T_384a0_row10_col26\" class=\"data row10 col26\" >0.000000</td>\n",
       "      <td id=\"T_384a0_row10_col27\" class=\"data row10 col27\" >0.000000</td>\n",
       "    </tr>\n",
       "    <tr>\n",
       "      <th id=\"T_384a0_level0_row11\" class=\"row_heading level0 row11\" >11</th>\n",
       "      <td id=\"T_384a0_row11_col0\" class=\"data row11 col0\" >0.000000</td>\n",
       "      <td id=\"T_384a0_row11_col1\" class=\"data row11 col1\" >0.000000</td>\n",
       "      <td id=\"T_384a0_row11_col2\" class=\"data row11 col2\" >0.000000</td>\n",
       "      <td id=\"T_384a0_row11_col3\" class=\"data row11 col3\" >0.000000</td>\n",
       "      <td id=\"T_384a0_row11_col4\" class=\"data row11 col4\" >0.000000</td>\n",
       "      <td id=\"T_384a0_row11_col5\" class=\"data row11 col5\" >0.000000</td>\n",
       "      <td id=\"T_384a0_row11_col6\" class=\"data row11 col6\" >0.000000</td>\n",
       "      <td id=\"T_384a0_row11_col7\" class=\"data row11 col7\" >0.000000</td>\n",
       "      <td id=\"T_384a0_row11_col8\" class=\"data row11 col8\" >0.000000</td>\n",
       "      <td id=\"T_384a0_row11_col9\" class=\"data row11 col9\" >0.000000</td>\n",
       "      <td id=\"T_384a0_row11_col10\" class=\"data row11 col10\" >0.000000</td>\n",
       "      <td id=\"T_384a0_row11_col11\" class=\"data row11 col11\" >0.545098</td>\n",
       "      <td id=\"T_384a0_row11_col12\" class=\"data row11 col12\" >0.992157</td>\n",
       "      <td id=\"T_384a0_row11_col13\" class=\"data row11 col13\" >0.745098</td>\n",
       "      <td id=\"T_384a0_row11_col14\" class=\"data row11 col14\" >0.007843</td>\n",
       "      <td id=\"T_384a0_row11_col15\" class=\"data row11 col15\" >0.000000</td>\n",
       "      <td id=\"T_384a0_row11_col16\" class=\"data row11 col16\" >0.000000</td>\n",
       "      <td id=\"T_384a0_row11_col17\" class=\"data row11 col17\" >0.000000</td>\n",
       "      <td id=\"T_384a0_row11_col18\" class=\"data row11 col18\" >0.000000</td>\n",
       "      <td id=\"T_384a0_row11_col19\" class=\"data row11 col19\" >0.000000</td>\n",
       "      <td id=\"T_384a0_row11_col20\" class=\"data row11 col20\" >0.000000</td>\n",
       "      <td id=\"T_384a0_row11_col21\" class=\"data row11 col21\" >0.000000</td>\n",
       "      <td id=\"T_384a0_row11_col22\" class=\"data row11 col22\" >0.000000</td>\n",
       "      <td id=\"T_384a0_row11_col23\" class=\"data row11 col23\" >0.000000</td>\n",
       "      <td id=\"T_384a0_row11_col24\" class=\"data row11 col24\" >0.000000</td>\n",
       "      <td id=\"T_384a0_row11_col25\" class=\"data row11 col25\" >0.000000</td>\n",
       "      <td id=\"T_384a0_row11_col26\" class=\"data row11 col26\" >0.000000</td>\n",
       "      <td id=\"T_384a0_row11_col27\" class=\"data row11 col27\" >0.000000</td>\n",
       "    </tr>\n",
       "    <tr>\n",
       "      <th id=\"T_384a0_level0_row12\" class=\"row_heading level0 row12\" >12</th>\n",
       "      <td id=\"T_384a0_row12_col0\" class=\"data row12 col0\" >0.000000</td>\n",
       "      <td id=\"T_384a0_row12_col1\" class=\"data row12 col1\" >0.000000</td>\n",
       "      <td id=\"T_384a0_row12_col2\" class=\"data row12 col2\" >0.000000</td>\n",
       "      <td id=\"T_384a0_row12_col3\" class=\"data row12 col3\" >0.000000</td>\n",
       "      <td id=\"T_384a0_row12_col4\" class=\"data row12 col4\" >0.000000</td>\n",
       "      <td id=\"T_384a0_row12_col5\" class=\"data row12 col5\" >0.000000</td>\n",
       "      <td id=\"T_384a0_row12_col6\" class=\"data row12 col6\" >0.000000</td>\n",
       "      <td id=\"T_384a0_row12_col7\" class=\"data row12 col7\" >0.000000</td>\n",
       "      <td id=\"T_384a0_row12_col8\" class=\"data row12 col8\" >0.000000</td>\n",
       "      <td id=\"T_384a0_row12_col9\" class=\"data row12 col9\" >0.000000</td>\n",
       "      <td id=\"T_384a0_row12_col10\" class=\"data row12 col10\" >0.000000</td>\n",
       "      <td id=\"T_384a0_row12_col11\" class=\"data row12 col11\" >0.043137</td>\n",
       "      <td id=\"T_384a0_row12_col12\" class=\"data row12 col12\" >0.745098</td>\n",
       "      <td id=\"T_384a0_row12_col13\" class=\"data row12 col13\" >0.992157</td>\n",
       "      <td id=\"T_384a0_row12_col14\" class=\"data row12 col14\" >0.274510</td>\n",
       "      <td id=\"T_384a0_row12_col15\" class=\"data row12 col15\" >0.000000</td>\n",
       "      <td id=\"T_384a0_row12_col16\" class=\"data row12 col16\" >0.000000</td>\n",
       "      <td id=\"T_384a0_row12_col17\" class=\"data row12 col17\" >0.000000</td>\n",
       "      <td id=\"T_384a0_row12_col18\" class=\"data row12 col18\" >0.000000</td>\n",
       "      <td id=\"T_384a0_row12_col19\" class=\"data row12 col19\" >0.000000</td>\n",
       "      <td id=\"T_384a0_row12_col20\" class=\"data row12 col20\" >0.000000</td>\n",
       "      <td id=\"T_384a0_row12_col21\" class=\"data row12 col21\" >0.000000</td>\n",
       "      <td id=\"T_384a0_row12_col22\" class=\"data row12 col22\" >0.000000</td>\n",
       "      <td id=\"T_384a0_row12_col23\" class=\"data row12 col23\" >0.000000</td>\n",
       "      <td id=\"T_384a0_row12_col24\" class=\"data row12 col24\" >0.000000</td>\n",
       "      <td id=\"T_384a0_row12_col25\" class=\"data row12 col25\" >0.000000</td>\n",
       "      <td id=\"T_384a0_row12_col26\" class=\"data row12 col26\" >0.000000</td>\n",
       "      <td id=\"T_384a0_row12_col27\" class=\"data row12 col27\" >0.000000</td>\n",
       "    </tr>\n",
       "    <tr>\n",
       "      <th id=\"T_384a0_level0_row13\" class=\"row_heading level0 row13\" >13</th>\n",
       "      <td id=\"T_384a0_row13_col0\" class=\"data row13 col0\" >0.000000</td>\n",
       "      <td id=\"T_384a0_row13_col1\" class=\"data row13 col1\" >0.000000</td>\n",
       "      <td id=\"T_384a0_row13_col2\" class=\"data row13 col2\" >0.000000</td>\n",
       "      <td id=\"T_384a0_row13_col3\" class=\"data row13 col3\" >0.000000</td>\n",
       "      <td id=\"T_384a0_row13_col4\" class=\"data row13 col4\" >0.000000</td>\n",
       "      <td id=\"T_384a0_row13_col5\" class=\"data row13 col5\" >0.000000</td>\n",
       "      <td id=\"T_384a0_row13_col6\" class=\"data row13 col6\" >0.000000</td>\n",
       "      <td id=\"T_384a0_row13_col7\" class=\"data row13 col7\" >0.000000</td>\n",
       "      <td id=\"T_384a0_row13_col8\" class=\"data row13 col8\" >0.000000</td>\n",
       "      <td id=\"T_384a0_row13_col9\" class=\"data row13 col9\" >0.000000</td>\n",
       "      <td id=\"T_384a0_row13_col10\" class=\"data row13 col10\" >0.000000</td>\n",
       "      <td id=\"T_384a0_row13_col11\" class=\"data row13 col11\" >0.000000</td>\n",
       "      <td id=\"T_384a0_row13_col12\" class=\"data row13 col12\" >0.137255</td>\n",
       "      <td id=\"T_384a0_row13_col13\" class=\"data row13 col13\" >0.945098</td>\n",
       "      <td id=\"T_384a0_row13_col14\" class=\"data row13 col14\" >0.882353</td>\n",
       "      <td id=\"T_384a0_row13_col15\" class=\"data row13 col15\" >0.627451</td>\n",
       "      <td id=\"T_384a0_row13_col16\" class=\"data row13 col16\" >0.423529</td>\n",
       "      <td id=\"T_384a0_row13_col17\" class=\"data row13 col17\" >0.003922</td>\n",
       "      <td id=\"T_384a0_row13_col18\" class=\"data row13 col18\" >0.000000</td>\n",
       "      <td id=\"T_384a0_row13_col19\" class=\"data row13 col19\" >0.000000</td>\n",
       "      <td id=\"T_384a0_row13_col20\" class=\"data row13 col20\" >0.000000</td>\n",
       "      <td id=\"T_384a0_row13_col21\" class=\"data row13 col21\" >0.000000</td>\n",
       "      <td id=\"T_384a0_row13_col22\" class=\"data row13 col22\" >0.000000</td>\n",
       "      <td id=\"T_384a0_row13_col23\" class=\"data row13 col23\" >0.000000</td>\n",
       "      <td id=\"T_384a0_row13_col24\" class=\"data row13 col24\" >0.000000</td>\n",
       "      <td id=\"T_384a0_row13_col25\" class=\"data row13 col25\" >0.000000</td>\n",
       "      <td id=\"T_384a0_row13_col26\" class=\"data row13 col26\" >0.000000</td>\n",
       "      <td id=\"T_384a0_row13_col27\" class=\"data row13 col27\" >0.000000</td>\n",
       "    </tr>\n",
       "    <tr>\n",
       "      <th id=\"T_384a0_level0_row14\" class=\"row_heading level0 row14\" >14</th>\n",
       "      <td id=\"T_384a0_row14_col0\" class=\"data row14 col0\" >0.000000</td>\n",
       "      <td id=\"T_384a0_row14_col1\" class=\"data row14 col1\" >0.000000</td>\n",
       "      <td id=\"T_384a0_row14_col2\" class=\"data row14 col2\" >0.000000</td>\n",
       "      <td id=\"T_384a0_row14_col3\" class=\"data row14 col3\" >0.000000</td>\n",
       "      <td id=\"T_384a0_row14_col4\" class=\"data row14 col4\" >0.000000</td>\n",
       "      <td id=\"T_384a0_row14_col5\" class=\"data row14 col5\" >0.000000</td>\n",
       "      <td id=\"T_384a0_row14_col6\" class=\"data row14 col6\" >0.000000</td>\n",
       "      <td id=\"T_384a0_row14_col7\" class=\"data row14 col7\" >0.000000</td>\n",
       "      <td id=\"T_384a0_row14_col8\" class=\"data row14 col8\" >0.000000</td>\n",
       "      <td id=\"T_384a0_row14_col9\" class=\"data row14 col9\" >0.000000</td>\n",
       "      <td id=\"T_384a0_row14_col10\" class=\"data row14 col10\" >0.000000</td>\n",
       "      <td id=\"T_384a0_row14_col11\" class=\"data row14 col11\" >0.000000</td>\n",
       "      <td id=\"T_384a0_row14_col12\" class=\"data row14 col12\" >0.000000</td>\n",
       "      <td id=\"T_384a0_row14_col13\" class=\"data row14 col13\" >0.317647</td>\n",
       "      <td id=\"T_384a0_row14_col14\" class=\"data row14 col14\" >0.941176</td>\n",
       "      <td id=\"T_384a0_row14_col15\" class=\"data row14 col15\" >0.992157</td>\n",
       "      <td id=\"T_384a0_row14_col16\" class=\"data row14 col16\" >0.992157</td>\n",
       "      <td id=\"T_384a0_row14_col17\" class=\"data row14 col17\" >0.466667</td>\n",
       "      <td id=\"T_384a0_row14_col18\" class=\"data row14 col18\" >0.098039</td>\n",
       "      <td id=\"T_384a0_row14_col19\" class=\"data row14 col19\" >0.000000</td>\n",
       "      <td id=\"T_384a0_row14_col20\" class=\"data row14 col20\" >0.000000</td>\n",
       "      <td id=\"T_384a0_row14_col21\" class=\"data row14 col21\" >0.000000</td>\n",
       "      <td id=\"T_384a0_row14_col22\" class=\"data row14 col22\" >0.000000</td>\n",
       "      <td id=\"T_384a0_row14_col23\" class=\"data row14 col23\" >0.000000</td>\n",
       "      <td id=\"T_384a0_row14_col24\" class=\"data row14 col24\" >0.000000</td>\n",
       "      <td id=\"T_384a0_row14_col25\" class=\"data row14 col25\" >0.000000</td>\n",
       "      <td id=\"T_384a0_row14_col26\" class=\"data row14 col26\" >0.000000</td>\n",
       "      <td id=\"T_384a0_row14_col27\" class=\"data row14 col27\" >0.000000</td>\n",
       "    </tr>\n",
       "    <tr>\n",
       "      <th id=\"T_384a0_level0_row15\" class=\"row_heading level0 row15\" >15</th>\n",
       "      <td id=\"T_384a0_row15_col0\" class=\"data row15 col0\" >0.000000</td>\n",
       "      <td id=\"T_384a0_row15_col1\" class=\"data row15 col1\" >0.000000</td>\n",
       "      <td id=\"T_384a0_row15_col2\" class=\"data row15 col2\" >0.000000</td>\n",
       "      <td id=\"T_384a0_row15_col3\" class=\"data row15 col3\" >0.000000</td>\n",
       "      <td id=\"T_384a0_row15_col4\" class=\"data row15 col4\" >0.000000</td>\n",
       "      <td id=\"T_384a0_row15_col5\" class=\"data row15 col5\" >0.000000</td>\n",
       "      <td id=\"T_384a0_row15_col6\" class=\"data row15 col6\" >0.000000</td>\n",
       "      <td id=\"T_384a0_row15_col7\" class=\"data row15 col7\" >0.000000</td>\n",
       "      <td id=\"T_384a0_row15_col8\" class=\"data row15 col8\" >0.000000</td>\n",
       "      <td id=\"T_384a0_row15_col9\" class=\"data row15 col9\" >0.000000</td>\n",
       "      <td id=\"T_384a0_row15_col10\" class=\"data row15 col10\" >0.000000</td>\n",
       "      <td id=\"T_384a0_row15_col11\" class=\"data row15 col11\" >0.000000</td>\n",
       "      <td id=\"T_384a0_row15_col12\" class=\"data row15 col12\" >0.000000</td>\n",
       "      <td id=\"T_384a0_row15_col13\" class=\"data row15 col13\" >0.000000</td>\n",
       "      <td id=\"T_384a0_row15_col14\" class=\"data row15 col14\" >0.176471</td>\n",
       "      <td id=\"T_384a0_row15_col15\" class=\"data row15 col15\" >0.729412</td>\n",
       "      <td id=\"T_384a0_row15_col16\" class=\"data row15 col16\" >0.992157</td>\n",
       "      <td id=\"T_384a0_row15_col17\" class=\"data row15 col17\" >0.992157</td>\n",
       "      <td id=\"T_384a0_row15_col18\" class=\"data row15 col18\" >0.588235</td>\n",
       "      <td id=\"T_384a0_row15_col19\" class=\"data row15 col19\" >0.105882</td>\n",
       "      <td id=\"T_384a0_row15_col20\" class=\"data row15 col20\" >0.000000</td>\n",
       "      <td id=\"T_384a0_row15_col21\" class=\"data row15 col21\" >0.000000</td>\n",
       "      <td id=\"T_384a0_row15_col22\" class=\"data row15 col22\" >0.000000</td>\n",
       "      <td id=\"T_384a0_row15_col23\" class=\"data row15 col23\" >0.000000</td>\n",
       "      <td id=\"T_384a0_row15_col24\" class=\"data row15 col24\" >0.000000</td>\n",
       "      <td id=\"T_384a0_row15_col25\" class=\"data row15 col25\" >0.000000</td>\n",
       "      <td id=\"T_384a0_row15_col26\" class=\"data row15 col26\" >0.000000</td>\n",
       "      <td id=\"T_384a0_row15_col27\" class=\"data row15 col27\" >0.000000</td>\n",
       "    </tr>\n",
       "    <tr>\n",
       "      <th id=\"T_384a0_level0_row16\" class=\"row_heading level0 row16\" >16</th>\n",
       "      <td id=\"T_384a0_row16_col0\" class=\"data row16 col0\" >0.000000</td>\n",
       "      <td id=\"T_384a0_row16_col1\" class=\"data row16 col1\" >0.000000</td>\n",
       "      <td id=\"T_384a0_row16_col2\" class=\"data row16 col2\" >0.000000</td>\n",
       "      <td id=\"T_384a0_row16_col3\" class=\"data row16 col3\" >0.000000</td>\n",
       "      <td id=\"T_384a0_row16_col4\" class=\"data row16 col4\" >0.000000</td>\n",
       "      <td id=\"T_384a0_row16_col5\" class=\"data row16 col5\" >0.000000</td>\n",
       "      <td id=\"T_384a0_row16_col6\" class=\"data row16 col6\" >0.000000</td>\n",
       "      <td id=\"T_384a0_row16_col7\" class=\"data row16 col7\" >0.000000</td>\n",
       "      <td id=\"T_384a0_row16_col8\" class=\"data row16 col8\" >0.000000</td>\n",
       "      <td id=\"T_384a0_row16_col9\" class=\"data row16 col9\" >0.000000</td>\n",
       "      <td id=\"T_384a0_row16_col10\" class=\"data row16 col10\" >0.000000</td>\n",
       "      <td id=\"T_384a0_row16_col11\" class=\"data row16 col11\" >0.000000</td>\n",
       "      <td id=\"T_384a0_row16_col12\" class=\"data row16 col12\" >0.000000</td>\n",
       "      <td id=\"T_384a0_row16_col13\" class=\"data row16 col13\" >0.000000</td>\n",
       "      <td id=\"T_384a0_row16_col14\" class=\"data row16 col14\" >0.000000</td>\n",
       "      <td id=\"T_384a0_row16_col15\" class=\"data row16 col15\" >0.062745</td>\n",
       "      <td id=\"T_384a0_row16_col16\" class=\"data row16 col16\" >0.364706</td>\n",
       "      <td id=\"T_384a0_row16_col17\" class=\"data row16 col17\" >0.988235</td>\n",
       "      <td id=\"T_384a0_row16_col18\" class=\"data row16 col18\" >0.992157</td>\n",
       "      <td id=\"T_384a0_row16_col19\" class=\"data row16 col19\" >0.733333</td>\n",
       "      <td id=\"T_384a0_row16_col20\" class=\"data row16 col20\" >0.000000</td>\n",
       "      <td id=\"T_384a0_row16_col21\" class=\"data row16 col21\" >0.000000</td>\n",
       "      <td id=\"T_384a0_row16_col22\" class=\"data row16 col22\" >0.000000</td>\n",
       "      <td id=\"T_384a0_row16_col23\" class=\"data row16 col23\" >0.000000</td>\n",
       "      <td id=\"T_384a0_row16_col24\" class=\"data row16 col24\" >0.000000</td>\n",
       "      <td id=\"T_384a0_row16_col25\" class=\"data row16 col25\" >0.000000</td>\n",
       "      <td id=\"T_384a0_row16_col26\" class=\"data row16 col26\" >0.000000</td>\n",
       "      <td id=\"T_384a0_row16_col27\" class=\"data row16 col27\" >0.000000</td>\n",
       "    </tr>\n",
       "    <tr>\n",
       "      <th id=\"T_384a0_level0_row17\" class=\"row_heading level0 row17\" >17</th>\n",
       "      <td id=\"T_384a0_row17_col0\" class=\"data row17 col0\" >0.000000</td>\n",
       "      <td id=\"T_384a0_row17_col1\" class=\"data row17 col1\" >0.000000</td>\n",
       "      <td id=\"T_384a0_row17_col2\" class=\"data row17 col2\" >0.000000</td>\n",
       "      <td id=\"T_384a0_row17_col3\" class=\"data row17 col3\" >0.000000</td>\n",
       "      <td id=\"T_384a0_row17_col4\" class=\"data row17 col4\" >0.000000</td>\n",
       "      <td id=\"T_384a0_row17_col5\" class=\"data row17 col5\" >0.000000</td>\n",
       "      <td id=\"T_384a0_row17_col6\" class=\"data row17 col6\" >0.000000</td>\n",
       "      <td id=\"T_384a0_row17_col7\" class=\"data row17 col7\" >0.000000</td>\n",
       "      <td id=\"T_384a0_row17_col8\" class=\"data row17 col8\" >0.000000</td>\n",
       "      <td id=\"T_384a0_row17_col9\" class=\"data row17 col9\" >0.000000</td>\n",
       "      <td id=\"T_384a0_row17_col10\" class=\"data row17 col10\" >0.000000</td>\n",
       "      <td id=\"T_384a0_row17_col11\" class=\"data row17 col11\" >0.000000</td>\n",
       "      <td id=\"T_384a0_row17_col12\" class=\"data row17 col12\" >0.000000</td>\n",
       "      <td id=\"T_384a0_row17_col13\" class=\"data row17 col13\" >0.000000</td>\n",
       "      <td id=\"T_384a0_row17_col14\" class=\"data row17 col14\" >0.000000</td>\n",
       "      <td id=\"T_384a0_row17_col15\" class=\"data row17 col15\" >0.000000</td>\n",
       "      <td id=\"T_384a0_row17_col16\" class=\"data row17 col16\" >0.000000</td>\n",
       "      <td id=\"T_384a0_row17_col17\" class=\"data row17 col17\" >0.976471</td>\n",
       "      <td id=\"T_384a0_row17_col18\" class=\"data row17 col18\" >0.992157</td>\n",
       "      <td id=\"T_384a0_row17_col19\" class=\"data row17 col19\" >0.976471</td>\n",
       "      <td id=\"T_384a0_row17_col20\" class=\"data row17 col20\" >0.250980</td>\n",
       "      <td id=\"T_384a0_row17_col21\" class=\"data row17 col21\" >0.000000</td>\n",
       "      <td id=\"T_384a0_row17_col22\" class=\"data row17 col22\" >0.000000</td>\n",
       "      <td id=\"T_384a0_row17_col23\" class=\"data row17 col23\" >0.000000</td>\n",
       "      <td id=\"T_384a0_row17_col24\" class=\"data row17 col24\" >0.000000</td>\n",
       "      <td id=\"T_384a0_row17_col25\" class=\"data row17 col25\" >0.000000</td>\n",
       "      <td id=\"T_384a0_row17_col26\" class=\"data row17 col26\" >0.000000</td>\n",
       "      <td id=\"T_384a0_row17_col27\" class=\"data row17 col27\" >0.000000</td>\n",
       "    </tr>\n",
       "    <tr>\n",
       "      <th id=\"T_384a0_level0_row18\" class=\"row_heading level0 row18\" >18</th>\n",
       "      <td id=\"T_384a0_row18_col0\" class=\"data row18 col0\" >0.000000</td>\n",
       "      <td id=\"T_384a0_row18_col1\" class=\"data row18 col1\" >0.000000</td>\n",
       "      <td id=\"T_384a0_row18_col2\" class=\"data row18 col2\" >0.000000</td>\n",
       "      <td id=\"T_384a0_row18_col3\" class=\"data row18 col3\" >0.000000</td>\n",
       "      <td id=\"T_384a0_row18_col4\" class=\"data row18 col4\" >0.000000</td>\n",
       "      <td id=\"T_384a0_row18_col5\" class=\"data row18 col5\" >0.000000</td>\n",
       "      <td id=\"T_384a0_row18_col6\" class=\"data row18 col6\" >0.000000</td>\n",
       "      <td id=\"T_384a0_row18_col7\" class=\"data row18 col7\" >0.000000</td>\n",
       "      <td id=\"T_384a0_row18_col8\" class=\"data row18 col8\" >0.000000</td>\n",
       "      <td id=\"T_384a0_row18_col9\" class=\"data row18 col9\" >0.000000</td>\n",
       "      <td id=\"T_384a0_row18_col10\" class=\"data row18 col10\" >0.000000</td>\n",
       "      <td id=\"T_384a0_row18_col11\" class=\"data row18 col11\" >0.000000</td>\n",
       "      <td id=\"T_384a0_row18_col12\" class=\"data row18 col12\" >0.000000</td>\n",
       "      <td id=\"T_384a0_row18_col13\" class=\"data row18 col13\" >0.000000</td>\n",
       "      <td id=\"T_384a0_row18_col14\" class=\"data row18 col14\" >0.180392</td>\n",
       "      <td id=\"T_384a0_row18_col15\" class=\"data row18 col15\" >0.509804</td>\n",
       "      <td id=\"T_384a0_row18_col16\" class=\"data row18 col16\" >0.717647</td>\n",
       "      <td id=\"T_384a0_row18_col17\" class=\"data row18 col17\" >0.992157</td>\n",
       "      <td id=\"T_384a0_row18_col18\" class=\"data row18 col18\" >0.992157</td>\n",
       "      <td id=\"T_384a0_row18_col19\" class=\"data row18 col19\" >0.811765</td>\n",
       "      <td id=\"T_384a0_row18_col20\" class=\"data row18 col20\" >0.007843</td>\n",
       "      <td id=\"T_384a0_row18_col21\" class=\"data row18 col21\" >0.000000</td>\n",
       "      <td id=\"T_384a0_row18_col22\" class=\"data row18 col22\" >0.000000</td>\n",
       "      <td id=\"T_384a0_row18_col23\" class=\"data row18 col23\" >0.000000</td>\n",
       "      <td id=\"T_384a0_row18_col24\" class=\"data row18 col24\" >0.000000</td>\n",
       "      <td id=\"T_384a0_row18_col25\" class=\"data row18 col25\" >0.000000</td>\n",
       "      <td id=\"T_384a0_row18_col26\" class=\"data row18 col26\" >0.000000</td>\n",
       "      <td id=\"T_384a0_row18_col27\" class=\"data row18 col27\" >0.000000</td>\n",
       "    </tr>\n",
       "    <tr>\n",
       "      <th id=\"T_384a0_level0_row19\" class=\"row_heading level0 row19\" >19</th>\n",
       "      <td id=\"T_384a0_row19_col0\" class=\"data row19 col0\" >0.000000</td>\n",
       "      <td id=\"T_384a0_row19_col1\" class=\"data row19 col1\" >0.000000</td>\n",
       "      <td id=\"T_384a0_row19_col2\" class=\"data row19 col2\" >0.000000</td>\n",
       "      <td id=\"T_384a0_row19_col3\" class=\"data row19 col3\" >0.000000</td>\n",
       "      <td id=\"T_384a0_row19_col4\" class=\"data row19 col4\" >0.000000</td>\n",
       "      <td id=\"T_384a0_row19_col5\" class=\"data row19 col5\" >0.000000</td>\n",
       "      <td id=\"T_384a0_row19_col6\" class=\"data row19 col6\" >0.000000</td>\n",
       "      <td id=\"T_384a0_row19_col7\" class=\"data row19 col7\" >0.000000</td>\n",
       "      <td id=\"T_384a0_row19_col8\" class=\"data row19 col8\" >0.000000</td>\n",
       "      <td id=\"T_384a0_row19_col9\" class=\"data row19 col9\" >0.000000</td>\n",
       "      <td id=\"T_384a0_row19_col10\" class=\"data row19 col10\" >0.000000</td>\n",
       "      <td id=\"T_384a0_row19_col11\" class=\"data row19 col11\" >0.000000</td>\n",
       "      <td id=\"T_384a0_row19_col12\" class=\"data row19 col12\" >0.152941</td>\n",
       "      <td id=\"T_384a0_row19_col13\" class=\"data row19 col13\" >0.580392</td>\n",
       "      <td id=\"T_384a0_row19_col14\" class=\"data row19 col14\" >0.898039</td>\n",
       "      <td id=\"T_384a0_row19_col15\" class=\"data row19 col15\" >0.992157</td>\n",
       "      <td id=\"T_384a0_row19_col16\" class=\"data row19 col16\" >0.992157</td>\n",
       "      <td id=\"T_384a0_row19_col17\" class=\"data row19 col17\" >0.992157</td>\n",
       "      <td id=\"T_384a0_row19_col18\" class=\"data row19 col18\" >0.980392</td>\n",
       "      <td id=\"T_384a0_row19_col19\" class=\"data row19 col19\" >0.713726</td>\n",
       "      <td id=\"T_384a0_row19_col20\" class=\"data row19 col20\" >0.000000</td>\n",
       "      <td id=\"T_384a0_row19_col21\" class=\"data row19 col21\" >0.000000</td>\n",
       "      <td id=\"T_384a0_row19_col22\" class=\"data row19 col22\" >0.000000</td>\n",
       "      <td id=\"T_384a0_row19_col23\" class=\"data row19 col23\" >0.000000</td>\n",
       "      <td id=\"T_384a0_row19_col24\" class=\"data row19 col24\" >0.000000</td>\n",
       "      <td id=\"T_384a0_row19_col25\" class=\"data row19 col25\" >0.000000</td>\n",
       "      <td id=\"T_384a0_row19_col26\" class=\"data row19 col26\" >0.000000</td>\n",
       "      <td id=\"T_384a0_row19_col27\" class=\"data row19 col27\" >0.000000</td>\n",
       "    </tr>\n",
       "    <tr>\n",
       "      <th id=\"T_384a0_level0_row20\" class=\"row_heading level0 row20\" >20</th>\n",
       "      <td id=\"T_384a0_row20_col0\" class=\"data row20 col0\" >0.000000</td>\n",
       "      <td id=\"T_384a0_row20_col1\" class=\"data row20 col1\" >0.000000</td>\n",
       "      <td id=\"T_384a0_row20_col2\" class=\"data row20 col2\" >0.000000</td>\n",
       "      <td id=\"T_384a0_row20_col3\" class=\"data row20 col3\" >0.000000</td>\n",
       "      <td id=\"T_384a0_row20_col4\" class=\"data row20 col4\" >0.000000</td>\n",
       "      <td id=\"T_384a0_row20_col5\" class=\"data row20 col5\" >0.000000</td>\n",
       "      <td id=\"T_384a0_row20_col6\" class=\"data row20 col6\" >0.000000</td>\n",
       "      <td id=\"T_384a0_row20_col7\" class=\"data row20 col7\" >0.000000</td>\n",
       "      <td id=\"T_384a0_row20_col8\" class=\"data row20 col8\" >0.000000</td>\n",
       "      <td id=\"T_384a0_row20_col9\" class=\"data row20 col9\" >0.000000</td>\n",
       "      <td id=\"T_384a0_row20_col10\" class=\"data row20 col10\" >0.094118</td>\n",
       "      <td id=\"T_384a0_row20_col11\" class=\"data row20 col11\" >0.447059</td>\n",
       "      <td id=\"T_384a0_row20_col12\" class=\"data row20 col12\" >0.866667</td>\n",
       "      <td id=\"T_384a0_row20_col13\" class=\"data row20 col13\" >0.992157</td>\n",
       "      <td id=\"T_384a0_row20_col14\" class=\"data row20 col14\" >0.992157</td>\n",
       "      <td id=\"T_384a0_row20_col15\" class=\"data row20 col15\" >0.992157</td>\n",
       "      <td id=\"T_384a0_row20_col16\" class=\"data row20 col16\" >0.992157</td>\n",
       "      <td id=\"T_384a0_row20_col17\" class=\"data row20 col17\" >0.788235</td>\n",
       "      <td id=\"T_384a0_row20_col18\" class=\"data row20 col18\" >0.305882</td>\n",
       "      <td id=\"T_384a0_row20_col19\" class=\"data row20 col19\" >0.000000</td>\n",
       "      <td id=\"T_384a0_row20_col20\" class=\"data row20 col20\" >0.000000</td>\n",
       "      <td id=\"T_384a0_row20_col21\" class=\"data row20 col21\" >0.000000</td>\n",
       "      <td id=\"T_384a0_row20_col22\" class=\"data row20 col22\" >0.000000</td>\n",
       "      <td id=\"T_384a0_row20_col23\" class=\"data row20 col23\" >0.000000</td>\n",
       "      <td id=\"T_384a0_row20_col24\" class=\"data row20 col24\" >0.000000</td>\n",
       "      <td id=\"T_384a0_row20_col25\" class=\"data row20 col25\" >0.000000</td>\n",
       "      <td id=\"T_384a0_row20_col26\" class=\"data row20 col26\" >0.000000</td>\n",
       "      <td id=\"T_384a0_row20_col27\" class=\"data row20 col27\" >0.000000</td>\n",
       "    </tr>\n",
       "    <tr>\n",
       "      <th id=\"T_384a0_level0_row21\" class=\"row_heading level0 row21\" >21</th>\n",
       "      <td id=\"T_384a0_row21_col0\" class=\"data row21 col0\" >0.000000</td>\n",
       "      <td id=\"T_384a0_row21_col1\" class=\"data row21 col1\" >0.000000</td>\n",
       "      <td id=\"T_384a0_row21_col2\" class=\"data row21 col2\" >0.000000</td>\n",
       "      <td id=\"T_384a0_row21_col3\" class=\"data row21 col3\" >0.000000</td>\n",
       "      <td id=\"T_384a0_row21_col4\" class=\"data row21 col4\" >0.000000</td>\n",
       "      <td id=\"T_384a0_row21_col5\" class=\"data row21 col5\" >0.000000</td>\n",
       "      <td id=\"T_384a0_row21_col6\" class=\"data row21 col6\" >0.000000</td>\n",
       "      <td id=\"T_384a0_row21_col7\" class=\"data row21 col7\" >0.000000</td>\n",
       "      <td id=\"T_384a0_row21_col8\" class=\"data row21 col8\" >0.090196</td>\n",
       "      <td id=\"T_384a0_row21_col9\" class=\"data row21 col9\" >0.258824</td>\n",
       "      <td id=\"T_384a0_row21_col10\" class=\"data row21 col10\" >0.835294</td>\n",
       "      <td id=\"T_384a0_row21_col11\" class=\"data row21 col11\" >0.992157</td>\n",
       "      <td id=\"T_384a0_row21_col12\" class=\"data row21 col12\" >0.992157</td>\n",
       "      <td id=\"T_384a0_row21_col13\" class=\"data row21 col13\" >0.992157</td>\n",
       "      <td id=\"T_384a0_row21_col14\" class=\"data row21 col14\" >0.992157</td>\n",
       "      <td id=\"T_384a0_row21_col15\" class=\"data row21 col15\" >0.776471</td>\n",
       "      <td id=\"T_384a0_row21_col16\" class=\"data row21 col16\" >0.317647</td>\n",
       "      <td id=\"T_384a0_row21_col17\" class=\"data row21 col17\" >0.007843</td>\n",
       "      <td id=\"T_384a0_row21_col18\" class=\"data row21 col18\" >0.000000</td>\n",
       "      <td id=\"T_384a0_row21_col19\" class=\"data row21 col19\" >0.000000</td>\n",
       "      <td id=\"T_384a0_row21_col20\" class=\"data row21 col20\" >0.000000</td>\n",
       "      <td id=\"T_384a0_row21_col21\" class=\"data row21 col21\" >0.000000</td>\n",
       "      <td id=\"T_384a0_row21_col22\" class=\"data row21 col22\" >0.000000</td>\n",
       "      <td id=\"T_384a0_row21_col23\" class=\"data row21 col23\" >0.000000</td>\n",
       "      <td id=\"T_384a0_row21_col24\" class=\"data row21 col24\" >0.000000</td>\n",
       "      <td id=\"T_384a0_row21_col25\" class=\"data row21 col25\" >0.000000</td>\n",
       "      <td id=\"T_384a0_row21_col26\" class=\"data row21 col26\" >0.000000</td>\n",
       "      <td id=\"T_384a0_row21_col27\" class=\"data row21 col27\" >0.000000</td>\n",
       "    </tr>\n",
       "    <tr>\n",
       "      <th id=\"T_384a0_level0_row22\" class=\"row_heading level0 row22\" >22</th>\n",
       "      <td id=\"T_384a0_row22_col0\" class=\"data row22 col0\" >0.000000</td>\n",
       "      <td id=\"T_384a0_row22_col1\" class=\"data row22 col1\" >0.000000</td>\n",
       "      <td id=\"T_384a0_row22_col2\" class=\"data row22 col2\" >0.000000</td>\n",
       "      <td id=\"T_384a0_row22_col3\" class=\"data row22 col3\" >0.000000</td>\n",
       "      <td id=\"T_384a0_row22_col4\" class=\"data row22 col4\" >0.000000</td>\n",
       "      <td id=\"T_384a0_row22_col5\" class=\"data row22 col5\" >0.000000</td>\n",
       "      <td id=\"T_384a0_row22_col6\" class=\"data row22 col6\" >0.070588</td>\n",
       "      <td id=\"T_384a0_row22_col7\" class=\"data row22 col7\" >0.670588</td>\n",
       "      <td id=\"T_384a0_row22_col8\" class=\"data row22 col8\" >0.858824</td>\n",
       "      <td id=\"T_384a0_row22_col9\" class=\"data row22 col9\" >0.992157</td>\n",
       "      <td id=\"T_384a0_row22_col10\" class=\"data row22 col10\" >0.992157</td>\n",
       "      <td id=\"T_384a0_row22_col11\" class=\"data row22 col11\" >0.992157</td>\n",
       "      <td id=\"T_384a0_row22_col12\" class=\"data row22 col12\" >0.992157</td>\n",
       "      <td id=\"T_384a0_row22_col13\" class=\"data row22 col13\" >0.764706</td>\n",
       "      <td id=\"T_384a0_row22_col14\" class=\"data row22 col14\" >0.313726</td>\n",
       "      <td id=\"T_384a0_row22_col15\" class=\"data row22 col15\" >0.035294</td>\n",
       "      <td id=\"T_384a0_row22_col16\" class=\"data row22 col16\" >0.000000</td>\n",
       "      <td id=\"T_384a0_row22_col17\" class=\"data row22 col17\" >0.000000</td>\n",
       "      <td id=\"T_384a0_row22_col18\" class=\"data row22 col18\" >0.000000</td>\n",
       "      <td id=\"T_384a0_row22_col19\" class=\"data row22 col19\" >0.000000</td>\n",
       "      <td id=\"T_384a0_row22_col20\" class=\"data row22 col20\" >0.000000</td>\n",
       "      <td id=\"T_384a0_row22_col21\" class=\"data row22 col21\" >0.000000</td>\n",
       "      <td id=\"T_384a0_row22_col22\" class=\"data row22 col22\" >0.000000</td>\n",
       "      <td id=\"T_384a0_row22_col23\" class=\"data row22 col23\" >0.000000</td>\n",
       "      <td id=\"T_384a0_row22_col24\" class=\"data row22 col24\" >0.000000</td>\n",
       "      <td id=\"T_384a0_row22_col25\" class=\"data row22 col25\" >0.000000</td>\n",
       "      <td id=\"T_384a0_row22_col26\" class=\"data row22 col26\" >0.000000</td>\n",
       "      <td id=\"T_384a0_row22_col27\" class=\"data row22 col27\" >0.000000</td>\n",
       "    </tr>\n",
       "    <tr>\n",
       "      <th id=\"T_384a0_level0_row23\" class=\"row_heading level0 row23\" >23</th>\n",
       "      <td id=\"T_384a0_row23_col0\" class=\"data row23 col0\" >0.000000</td>\n",
       "      <td id=\"T_384a0_row23_col1\" class=\"data row23 col1\" >0.000000</td>\n",
       "      <td id=\"T_384a0_row23_col2\" class=\"data row23 col2\" >0.000000</td>\n",
       "      <td id=\"T_384a0_row23_col3\" class=\"data row23 col3\" >0.000000</td>\n",
       "      <td id=\"T_384a0_row23_col4\" class=\"data row23 col4\" >0.215686</td>\n",
       "      <td id=\"T_384a0_row23_col5\" class=\"data row23 col5\" >0.674510</td>\n",
       "      <td id=\"T_384a0_row23_col6\" class=\"data row23 col6\" >0.886275</td>\n",
       "      <td id=\"T_384a0_row23_col7\" class=\"data row23 col7\" >0.992157</td>\n",
       "      <td id=\"T_384a0_row23_col8\" class=\"data row23 col8\" >0.992157</td>\n",
       "      <td id=\"T_384a0_row23_col9\" class=\"data row23 col9\" >0.992157</td>\n",
       "      <td id=\"T_384a0_row23_col10\" class=\"data row23 col10\" >0.992157</td>\n",
       "      <td id=\"T_384a0_row23_col11\" class=\"data row23 col11\" >0.956863</td>\n",
       "      <td id=\"T_384a0_row23_col12\" class=\"data row23 col12\" >0.521569</td>\n",
       "      <td id=\"T_384a0_row23_col13\" class=\"data row23 col13\" >0.043137</td>\n",
       "      <td id=\"T_384a0_row23_col14\" class=\"data row23 col14\" >0.000000</td>\n",
       "      <td id=\"T_384a0_row23_col15\" class=\"data row23 col15\" >0.000000</td>\n",
       "      <td id=\"T_384a0_row23_col16\" class=\"data row23 col16\" >0.000000</td>\n",
       "      <td id=\"T_384a0_row23_col17\" class=\"data row23 col17\" >0.000000</td>\n",
       "      <td id=\"T_384a0_row23_col18\" class=\"data row23 col18\" >0.000000</td>\n",
       "      <td id=\"T_384a0_row23_col19\" class=\"data row23 col19\" >0.000000</td>\n",
       "      <td id=\"T_384a0_row23_col20\" class=\"data row23 col20\" >0.000000</td>\n",
       "      <td id=\"T_384a0_row23_col21\" class=\"data row23 col21\" >0.000000</td>\n",
       "      <td id=\"T_384a0_row23_col22\" class=\"data row23 col22\" >0.000000</td>\n",
       "      <td id=\"T_384a0_row23_col23\" class=\"data row23 col23\" >0.000000</td>\n",
       "      <td id=\"T_384a0_row23_col24\" class=\"data row23 col24\" >0.000000</td>\n",
       "      <td id=\"T_384a0_row23_col25\" class=\"data row23 col25\" >0.000000</td>\n",
       "      <td id=\"T_384a0_row23_col26\" class=\"data row23 col26\" >0.000000</td>\n",
       "      <td id=\"T_384a0_row23_col27\" class=\"data row23 col27\" >0.000000</td>\n",
       "    </tr>\n",
       "    <tr>\n",
       "      <th id=\"T_384a0_level0_row24\" class=\"row_heading level0 row24\" >24</th>\n",
       "      <td id=\"T_384a0_row24_col0\" class=\"data row24 col0\" >0.000000</td>\n",
       "      <td id=\"T_384a0_row24_col1\" class=\"data row24 col1\" >0.000000</td>\n",
       "      <td id=\"T_384a0_row24_col2\" class=\"data row24 col2\" >0.000000</td>\n",
       "      <td id=\"T_384a0_row24_col3\" class=\"data row24 col3\" >0.000000</td>\n",
       "      <td id=\"T_384a0_row24_col4\" class=\"data row24 col4\" >0.533333</td>\n",
       "      <td id=\"T_384a0_row24_col5\" class=\"data row24 col5\" >0.992157</td>\n",
       "      <td id=\"T_384a0_row24_col6\" class=\"data row24 col6\" >0.992157</td>\n",
       "      <td id=\"T_384a0_row24_col7\" class=\"data row24 col7\" >0.992157</td>\n",
       "      <td id=\"T_384a0_row24_col8\" class=\"data row24 col8\" >0.831373</td>\n",
       "      <td id=\"T_384a0_row24_col9\" class=\"data row24 col9\" >0.529412</td>\n",
       "      <td id=\"T_384a0_row24_col10\" class=\"data row24 col10\" >0.517647</td>\n",
       "      <td id=\"T_384a0_row24_col11\" class=\"data row24 col11\" >0.062745</td>\n",
       "      <td id=\"T_384a0_row24_col12\" class=\"data row24 col12\" >0.000000</td>\n",
       "      <td id=\"T_384a0_row24_col13\" class=\"data row24 col13\" >0.000000</td>\n",
       "      <td id=\"T_384a0_row24_col14\" class=\"data row24 col14\" >0.000000</td>\n",
       "      <td id=\"T_384a0_row24_col15\" class=\"data row24 col15\" >0.000000</td>\n",
       "      <td id=\"T_384a0_row24_col16\" class=\"data row24 col16\" >0.000000</td>\n",
       "      <td id=\"T_384a0_row24_col17\" class=\"data row24 col17\" >0.000000</td>\n",
       "      <td id=\"T_384a0_row24_col18\" class=\"data row24 col18\" >0.000000</td>\n",
       "      <td id=\"T_384a0_row24_col19\" class=\"data row24 col19\" >0.000000</td>\n",
       "      <td id=\"T_384a0_row24_col20\" class=\"data row24 col20\" >0.000000</td>\n",
       "      <td id=\"T_384a0_row24_col21\" class=\"data row24 col21\" >0.000000</td>\n",
       "      <td id=\"T_384a0_row24_col22\" class=\"data row24 col22\" >0.000000</td>\n",
       "      <td id=\"T_384a0_row24_col23\" class=\"data row24 col23\" >0.000000</td>\n",
       "      <td id=\"T_384a0_row24_col24\" class=\"data row24 col24\" >0.000000</td>\n",
       "      <td id=\"T_384a0_row24_col25\" class=\"data row24 col25\" >0.000000</td>\n",
       "      <td id=\"T_384a0_row24_col26\" class=\"data row24 col26\" >0.000000</td>\n",
       "      <td id=\"T_384a0_row24_col27\" class=\"data row24 col27\" >0.000000</td>\n",
       "    </tr>\n",
       "    <tr>\n",
       "      <th id=\"T_384a0_level0_row25\" class=\"row_heading level0 row25\" >25</th>\n",
       "      <td id=\"T_384a0_row25_col0\" class=\"data row25 col0\" >0.000000</td>\n",
       "      <td id=\"T_384a0_row25_col1\" class=\"data row25 col1\" >0.000000</td>\n",
       "      <td id=\"T_384a0_row25_col2\" class=\"data row25 col2\" >0.000000</td>\n",
       "      <td id=\"T_384a0_row25_col3\" class=\"data row25 col3\" >0.000000</td>\n",
       "      <td id=\"T_384a0_row25_col4\" class=\"data row25 col4\" >0.000000</td>\n",
       "      <td id=\"T_384a0_row25_col5\" class=\"data row25 col5\" >0.000000</td>\n",
       "      <td id=\"T_384a0_row25_col6\" class=\"data row25 col6\" >0.000000</td>\n",
       "      <td id=\"T_384a0_row25_col7\" class=\"data row25 col7\" >0.000000</td>\n",
       "      <td id=\"T_384a0_row25_col8\" class=\"data row25 col8\" >0.000000</td>\n",
       "      <td id=\"T_384a0_row25_col9\" class=\"data row25 col9\" >0.000000</td>\n",
       "      <td id=\"T_384a0_row25_col10\" class=\"data row25 col10\" >0.000000</td>\n",
       "      <td id=\"T_384a0_row25_col11\" class=\"data row25 col11\" >0.000000</td>\n",
       "      <td id=\"T_384a0_row25_col12\" class=\"data row25 col12\" >0.000000</td>\n",
       "      <td id=\"T_384a0_row25_col13\" class=\"data row25 col13\" >0.000000</td>\n",
       "      <td id=\"T_384a0_row25_col14\" class=\"data row25 col14\" >0.000000</td>\n",
       "      <td id=\"T_384a0_row25_col15\" class=\"data row25 col15\" >0.000000</td>\n",
       "      <td id=\"T_384a0_row25_col16\" class=\"data row25 col16\" >0.000000</td>\n",
       "      <td id=\"T_384a0_row25_col17\" class=\"data row25 col17\" >0.000000</td>\n",
       "      <td id=\"T_384a0_row25_col18\" class=\"data row25 col18\" >0.000000</td>\n",
       "      <td id=\"T_384a0_row25_col19\" class=\"data row25 col19\" >0.000000</td>\n",
       "      <td id=\"T_384a0_row25_col20\" class=\"data row25 col20\" >0.000000</td>\n",
       "      <td id=\"T_384a0_row25_col21\" class=\"data row25 col21\" >0.000000</td>\n",
       "      <td id=\"T_384a0_row25_col22\" class=\"data row25 col22\" >0.000000</td>\n",
       "      <td id=\"T_384a0_row25_col23\" class=\"data row25 col23\" >0.000000</td>\n",
       "      <td id=\"T_384a0_row25_col24\" class=\"data row25 col24\" >0.000000</td>\n",
       "      <td id=\"T_384a0_row25_col25\" class=\"data row25 col25\" >0.000000</td>\n",
       "      <td id=\"T_384a0_row25_col26\" class=\"data row25 col26\" >0.000000</td>\n",
       "      <td id=\"T_384a0_row25_col27\" class=\"data row25 col27\" >0.000000</td>\n",
       "    </tr>\n",
       "    <tr>\n",
       "      <th id=\"T_384a0_level0_row26\" class=\"row_heading level0 row26\" >26</th>\n",
       "      <td id=\"T_384a0_row26_col0\" class=\"data row26 col0\" >0.000000</td>\n",
       "      <td id=\"T_384a0_row26_col1\" class=\"data row26 col1\" >0.000000</td>\n",
       "      <td id=\"T_384a0_row26_col2\" class=\"data row26 col2\" >0.000000</td>\n",
       "      <td id=\"T_384a0_row26_col3\" class=\"data row26 col3\" >0.000000</td>\n",
       "      <td id=\"T_384a0_row26_col4\" class=\"data row26 col4\" >0.000000</td>\n",
       "      <td id=\"T_384a0_row26_col5\" class=\"data row26 col5\" >0.000000</td>\n",
       "      <td id=\"T_384a0_row26_col6\" class=\"data row26 col6\" >0.000000</td>\n",
       "      <td id=\"T_384a0_row26_col7\" class=\"data row26 col7\" >0.000000</td>\n",
       "      <td id=\"T_384a0_row26_col8\" class=\"data row26 col8\" >0.000000</td>\n",
       "      <td id=\"T_384a0_row26_col9\" class=\"data row26 col9\" >0.000000</td>\n",
       "      <td id=\"T_384a0_row26_col10\" class=\"data row26 col10\" >0.000000</td>\n",
       "      <td id=\"T_384a0_row26_col11\" class=\"data row26 col11\" >0.000000</td>\n",
       "      <td id=\"T_384a0_row26_col12\" class=\"data row26 col12\" >0.000000</td>\n",
       "      <td id=\"T_384a0_row26_col13\" class=\"data row26 col13\" >0.000000</td>\n",
       "      <td id=\"T_384a0_row26_col14\" class=\"data row26 col14\" >0.000000</td>\n",
       "      <td id=\"T_384a0_row26_col15\" class=\"data row26 col15\" >0.000000</td>\n",
       "      <td id=\"T_384a0_row26_col16\" class=\"data row26 col16\" >0.000000</td>\n",
       "      <td id=\"T_384a0_row26_col17\" class=\"data row26 col17\" >0.000000</td>\n",
       "      <td id=\"T_384a0_row26_col18\" class=\"data row26 col18\" >0.000000</td>\n",
       "      <td id=\"T_384a0_row26_col19\" class=\"data row26 col19\" >0.000000</td>\n",
       "      <td id=\"T_384a0_row26_col20\" class=\"data row26 col20\" >0.000000</td>\n",
       "      <td id=\"T_384a0_row26_col21\" class=\"data row26 col21\" >0.000000</td>\n",
       "      <td id=\"T_384a0_row26_col22\" class=\"data row26 col22\" >0.000000</td>\n",
       "      <td id=\"T_384a0_row26_col23\" class=\"data row26 col23\" >0.000000</td>\n",
       "      <td id=\"T_384a0_row26_col24\" class=\"data row26 col24\" >0.000000</td>\n",
       "      <td id=\"T_384a0_row26_col25\" class=\"data row26 col25\" >0.000000</td>\n",
       "      <td id=\"T_384a0_row26_col26\" class=\"data row26 col26\" >0.000000</td>\n",
       "      <td id=\"T_384a0_row26_col27\" class=\"data row26 col27\" >0.000000</td>\n",
       "    </tr>\n",
       "    <tr>\n",
       "      <th id=\"T_384a0_level0_row27\" class=\"row_heading level0 row27\" >27</th>\n",
       "      <td id=\"T_384a0_row27_col0\" class=\"data row27 col0\" >0.000000</td>\n",
       "      <td id=\"T_384a0_row27_col1\" class=\"data row27 col1\" >0.000000</td>\n",
       "      <td id=\"T_384a0_row27_col2\" class=\"data row27 col2\" >0.000000</td>\n",
       "      <td id=\"T_384a0_row27_col3\" class=\"data row27 col3\" >0.000000</td>\n",
       "      <td id=\"T_384a0_row27_col4\" class=\"data row27 col4\" >0.000000</td>\n",
       "      <td id=\"T_384a0_row27_col5\" class=\"data row27 col5\" >0.000000</td>\n",
       "      <td id=\"T_384a0_row27_col6\" class=\"data row27 col6\" >0.000000</td>\n",
       "      <td id=\"T_384a0_row27_col7\" class=\"data row27 col7\" >0.000000</td>\n",
       "      <td id=\"T_384a0_row27_col8\" class=\"data row27 col8\" >0.000000</td>\n",
       "      <td id=\"T_384a0_row27_col9\" class=\"data row27 col9\" >0.000000</td>\n",
       "      <td id=\"T_384a0_row27_col10\" class=\"data row27 col10\" >0.000000</td>\n",
       "      <td id=\"T_384a0_row27_col11\" class=\"data row27 col11\" >0.000000</td>\n",
       "      <td id=\"T_384a0_row27_col12\" class=\"data row27 col12\" >0.000000</td>\n",
       "      <td id=\"T_384a0_row27_col13\" class=\"data row27 col13\" >0.000000</td>\n",
       "      <td id=\"T_384a0_row27_col14\" class=\"data row27 col14\" >0.000000</td>\n",
       "      <td id=\"T_384a0_row27_col15\" class=\"data row27 col15\" >0.000000</td>\n",
       "      <td id=\"T_384a0_row27_col16\" class=\"data row27 col16\" >0.000000</td>\n",
       "      <td id=\"T_384a0_row27_col17\" class=\"data row27 col17\" >0.000000</td>\n",
       "      <td id=\"T_384a0_row27_col18\" class=\"data row27 col18\" >0.000000</td>\n",
       "      <td id=\"T_384a0_row27_col19\" class=\"data row27 col19\" >0.000000</td>\n",
       "      <td id=\"T_384a0_row27_col20\" class=\"data row27 col20\" >0.000000</td>\n",
       "      <td id=\"T_384a0_row27_col21\" class=\"data row27 col21\" >0.000000</td>\n",
       "      <td id=\"T_384a0_row27_col22\" class=\"data row27 col22\" >0.000000</td>\n",
       "      <td id=\"T_384a0_row27_col23\" class=\"data row27 col23\" >0.000000</td>\n",
       "      <td id=\"T_384a0_row27_col24\" class=\"data row27 col24\" >0.000000</td>\n",
       "      <td id=\"T_384a0_row27_col25\" class=\"data row27 col25\" >0.000000</td>\n",
       "      <td id=\"T_384a0_row27_col26\" class=\"data row27 col26\" >0.000000</td>\n",
       "      <td id=\"T_384a0_row27_col27\" class=\"data row27 col27\" >0.000000</td>\n",
       "    </tr>\n",
       "  </tbody>\n",
       "</table>\n"
      ],
      "text/plain": [
       "<pandas.io.formats.style.Styler at 0x7f17a9aa1dd0>"
      ]
     },
     "execution_count": 9,
     "metadata": {},
     "output_type": "execute_result"
    }
   ],
   "source": [
    "dfimg = pd.DataFrame(img.squeeze().numpy())\n",
    "dfimg.style.set_properties(**{'font-size':'6pt'}).background_gradient('Blues')"
   ]
  },
  {
   "cell_type": "markdown",
   "id": "64abf7cb",
   "metadata": {
    "papermill": {
     "duration": 0.018526,
     "end_time": "2023-03-30T15:32:19.877346",
     "exception": false,
     "start_time": "2023-03-30T15:32:19.858820",
     "status": "completed"
    },
    "tags": []
   },
   "source": [
    "## Prepare dataset for training"
   ]
  },
  {
   "cell_type": "markdown",
   "id": "d31af9c7",
   "metadata": {
    "papermill": {
     "duration": 0.017987,
     "end_time": "2023-03-30T15:32:19.913579",
     "exception": false,
     "start_time": "2023-03-30T15:32:19.895592",
     "status": "completed"
    },
    "tags": []
   },
   "source": [
    "Previously we have downloaded two datasets, training and testing. To be able to deduce whether our model is overfitting during training we need another dataset, namely, validation set. The validation set will show us how our model performs on out-of-sample data, i.e. data that have not been used in training.\n",
    "\n",
    "We will generate the validation dataset from the training dataset since it is much bigger than the given test set, naturally.\n",
    "\n",
    "For this problem, we can assume that the images in the dataset are independent and don't have any underlying structure, like time, we should think about when splitting the dataset. The only aspect we should worry about is the distribution of digits in all samples. Ideally, we want the digits to be distributed in the same way in all samples, so when creating the dataset for validation we should keep this in mind. For example, if we would have a training set of a very small number of say digits 3 but a large sample of digits 3 in the test set then the model has a very limited information scope to learn from, but it is expected to know 3s very well in out-of-sample settings.\n",
    "\n",
    "So first, let's check the distributions of labels in our datasets. We can use `class_to_idx` to get the dictionary of labels in our dataset."
   ]
  },
  {
   "cell_type": "code",
   "execution_count": 10,
   "id": "794360fd",
   "metadata": {
    "execution": {
     "iopub.execute_input": "2023-03-30T15:32:19.952873Z",
     "iopub.status.busy": "2023-03-30T15:32:19.951510Z",
     "iopub.status.idle": "2023-03-30T15:32:19.959976Z",
     "shell.execute_reply": "2023-03-30T15:32:19.957753Z"
    },
    "papermill": {
     "duration": 0.031267,
     "end_time": "2023-03-30T15:32:19.963024",
     "exception": false,
     "start_time": "2023-03-30T15:32:19.931757",
     "status": "completed"
    },
    "tags": []
   },
   "outputs": [
    {
     "name": "stdout",
     "output_type": "stream",
     "text": [
      "{'0 - zero': 0, '1 - one': 1, '2 - two': 2, '3 - three': 3, '4 - four': 4, '5 - five': 5, '6 - six': 6, '7 - seven': 7, '8 - eight': 8, '9 - nine': 9}\n"
     ]
    }
   ],
   "source": [
    "# Get mapping of target IDs\n",
    "print(data_train.class_to_idx)"
   ]
  },
  {
   "cell_type": "code",
   "execution_count": 11,
   "id": "8d33fabf",
   "metadata": {
    "execution": {
     "iopub.execute_input": "2023-03-30T15:32:20.003078Z",
     "iopub.status.busy": "2023-03-30T15:32:20.002183Z",
     "iopub.status.idle": "2023-03-30T15:32:20.008732Z",
     "shell.execute_reply": "2023-03-30T15:32:20.007475Z"
    },
    "jupyter": {
     "source_hidden": true
    },
    "papermill": {
     "duration": 0.03002,
     "end_time": "2023-03-30T15:32:20.011693",
     "exception": false,
     "start_time": "2023-03-30T15:32:19.981673",
     "status": "completed"
    },
    "tags": []
   },
   "outputs": [],
   "source": [
    "# Define custom colors for the labels\n",
    "import matplotlib.colors as mcolors\n",
    "\n",
    "colors = [\"#D9D2D8\",\"#F2BBC9\", \"#BF849A\", \"#8C7A89\", \"#9AC7D9\", \n",
    "          \"#82C0D9\", \"#7DABB3\", \"#8F9FBF\", \"#737F99\", \"#566073\"]\n",
    "cmap = mcolors.ListedColormap(colors)"
   ]
  },
  {
   "cell_type": "markdown",
   "id": "e43d10c0",
   "metadata": {
    "papermill": {
     "duration": 0.017866,
     "end_time": "2023-03-30T15:32:20.047832",
     "exception": false,
     "start_time": "2023-03-30T15:32:20.029966",
     "status": "completed"
    },
    "tags": []
   },
   "source": [
    "Plot the distributions of labels for training and test sets:"
   ]
  },
  {
   "cell_type": "code",
   "execution_count": 12,
   "id": "43998328",
   "metadata": {
    "execution": {
     "iopub.execute_input": "2023-03-30T15:32:20.086583Z",
     "iopub.status.busy": "2023-03-30T15:32:20.086112Z",
     "iopub.status.idle": "2023-03-30T15:32:20.472290Z",
     "shell.execute_reply": "2023-03-30T15:32:20.470627Z"
    },
    "jupyter": {
     "source_hidden": true
    },
    "papermill": {
     "duration": 0.40906,
     "end_time": "2023-03-30T15:32:20.475083",
     "exception": false,
     "start_time": "2023-03-30T15:32:20.066023",
     "status": "completed"
    },
    "tags": []
   },
   "outputs": [
    {
     "data": {
      "image/png": "[encoded data removed]",
      "text/plain": [
       "<Figure size 1000x300 with 2 Axes>"
      ]
     },
     "metadata": {},
     "output_type": "display_data"
    }
   ],
   "source": [
    "df = pd.DataFrame(pd.Series(data_train.targets).value_counts().reset_index())\n",
    "df.columns = ['digit', 'count']\n",
    "df.sort_values('digit', inplace=True)\n",
    "dft = pd.DataFrame(pd.Series(data_test.targets).value_counts().reset_index())\n",
    "dft.columns = ['digit', 'count']\n",
    "dft.sort_values('digit', inplace=True)\n",
    "fig,_=plt.subplots(1,2, figsize=(10,3))\n",
    "plt.suptitle('Target distribution label', size=15)\n",
    "plt.subplot(1,2,1)\n",
    "plt.bar('digit', 'count',data=df, color=cmap(df.digit))\n",
    "plt.title('Train set', size=10)\n",
    "plt.xlabel('digit')\n",
    "plt.xticks(range(len(df.digit)), df.digit)\n",
    "plt.ylabel('count')\n",
    "plt.subplot(1,2,2)\n",
    "plt.bar('digit', 'count',data=dft, color=cmap(dft.digit))\n",
    "plt.title('Test set', size=10)\n",
    "plt.xlabel('digit')\n",
    "plt.xticks(range(len(dft.digit)), dft.digit)\n",
    "plt.show()"
   ]
  },
  {
   "cell_type": "markdown",
   "id": "84c0a75d",
   "metadata": {
    "papermill": {
     "duration": 0.018577,
     "end_time": "2023-03-30T15:32:20.512503",
     "exception": false,
     "start_time": "2023-03-30T15:32:20.493926",
     "status": "completed"
    },
    "tags": []
   },
   "source": [
    "We can see from the above figures that the target distributions for both training and test sets are similar and all digits are represented relatively in a balanced structure, which means we can just split the training data randomly into training and validation sets. Note that if the sample is not balanced then when splitting the sample we should preserve the sample imblance.\n",
    "\n",
    "We will use `SubsetRandomSampler` to select the data. The `SubsetRandomSampler` uses indices from the original dataset to select subsets of data. So, first we need to define which indices are for the training sample and which are to be used for the validation sample. The steps are:"
   ]
  },
  {
   "cell_type": "markdown",
   "id": "3fa4f4c6",
   "metadata": {
    "papermill": {
     "duration": 0.018347,
     "end_time": "2023-03-30T15:32:20.549916",
     "exception": false,
     "start_time": "2023-03-30T15:32:20.531569",
     "status": "completed"
    },
    "tags": []
   },
   "source": [
    "[Ref](https://towardsdatascience.com/pytorch-basics-sampling-samplers-2a0f29f0bf2a)"
   ]
  },
  {
   "cell_type": "code",
   "execution_count": 13,
   "id": "850c2be9",
   "metadata": {
    "execution": {
     "iopub.execute_input": "2023-03-30T15:32:20.589334Z",
     "iopub.status.busy": "2023-03-30T15:32:20.588694Z",
     "iopub.status.idle": "2023-03-30T15:32:20.935713Z",
     "shell.execute_reply": "2023-03-30T15:32:20.934187Z"
    },
    "papermill": {
     "duration": 0.370895,
     "end_time": "2023-03-30T15:32:20.939366",
     "exception": false,
     "start_time": "2023-03-30T15:32:20.568471",
     "status": "completed"
    },
    "tags": []
   },
   "outputs": [
    {
     "name": "stdout",
     "output_type": "stream",
     "text": [
      "Dataset length: 60000\n",
      "Shuffled indices [2553, 26819, 43525, 46357, 53849]\n",
      "\n",
      "Train idx length: 42000\n",
      "[843, 12859, 23116, 43604, 25133]\n",
      "\n",
      "Valid idx length: 18000\n",
      "[7866, 5193, 26678, 6780, 44060]\n"
     ]
    }
   ],
   "source": [
    "# Step 1 - Length of train dataset from which we are splitting the data\n",
    "Nd = len(data_train); print(f'Dataset length: {Nd}')\n",
    "\n",
    "# Step 2 - Create a shuffled list of training indices\n",
    "Nd_idx = list(range(Nd))\n",
    "np.random.shuffle(Nd_idx)\n",
    "print(f'Shuffled indices {Nd_idx[:5]}')\n",
    "\n",
    "# Step 3 - Define percentage of indices for the training sample\n",
    "# to compute number of indices to be included in the training sample\n",
    "train_pct = 0.7\n",
    "Nt = int(np.floor(train_pct * Nd))\n",
    "\n",
    "# Step 4 - Split the indices into training and validation\n",
    "# and pass the indices to the SubsetRandomSampler\n",
    "tr_idx, vl_idx = Nd_idx[:Nt], Nd_idx[Nt:]\n",
    "\n",
    "# SubsetRandomSampler(indices): Samples elements randomly from a given list of indices, without replacement.\n",
    "tr_sampler = SubsetRandomSampler(tr_idx)\n",
    "vl_sampler = SubsetRandomSampler(vl_idx)\n",
    "\n",
    "print(f'\\nTrain idx length: {len(tr_sampler)}')\n",
    "print(list(tr_sampler)[:5])\n",
    "print(f'\\nValid idx length: {len(vl_sampler)}')\n",
    "print(list(vl_sampler)[:5])"
   ]
  },
  {
   "cell_type": "markdown",
   "id": "0509e282",
   "metadata": {
    "papermill": {
     "duration": 0.019198,
     "end_time": "2023-03-30T15:32:20.978528",
     "exception": false,
     "start_time": "2023-03-30T15:32:20.959330",
     "status": "completed"
    },
    "tags": []
   },
   "source": [
    "Now, that we have the samplers for training and validation, we can create the objects for each dataset which will contain all the information used in the training process with respect to the input data.\n",
    "\n",
    "In order to train the model using PyTorch there are two basic requirements in regards to the input data:\n",
    "1. the dataset has to be in the form of a tuple with the structure (input, label) where each is a tensor\n",
    "2. the input data should be stored in batches, i.e. the input data is iterable over batches.\n",
    "\n",
    "Note that the initial data is already in form of tuples, as we saw previously. To create the iterable batches we will use a PyTorch object called `DataLoader` which takes a Python collection and converts it to an iterator based on batches. From the PyTorch documentation we have:\n",
    "\n",
    "> Data loader. Combines a dataset and a sampler, and provides an iterable over the given dataset. [Ref]()\n",
    "\n",
    "Since we have a dataset and samplers for each subset we can create dataloaders for each sample:"
   ]
  },
  {
   "cell_type": "code",
   "execution_count": 14,
   "id": "d1d92f84",
   "metadata": {
    "execution": {
     "iopub.execute_input": "2023-03-30T15:32:21.018326Z",
     "iopub.status.busy": "2023-03-30T15:32:21.017855Z",
     "iopub.status.idle": "2023-03-30T15:32:21.022704Z",
     "shell.execute_reply": "2023-03-30T15:32:21.021655Z"
    },
    "papermill": {
     "duration": 0.027784,
     "end_time": "2023-03-30T15:32:21.025179",
     "exception": false,
     "start_time": "2023-03-30T15:32:20.997395",
     "status": "completed"
    },
    "tags": []
   },
   "outputs": [],
   "source": [
    "# Define number of mini-batches\n",
    "no_batches = 64"
   ]
  },
  {
   "cell_type": "markdown",
   "id": "5fc0fae1",
   "metadata": {
    "papermill": {
     "duration": 0.018767,
     "end_time": "2023-03-30T15:32:21.062767",
     "exception": false,
     "start_time": "2023-03-30T15:32:21.044000",
     "status": "completed"
    },
    "tags": []
   },
   "source": [
    "Let's check what we have got in training and validation dataloaders. We also need to check whether there are any partial batches, i.e. leftover samples when constructing mini-batches. Note that there is an option in `DataLoader` called `drop_last` to drop any such letfovers."
   ]
  },
  {
   "cell_type": "code",
   "execution_count": 15,
   "id": "201b635c",
   "metadata": {
    "execution": {
     "iopub.execute_input": "2023-03-30T15:32:21.102685Z",
     "iopub.status.busy": "2023-03-30T15:32:21.102005Z",
     "iopub.status.idle": "2023-03-30T15:32:21.109371Z",
     "shell.execute_reply": "2023-03-30T15:32:21.108011Z"
    },
    "papermill": {
     "duration": 0.030777,
     "end_time": "2023-03-30T15:32:21.112324",
     "exception": false,
     "start_time": "2023-03-30T15:32:21.081547",
     "status": "completed"
    },
    "tags": []
   },
   "outputs": [],
   "source": [
    "def check_batches(sampler, batch_size):\n",
    "    \n",
    "    # Number of samples to expect in the final dataloader\n",
    "    no_samples = len(sampler)\n",
    "    \n",
    "    # Number of batches to expect in the final dataloader\n",
    "    no_batches = int(np.ceil(no_samples / batch_size))\n",
    "    print(f'Number of batches total: {no_batches}')\n",
    "    \n",
    "    # Samples in the last batch (leftover samples)\n",
    "    lb_samples = no_samples % batch_size\n",
    "    \n",
    "    if lb_samples != 0:\n",
    "        no_batches -= 1\n",
    "    \n",
    "    print(f'Full batches: {no_batches}')\n",
    "    if lb_samples != 0:\n",
    "        print(f'Samples in partial batch: {lb_samples}')\n",
    "    \n",
    "    return no_batches, lb_samples"
   ]
  },
  {
   "cell_type": "markdown",
   "id": "89fbb894",
   "metadata": {
    "papermill": {
     "duration": 0.019028,
     "end_time": "2023-03-30T15:32:21.150298",
     "exception": false,
     "start_time": "2023-03-30T15:32:21.131270",
     "status": "completed"
    },
    "tags": []
   },
   "source": [
    "Let's check for training and validation sample:"
   ]
  },
  {
   "cell_type": "code",
   "execution_count": 16,
   "id": "f156a5d5",
   "metadata": {
    "execution": {
     "iopub.execute_input": "2023-03-30T15:32:21.191227Z",
     "iopub.status.busy": "2023-03-30T15:32:21.190725Z",
     "iopub.status.idle": "2023-03-30T15:32:21.197815Z",
     "shell.execute_reply": "2023-03-30T15:32:21.196367Z"
    },
    "papermill": {
     "duration": 0.03134,
     "end_time": "2023-03-30T15:32:21.201307",
     "exception": false,
     "start_time": "2023-03-30T15:32:21.169967",
     "status": "completed"
    },
    "tags": []
   },
   "outputs": [
    {
     "name": "stdout",
     "output_type": "stream",
     "text": [
      "Training sample\n",
      "Number of batches total: 657\n",
      "Full batches: 656\n",
      "Samples in partial batch: 16\n",
      "\n",
      "Validation sample\n",
      "Number of batches total: 282\n",
      "Full batches: 281\n",
      "Samples in partial batch: 16\n"
     ]
    }
   ],
   "source": [
    "print('Training sample')\n",
    "tr_batches, tr_lb_samples = check_batches(tr_sampler, no_batches)\n",
    "print('\\nValidation sample')\n",
    "vl_batches, vl_lb_samples = check_batches(vl_sampler, no_batches)"
   ]
  },
  {
   "cell_type": "markdown",
   "id": "259f54b8",
   "metadata": {
    "papermill": {
     "duration": 0.018761,
     "end_time": "2023-03-30T15:32:21.240679",
     "exception": false,
     "start_time": "2023-03-30T15:32:21.221918",
     "status": "completed"
    },
    "tags": []
   },
   "source": [
    "Note that we can not use `shuffle=True` when using `SubsetRandomSampler()`. "
   ]
  },
  {
   "cell_type": "code",
   "execution_count": 17,
   "id": "212d2bac",
   "metadata": {
    "execution": {
     "iopub.execute_input": "2023-03-30T15:32:21.281272Z",
     "iopub.status.busy": "2023-03-30T15:32:21.279955Z",
     "iopub.status.idle": "2023-03-30T15:32:21.286782Z",
     "shell.execute_reply": "2023-03-30T15:32:21.285759Z"
    },
    "papermill": {
     "duration": 0.0295,
     "end_time": "2023-03-30T15:32:21.289128",
     "exception": false,
     "start_time": "2023-03-30T15:32:21.259628",
     "status": "completed"
    },
    "tags": []
   },
   "outputs": [],
   "source": [
    "# Training dataloader\n",
    "dl_train = torch.utils.data.DataLoader(data_train, batch_size=no_batches, shuffle=False, sampler=tr_sampler)\n",
    "\n",
    "# Validation dataloader\n",
    "dl_valid = torch.utils.data.DataLoader(data_train, batch_size=no_batches, shuffle=False, sampler=vl_sampler)\n",
    "\n",
    "# Test dataloader\n",
    "dl_test = torch.utils.data.DataLoader(data_test, batch_size=no_batches, shuffle=True)"
   ]
  },
  {
   "cell_type": "markdown",
   "id": "67a091a6",
   "metadata": {
    "papermill": {
     "duration": 0.01895,
     "end_time": "2023-03-30T15:32:21.327091",
     "exception": false,
     "start_time": "2023-03-30T15:32:21.308141",
     "status": "completed"
    },
    "tags": []
   },
   "source": [
    "To check the size of the dataloader we can use `len()` which will give us the number of batches created for each dataset."
   ]
  },
  {
   "cell_type": "code",
   "execution_count": 18,
   "id": "13855a2d",
   "metadata": {
    "execution": {
     "iopub.execute_input": "2023-03-30T15:32:21.367348Z",
     "iopub.status.busy": "2023-03-30T15:32:21.366532Z",
     "iopub.status.idle": "2023-03-30T15:32:21.373470Z",
     "shell.execute_reply": "2023-03-30T15:32:21.372310Z"
    },
    "papermill": {
     "duration": 0.030778,
     "end_time": "2023-03-30T15:32:21.376834",
     "exception": false,
     "start_time": "2023-03-30T15:32:21.346056",
     "status": "completed"
    },
    "tags": []
   },
   "outputs": [
    {
     "name": "stdout",
     "output_type": "stream",
     "text": [
      "Training batches: 657\n",
      "Validation batches: 282\n",
      "Test batches: 157\n"
     ]
    }
   ],
   "source": [
    "print(f'Training batches: {len(dl_train)}')\n",
    "print(f'Validation batches: {len(dl_valid)}')\n",
    "print(f'Test batches: {len(dl_test)}')"
   ]
  },
  {
   "cell_type": "markdown",
   "id": "1b311416",
   "metadata": {
    "papermill": {
     "duration": 0.018589,
     "end_time": "2023-03-30T15:32:21.415024",
     "exception": false,
     "start_time": "2023-03-30T15:32:21.396435",
     "status": "completed"
    },
    "tags": []
   },
   "source": [
    "The numbers for the batches from the dataloaders align with what we have calculated from the samplers. Finally let's check the shape of one batch:"
   ]
  },
  {
   "cell_type": "code",
   "execution_count": 19,
   "id": "6c2bd00b",
   "metadata": {
    "execution": {
     "iopub.execute_input": "2023-03-30T15:32:21.455870Z",
     "iopub.status.busy": "2023-03-30T15:32:21.454680Z",
     "iopub.status.idle": "2023-03-30T15:32:21.536829Z",
     "shell.execute_reply": "2023-03-30T15:32:21.535442Z"
    },
    "papermill": {
     "duration": 0.105581,
     "end_time": "2023-03-30T15:32:21.539665",
     "exception": false,
     "start_time": "2023-03-30T15:32:21.434084",
     "status": "completed"
    },
    "tags": []
   },
   "outputs": [
    {
     "name": "stdout",
     "output_type": "stream",
     "text": [
      "X shape: torch.Size([64, 1, 28, 28])\n",
      "y shape: torch.Size([64])\n"
     ]
    }
   ],
   "source": [
    "for batch in dl_train:\n",
    "    X, y = batch\n",
    "    print(f'X shape: {X.shape}')\n",
    "    print(f'y shape: {y.shape}')\n",
    "    break"
   ]
  },
  {
   "cell_type": "markdown",
   "id": "cabd5101",
   "metadata": {
    "papermill": {
     "duration": 0.018946,
     "end_time": "2023-03-30T15:32:21.577911",
     "exception": false,
     "start_time": "2023-03-30T15:32:21.558965",
     "status": "completed"
    },
    "tags": []
   },
   "source": [
    "# Training - Baseline Model"
   ]
  },
  {
   "cell_type": "markdown",
   "id": "996f5969",
   "metadata": {
    "papermill": {
     "duration": 0.019699,
     "end_time": "2023-03-30T15:32:21.616709",
     "exception": false,
     "start_time": "2023-03-30T15:32:21.597010",
     "status": "completed"
    },
    "tags": []
   },
   "source": [
    "Now that we have our dataloaders ready we need to think about what other components we need to train a neural network. The components we need to consider are the following:\n",
    "1. training device: GPU or CPU\n",
    "2. model architecture\n",
    "3. hyper-parameters\n",
    "  - loss function\n",
    "  - optimizer and the learning rate\n",
    "  - metric\n",
    "\n",
    "All of the components depend on the project at hand and can be different given different data structure, project goals, etc. In the sections below we consider each separately:"
   ]
  },
  {
   "cell_type": "markdown",
   "id": "f2756792",
   "metadata": {
    "papermill": {
     "duration": 0.019082,
     "end_time": "2023-03-30T15:32:21.655058",
     "exception": false,
     "start_time": "2023-03-30T15:32:21.635976",
     "status": "completed"
    },
    "tags": []
   },
   "source": [
    "## Define the device for training"
   ]
  },
  {
   "cell_type": "markdown",
   "id": "c11d9a4d",
   "metadata": {
    "papermill": {
     "duration": 0.018761,
     "end_time": "2023-03-30T15:32:21.693698",
     "exception": false,
     "start_time": "2023-03-30T15:32:21.674937",
     "status": "completed"
    },
    "tags": []
   },
   "source": [
    "We can train our model either on CPU or GPU whichever is available. It is widely known that deep learning models train faster on the GPU to utilize the ability of numerous parallel computations at one time. To see what is available on the current computer we can run the following command, which we save as an object to be used later in the training loop."
   ]
  },
  {
   "cell_type": "code",
   "execution_count": 20,
   "id": "7188fa5a",
   "metadata": {
    "execution": {
     "iopub.execute_input": "2023-03-30T15:32:21.735125Z",
     "iopub.status.busy": "2023-03-30T15:32:21.734294Z",
     "iopub.status.idle": "2023-03-30T15:32:21.740978Z",
     "shell.execute_reply": "2023-03-30T15:32:21.739388Z"
    },
    "papermill": {
     "duration": 0.031629,
     "end_time": "2023-03-30T15:32:21.744427",
     "exception": false,
     "start_time": "2023-03-30T15:32:21.712798",
     "status": "completed"
    },
    "tags": []
   },
   "outputs": [
    {
     "name": "stdout",
     "output_type": "stream",
     "text": [
      "Using cpu device!\n"
     ]
    }
   ],
   "source": [
    "device = \"cuda\" if torch.cuda.is_available() else \"cpu\"\n",
    "print(f'Using {device} device!')"
   ]
  },
  {
   "cell_type": "markdown",
   "id": "43931fd4",
   "metadata": {
    "papermill": {
     "duration": 0.018844,
     "end_time": "2023-03-30T15:32:21.782996",
     "exception": false,
     "start_time": "2023-03-30T15:32:21.764152",
     "status": "completed"
    },
    "tags": []
   },
   "source": [
    "## Model architecture"
   ]
  },
  {
   "cell_type": "markdown",
   "id": "f4d6aa74",
   "metadata": {
    "papermill": {
     "duration": 0.020375,
     "end_time": "2023-03-30T15:32:21.822796",
     "exception": false,
     "start_time": "2023-03-30T15:32:21.802421",
     "status": "completed"
    },
    "tags": []
   },
   "source": [
    "We start to expore with a simple neural network with linear layers. This will provide a fast baseline to check that our modeling pipeline works. Later on, we will iterate on it to develop a better model. So first, we define the class for model architecture by inheriting from the PyTorch `nn.Module`. In the `__init__` function we define all the layers of the neural network and in the `forward` function we define how the data will pass through the defined network."
   ]
  },
  {
   "cell_type": "code",
   "execution_count": 21,
   "id": "bc10c9d3",
   "metadata": {
    "execution": {
     "iopub.execute_input": "2023-03-30T15:32:21.864795Z",
     "iopub.status.busy": "2023-03-30T15:32:21.863903Z",
     "iopub.status.idle": "2023-03-30T15:32:21.873619Z",
     "shell.execute_reply": "2023-03-30T15:32:21.872445Z"
    },
    "papermill": {
     "duration": 0.034205,
     "end_time": "2023-03-30T15:32:21.876528",
     "exception": false,
     "start_time": "2023-03-30T15:32:21.842323",
     "status": "completed"
    },
    "tags": []
   },
   "outputs": [],
   "source": [
    "class SimpleLNN(nn.Module):\n",
    "    \"\"\"\n",
    "    A simple linear neural network with 2 linear layers\n",
    "    and an output layer with softmax activation function.\n",
    "    \n",
    "    in_shape (tuple): (height, width)\n",
    "    n_out (int): number of outputs of the model\n",
    "    \"\"\"\n",
    "    \n",
    "    def __init__(self, in_shape:tuple, n_out:int):\n",
    "        super().__init__()\n",
    "        self.in_shape = in_shape\n",
    "        H, W = self.in_shape\n",
    "        self.n_out = n_out\n",
    "        self.flatten = nn.Flatten()\n",
    "        self.linear_stack = nn.Sequential(\n",
    "            nn.Linear(H*W, 30),\n",
    "            nn.ReLU(),\n",
    "            nn.Linear(30, self.n_out),\n",
    "        )\n",
    "        self.softmax = nn.Softmax(dim=1)\n",
    "        \n",
    "        \n",
    "    def forward(self, x):\n",
    "        x = self.flatten(x)\n",
    "        x = self.linear_stack(x)\n",
    "        x = self.softmax(x)\n",
    "        \n",
    "        return x"
   ]
  },
  {
   "cell_type": "markdown",
   "id": "73b804fc",
   "metadata": {
    "papermill": {
     "duration": 0.020092,
     "end_time": "2023-03-30T15:32:21.915806",
     "exception": false,
     "start_time": "2023-03-30T15:32:21.895714",
     "status": "completed"
    },
    "tags": []
   },
   "source": [
    "Initialize the model and send to device:"
   ]
  },
  {
   "cell_type": "code",
   "execution_count": 22,
   "id": "f0d881d1",
   "metadata": {
    "execution": {
     "iopub.execute_input": "2023-03-30T15:32:21.956575Z",
     "iopub.status.busy": "2023-03-30T15:32:21.956166Z",
     "iopub.status.idle": "2023-03-30T15:32:21.970640Z",
     "shell.execute_reply": "2023-03-30T15:32:21.968640Z"
    },
    "papermill": {
     "duration": 0.038497,
     "end_time": "2023-03-30T15:32:21.973598",
     "exception": false,
     "start_time": "2023-03-30T15:32:21.935101",
     "status": "completed"
    },
    "tags": []
   },
   "outputs": [
    {
     "name": "stdout",
     "output_type": "stream",
     "text": [
      "SimpleLNN(\n",
      "  (flatten): Flatten(start_dim=1, end_dim=-1)\n",
      "  (linear_stack): Sequential(\n",
      "    (0): Linear(in_features=784, out_features=30, bias=True)\n",
      "    (1): ReLU()\n",
      "    (2): Linear(in_features=30, out_features=10, bias=True)\n",
      "  )\n",
      "  (softmax): Softmax(dim=1)\n",
      ")\n"
     ]
    }
   ],
   "source": [
    "model = SimpleLNN(in_shape=(28,28), n_out=10).to(device)\n",
    "print(model)"
   ]
  },
  {
   "cell_type": "markdown",
   "id": "f168fcb2",
   "metadata": {
    "papermill": {
     "duration": 0.020138,
     "end_time": "2023-03-30T15:32:22.013774",
     "exception": false,
     "start_time": "2023-03-30T15:32:21.993636",
     "status": "completed"
    },
    "tags": []
   },
   "source": [
    "Given our simple neural network let's see how many parameters we have to train per each layer:"
   ]
  },
  {
   "cell_type": "code",
   "execution_count": 23,
   "id": "7526e2a7",
   "metadata": {
    "execution": {
     "iopub.execute_input": "2023-03-30T15:32:22.055683Z",
     "iopub.status.busy": "2023-03-30T15:32:22.054521Z",
     "iopub.status.idle": "2023-03-30T15:32:22.062820Z",
     "shell.execute_reply": "2023-03-30T15:32:22.061829Z"
    },
    "jupyter": {
     "source_hidden": true
    },
    "papermill": {
     "duration": 0.032087,
     "end_time": "2023-03-30T15:32:22.065634",
     "exception": false,
     "start_time": "2023-03-30T15:32:22.033547",
     "status": "completed"
    },
    "tags": []
   },
   "outputs": [],
   "source": [
    "def cnt_params(model, show_per_layer:bool=True):\n",
    "    \"\"\"\n",
    "    Get the number of model parameters for the instantiated model class.\n",
    "    If show_per_layer then print info for each layer.\n",
    "    \"\"\"\n",
    "\n",
    "    if show_per_layer:\n",
    "        print('-'*75)\n",
    "        print(f'PARAMETER INFORMATION PER LAYER')\n",
    "        print('•'*75)\n",
    "        for name, param in model.named_parameters():\n",
    "            if param.ndim < 2: \n",
    "                in_fts = param.ndim\n",
    "            else:\n",
    "                in_fts = param.shape[1]\n",
    "            out_fts = param.shape[0]\n",
    "            print(f\"Layer: {name}  | InP: {in_fts}  | OutP: {out_fts}  |  CntParams: {in_fts*out_fts}\")\n",
    "    \n",
    "    total_cnt_params = sum([x.reshape(-1).shape[0] for x in model.parameters()])\n",
    "    print('-'*75)\n",
    "    print(f'Total number of parameter: {total_cnt_params}')\n",
    "    print('-'*75)\n",
    "\n",
    "    return total_cnt_params"
   ]
  },
  {
   "cell_type": "code",
   "execution_count": 24,
   "id": "73fd028f",
   "metadata": {
    "execution": {
     "iopub.execute_input": "2023-03-30T15:32:22.106404Z",
     "iopub.status.busy": "2023-03-30T15:32:22.105954Z",
     "iopub.status.idle": "2023-03-30T15:32:22.115479Z",
     "shell.execute_reply": "2023-03-30T15:32:22.113811Z"
    },
    "papermill": {
     "duration": 0.032879,
     "end_time": "2023-03-30T15:32:22.118183",
     "exception": false,
     "start_time": "2023-03-30T15:32:22.085304",
     "status": "completed"
    },
    "tags": []
   },
   "outputs": [
    {
     "name": "stdout",
     "output_type": "stream",
     "text": [
      "---------------------------------------------------------------------------\n",
      "PARAMETER INFORMATION PER LAYER\n",
      "•••••••••••••••••••••••••••••••••••••••••••••••••••••••••••••••••••••••••••\n",
      "Layer: linear_stack.0.weight  | InP: 784  | OutP: 30  |  CntParams: 23520\n",
      "Layer: linear_stack.0.bias  | InP: 1  | OutP: 30  |  CntParams: 30\n",
      "Layer: linear_stack.2.weight  | InP: 30  | OutP: 10  |  CntParams: 300\n",
      "Layer: linear_stack.2.bias  | InP: 1  | OutP: 10  |  CntParams: 10\n",
      "---------------------------------------------------------------------------\n",
      "Total number of parameter: 23860\n",
      "---------------------------------------------------------------------------\n"
     ]
    }
   ],
   "source": [
    "_ = cnt_params(model)"
   ]
  },
  {
   "cell_type": "markdown",
   "id": "30d33ce5",
   "metadata": {
    "papermill": {
     "duration": 0.018939,
     "end_time": "2023-03-30T15:32:22.157583",
     "exception": false,
     "start_time": "2023-03-30T15:32:22.138644",
     "status": "completed"
    },
    "tags": []
   },
   "source": [
    "## Hyperparameters"
   ]
  },
  {
   "cell_type": "markdown",
   "id": "819fd7ef",
   "metadata": {
    "papermill": {
     "duration": 0.018987,
     "end_time": "2023-03-30T15:32:22.196481",
     "exception": false,
     "start_time": "2023-03-30T15:32:22.177494",
     "status": "completed"
    },
    "tags": []
   },
   "source": [
    "In this project we are trying to classify images of handwritten digits, hence we are trying to predict 10 diferent classes. We need to choose a loss function which is suited for classification problems."
   ]
  },
  {
   "cell_type": "code",
   "execution_count": 25,
   "id": "3785f6e1",
   "metadata": {
    "execution": {
     "iopub.execute_input": "2023-03-30T15:32:22.238103Z",
     "iopub.status.busy": "2023-03-30T15:32:22.236814Z",
     "iopub.status.idle": "2023-03-30T15:32:22.243246Z",
     "shell.execute_reply": "2023-03-30T15:32:22.242300Z"
    },
    "papermill": {
     "duration": 0.029896,
     "end_time": "2023-03-30T15:32:22.245764",
     "exception": false,
     "start_time": "2023-03-30T15:32:22.215868",
     "status": "completed"
    },
    "tags": []
   },
   "outputs": [],
   "source": [
    "loss_fun = nn.CrossEntropyLoss()\n",
    "lr_rate = 1e-3\n",
    "optimizer = torch.optim.SGD(model.parameters(), lr=lr_rate)"
   ]
  },
  {
   "cell_type": "code",
   "execution_count": null,
   "id": "236fe3c3",
   "metadata": {
    "execution": {
     "iopub.execute_input": "2023-03-30T12:48:43.305542Z",
     "iopub.status.busy": "2023-03-30T12:48:43.305062Z",
     "iopub.status.idle": "2023-03-30T12:48:43.311491Z",
     "shell.execute_reply": "2023-03-30T12:48:43.310210Z",
     "shell.execute_reply.started": "2023-03-30T12:48:43.305501Z"
    },
    "papermill": {
     "duration": 0.018948,
     "end_time": "2023-03-30T15:32:22.283880",
     "exception": false,
     "start_time": "2023-03-30T15:32:22.264932",
     "status": "completed"
    },
    "tags": []
   },
   "outputs": [],
   "source": []
  },
  {
   "cell_type": "code",
   "execution_count": 26,
   "id": "42d529cd",
   "metadata": {
    "execution": {
     "iopub.execute_input": "2023-03-30T15:32:22.324420Z",
     "iopub.status.busy": "2023-03-30T15:32:22.323975Z",
     "iopub.status.idle": "2023-03-30T15:32:22.329858Z",
     "shell.execute_reply": "2023-03-30T15:32:22.328428Z"
    },
    "papermill": {
     "duration": 0.029537,
     "end_time": "2023-03-30T15:32:22.332689",
     "exception": false,
     "start_time": "2023-03-30T15:32:22.303152",
     "status": "completed"
    },
    "tags": []
   },
   "outputs": [],
   "source": [
    "optimizer = torch.optim.SGD(model.parameters(), lr=lr_rate)"
   ]
  },
  {
   "cell_type": "markdown",
   "id": "ca0f1772",
   "metadata": {
    "papermill": {
     "duration": 0.018986,
     "end_time": "2023-03-30T15:32:22.371876",
     "exception": false,
     "start_time": "2023-03-30T15:32:22.352890",
     "status": "completed"
    },
    "tags": []
   },
   "source": [
    "### Training Loop "
   ]
  },
  {
   "cell_type": "markdown",
   "id": "05d03739",
   "metadata": {
    "papermill": {
     "duration": 0.019031,
     "end_time": "2023-03-30T15:32:22.410276",
     "exception": false,
     "start_time": "2023-03-30T15:32:22.391245",
     "status": "completed"
    },
    "tags": []
   },
   "source": [
    "Now that we have all the training components we can combine everything into a training loop. We will define a function for training and validation which will run given the number of epochs defined. To make the whole process more concise and clear first we define a training loop for one iteration through the data (one epoch), which we can then use to define a complete training function over all epochs."
   ]
  },
  {
   "cell_type": "code",
   "execution_count": 27,
   "id": "36113603",
   "metadata": {
    "execution": {
     "iopub.execute_input": "2023-03-30T15:32:22.451414Z",
     "iopub.status.busy": "2023-03-30T15:32:22.450276Z",
     "iopub.status.idle": "2023-03-30T15:32:22.461567Z",
     "shell.execute_reply": "2023-03-30T15:32:22.460536Z"
    },
    "papermill": {
     "duration": 0.034753,
     "end_time": "2023-03-30T15:32:22.464266",
     "exception": false,
     "start_time": "2023-03-30T15:32:22.429513",
     "status": "completed"
    },
    "tags": []
   },
   "outputs": [],
   "source": [
    "def train_epoch(dataloader, model, loss_fun, optimizer, \n",
    "                lr_rate, device, print_batch=100):\n",
    "    \"\"\"\n",
    "    Training step for one batch\n",
    "    \"\"\"\n",
    "    # Define where to save training results\n",
    "    loss_train = 0\n",
    "    accuracy_train = 0\n",
    "    no_correct = 0\n",
    "    no_samples = 0\n",
    "        \n",
    "    # Initialize training mode\n",
    "    model.train()\n",
    "    \n",
    "    # Number of batches\n",
    "    Nbatches = len(dataloader)\n",
    "    \n",
    "    # Loop through the batches in the dataloader\n",
    "    for batch, (X,y) in enumerate(dataloader):\n",
    "        \n",
    "        no_samples += len(y)\n",
    "        \n",
    "        # --- FORWARD PASS ---\n",
    "        # Input data sent to device\n",
    "        X, y = X.to(device), y.to(device)\n",
    "        \n",
    "        # Model output\n",
    "        outputs = model(X)\n",
    "        \n",
    "        # Model prediction - class\n",
    "        _,preds = torch.max(outputs.data,1)\n",
    "\n",
    "        # Model loss & accuracy\n",
    "        loss = loss_fun(outputs, y)\n",
    "        correct_preds = (preds == y).sum().item()\n",
    "        no_correct += correct_preds\n",
    "        accuracy = correct_preds/len(y)\n",
    "        \n",
    "        # --- BACKPROPAGATION ---\n",
    "        # Clear the gradients\n",
    "        optimizer.zero_grad()\n",
    "\n",
    "        # Compute the gradients\n",
    "        loss.backward()\n",
    "        \n",
    "        # Update the parameters\n",
    "        optimizer.step()\n",
    "        \n",
    "        # --- SAVE & PRINT RESULTS ---\n",
    "        # Save results of every batch\n",
    "        loss_train += loss.item()\n",
    "        accuracy_train += accuracy\n",
    "\n",
    "        # Print results of every 50th batch\n",
    "        if print_batch:\n",
    "            if batch % print_batch == 0:\n",
    "                print(f'Batch: {batch+1}/{Nbatches}   Loss: {loss.item()}   Accuracy:[{correct_preds}/{len(y)}] {accuracy}%')\n",
    "    \n",
    "    # Average the results\n",
    "    loss_train /= Nbatches\n",
    "    accuracy_train /= Nbatches\n",
    "\n",
    "    print(f'TrLoss: {loss.item()}   TrAccuracy:[{no_correct}/{no_samples}] {100*accuracy_train}%')\n",
    "    \n",
    "    return loss_train, accuracy_train"
   ]
  },
  {
   "cell_type": "markdown",
   "id": "e5c7bcd6",
   "metadata": {
    "papermill": {
     "duration": 0.019136,
     "end_time": "2023-03-30T15:32:22.502849",
     "exception": false,
     "start_time": "2023-03-30T15:32:22.483713",
     "status": "completed"
    },
    "tags": []
   },
   "source": [
    "The above function `train` provides the general training sequence of steps:\n",
    "- After the model trains for one epoch, we would like to see the results of that training. So we need to define where to save that information. Values of interest are loss and accuracy.\n",
    "- Calling `model.train()` propels our defined architecture into action by setting the model into a training state and enabling some layers to behave in a specific way.\n",
    "- For clarity we compute the number of batches, `Nbatches`, which we will use to average the final results of training.\n",
    "- To train the model we loop through all the batches in the dataloader and compute the forward and backward pass\n",
    "- We add the batch loss to `loss_train`. Note that the `loss.item()` gives the average loss for all samples in the corresponding batch. To get the average loss for the epoch we need to divide the accumulated batch losses with the number of batches used during training.\n",
    "- To compute the accuracy we need to\n",
    "  - get the index of the class with the highest probability - `torch.max(X, dim=1)`\n",
    "  - sum all instances where the predicted and target class are equal to get the number of correct predictions\n",
    "  - to get the percentage we divide by the number of samples in the batch."
   ]
  },
  {
   "cell_type": "markdown",
   "id": "a171d648",
   "metadata": {
    "papermill": {
     "duration": 0.018821,
     "end_time": "2023-03-30T15:32:22.541055",
     "exception": false,
     "start_time": "2023-03-30T15:32:22.522234",
     "status": "completed"
    },
    "tags": []
   },
   "source": [
    "Similarly, we can define the validation function:"
   ]
  },
  {
   "cell_type": "code",
   "execution_count": 28,
   "id": "c0f9c711",
   "metadata": {
    "execution": {
     "iopub.execute_input": "2023-03-30T15:32:22.582349Z",
     "iopub.status.busy": "2023-03-30T15:32:22.581230Z",
     "iopub.status.idle": "2023-03-30T15:32:22.591660Z",
     "shell.execute_reply": "2023-03-30T15:32:22.590649Z"
    },
    "papermill": {
     "duration": 0.034018,
     "end_time": "2023-03-30T15:32:22.594255",
     "exception": false,
     "start_time": "2023-03-30T15:32:22.560237",
     "status": "completed"
    },
    "tags": []
   },
   "outputs": [],
   "source": [
    "def validate_epoch(dataloader_valid, model, loss_fun, device, print_batch=100):\n",
    "    \"\"\"Model validation during training\"\"\"\n",
    "    \n",
    "    # Define where to save training results\n",
    "    loss_valid = 0\n",
    "    accuracy_valid = 0\n",
    "    no_correct = 0\n",
    "    no_samples = 0\n",
    "    \n",
    "    # Number of batches\n",
    "    Nbatches = len(dataloader_valid)\n",
    "    \n",
    "    # Set the evaluation mode\n",
    "    model.eval()\n",
    "    \n",
    "    with torch.no_grad():\n",
    "        for batch, (Xv,yv) in enumerate(dataloader_valid):\n",
    "        \n",
    "            no_samples += len(yv)\n",
    "            \n",
    "            # --- FORWARD PASS ---\n",
    "            # Input data sent to device\n",
    "            Xv, yv = Xv.to(device), yv.to(device)\n",
    "\n",
    "            # Model output\n",
    "            outputs = model(Xv)\n",
    "\n",
    "            # Model prediction - class\n",
    "            _,preds = torch.max(outputs.data,1)\n",
    "\n",
    "            # Model loss & accuracy\n",
    "            loss = loss_fun(outputs, yv)\n",
    "            correct_preds = (preds == yv).sum().item()\n",
    "            no_correct += correct_preds\n",
    "            accuracy = correct_preds/len(yv)\n",
    "\n",
    "            # --- SAVE & PRINT RESULTS ---\n",
    "            # Save results of every batch\n",
    "            loss_valid += loss.item()\n",
    "            accuracy_valid += accuracy\n",
    "\n",
    "            # Print results of every 50th batch\n",
    "            if print_batch:\n",
    "                if batch % print_batch == 0:\n",
    "                    print(f'Batch: {batch+1}/{Nbatches}   Loss: {loss.item()}   Accuracy:[{correct_preds}/{len(yv)}] {accuracy}%')\n",
    "    \n",
    "        # Average the results\n",
    "        loss_valid /= Nbatches\n",
    "        accuracy_valid /= Nbatches\n",
    "\n",
    "    print(f'VlLoss: {loss.item()}   VlAccuracy:[{no_correct}/{no_samples}] {100*accuracy_valid}%')\n",
    "    \n",
    "    return loss_valid, accuracy_valid"
   ]
  },
  {
   "cell_type": "markdown",
   "id": "c4b3812b",
   "metadata": {
    "papermill": {
     "duration": 0.01964,
     "end_time": "2023-03-30T15:32:22.633163",
     "exception": false,
     "start_time": "2023-03-30T15:32:22.613523",
     "status": "completed"
    },
    "tags": []
   },
   "source": [
    "Difference between the validation and training step is that in the validation step we are only computing the forward based on the trained model in the training step; hence no need for backpropagation since we are not updating any parameters. We simply want to deduce how well our model for a given epoch is doing on unseen (during training) data.\n",
    "\n",
    "Now, we can combine both functions into a final training loop:"
   ]
  },
  {
   "cell_type": "code",
   "execution_count": 29,
   "id": "5e46061e",
   "metadata": {
    "execution": {
     "iopub.execute_input": "2023-03-30T15:32:22.673539Z",
     "iopub.status.busy": "2023-03-30T15:32:22.673112Z",
     "iopub.status.idle": "2023-03-30T15:32:22.682677Z",
     "shell.execute_reply": "2023-03-30T15:32:22.681308Z"
    },
    "papermill": {
     "duration": 0.03321,
     "end_time": "2023-03-30T15:32:22.685503",
     "exception": false,
     "start_time": "2023-03-30T15:32:22.652293",
     "status": "completed"
    },
    "tags": []
   },
   "outputs": [],
   "source": [
    "def training(dataloader_train, dataloader_valid, no_epochs,\n",
    "             model, loss_fun, optimizer, lr_rate, device, \n",
    "             print_batch=None, print_epoch=10):\n",
    "    \"\"\"Model training\"\"\"\n",
    "    \n",
    "    loss_train_epoch = [0]*no_epochs\n",
    "    accuracy_train_epoch = [0]*no_epochs\n",
    "    loss_valid_epoch = [0]*no_epochs\n",
    "    accuracy_valid_epoch = [0]*no_epochs\n",
    "    \n",
    "    for i in range(no_epochs):\n",
    "        print(f'EPOCH: {i+1}')\n",
    "        print('.'*75)\n",
    "        loss_train, accuracy_train = train_epoch(dataloader_train, model, loss_fun, optimizer, lr_rate, device,print_batch)\n",
    "        loss_valid, accuracy_valid = validate_epoch(dataloader_valid,model, loss_fun, device,print_batch)\n",
    "        \n",
    "        loss_train_epoch[i] = loss_train\n",
    "        accuracy_train_epoch[i] = accuracy_train\n",
    "        loss_valid_epoch[i] = loss_valid\n",
    "        accuracy_valid_epoch[i] = accuracy_valid\n",
    "\n",
    "#         if print_epoch:\n",
    "#             if i % print_epoch == 0:\n",
    "#                 print(f'TLoss: {loss_train} TAccuracy:[{}/{}]{accuracy_train} // Valid Loss: {loss_valid}  Valid Accuracy: {accuracy_valid}')\n",
    "        print('-'*75)\n",
    "    return loss_train_epoch, accuracy_train_epoch, loss_valid_epoch, accuracy_valid_epoch\n",
    "    "
   ]
  },
  {
   "cell_type": "code",
   "execution_count": 30,
   "id": "6a989845",
   "metadata": {
    "execution": {
     "iopub.execute_input": "2023-03-30T15:32:22.729001Z",
     "iopub.status.busy": "2023-03-30T15:32:22.727692Z",
     "iopub.status.idle": "2023-03-30T15:32:59.574454Z",
     "shell.execute_reply": "2023-03-30T15:32:59.572859Z"
    },
    "papermill": {
     "duration": 36.872225,
     "end_time": "2023-03-30T15:32:59.578219",
     "exception": false,
     "start_time": "2023-03-30T15:32:22.705994",
     "status": "completed"
    },
    "tags": []
   },
   "outputs": [
    {
     "name": "stdout",
     "output_type": "stream",
     "text": [
      "EPOCH: 1\n",
      "...........................................................................\n",
      "TrLoss: 2.3057732582092285   TrAccuracy:[4180/42000] 9.948154490106544%\n",
      "VlLoss: 2.2984580993652344   VlAccuracy:[2067/18000] 11.486037234042554%\n",
      "---------------------------------------------------------------------------\n",
      "EPOCH: 2\n",
      "...........................................................................\n",
      "TrLoss: 2.3005712032318115   TrAccuracy:[5642/42000] 13.446537290715375%\n",
      "VlLoss: 2.3060622215270996   VlAccuracy:[2665/18000] 14.782801418439718%\n",
      "---------------------------------------------------------------------------\n",
      "EPOCH: 3\n",
      "...........................................................................\n",
      "TrLoss: 2.299920082092285   TrAccuracy:[7027/42000] 16.71898782343988%\n",
      "VlLoss: 2.296605348587036   VlAccuracy:[3181/18000] 17.67508865248227%\n",
      "---------------------------------------------------------------------------\n",
      "EPOCH: 4\n",
      "...........................................................................\n",
      "TrLoss: 2.2897579669952393   TrAccuracy:[8175/42000] 19.484874429223744%\n",
      "VlLoss: 2.29787015914917   VlAccuracy:[3651/18000] 20.29587765957447%\n",
      "---------------------------------------------------------------------------\n",
      "EPOCH: 5\n",
      "...........................................................................\n",
      "TrLoss: 2.296290397644043   TrAccuracy:[9074/42000] 21.594368340943685%\n",
      "VlLoss: 2.289638042449951   VlAccuracy:[3927/18000] 21.808510638297875%\n",
      "---------------------------------------------------------------------------\n"
     ]
    }
   ],
   "source": [
    "model = SimpleLNN(in_shape=(28,28), n_out=10).to(device)\n",
    "\n",
    "no_epochs = 5\n",
    "loss_fun = nn.CrossEntropyLoss()\n",
    "lr_rate = 1e-3\n",
    "optimizer = torch.optim.SGD(model.parameters(), lr=lr_rate)\n",
    "\n",
    "model_results = training(dl_train, dl_valid, no_epochs, model, loss_fun, optimizer, lr_rate, device, print_epoch=5)"
   ]
  },
  {
   "cell_type": "code",
   "execution_count": 31,
   "id": "58dff9ae",
   "metadata": {
    "execution": {
     "iopub.execute_input": "2023-03-30T15:32:59.620878Z",
     "iopub.status.busy": "2023-03-30T15:32:59.620446Z",
     "iopub.status.idle": "2023-03-30T15:32:59.629669Z",
     "shell.execute_reply": "2023-03-30T15:32:59.628547Z"
    },
    "jupyter": {
     "source_hidden": true
    },
    "papermill": {
     "duration": 0.033489,
     "end_time": "2023-03-30T15:32:59.632038",
     "exception": false,
     "start_time": "2023-03-30T15:32:59.598549",
     "status": "completed"
    },
    "tags": []
   },
   "outputs": [],
   "source": [
    "def plot_training_results(model_hist, line_marker=None):\n",
    "    plt.style.use('ggplot')\n",
    "    figsize = (8,5)\n",
    "    fig, ax = plt.subplots(figsize=figsize)\n",
    "    \n",
    "    plt.title('Loss/Accuracy')\n",
    "    # Training\n",
    "    plt.plot(model_hist[0], lw=2, c='salmon', linestyle='dashdot', label='training loss')\n",
    "    plt.plot(model_hist[1], lw=2, c='navy',   linestyle='dashdot', label='training accuracy')\n",
    "\n",
    "    # Validation\n",
    "    plt.plot(model_hist[2], lw=2, c='red',  marker=line_marker, label='validation loss')\n",
    "    plt.plot(model_hist[3], lw=2, c='deepskyblue',  marker=line_marker, label='validation accuracy')\n",
    "\n",
    "    # xy-labels\n",
    "    plt.xlabel('Epoch')\n",
    "    plt.ylabel('Loss/Accuracy')\n",
    "    \n",
    "    # Put a legend to the right of the current axis\n",
    "    ax.legend(loc='center left', bbox_to_anchor=(1, 0.5))\n",
    "    sns.despine()\n",
    "    plt.show()"
   ]
  },
  {
   "cell_type": "code",
   "execution_count": 32,
   "id": "3d5be96b",
   "metadata": {
    "execution": {
     "iopub.execute_input": "2023-03-30T15:32:59.676419Z",
     "iopub.status.busy": "2023-03-30T15:32:59.675315Z",
     "iopub.status.idle": "2023-03-30T15:32:59.951821Z",
     "shell.execute_reply": "2023-03-30T15:32:59.950324Z"
    },
    "papermill": {
     "duration": 0.301866,
     "end_time": "2023-03-30T15:32:59.954729",
     "exception": false,
     "start_time": "2023-03-30T15:32:59.652863",
     "status": "completed"
    },
    "tags": []
   },
   "outputs": [
    {
     "data": {
      "image/png": "[encoded data removed]",
      "text/plain": [
       "<Figure size 800x500 with 1 Axes>"
      ]
     },
     "metadata": {},
     "output_type": "display_data"
    }
   ],
   "source": [
    "plot_training_results(model_results)"
   ]
  },
  {
   "cell_type": "markdown",
   "id": "21498212",
   "metadata": {
    "papermill": {
     "duration": 0.020477,
     "end_time": "2023-03-30T15:32:59.996112",
     "exception": false,
     "start_time": "2023-03-30T15:32:59.975635",
     "status": "completed"
    },
    "tags": []
   },
   "source": [
    "# Training - Model CNN"
   ]
  },
  {
   "cell_type": "markdown",
   "id": "a7aa77fe",
   "metadata": {
    "papermill": {
     "duration": 0.02049,
     "end_time": "2023-03-30T15:33:00.037459",
     "exception": false,
     "start_time": "2023-03-30T15:33:00.016969",
     "status": "completed"
    },
    "tags": []
   },
   "source": [
    "- normalize input data (substract the mean and divide by stdev"
   ]
  },
  {
   "cell_type": "code",
   "execution_count": null,
   "id": "ba11f56b",
   "metadata": {
    "papermill": {
     "duration": 0.020356,
     "end_time": "2023-03-30T15:33:00.078901",
     "exception": false,
     "start_time": "2023-03-30T15:33:00.058545",
     "status": "completed"
    },
    "tags": []
   },
   "outputs": [],
   "source": []
  }
 ],
 "metadata": {
  "kernelspec": {
   "display_name": "Python 3",
   "language": "python",
   "name": "python3"
  },
  "language_info": {
   "codemirror_mode": {
    "name": "ipython",
    "version": 3
   },
   "file_extension": ".py",
   "mimetype": "text/x-python",
   "name": "python",
   "nbconvert_exporter": "python",
   "pygments_lexer": "ipython3",
   "version": "3.7.12"
  },
  "papermill": {
   "default_parameters": {},
   "duration": 59.560728,
   "end_time": "2023-03-30T15:33:01.225598",
   "environment_variables": {},
   "exception": null,
   "input_path": "__notebook__.ipynb",
   "output_path": "__notebook__.ipynb",
   "parameters": {},
   "start_time": "2023-03-30T15:32:01.664870",
   "version": "2.4.0"
  },
  "widgets": {
   "application/vnd.jupyter.widget-state+json": {
    "state": {
     "141e4f972ce04fe48a30254135414c92": {
      "model_module": "@jupyter-widgets/base",
      "model_module_version": "1.2.0",
      "model_name": "LayoutModel",
      "state": {
       "_model_module": "@jupyter-widgets/base",
       "_model_module_version": "1.2.0",
       "_model_name": "LayoutModel",
       "_view_count": null,
       "_view_module": "@jupyter-widgets/base",
       "_view_module_version": "1.2.0",
       "_view_name": "LayoutView",
       "align_content": null,
       "align_items": null,
       "align_self": null,
       "border": null,
       "bottom": null,
       "display": null,
       "flex": null,
       "flex_flow": null,
       "grid_area": null,
       "grid_auto_columns": null,
       "grid_auto_flow": null,
       "grid_auto_rows": null,
       "grid_column": null,
       "grid_gap": null,
       "grid_row": null,
       "grid_template_areas": null,
       "grid_template_columns": null,
       "grid_template_rows": null,
       "height": null,
       "justify_content": null,
       "justify_items": null,
       "left": null,
       "margin": null,
       "max_height": null,
       "max_width": null,
       "min_height": null,
       "min_width": null,
       "object_fit": null,
       "object_position": null,
       "order": null,
       "overflow": null,
       "overflow_x": null,
       "overflow_y": null,
       "padding": null,
       "right": null,
       "top": null,
       "visibility": null,
       "width": null
      }
     },
     "162bbd62643e4730872d1e4d553903cf": {
      "model_module": "@jupyter-widgets/controls",
      "model_module_version": "1.5.0",
      "model_name": "DescriptionStyleModel",
      "state": {
       "_model_module": "@jupyter-widgets/controls",
       "_model_module_version": "1.5.0",
       "_model_name": "DescriptionStyleModel",
       "_view_count": null,
       "_view_module": "@jupyter-widgets/base",
       "_view_module_version": "1.2.0",
       "_view_name": "StyleView",
       "description_width": ""
      }
     },
     "1725de866cef44c3991bd6de4d938ce1": {
      "model_module": "@jupyter-widgets/controls",
      "model_module_version": "1.5.0",
      "model_name": "FloatProgressModel",
      "state": {
       "_dom_classes": [],
       "_model_module": "@jupyter-widgets/controls",
       "_model_module_version": "1.5.0",
       "_model_name": "FloatProgressModel",
       "_view_count": null,
       "_view_module": "@jupyter-widgets/controls",
       "_view_module_version": "1.5.0",
       "_view_name": "ProgressView",
       "bar_style": "success",
       "description": "",
       "description_tooltip": null,
       "layout": "IPY_MODEL_409d13c3ee6b42ba8034cfcd7bdc71b2",
       "max": 9912422.0,
       "min": 0.0,
       "orientation": "horizontal",
       "style": "IPY_MODEL_ce7c3357797b4595a371d9c188ce3eba",
       "value": 9912422.0
      }
     },
     "1a1f875f9e404a29a34a85139a83975c": {
      "model_module": "@jupyter-widgets/controls",
      "model_module_version": "1.5.0",
      "model_name": "FloatProgressModel",
      "state": {
       "_dom_classes": [],
       "_model_module": "@jupyter-widgets/controls",
       "_model_module_version": "1.5.0",
       "_model_name": "FloatProgressModel",
       "_view_count": null,
       "_view_module": "@jupyter-widgets/controls",
       "_view_module_version": "1.5.0",
       "_view_name": "ProgressView",
       "bar_style": "success",
       "description": "",
       "description_tooltip": null,
       "layout": "IPY_MODEL_141e4f972ce04fe48a30254135414c92",
       "max": 28881.0,
       "min": 0.0,
       "orientation": "horizontal",
       "style": "IPY_MODEL_ec1108f8ec78429aa8414152642cfcca",
       "value": 28881.0
      }
     },
     "2869d4969fce4187860de94758375cab": {
      "model_module": "@jupyter-widgets/controls",
      "model_module_version": "1.5.0",
      "model_name": "HTMLModel",
      "state": {
       "_dom_classes": [],
       "_model_module": "@jupyter-widgets/controls",
       "_model_module_version": "1.5.0",
       "_model_name": "HTMLModel",
       "_view_count": null,
       "_view_module": "@jupyter-widgets/controls",
       "_view_module_version": "1.5.0",
       "_view_name": "HTMLView",
       "description": "",
       "description_tooltip": null,
       "layout": "IPY_MODEL_e3252af069584ff7a196b4ce45d8d161",
       "placeholder": "​",
       "style": "IPY_MODEL_f06b834a8d8e44e49c5cdb0f15432c33",
       "value": " 1648877/1648877 [00:00&lt;00:00, 5813079.16it/s]"
      }
     },
     "30a4b1b4c2ed47499fec41c3aa3ad9ab": {
      "model_module": "@jupyter-widgets/controls",
      "model_module_version": "1.5.0",
      "model_name": "HBoxModel",
      "state": {
       "_dom_classes": [],
       "_model_module": "@jupyter-widgets/controls",
       "_model_module_version": "1.5.0",
       "_model_name": "HBoxModel",
       "_view_count": null,
       "_view_module": "@jupyter-widgets/controls",
       "_view_module_version": "1.5.0",
       "_view_name": "HBoxView",
       "box_style": "",
       "children": [
        "IPY_MODEL_c5abfa173e7c48adb599201ec3698581",
        "IPY_MODEL_55953714475845f28e9d3c7579121d6f",
        "IPY_MODEL_2869d4969fce4187860de94758375cab"
       ],
       "layout": "IPY_MODEL_3d4044ce71824704b81c197dc0361cd7"
      }
     },
     "375940afa9c047aebfb0806597199065": {
      "model_module": "@jupyter-widgets/controls",
      "model_module_version": "1.5.0",
      "model_name": "HTMLModel",
      "state": {
       "_dom_classes": [],
       "_model_module": "@jupyter-widgets/controls",
       "_model_module_version": "1.5.0",
       "_model_name": "HTMLModel",
       "_view_count": null,
       "_view_module": "@jupyter-widgets/controls",
       "_view_module_version": "1.5.0",
       "_view_name": "HTMLView",
       "description": "",
       "description_tooltip": null,
       "layout": "IPY_MODEL_72597cf28e1d470195b45ff1faaf6463",
       "placeholder": "​",
       "style": "IPY_MODEL_ac71b3eb00e645418865743e87de5cef",
       "value": " 9912422/9912422 [00:00&lt;00:00, 41735178.31it/s]"
      }
     },
     "389da66c9ec345ad9e173b1c648ca56a": {
      "model_module": "@jupyter-widgets/controls",
      "model_module_version": "1.5.0",
      "model_name": "HTMLModel",
      "state": {
       "_dom_classes": [],
       "_model_module": "@jupyter-widgets/controls",
       "_model_module_version": "1.5.0",
       "_model_name": "HTMLModel",
       "_view_count": null,
       "_view_module": "@jupyter-widgets/controls",
       "_view_module_version": "1.5.0",
       "_view_name": "HTMLView",
       "description": "",
       "description_tooltip": null,
       "layout": "IPY_MODEL_784a3afa6cba4071a3bdbda6934c7b2c",
       "placeholder": "​",
       "style": "IPY_MODEL_66bf4646d08c4ecfa2a01b9de713940a",
       "value": " 4542/4542 [00:00&lt;00:00, 316338.36it/s]"
      }
     },
     "3d4044ce71824704b81c197dc0361cd7": {
      "model_module": "@jupyter-widgets/base",
      "model_module_version": "1.2.0",
      "model_name": "LayoutModel",
      "state": {
       "_model_module": "@jupyter-widgets/base",
       "_model_module_version": "1.2.0",
       "_model_name": "LayoutModel",
       "_view_count": null,
       "_view_module": "@jupyter-widgets/base",
       "_view_module_version": "1.2.0",
       "_view_name": "LayoutView",
       "align_content": null,
       "align_items": null,
       "align_self": null,
       "border": null,
       "bottom": null,
       "display": null,
       "flex": null,
       "flex_flow": null,
       "grid_area": null,
       "grid_auto_columns": null,
       "grid_auto_flow": null,
       "grid_auto_rows": null,
       "grid_column": null,
       "grid_gap": null,
       "grid_row": null,
       "grid_template_areas": null,
       "grid_template_columns": null,
       "grid_template_rows": null,
       "height": null,
       "justify_content": null,
       "justify_items": null,
       "left": null,
       "margin": null,
       "max_height": null,
       "max_width": null,
       "min_height": null,
       "min_width": null,
       "object_fit": null,
       "object_position": null,
       "order": null,
       "overflow": null,
       "overflow_x": null,
       "overflow_y": null,
       "padding": null,
       "right": null,
       "top": null,
       "visibility": null,
       "width": null
      }
     },
     "409d13c3ee6b42ba8034cfcd7bdc71b2": {
      "model_module": "@jupyter-widgets/base",
      "model_module_version": "1.2.0",
      "model_name": "LayoutModel",
      "state": {
       "_model_module": "@jupyter-widgets/base",
       "_model_module_version": "1.2.0",
       "_model_name": "LayoutModel",
       "_view_count": null,
       "_view_module": "@jupyter-widgets/base",
       "_view_module_version": "1.2.0",
       "_view_name": "LayoutView",
       "align_content": null,
       "align_items": null,
       "align_self": null,
       "border": null,
       "bottom": null,
       "display": null,
       "flex": null,
       "flex_flow": null,
       "grid_area": null,
       "grid_auto_columns": null,
       "grid_auto_flow": null,
       "grid_auto_rows": null,
       "grid_column": null,
       "grid_gap": null,
       "grid_row": null,
       "grid_template_areas": null,
       "grid_template_columns": null,
       "grid_template_rows": null,
       "height": null,
       "justify_content": null,
       "justify_items": null,
       "left": null,
       "margin": null,
       "max_height": null,
       "max_width": null,
       "min_height": null,
       "min_width": null,
       "object_fit": null,
       "object_position": null,
       "order": null,
       "overflow": null,
       "overflow_x": null,
       "overflow_y": null,
       "padding": null,
       "right": null,
       "top": null,
       "visibility": null,
       "width": null
      }
     },
     "46035a0ee75e48f6bd9ad37210781b4a": {
      "model_module": "@jupyter-widgets/base",
      "model_module_version": "1.2.0",
      "model_name": "LayoutModel",
      "state": {
       "_model_module": "@jupyter-widgets/base",
       "_model_module_version": "1.2.0",
       "_model_name": "LayoutModel",
       "_view_count": null,
       "_view_module": "@jupyter-widgets/base",
       "_view_module_version": "1.2.0",
       "_view_name": "LayoutView",
       "align_content": null,
       "align_items": null,
       "align_self": null,
       "border": null,
       "bottom": null,
       "display": null,
       "flex": null,
       "flex_flow": null,
       "grid_area": null,
       "grid_auto_columns": null,
       "grid_auto_flow": null,
       "grid_auto_rows": null,
       "grid_column": null,
       "grid_gap": null,
       "grid_row": null,
       "grid_template_areas": null,
       "grid_template_columns": null,
       "grid_template_rows": null,
       "height": null,
       "justify_content": null,
       "justify_items": null,
       "left": null,
       "margin": null,
       "max_height": null,
       "max_width": null,
       "min_height": null,
       "min_width": null,
       "object_fit": null,
       "object_position": null,
       "order": null,
       "overflow": null,
       "overflow_x": null,
       "overflow_y": null,
       "padding": null,
       "right": null,
       "top": null,
       "visibility": null,
       "width": null
      }
     },
     "55953714475845f28e9d3c7579121d6f": {
      "model_module": "@jupyter-widgets/controls",
      "model_module_version": "1.5.0",
      "model_name": "FloatProgressModel",
      "state": {
       "_dom_classes": [],
       "_model_module": "@jupyter-widgets/controls",
       "_model_module_version": "1.5.0",
       "_model_name": "FloatProgressModel",
       "_view_count": null,
       "_view_module": "@jupyter-widgets/controls",
       "_view_module_version": "1.5.0",
       "_view_name": "ProgressView",
       "bar_style": "success",
       "description": "",
       "description_tooltip": null,
       "layout": "IPY_MODEL_577a97eefde441aa8b476f83f282d42a",
       "max": 1648877.0,
       "min": 0.0,
       "orientation": "horizontal",
       "style": "IPY_MODEL_634566c925184a28b58cfa5189b3f354",
       "value": 1648877.0
      }
     },
     "577a97eefde441aa8b476f83f282d42a": {
      "model_module": "@jupyter-widgets/base",
      "model_module_version": "1.2.0",
      "model_name": "LayoutModel",
      "state": {
       "_model_module": "@jupyter-widgets/base",
       "_model_module_version": "1.2.0",
       "_model_name": "LayoutModel",
       "_view_count": null,
       "_view_module": "@jupyter-widgets/base",
       "_view_module_version": "1.2.0",
       "_view_name": "LayoutView",
       "align_content": null,
       "align_items": null,
       "align_self": null,
       "border": null,
       "bottom": null,
       "display": null,
       "flex": null,
       "flex_flow": null,
       "grid_area": null,
       "grid_auto_columns": null,
       "grid_auto_flow": null,
       "grid_auto_rows": null,
       "grid_column": null,
       "grid_gap": null,
       "grid_row": null,
       "grid_template_areas": null,
       "grid_template_columns": null,
       "grid_template_rows": null,
       "height": null,
       "justify_content": null,
       "justify_items": null,
       "left": null,
       "margin": null,
       "max_height": null,
       "max_width": null,
       "min_height": null,
       "min_width": null,
       "object_fit": null,
       "object_position": null,
       "order": null,
       "overflow": null,
       "overflow_x": null,
       "overflow_y": null,
       "padding": null,
       "right": null,
       "top": null,
       "visibility": null,
       "width": null
      }
     },
     "5d2352fa32e14f76823cd3634ca0bc04": {
      "model_module": "@jupyter-widgets/controls",
      "model_module_version": "1.5.0",
      "model_name": "HBoxModel",
      "state": {
       "_dom_classes": [],
       "_model_module": "@jupyter-widgets/controls",
       "_model_module_version": "1.5.0",
       "_model_name": "HBoxModel",
       "_view_count": null,
       "_view_module": "@jupyter-widgets/controls",
       "_view_module_version": "1.5.0",
       "_view_name": "HBoxView",
       "box_style": "",
       "children": [
        "IPY_MODEL_7a1f190f924e4008920892e158be136a",
        "IPY_MODEL_1a1f875f9e404a29a34a85139a83975c",
        "IPY_MODEL_9dc3eb700d20403fbf15a364779067a8"
       ],
       "layout": "IPY_MODEL_46035a0ee75e48f6bd9ad37210781b4a"
      }
     },
     "5f56b95dbcf64909bc40027cd656c858": {
      "model_module": "@jupyter-widgets/base",
      "model_module_version": "1.2.0",
      "model_name": "LayoutModel",
      "state": {
       "_model_module": "@jupyter-widgets/base",
       "_model_module_version": "1.2.0",
       "_model_name": "LayoutModel",
       "_view_count": null,
       "_view_module": "@jupyter-widgets/base",
       "_view_module_version": "1.2.0",
       "_view_name": "LayoutView",
       "align_content": null,
       "align_items": null,
       "align_self": null,
       "border": null,
       "bottom": null,
       "display": null,
       "flex": null,
       "flex_flow": null,
       "grid_area": null,
       "grid_auto_columns": null,
       "grid_auto_flow": null,
       "grid_auto_rows": null,
       "grid_column": null,
       "grid_gap": null,
       "grid_row": null,
       "grid_template_areas": null,
       "grid_template_columns": null,
       "grid_template_rows": null,
       "height": null,
       "justify_content": null,
       "justify_items": null,
       "left": null,
       "margin": null,
       "max_height": null,
       "max_width": null,
       "min_height": null,
       "min_width": null,
       "object_fit": null,
       "object_position": null,
       "order": null,
       "overflow": null,
       "overflow_x": null,
       "overflow_y": null,
       "padding": null,
       "right": null,
       "top": null,
       "visibility": null,
       "width": null
      }
     },
     "617ff379e16048a6b2ae2b6d480f65a0": {
      "model_module": "@jupyter-widgets/base",
      "model_module_version": "1.2.0",
      "model_name": "LayoutModel",
      "state": {
       "_model_module": "@jupyter-widgets/base",
       "_model_module_version": "1.2.0",
       "_model_name": "LayoutModel",
       "_view_count": null,
       "_view_module": "@jupyter-widgets/base",
       "_view_module_version": "1.2.0",
       "_view_name": "LayoutView",
       "align_content": null,
       "align_items": null,
       "align_self": null,
       "border": null,
       "bottom": null,
       "display": null,
       "flex": null,
       "flex_flow": null,
       "grid_area": null,
       "grid_auto_columns": null,
       "grid_auto_flow": null,
       "grid_auto_rows": null,
       "grid_column": null,
       "grid_gap": null,
       "grid_row": null,
       "grid_template_areas": null,
       "grid_template_columns": null,
       "grid_template_rows": null,
       "height": null,
       "justify_content": null,
       "justify_items": null,
       "left": null,
       "margin": null,
       "max_height": null,
       "max_width": null,
       "min_height": null,
       "min_width": null,
       "object_fit": null,
       "object_position": null,
       "order": null,
       "overflow": null,
       "overflow_x": null,
       "overflow_y": null,
       "padding": null,
       "right": null,
       "top": null,
       "visibility": null,
       "width": null
      }
     },
     "634566c925184a28b58cfa5189b3f354": {
      "model_module": "@jupyter-widgets/controls",
      "model_module_version": "1.5.0",
      "model_name": "ProgressStyleModel",
      "state": {
       "_model_module": "@jupyter-widgets/controls",
       "_model_module_version": "1.5.0",
       "_model_name": "ProgressStyleModel",
       "_view_count": null,
       "_view_module": "@jupyter-widgets/base",
       "_view_module_version": "1.2.0",
       "_view_name": "StyleView",
       "bar_color": null,
       "description_width": ""
      }
     },
     "66bf4646d08c4ecfa2a01b9de713940a": {
      "model_module": "@jupyter-widgets/controls",
      "model_module_version": "1.5.0",
      "model_name": "DescriptionStyleModel",
      "state": {
       "_model_module": "@jupyter-widgets/controls",
       "_model_module_version": "1.5.0",
       "_model_name": "DescriptionStyleModel",
       "_view_count": null,
       "_view_module": "@jupyter-widgets/base",
       "_view_module_version": "1.2.0",
       "_view_name": "StyleView",
       "description_width": ""
      }
     },
     "68a0325804404608bf37ab60b3cfbc86": {
      "model_module": "@jupyter-widgets/controls",
      "model_module_version": "1.5.0",
      "model_name": "HBoxModel",
      "state": {
       "_dom_classes": [],
       "_model_module": "@jupyter-widgets/controls",
       "_model_module_version": "1.5.0",
       "_model_name": "HBoxModel",
       "_view_count": null,
       "_view_module": "@jupyter-widgets/controls",
       "_view_module_version": "1.5.0",
       "_view_name": "HBoxView",
       "box_style": "",
       "children": [
        "IPY_MODEL_cd0ad372a1ff465aaeffd6eea1fbe30f",
        "IPY_MODEL_1725de866cef44c3991bd6de4d938ce1",
        "IPY_MODEL_375940afa9c047aebfb0806597199065"
       ],
       "layout": "IPY_MODEL_617ff379e16048a6b2ae2b6d480f65a0"
      }
     },
     "6d33206a11a145d69ddfd1f29c553054": {
      "model_module": "@jupyter-widgets/base",
      "model_module_version": "1.2.0",
      "model_name": "LayoutModel",
      "state": {
       "_model_module": "@jupyter-widgets/base",
       "_model_module_version": "1.2.0",
       "_model_name": "LayoutModel",
       "_view_count": null,
       "_view_module": "@jupyter-widgets/base",
       "_view_module_version": "1.2.0",
       "_view_name": "LayoutView",
       "align_content": null,
       "align_items": null,
       "align_self": null,
       "border": null,
       "bottom": null,
       "display": null,
       "flex": null,
       "flex_flow": null,
       "grid_area": null,
       "grid_auto_columns": null,
       "grid_auto_flow": null,
       "grid_auto_rows": null,
       "grid_column": null,
       "grid_gap": null,
       "grid_row": null,
       "grid_template_areas": null,
       "grid_template_columns": null,
       "grid_template_rows": null,
       "height": null,
       "justify_content": null,
       "justify_items": null,
       "left": null,
       "margin": null,
       "max_height": null,
       "max_width": null,
       "min_height": null,
       "min_width": null,
       "object_fit": null,
       "object_position": null,
       "order": null,
       "overflow": null,
       "overflow_x": null,
       "overflow_y": null,
       "padding": null,
       "right": null,
       "top": null,
       "visibility": null,
       "width": null
      }
     },
     "71fa0508924c497ca95f58e74cc580bf": {
      "model_module": "@jupyter-widgets/controls",
      "model_module_version": "1.5.0",
      "model_name": "DescriptionStyleModel",
      "state": {
       "_model_module": "@jupyter-widgets/controls",
       "_model_module_version": "1.5.0",
       "_model_name": "DescriptionStyleModel",
       "_view_count": null,
       "_view_module": "@jupyter-widgets/base",
       "_view_module_version": "1.2.0",
       "_view_name": "StyleView",
       "description_width": ""
      }
     },
     "72597cf28e1d470195b45ff1faaf6463": {
      "model_module": "@jupyter-widgets/base",
      "model_module_version": "1.2.0",
      "model_name": "LayoutModel",
      "state": {
       "_model_module": "@jupyter-widgets/base",
       "_model_module_version": "1.2.0",
       "_model_name": "LayoutModel",
       "_view_count": null,
       "_view_module": "@jupyter-widgets/base",
       "_view_module_version": "1.2.0",
       "_view_name": "LayoutView",
       "align_content": null,
       "align_items": null,
       "align_self": null,
       "border": null,
       "bottom": null,
       "display": null,
       "flex": null,
       "flex_flow": null,
       "grid_area": null,
       "grid_auto_columns": null,
       "grid_auto_flow": null,
       "grid_auto_rows": null,
       "grid_column": null,
       "grid_gap": null,
       "grid_row": null,
       "grid_template_areas": null,
       "grid_template_columns": null,
       "grid_template_rows": null,
       "height": null,
       "justify_content": null,
       "justify_items": null,
       "left": null,
       "margin": null,
       "max_height": null,
       "max_width": null,
       "min_height": null,
       "min_width": null,
       "object_fit": null,
       "object_position": null,
       "order": null,
       "overflow": null,
       "overflow_x": null,
       "overflow_y": null,
       "padding": null,
       "right": null,
       "top": null,
       "visibility": null,
       "width": null
      }
     },
     "740a0c49db51471cadc33a11aa797580": {
      "model_module": "@jupyter-widgets/controls",
      "model_module_version": "1.5.0",
      "model_name": "HBoxModel",
      "state": {
       "_dom_classes": [],
       "_model_module": "@jupyter-widgets/controls",
       "_model_module_version": "1.5.0",
       "_model_name": "HBoxModel",
       "_view_count": null,
       "_view_module": "@jupyter-widgets/controls",
       "_view_module_version": "1.5.0",
       "_view_name": "HBoxView",
       "box_style": "",
       "children": [
        "IPY_MODEL_cba990b4d36d4408b0f1e5424583a922",
        "IPY_MODEL_b6116843942e45489dd2e4aac09ade55",
        "IPY_MODEL_389da66c9ec345ad9e173b1c648ca56a"
       ],
       "layout": "IPY_MODEL_f1ef0705d28c4347ae987c47bd6262a7"
      }
     },
     "784a3afa6cba4071a3bdbda6934c7b2c": {
      "model_module": "@jupyter-widgets/base",
      "model_module_version": "1.2.0",
      "model_name": "LayoutModel",
      "state": {
       "_model_module": "@jupyter-widgets/base",
       "_model_module_version": "1.2.0",
       "_model_name": "LayoutModel",
       "_view_count": null,
       "_view_module": "@jupyter-widgets/base",
       "_view_module_version": "1.2.0",
       "_view_name": "LayoutView",
       "align_content": null,
       "align_items": null,
       "align_self": null,
       "border": null,
       "bottom": null,
       "display": null,
       "flex": null,
       "flex_flow": null,
       "grid_area": null,
       "grid_auto_columns": null,
       "grid_auto_flow": null,
       "grid_auto_rows": null,
       "grid_column": null,
       "grid_gap": null,
       "grid_row": null,
       "grid_template_areas": null,
       "grid_template_columns": null,
       "grid_template_rows": null,
       "height": null,
       "justify_content": null,
       "justify_items": null,
       "left": null,
       "margin": null,
       "max_height": null,
       "max_width": null,
       "min_height": null,
       "min_width": null,
       "object_fit": null,
       "object_position": null,
       "order": null,
       "overflow": null,
       "overflow_x": null,
       "overflow_y": null,
       "padding": null,
       "right": null,
       "top": null,
       "visibility": null,
       "width": null
      }
     },
     "7a1f190f924e4008920892e158be136a": {
      "model_module": "@jupyter-widgets/controls",
      "model_module_version": "1.5.0",
      "model_name": "HTMLModel",
      "state": {
       "_dom_classes": [],
       "_model_module": "@jupyter-widgets/controls",
       "_model_module_version": "1.5.0",
       "_model_name": "HTMLModel",
       "_view_count": null,
       "_view_module": "@jupyter-widgets/controls",
       "_view_module_version": "1.5.0",
       "_view_name": "HTMLView",
       "description": "",
       "description_tooltip": null,
       "layout": "IPY_MODEL_5f56b95dbcf64909bc40027cd656c858",
       "placeholder": "​",
       "style": "IPY_MODEL_71fa0508924c497ca95f58e74cc580bf",
       "value": "100%"
      }
     },
     "8b7d73d78ab9445e9657f1f4a55aa918": {
      "model_module": "@jupyter-widgets/controls",
      "model_module_version": "1.5.0",
      "model_name": "DescriptionStyleModel",
      "state": {
       "_model_module": "@jupyter-widgets/controls",
       "_model_module_version": "1.5.0",
       "_model_name": "DescriptionStyleModel",
       "_view_count": null,
       "_view_module": "@jupyter-widgets/base",
       "_view_module_version": "1.2.0",
       "_view_name": "StyleView",
       "description_width": ""
      }
     },
     "9dc3eb700d20403fbf15a364779067a8": {
      "model_module": "@jupyter-widgets/controls",
      "model_module_version": "1.5.0",
      "model_name": "HTMLModel",
      "state": {
       "_dom_classes": [],
       "_model_module": "@jupyter-widgets/controls",
       "_model_module_version": "1.5.0",
       "_model_name": "HTMLModel",
       "_view_count": null,
       "_view_module": "@jupyter-widgets/controls",
       "_view_module_version": "1.5.0",
       "_view_name": "HTMLView",
       "description": "",
       "description_tooltip": null,
       "layout": "IPY_MODEL_ec97b34ade5f483d94ab258b53f6f331",
       "placeholder": "​",
       "style": "IPY_MODEL_8b7d73d78ab9445e9657f1f4a55aa918",
       "value": " 28881/28881 [00:00&lt;00:00, 1902286.37it/s]"
      }
     },
     "ac71b3eb00e645418865743e87de5cef": {
      "model_module": "@jupyter-widgets/controls",
      "model_module_version": "1.5.0",
      "model_name": "DescriptionStyleModel",
      "state": {
       "_model_module": "@jupyter-widgets/controls",
       "_model_module_version": "1.5.0",
       "_model_name": "DescriptionStyleModel",
       "_view_count": null,
       "_view_module": "@jupyter-widgets/base",
       "_view_module_version": "1.2.0",
       "_view_name": "StyleView",
       "description_width": ""
      }
     },
     "b6116843942e45489dd2e4aac09ade55": {
      "model_module": "@jupyter-widgets/controls",
      "model_module_version": "1.5.0",
      "model_name": "FloatProgressModel",
      "state": {
       "_dom_classes": [],
       "_model_module": "@jupyter-widgets/controls",
       "_model_module_version": "1.5.0",
       "_model_name": "FloatProgressModel",
       "_view_count": null,
       "_view_module": "@jupyter-widgets/controls",
       "_view_module_version": "1.5.0",
       "_view_name": "ProgressView",
       "bar_style": "success",
       "description": "",
       "description_tooltip": null,
       "layout": "IPY_MODEL_d120556a7d8e4684ab67c1b7674eac32",
       "max": 4542.0,
       "min": 0.0,
       "orientation": "horizontal",
       "style": "IPY_MODEL_f36fe792a4104364bf4317f1c15ef5c2",
       "value": 4542.0
      }
     },
     "b78420b09cc24dc3959128436a9bc2b0": {
      "model_module": "@jupyter-widgets/controls",
      "model_module_version": "1.5.0",
      "model_name": "DescriptionStyleModel",
      "state": {
       "_model_module": "@jupyter-widgets/controls",
       "_model_module_version": "1.5.0",
       "_model_name": "DescriptionStyleModel",
       "_view_count": null,
       "_view_module": "@jupyter-widgets/base",
       "_view_module_version": "1.2.0",
       "_view_name": "StyleView",
       "description_width": ""
      }
     },
     "c5abfa173e7c48adb599201ec3698581": {
      "model_module": "@jupyter-widgets/controls",
      "model_module_version": "1.5.0",
      "model_name": "HTMLModel",
      "state": {
       "_dom_classes": [],
       "_model_module": "@jupyter-widgets/controls",
       "_model_module_version": "1.5.0",
       "_model_name": "HTMLModel",
       "_view_count": null,
       "_view_module": "@jupyter-widgets/controls",
       "_view_module_version": "1.5.0",
       "_view_name": "HTMLView",
       "description": "",
       "description_tooltip": null,
       "layout": "IPY_MODEL_f8d42cd58df747128141e08e767e2926",
       "placeholder": "​",
       "style": "IPY_MODEL_b78420b09cc24dc3959128436a9bc2b0",
       "value": "100%"
      }
     },
     "cba990b4d36d4408b0f1e5424583a922": {
      "model_module": "@jupyter-widgets/controls",
      "model_module_version": "1.5.0",
      "model_name": "HTMLModel",
      "state": {
       "_dom_classes": [],
       "_model_module": "@jupyter-widgets/controls",
       "_model_module_version": "1.5.0",
       "_model_name": "HTMLModel",
       "_view_count": null,
       "_view_module": "@jupyter-widgets/controls",
       "_view_module_version": "1.5.0",
       "_view_name": "HTMLView",
       "description": "",
       "description_tooltip": null,
       "layout": "IPY_MODEL_6d33206a11a145d69ddfd1f29c553054",
       "placeholder": "​",
       "style": "IPY_MODEL_f5f71eb81aaa45bfb1be5fbd49dc59e3",
       "value": "100%"
      }
     },
     "cd0ad372a1ff465aaeffd6eea1fbe30f": {
      "model_module": "@jupyter-widgets/controls",
      "model_module_version": "1.5.0",
      "model_name": "HTMLModel",
      "state": {
       "_dom_classes": [],
       "_model_module": "@jupyter-widgets/controls",
       "_model_module_version": "1.5.0",
       "_model_name": "HTMLModel",
       "_view_count": null,
       "_view_module": "@jupyter-widgets/controls",
       "_view_module_version": "1.5.0",
       "_view_name": "HTMLView",
       "description": "",
       "description_tooltip": null,
       "layout": "IPY_MODEL_f4eb7596da834f96890683c58bbf08a7",
       "placeholder": "​",
       "style": "IPY_MODEL_162bbd62643e4730872d1e4d553903cf",
       "value": "100%"
      }
     },
     "ce7c3357797b4595a371d9c188ce3eba": {
      "model_module": "@jupyter-widgets/controls",
      "model_module_version": "1.5.0",
      "model_name": "ProgressStyleModel",
      "state": {
       "_model_module": "@jupyter-widgets/controls",
       "_model_module_version": "1.5.0",
       "_model_name": "ProgressStyleModel",
       "_view_count": null,
       "_view_module": "@jupyter-widgets/base",
       "_view_module_version": "1.2.0",
       "_view_name": "StyleView",
       "bar_color": null,
       "description_width": ""
      }
     },
     "d120556a7d8e4684ab67c1b7674eac32": {
      "model_module": "@jupyter-widgets/base",
      "model_module_version": "1.2.0",
      "model_name": "LayoutModel",
      "state": {
       "_model_module": "@jupyter-widgets/base",
       "_model_module_version": "1.2.0",
       "_model_name": "LayoutModel",
       "_view_count": null,
       "_view_module": "@jupyter-widgets/base",
       "_view_module_version": "1.2.0",
       "_view_name": "LayoutView",
       "align_content": null,
       "align_items": null,
       "align_self": null,
       "border": null,
       "bottom": null,
       "display": null,
       "flex": null,
       "flex_flow": null,
       "grid_area": null,
       "grid_auto_columns": null,
       "grid_auto_flow": null,
       "grid_auto_rows": null,
       "grid_column": null,
       "grid_gap": null,
       "grid_row": null,
       "grid_template_areas": null,
       "grid_template_columns": null,
       "grid_template_rows": null,
       "height": null,
       "justify_content": null,
       "justify_items": null,
       "left": null,
       "margin": null,
       "max_height": null,
       "max_width": null,
       "min_height": null,
       "min_width": null,
       "object_fit": null,
       "object_position": null,
       "order": null,
       "overflow": null,
       "overflow_x": null,
       "overflow_y": null,
       "padding": null,
       "right": null,
       "top": null,
       "visibility": null,
       "width": null
      }
     },
     "e3252af069584ff7a196b4ce45d8d161": {
      "model_module": "@jupyter-widgets/base",
      "model_module_version": "1.2.0",
      "model_name": "LayoutModel",
      "state": {
       "_model_module": "@jupyter-widgets/base",
       "_model_module_version": "1.2.0",
       "_model_name": "LayoutModel",
       "_view_count": null,
       "_view_module": "@jupyter-widgets/base",
       "_view_module_version": "1.2.0",
       "_view_name": "LayoutView",
       "align_content": null,
       "align_items": null,
       "align_self": null,
       "border": null,
       "bottom": null,
       "display": null,
       "flex": null,
       "flex_flow": null,
       "grid_area": null,
       "grid_auto_columns": null,
       "grid_auto_flow": null,
       "grid_auto_rows": null,
       "grid_column": null,
       "grid_gap": null,
       "grid_row": null,
       "grid_template_areas": null,
       "grid_template_columns": null,
       "grid_template_rows": null,
       "height": null,
       "justify_content": null,
       "justify_items": null,
       "left": null,
       "margin": null,
       "max_height": null,
       "max_width": null,
       "min_height": null,
       "min_width": null,
       "object_fit": null,
       "object_position": null,
       "order": null,
       "overflow": null,
       "overflow_x": null,
       "overflow_y": null,
       "padding": null,
       "right": null,
       "top": null,
       "visibility": null,
       "width": null
      }
     },
     "ec1108f8ec78429aa8414152642cfcca": {
      "model_module": "@jupyter-widgets/controls",
      "model_module_version": "1.5.0",
      "model_name": "ProgressStyleModel",
      "state": {
       "_model_module": "@jupyter-widgets/controls",
       "_model_module_version": "1.5.0",
       "_model_name": "ProgressStyleModel",
       "_view_count": null,
       "_view_module": "@jupyter-widgets/base",
       "_view_module_version": "1.2.0",
       "_view_name": "StyleView",
       "bar_color": null,
       "description_width": ""
      }
     },
     "ec97b34ade5f483d94ab258b53f6f331": {
      "model_module": "@jupyter-widgets/base",
      "model_module_version": "1.2.0",
      "model_name": "LayoutModel",
      "state": {
       "_model_module": "@jupyter-widgets/base",
       "_model_module_version": "1.2.0",
       "_model_name": "LayoutModel",
       "_view_count": null,
       "_view_module": "@jupyter-widgets/base",
       "_view_module_version": "1.2.0",
       "_view_name": "LayoutView",
       "align_content": null,
       "align_items": null,
       "align_self": null,
       "border": null,
       "bottom": null,
       "display": null,
       "flex": null,
       "flex_flow": null,
       "grid_area": null,
       "grid_auto_columns": null,
       "grid_auto_flow": null,
       "grid_auto_rows": null,
       "grid_column": null,
       "grid_gap": null,
       "grid_row": null,
       "grid_template_areas": null,
       "grid_template_columns": null,
       "grid_template_rows": null,
       "height": null,
       "justify_content": null,
       "justify_items": null,
       "left": null,
       "margin": null,
       "max_height": null,
       "max_width": null,
       "min_height": null,
       "min_width": null,
       "object_fit": null,
       "object_position": null,
       "order": null,
       "overflow": null,
       "overflow_x": null,
       "overflow_y": null,
       "padding": null,
       "right": null,
       "top": null,
       "visibility": null,
       "width": null
      }
     },
     "f06b834a8d8e44e49c5cdb0f15432c33": {
      "model_module": "@jupyter-widgets/controls",
      "model_module_version": "1.5.0",
      "model_name": "DescriptionStyleModel",
      "state": {
       "_model_module": "@jupyter-widgets/controls",
       "_model_module_version": "1.5.0",
       "_model_name": "DescriptionStyleModel",
       "_view_count": null,
       "_view_module": "@jupyter-widgets/base",
       "_view_module_version": "1.2.0",
       "_view_name": "StyleView",
       "description_width": ""
      }
     },
     "f1ef0705d28c4347ae987c47bd6262a7": {
      "model_module": "@jupyter-widgets/base",
      "model_module_version": "1.2.0",
      "model_name": "LayoutModel",
      "state": {
       "_model_module": "@jupyter-widgets/base",
       "_model_module_version": "1.2.0",
       "_model_name": "LayoutModel",
       "_view_count": null,
       "_view_module": "@jupyter-widgets/base",
       "_view_module_version": "1.2.0",
       "_view_name": "LayoutView",
       "align_content": null,
       "align_items": null,
       "align_self": null,
       "border": null,
       "bottom": null,
       "display": null,
       "flex": null,
       "flex_flow": null,
       "grid_area": null,
       "grid_auto_columns": null,
       "grid_auto_flow": null,
       "grid_auto_rows": null,
       "grid_column": null,
       "grid_gap": null,
       "grid_row": null,
       "grid_template_areas": null,
       "grid_template_columns": null,
       "grid_template_rows": null,
       "height": null,
       "justify_content": null,
       "justify_items": null,
       "left": null,
       "margin": null,
       "max_height": null,
       "max_width": null,
       "min_height": null,
       "min_width": null,
       "object_fit": null,
       "object_position": null,
       "order": null,
       "overflow": null,
       "overflow_x": null,
       "overflow_y": null,
       "padding": null,
       "right": null,
       "top": null,
       "visibility": null,
       "width": null
      }
     },
     "f36fe792a4104364bf4317f1c15ef5c2": {
      "model_module": "@jupyter-widgets/controls",
      "model_module_version": "1.5.0",
      "model_name": "ProgressStyleModel",
      "state": {
       "_model_module": "@jupyter-widgets/controls",
       "_model_module_version": "1.5.0",
       "_model_name": "ProgressStyleModel",
       "_view_count": null,
       "_view_module": "@jupyter-widgets/base",
       "_view_module_version": "1.2.0",
       "_view_name": "StyleView",
       "bar_color": null,
       "description_width": ""
      }
     },
     "f4eb7596da834f96890683c58bbf08a7": {
      "model_module": "@jupyter-widgets/base",
      "model_module_version": "1.2.0",
      "model_name": "LayoutModel",
      "state": {
       "_model_module": "@jupyter-widgets/base",
       "_model_module_version": "1.2.0",
       "_model_name": "LayoutModel",
       "_view_count": null,
       "_view_module": "@jupyter-widgets/base",
       "_view_module_version": "1.2.0",
       "_view_name": "LayoutView",
       "align_content": null,
       "align_items": null,
       "align_self": null,
       "border": null,
       "bottom": null,
       "display": null,
       "flex": null,
       "flex_flow": null,
       "grid_area": null,
       "grid_auto_columns": null,
       "grid_auto_flow": null,
       "grid_auto_rows": null,
       "grid_column": null,
       "grid_gap": null,
       "grid_row": null,
       "grid_template_areas": null,
       "grid_template_columns": null,
       "grid_template_rows": null,
       "height": null,
       "justify_content": null,
       "justify_items": null,
       "left": null,
       "margin": null,
       "max_height": null,
       "max_width": null,
       "min_height": null,
       "min_width": null,
       "object_fit": null,
       "object_position": null,
       "order": null,
       "overflow": null,
       "overflow_x": null,
       "overflow_y": null,
       "padding": null,
       "right": null,
       "top": null,
       "visibility": null,
       "width": null
      }
     },
     "f5f71eb81aaa45bfb1be5fbd49dc59e3": {
      "model_module": "@jupyter-widgets/controls",
      "model_module_version": "1.5.0",
      "model_name": "DescriptionStyleModel",
      "state": {
       "_model_module": "@jupyter-widgets/controls",
       "_model_module_version": "1.5.0",
       "_model_name": "DescriptionStyleModel",
       "_view_count": null,
       "_view_module": "@jupyter-widgets/base",
       "_view_module_version": "1.2.0",
       "_view_name": "StyleView",
       "description_width": ""
      }
     },
     "f8d42cd58df747128141e08e767e2926": {
      "model_module": "@jupyter-widgets/base",
      "model_module_version": "1.2.0",
      "model_name": "LayoutModel",
      "state": {
       "_model_module": "@jupyter-widgets/base",
       "_model_module_version": "1.2.0",
       "_model_name": "LayoutModel",
       "_view_count": null,
       "_view_module": "@jupyter-widgets/base",
       "_view_module_version": "1.2.0",
       "_view_name": "LayoutView",
       "align_content": null,
       "align_items": null,
       "align_self": null,
       "border": null,
       "bottom": null,
       "display": null,
       "flex": null,
       "flex_flow": null,
       "grid_area": null,
       "grid_auto_columns": null,
       "grid_auto_flow": null,
       "grid_auto_rows": null,
       "grid_column": null,
       "grid_gap": null,
       "grid_row": null,
       "grid_template_areas": null,
       "grid_template_columns": null,
       "grid_template_rows": null,
       "height": null,
       "justify_content": null,
       "justify_items": null,
       "left": null,
       "margin": null,
       "max_height": null,
       "max_width": null,
       "min_height": null,
       "min_width": null,
       "object_fit": null,
       "object_position": null,
       "order": null,
       "overflow": null,
       "overflow_x": null,
       "overflow_y": null,
       "padding": null,
       "right": null,
       "top": null,
       "visibility": null,
       "width": null
      }
     }
    },
    "version_major": 2,
    "version_minor": 0
   }
  }
 },
 "nbformat": 4,
 "nbformat_minor": 5
}
