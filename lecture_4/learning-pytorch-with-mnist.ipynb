{
 "cells": [
  {
   "cell_type": "markdown",
   "id": "fe1fbe25",
   "metadata": {
    "papermill": {
     "duration": 0.015331,
     "end_time": "2023-03-30T09:07:14.806961",
     "exception": false,
     "start_time": "2023-03-30T09:07:14.791630",
     "status": "completed"
    },
    "tags": []
   },
   "source": [
    "In this notebook we will attempt to learn how to construct and train a deep neural network from scratch to predict the handwritten digits. For this task we will perform the following:\n",
    "- download and check the data\n",
    "- prepare the dataset for training\n",
    "- train the baseline model\n",
    "- process to develop a better model\n",
    "- analyze results\n",
    "\n",
    "First, we import all the libraries we need:"
   ]
  },
  {
   "cell_type": "code",
   "execution_count": 1,
   "id": "3f1979aa",
   "metadata": {
    "execution": {
     "iopub.execute_input": "2023-03-30T09:07:14.837290Z",
     "iopub.status.busy": "2023-03-30T09:07:14.836360Z",
     "iopub.status.idle": "2023-03-30T09:07:14.842889Z",
     "shell.execute_reply": "2023-03-30T09:07:14.841760Z"
    },
    "papermill": {
     "duration": 0.026538,
     "end_time": "2023-03-30T09:07:14.847309",
     "exception": false,
     "start_time": "2023-03-30T09:07:14.820771",
     "status": "completed"
    },
    "tags": []
   },
   "outputs": [],
   "source": [
    "#!pip install -Uqq fastai"
   ]
  },
  {
   "cell_type": "code",
   "execution_count": 2,
   "id": "17dd1749",
   "metadata": {
    "execution": {
     "iopub.execute_input": "2023-03-30T09:07:14.878401Z",
     "iopub.status.busy": "2023-03-30T09:07:14.877527Z",
     "iopub.status.idle": "2023-03-30T09:07:28.393777Z",
     "shell.execute_reply": "2023-03-30T09:07:28.392570Z"
    },
    "papermill": {
     "duration": 13.535269,
     "end_time": "2023-03-30T09:07:28.396732",
     "exception": false,
     "start_time": "2023-03-30T09:07:14.861463",
     "status": "completed"
    },
    "tags": []
   },
   "outputs": [
    {
     "name": "stdout",
     "output_type": "stream",
     "text": [
      "Collecting fastbook\r\n",
      "  Downloading fastbook-0.0.29-py3-none-any.whl (719 kB)\r\n",
      "\u001b[2K     \u001b[90m━━━━━━━━━━━━━━━━━━━━━━━━━━━━━━━━━━━━━━\u001b[0m \u001b[32m719.8/719.8 kB\u001b[0m \u001b[31m21.4 MB/s\u001b[0m eta \u001b[36m0:00:00\u001b[0m\r\n",
      "\u001b[?25hRequirement already satisfied: graphviz in /opt/conda/lib/python3.7/site-packages (from fastbook) (0.8.4)\r\n",
      "Requirement already satisfied: fastai>=2.6 in /opt/conda/lib/python3.7/site-packages (from fastbook) (2.7.11)\r\n",
      "Requirement already satisfied: packaging in /opt/conda/lib/python3.7/site-packages (from fastbook) (23.0)\r\n",
      "Requirement already satisfied: sentencepiece in /opt/conda/lib/python3.7/site-packages (from fastbook) (0.1.97)\r\n",
      "Requirement already satisfied: ipywidgets<8 in /opt/conda/lib/python3.7/site-packages (from fastbook) (7.7.1)\r\n",
      "Requirement already satisfied: pandas in /opt/conda/lib/python3.7/site-packages (from fastbook) (1.3.5)\r\n",
      "Requirement already satisfied: transformers in /opt/conda/lib/python3.7/site-packages (from fastbook) (4.26.1)\r\n",
      "Requirement already satisfied: pip in /opt/conda/lib/python3.7/site-packages (from fastbook) (22.3.1)\r\n",
      "Requirement already satisfied: requests in /opt/conda/lib/python3.7/site-packages (from fastbook) (2.28.2)\r\n",
      "Requirement already satisfied: datasets in /opt/conda/lib/python3.7/site-packages (from fastbook) (2.1.0)\r\n",
      "Requirement already satisfied: scipy in /opt/conda/lib/python3.7/site-packages (from fastai>=2.6->fastbook) (1.7.3)\r\n",
      "Requirement already satisfied: pyyaml in /opt/conda/lib/python3.7/site-packages (from fastai>=2.6->fastbook) (6.0)\r\n",
      "Requirement already satisfied: spacy<4 in /opt/conda/lib/python3.7/site-packages (from fastai>=2.6->fastbook) (3.5.0)\r\n",
      "Requirement already satisfied: torch<1.14,>=1.7 in /opt/conda/lib/python3.7/site-packages (from fastai>=2.6->fastbook) (1.13.0+cpu)\r\n",
      "Requirement already satisfied: fastprogress>=0.2.4 in /opt/conda/lib/python3.7/site-packages (from fastai>=2.6->fastbook) (1.0.3)\r\n",
      "Requirement already satisfied: fastdownload<2,>=0.0.5 in /opt/conda/lib/python3.7/site-packages (from fastai>=2.6->fastbook) (0.0.7)\r\n",
      "Requirement already satisfied: scikit-learn in /opt/conda/lib/python3.7/site-packages (from fastai>=2.6->fastbook) (1.0.2)\r\n",
      "Requirement already satisfied: torchvision>=0.8.2 in /opt/conda/lib/python3.7/site-packages (from fastai>=2.6->fastbook) (0.14.0+cpu)\r\n",
      "Requirement already satisfied: fastcore<1.6,>=1.4.5 in /opt/conda/lib/python3.7/site-packages (from fastai>=2.6->fastbook) (1.5.28)\r\n",
      "Requirement already satisfied: matplotlib in /opt/conda/lib/python3.7/site-packages (from fastai>=2.6->fastbook) (3.5.3)\r\n",
      "Requirement already satisfied: pillow>6.0.0 in /opt/conda/lib/python3.7/site-packages (from fastai>=2.6->fastbook) (9.4.0)\r\n",
      "Requirement already satisfied: widgetsnbextension~=3.6.0 in /opt/conda/lib/python3.7/site-packages (from ipywidgets<8->fastbook) (3.6.2)\r\n",
      "Requirement already satisfied: jupyterlab-widgets>=1.0.0 in /opt/conda/lib/python3.7/site-packages (from ipywidgets<8->fastbook) (3.0.5)\r\n",
      "Requirement already satisfied: ipython>=4.0.0 in /opt/conda/lib/python3.7/site-packages (from ipywidgets<8->fastbook) (7.34.0)\r\n",
      "Requirement already satisfied: ipykernel>=4.5.1 in /opt/conda/lib/python3.7/site-packages (from ipywidgets<8->fastbook) (6.16.2)\r\n",
      "Requirement already satisfied: ipython-genutils~=0.2.0 in /opt/conda/lib/python3.7/site-packages (from ipywidgets<8->fastbook) (0.2.0)\r\n",
      "Requirement already satisfied: traitlets>=4.3.1 in /opt/conda/lib/python3.7/site-packages (from ipywidgets<8->fastbook) (5.8.1)\r\n",
      "Requirement already satisfied: huggingface-hub<1.0.0,>=0.1.0 in /opt/conda/lib/python3.7/site-packages (from datasets->fastbook) (0.12.1)\r\n",
      "Requirement already satisfied: responses<0.19 in /opt/conda/lib/python3.7/site-packages (from datasets->fastbook) (0.18.0)\r\n",
      "Requirement already satisfied: numpy>=1.17 in /opt/conda/lib/python3.7/site-packages (from datasets->fastbook) (1.21.6)\r\n",
      "Requirement already satisfied: pyarrow>=5.0.0 in /opt/conda/lib/python3.7/site-packages (from datasets->fastbook) (6.0.1)\r\n",
      "Requirement already satisfied: xxhash in /opt/conda/lib/python3.7/site-packages (from datasets->fastbook) (3.2.0)\r\n",
      "Requirement already satisfied: tqdm>=4.62.1 in /opt/conda/lib/python3.7/site-packages (from datasets->fastbook) (4.64.1)\r\n",
      "Requirement already satisfied: aiohttp in /opt/conda/lib/python3.7/site-packages (from datasets->fastbook) (3.8.3)\r\n",
      "Requirement already satisfied: dill in /opt/conda/lib/python3.7/site-packages (from datasets->fastbook) (0.3.6)\r\n",
      "Requirement already satisfied: importlib-metadata in /opt/conda/lib/python3.7/site-packages (from datasets->fastbook) (4.11.4)\r\n",
      "Requirement already satisfied: fsspec[http]>=2021.05.0 in /opt/conda/lib/python3.7/site-packages (from datasets->fastbook) (2023.1.0)\r\n",
      "Requirement already satisfied: multiprocess in /opt/conda/lib/python3.7/site-packages (from datasets->fastbook) (0.70.14)\r\n",
      "Requirement already satisfied: certifi>=2017.4.17 in /opt/conda/lib/python3.7/site-packages (from requests->fastbook) (2022.12.7)\r\n",
      "Requirement already satisfied: idna<4,>=2.5 in /opt/conda/lib/python3.7/site-packages (from requests->fastbook) (3.4)\r\n",
      "Requirement already satisfied: charset-normalizer<4,>=2 in /opt/conda/lib/python3.7/site-packages (from requests->fastbook) (2.1.1)\r\n",
      "Requirement already satisfied: urllib3<1.27,>=1.21.1 in /opt/conda/lib/python3.7/site-packages (from requests->fastbook) (1.26.14)\r\n",
      "Requirement already satisfied: python-dateutil>=2.7.3 in /opt/conda/lib/python3.7/site-packages (from pandas->fastbook) (2.8.2)\r\n",
      "Requirement already satisfied: pytz>=2017.3 in /opt/conda/lib/python3.7/site-packages (from pandas->fastbook) (2022.7.1)\r\n",
      "Requirement already satisfied: filelock in /opt/conda/lib/python3.7/site-packages (from transformers->fastbook) (3.9.0)\r\n",
      "Requirement already satisfied: regex!=2019.12.17 in /opt/conda/lib/python3.7/site-packages (from transformers->fastbook) (2021.11.10)\r\n",
      "Requirement already satisfied: tokenizers!=0.11.3,<0.14,>=0.11.1 in /opt/conda/lib/python3.7/site-packages (from transformers->fastbook) (0.13.2)\r\n",
      "Requirement already satisfied: frozenlist>=1.1.1 in /opt/conda/lib/python3.7/site-packages (from aiohttp->datasets->fastbook) (1.3.3)\r\n",
      "Requirement already satisfied: yarl<2.0,>=1.0 in /opt/conda/lib/python3.7/site-packages (from aiohttp->datasets->fastbook) (1.8.2)\r\n",
      "Requirement already satisfied: async-timeout<5.0,>=4.0.0a3 in /opt/conda/lib/python3.7/site-packages (from aiohttp->datasets->fastbook) (4.0.2)\r\n",
      "Requirement already satisfied: asynctest==0.13.0 in /opt/conda/lib/python3.7/site-packages (from aiohttp->datasets->fastbook) (0.13.0)\r\n",
      "Requirement already satisfied: typing-extensions>=3.7.4 in /opt/conda/lib/python3.7/site-packages (from aiohttp->datasets->fastbook) (4.4.0)\r\n",
      "Requirement already satisfied: multidict<7.0,>=4.5 in /opt/conda/lib/python3.7/site-packages (from aiohttp->datasets->fastbook) (6.0.4)\r\n",
      "Requirement already satisfied: attrs>=17.3.0 in /opt/conda/lib/python3.7/site-packages (from aiohttp->datasets->fastbook) (22.2.0)\r\n",
      "Requirement already satisfied: aiosignal>=1.1.2 in /opt/conda/lib/python3.7/site-packages (from aiohttp->datasets->fastbook) (1.3.1)\r\n",
      "Requirement already satisfied: pyzmq>=17 in /opt/conda/lib/python3.7/site-packages (from ipykernel>=4.5.1->ipywidgets<8->fastbook) (25.0.0)\r\n",
      "Requirement already satisfied: jupyter-client>=6.1.12 in /opt/conda/lib/python3.7/site-packages (from ipykernel>=4.5.1->ipywidgets<8->fastbook) (7.4.9)\r\n",
      "Requirement already satisfied: matplotlib-inline>=0.1 in /opt/conda/lib/python3.7/site-packages (from ipykernel>=4.5.1->ipywidgets<8->fastbook) (0.1.6)\r\n",
      "Requirement already satisfied: psutil in /opt/conda/lib/python3.7/site-packages (from ipykernel>=4.5.1->ipywidgets<8->fastbook) (5.9.3)\r\n",
      "Requirement already satisfied: tornado>=6.1 in /opt/conda/lib/python3.7/site-packages (from ipykernel>=4.5.1->ipywidgets<8->fastbook) (6.2)\r\n",
      "Requirement already satisfied: nest-asyncio in /opt/conda/lib/python3.7/site-packages (from ipykernel>=4.5.1->ipywidgets<8->fastbook) (1.5.6)\r\n",
      "Requirement already satisfied: debugpy>=1.0 in /opt/conda/lib/python3.7/site-packages (from ipykernel>=4.5.1->ipywidgets<8->fastbook) (1.6.6)\r\n",
      "Requirement already satisfied: jedi>=0.16 in /opt/conda/lib/python3.7/site-packages (from ipython>=4.0.0->ipywidgets<8->fastbook) (0.18.2)\r\n",
      "Requirement already satisfied: backcall in /opt/conda/lib/python3.7/site-packages (from ipython>=4.0.0->ipywidgets<8->fastbook) (0.2.0)\r\n",
      "Requirement already satisfied: prompt-toolkit!=3.0.0,!=3.0.1,<3.1.0,>=2.0.0 in /opt/conda/lib/python3.7/site-packages (from ipython>=4.0.0->ipywidgets<8->fastbook) (3.0.36)\r\n",
      "Requirement already satisfied: pygments in /opt/conda/lib/python3.7/site-packages (from ipython>=4.0.0->ipywidgets<8->fastbook) (2.14.0)\r\n",
      "Requirement already satisfied: setuptools>=18.5 in /opt/conda/lib/python3.7/site-packages (from ipython>=4.0.0->ipywidgets<8->fastbook) (59.8.0)\r\n",
      "Requirement already satisfied: pickleshare in /opt/conda/lib/python3.7/site-packages (from ipython>=4.0.0->ipywidgets<8->fastbook) (0.7.5)\r\n",
      "Requirement already satisfied: decorator in /opt/conda/lib/python3.7/site-packages (from ipython>=4.0.0->ipywidgets<8->fastbook) (5.1.1)\r\n",
      "Requirement already satisfied: pexpect>4.3 in /opt/conda/lib/python3.7/site-packages (from ipython>=4.0.0->ipywidgets<8->fastbook) (4.8.0)\r\n",
      "Requirement already satisfied: six>=1.5 in /opt/conda/lib/python3.7/site-packages (from python-dateutil>=2.7.3->pandas->fastbook) (1.16.0)\r\n",
      "Requirement already satisfied: wasabi<1.2.0,>=0.9.1 in /opt/conda/lib/python3.7/site-packages (from spacy<4->fastai>=2.6->fastbook) (1.1.1)\r\n",
      "Requirement already satisfied: pydantic!=1.8,!=1.8.1,<1.11.0,>=1.7.4 in /opt/conda/lib/python3.7/site-packages (from spacy<4->fastai>=2.6->fastbook) (1.10.4)\r\n",
      "Requirement already satisfied: spacy-legacy<3.1.0,>=3.0.11 in /opt/conda/lib/python3.7/site-packages (from spacy<4->fastai>=2.6->fastbook) (3.0.12)\r\n",
      "Requirement already satisfied: srsly<3.0.0,>=2.4.3 in /opt/conda/lib/python3.7/site-packages (from spacy<4->fastai>=2.6->fastbook) (2.4.5)\r\n",
      "Requirement already satisfied: smart-open<7.0.0,>=5.2.1 in /opt/conda/lib/python3.7/site-packages (from spacy<4->fastai>=2.6->fastbook) (6.3.0)\r\n",
      "Requirement already satisfied: pathy>=0.10.0 in /opt/conda/lib/python3.7/site-packages (from spacy<4->fastai>=2.6->fastbook) (0.10.1)\r\n",
      "Requirement already satisfied: catalogue<2.1.0,>=2.0.6 in /opt/conda/lib/python3.7/site-packages (from spacy<4->fastai>=2.6->fastbook) (2.0.8)\r\n",
      "Requirement already satisfied: murmurhash<1.1.0,>=0.28.0 in /opt/conda/lib/python3.7/site-packages (from spacy<4->fastai>=2.6->fastbook) (1.0.9)\r\n",
      "Requirement already satisfied: preshed<3.1.0,>=3.0.2 in /opt/conda/lib/python3.7/site-packages (from spacy<4->fastai>=2.6->fastbook) (3.0.8)\r\n",
      "Requirement already satisfied: thinc<8.2.0,>=8.1.0 in /opt/conda/lib/python3.7/site-packages (from spacy<4->fastai>=2.6->fastbook) (8.1.7)\r\n",
      "Requirement already satisfied: cymem<2.1.0,>=2.0.2 in /opt/conda/lib/python3.7/site-packages (from spacy<4->fastai>=2.6->fastbook) (2.0.7)\r\n",
      "Requirement already satisfied: langcodes<4.0.0,>=3.2.0 in /opt/conda/lib/python3.7/site-packages (from spacy<4->fastai>=2.6->fastbook) (3.3.0)\r\n",
      "Requirement already satisfied: spacy-loggers<2.0.0,>=1.0.0 in /opt/conda/lib/python3.7/site-packages (from spacy<4->fastai>=2.6->fastbook) (1.0.4)\r\n",
      "Requirement already satisfied: typer<0.8.0,>=0.3.0 in /opt/conda/lib/python3.7/site-packages (from spacy<4->fastai>=2.6->fastbook) (0.7.0)\r\n",
      "Requirement already satisfied: jinja2 in /opt/conda/lib/python3.7/site-packages (from spacy<4->fastai>=2.6->fastbook) (3.1.2)\r\n",
      "Requirement already satisfied: notebook>=4.4.1 in /opt/conda/lib/python3.7/site-packages (from widgetsnbextension~=3.6.0->ipywidgets<8->fastbook) (6.5.2)\r\n",
      "Requirement already satisfied: zipp>=0.5 in /opt/conda/lib/python3.7/site-packages (from importlib-metadata->datasets->fastbook) (3.11.0)\r\n",
      "Requirement already satisfied: pyparsing>=2.2.1 in /opt/conda/lib/python3.7/site-packages (from matplotlib->fastai>=2.6->fastbook) (3.0.9)\r\n",
      "Requirement already satisfied: kiwisolver>=1.0.1 in /opt/conda/lib/python3.7/site-packages (from matplotlib->fastai>=2.6->fastbook) (1.4.4)\r\n",
      "Requirement already satisfied: cycler>=0.10 in /opt/conda/lib/python3.7/site-packages (from matplotlib->fastai>=2.6->fastbook) (0.11.0)\r\n",
      "Requirement already satisfied: fonttools>=4.22.0 in /opt/conda/lib/python3.7/site-packages (from matplotlib->fastai>=2.6->fastbook) (4.38.0)\r\n",
      "Requirement already satisfied: joblib>=0.11 in /opt/conda/lib/python3.7/site-packages (from scikit-learn->fastai>=2.6->fastbook) (1.2.0)\r\n",
      "Requirement already satisfied: threadpoolctl>=2.0.0 in /opt/conda/lib/python3.7/site-packages (from scikit-learn->fastai>=2.6->fastbook) (3.1.0)\r\n",
      "Requirement already satisfied: parso<0.9.0,>=0.8.0 in /opt/conda/lib/python3.7/site-packages (from jedi>=0.16->ipython>=4.0.0->ipywidgets<8->fastbook) (0.8.3)\r\n",
      "Requirement already satisfied: jupyter-core>=4.9.2 in /opt/conda/lib/python3.7/site-packages (from jupyter-client>=6.1.12->ipykernel>=4.5.1->ipywidgets<8->fastbook) (4.12.0)\r\n",
      "Requirement already satisfied: entrypoints in /opt/conda/lib/python3.7/site-packages (from jupyter-client>=6.1.12->ipykernel>=4.5.1->ipywidgets<8->fastbook) (0.4)\r\n",
      "Requirement already satisfied: nbconvert>=5 in /opt/conda/lib/python3.7/site-packages (from notebook>=4.4.1->widgetsnbextension~=3.6.0->ipywidgets<8->fastbook) (7.2.8)\r\n",
      "Requirement already satisfied: argon2-cffi in /opt/conda/lib/python3.7/site-packages (from notebook>=4.4.1->widgetsnbextension~=3.6.0->ipywidgets<8->fastbook) (21.3.0)\r\n",
      "Requirement already satisfied: nbformat in /opt/conda/lib/python3.7/site-packages (from notebook>=4.4.1->widgetsnbextension~=3.6.0->ipywidgets<8->fastbook) (5.7.3)\r\n",
      "Requirement already satisfied: prometheus-client in /opt/conda/lib/python3.7/site-packages (from notebook>=4.4.1->widgetsnbextension~=3.6.0->ipywidgets<8->fastbook) (0.15.0)\r\n",
      "Requirement already satisfied: terminado>=0.8.3 in /opt/conda/lib/python3.7/site-packages (from notebook>=4.4.1->widgetsnbextension~=3.6.0->ipywidgets<8->fastbook) (0.17.1)\r\n",
      "Requirement already satisfied: Send2Trash>=1.8.0 in /opt/conda/lib/python3.7/site-packages (from notebook>=4.4.1->widgetsnbextension~=3.6.0->ipywidgets<8->fastbook) (1.8.0)\r\n",
      "Requirement already satisfied: nbclassic>=0.4.7 in /opt/conda/lib/python3.7/site-packages (from notebook>=4.4.1->widgetsnbextension~=3.6.0->ipywidgets<8->fastbook) (0.4.8)\r\n",
      "Requirement already satisfied: ptyprocess>=0.5 in /opt/conda/lib/python3.7/site-packages (from pexpect>4.3->ipython>=4.0.0->ipywidgets<8->fastbook) (0.7.0)\r\n",
      "Requirement already satisfied: wcwidth in /opt/conda/lib/python3.7/site-packages (from prompt-toolkit!=3.0.0,!=3.0.1,<3.1.0,>=2.0.0->ipython>=4.0.0->ipywidgets<8->fastbook) (0.2.6)\r\n",
      "Requirement already satisfied: blis<0.8.0,>=0.7.8 in /opt/conda/lib/python3.7/site-packages (from thinc<8.2.0,>=8.1.0->spacy<4->fastai>=2.6->fastbook) (0.7.9)\r\n",
      "Requirement already satisfied: confection<1.0.0,>=0.0.1 in /opt/conda/lib/python3.7/site-packages (from thinc<8.2.0,>=8.1.0->spacy<4->fastai>=2.6->fastbook) (0.0.4)\r\n",
      "Requirement already satisfied: click<9.0.0,>=7.1.1 in /opt/conda/lib/python3.7/site-packages (from typer<0.8.0,>=0.3.0->spacy<4->fastai>=2.6->fastbook) (8.1.3)\r\n",
      "Requirement already satisfied: MarkupSafe>=2.0 in /opt/conda/lib/python3.7/site-packages (from jinja2->spacy<4->fastai>=2.6->fastbook) (2.1.1)\r\n",
      "Requirement already satisfied: notebook-shim>=0.1.0 in /opt/conda/lib/python3.7/site-packages (from nbclassic>=0.4.7->notebook>=4.4.1->widgetsnbextension~=3.6.0->ipywidgets<8->fastbook) (0.2.2)\r\n",
      "Requirement already satisfied: jupyter-server>=1.8 in /opt/conda/lib/python3.7/site-packages (from nbclassic>=0.4.7->notebook>=4.4.1->widgetsnbextension~=3.6.0->ipywidgets<8->fastbook) (1.23.5)\r\n",
      "Requirement already satisfied: beautifulsoup4 in /opt/conda/lib/python3.7/site-packages (from nbconvert>=5->notebook>=4.4.1->widgetsnbextension~=3.6.0->ipywidgets<8->fastbook) (4.11.1)\r\n",
      "Requirement already satisfied: jupyterlab-pygments in /opt/conda/lib/python3.7/site-packages (from nbconvert>=5->notebook>=4.4.1->widgetsnbextension~=3.6.0->ipywidgets<8->fastbook) (0.2.2)\r\n",
      "Requirement already satisfied: pandocfilters>=1.4.1 in /opt/conda/lib/python3.7/site-packages (from nbconvert>=5->notebook>=4.4.1->widgetsnbextension~=3.6.0->ipywidgets<8->fastbook) (1.5.0)\r\n",
      "Requirement already satisfied: defusedxml in /opt/conda/lib/python3.7/site-packages (from nbconvert>=5->notebook>=4.4.1->widgetsnbextension~=3.6.0->ipywidgets<8->fastbook) (0.7.1)\r\n",
      "Requirement already satisfied: nbclient>=0.5.0 in /opt/conda/lib/python3.7/site-packages (from nbconvert>=5->notebook>=4.4.1->widgetsnbextension~=3.6.0->ipywidgets<8->fastbook) (0.7.2)\r\n",
      "Requirement already satisfied: mistune<3,>=2.0.3 in /opt/conda/lib/python3.7/site-packages (from nbconvert>=5->notebook>=4.4.1->widgetsnbextension~=3.6.0->ipywidgets<8->fastbook) (2.0.4)\r\n",
      "Requirement already satisfied: tinycss2 in /opt/conda/lib/python3.7/site-packages (from nbconvert>=5->notebook>=4.4.1->widgetsnbextension~=3.6.0->ipywidgets<8->fastbook) (1.2.1)\r\n",
      "Requirement already satisfied: bleach in /opt/conda/lib/python3.7/site-packages (from nbconvert>=5->notebook>=4.4.1->widgetsnbextension~=3.6.0->ipywidgets<8->fastbook) (6.0.0)\r\n",
      "Requirement already satisfied: fastjsonschema in /opt/conda/lib/python3.7/site-packages (from nbformat->notebook>=4.4.1->widgetsnbextension~=3.6.0->ipywidgets<8->fastbook) (2.16.2)\r\n",
      "Requirement already satisfied: jsonschema>=2.6 in /opt/conda/lib/python3.7/site-packages (from nbformat->notebook>=4.4.1->widgetsnbextension~=3.6.0->ipywidgets<8->fastbook) (4.17.3)\r\n",
      "Requirement already satisfied: argon2-cffi-bindings in /opt/conda/lib/python3.7/site-packages (from argon2-cffi->notebook>=4.4.1->widgetsnbextension~=3.6.0->ipywidgets<8->fastbook) (21.2.0)\r\n",
      "Requirement already satisfied: importlib-resources>=1.4.0 in /opt/conda/lib/python3.7/site-packages (from jsonschema>=2.6->nbformat->notebook>=4.4.1->widgetsnbextension~=3.6.0->ipywidgets<8->fastbook) (5.10.2)\r\n",
      "Requirement already satisfied: pkgutil-resolve-name>=1.3.10 in /opt/conda/lib/python3.7/site-packages (from jsonschema>=2.6->nbformat->notebook>=4.4.1->widgetsnbextension~=3.6.0->ipywidgets<8->fastbook) (1.3.10)\r\n",
      "Requirement already satisfied: pyrsistent!=0.17.0,!=0.17.1,!=0.17.2,>=0.14.0 in /opt/conda/lib/python3.7/site-packages (from jsonschema>=2.6->nbformat->notebook>=4.4.1->widgetsnbextension~=3.6.0->ipywidgets<8->fastbook) (0.19.3)\r\n",
      "Requirement already satisfied: websocket-client in /opt/conda/lib/python3.7/site-packages (from jupyter-server>=1.8->nbclassic>=0.4.7->notebook>=4.4.1->widgetsnbextension~=3.6.0->ipywidgets<8->fastbook) (1.4.2)\r\n",
      "Requirement already satisfied: anyio<4,>=3.1.0 in /opt/conda/lib/python3.7/site-packages (from jupyter-server>=1.8->nbclassic>=0.4.7->notebook>=4.4.1->widgetsnbextension~=3.6.0->ipywidgets<8->fastbook) (3.6.2)\r\n",
      "Requirement already satisfied: cffi>=1.0.1 in /opt/conda/lib/python3.7/site-packages (from argon2-cffi-bindings->argon2-cffi->notebook>=4.4.1->widgetsnbextension~=3.6.0->ipywidgets<8->fastbook) (1.15.1)\r\n",
      "Requirement already satisfied: soupsieve>1.2 in /opt/conda/lib/python3.7/site-packages (from beautifulsoup4->nbconvert>=5->notebook>=4.4.1->widgetsnbextension~=3.6.0->ipywidgets<8->fastbook) (2.3.2.post1)\r\n",
      "Requirement already satisfied: webencodings in /opt/conda/lib/python3.7/site-packages (from bleach->nbconvert>=5->notebook>=4.4.1->widgetsnbextension~=3.6.0->ipywidgets<8->fastbook) (0.5.1)\r\n",
      "Requirement already satisfied: sniffio>=1.1 in /opt/conda/lib/python3.7/site-packages (from anyio<4,>=3.1.0->jupyter-server>=1.8->nbclassic>=0.4.7->notebook>=4.4.1->widgetsnbextension~=3.6.0->ipywidgets<8->fastbook) (1.3.0)\r\n",
      "Requirement already satisfied: pycparser in /opt/conda/lib/python3.7/site-packages (from cffi>=1.0.1->argon2-cffi-bindings->argon2-cffi->notebook>=4.4.1->widgetsnbextension~=3.6.0->ipywidgets<8->fastbook) (2.21)\r\n",
      "Installing collected packages: fastbook\r\n",
      "Successfully installed fastbook-0.0.29\r\n",
      "\u001b[33mWARNING: Running pip as the 'root' user can result in broken permissions and conflicting behaviour with the system package manager. It is recommended to use a virtual environment instead: https://pip.pypa.io/warnings/venv\u001b[0m\u001b[33m\r\n",
      "\u001b[0m"
     ]
    }
   ],
   "source": [
    "!pip install fastbook"
   ]
  },
  {
   "cell_type": "code",
   "execution_count": 3,
   "id": "53d36e79",
   "metadata": {
    "_cell_guid": "b1076dfc-b9ad-4769-8c92-a6c4dae69d19",
    "_uuid": "8f2839f25d086af736a60e9eeb907d3b93b6e0e5",
    "execution": {
     "iopub.execute_input": "2023-03-30T09:07:28.433733Z",
     "iopub.status.busy": "2023-03-30T09:07:28.433291Z",
     "iopub.status.idle": "2023-03-30T09:07:31.195052Z",
     "shell.execute_reply": "2023-03-30T09:07:31.193872Z"
    },
    "papermill": {
     "duration": 2.78334,
     "end_time": "2023-03-30T09:07:31.198517",
     "exception": false,
     "start_time": "2023-03-30T09:07:28.415177",
     "status": "completed"
    },
    "tags": []
   },
   "outputs": [],
   "source": [
    "%matplotlib inline\n",
    "import matplotlib.pyplot as plt\n",
    "\n",
    "from pathlib import Path\n",
    "\n",
    "import numpy as np\n",
    "import pandas as pd\n",
    "\n",
    "# PyTorch\n",
    "import torch\n",
    "import torch.nn as nn\n",
    "import torch.nn.functional as F\n",
    "import torch.optim as optim\n",
    "from torchvision import datasets\n",
    "from torch.utils.data import DataLoader\n",
    "from torchvision.transforms import ToTensor\n",
    "from torch.utils.data import SubsetRandomSampler\n",
    "\n",
    "# fastai\n",
    "#from fastai.vision.all import *\n",
    "#from fastbook import *"
   ]
  },
  {
   "cell_type": "markdown",
   "id": "7b6abde3",
   "metadata": {
    "papermill": {
     "duration": 0.01636,
     "end_time": "2023-03-30T09:07:31.234590",
     "exception": false,
     "start_time": "2023-03-30T09:07:31.218230",
     "status": "completed"
    },
    "tags": []
   },
   "source": [
    "Nest, we define global variables and plot style:"
   ]
  },
  {
   "cell_type": "code",
   "execution_count": 4,
   "id": "e1f15206",
   "metadata": {
    "execution": {
     "iopub.execute_input": "2023-03-30T09:07:31.270884Z",
     "iopub.status.busy": "2023-03-30T09:07:31.269628Z",
     "iopub.status.idle": "2023-03-30T09:07:31.277061Z",
     "shell.execute_reply": "2023-03-30T09:07:31.275921Z"
    },
    "papermill": {
     "duration": 0.028691,
     "end_time": "2023-03-30T09:07:31.279984",
     "exception": false,
     "start_time": "2023-03-30T09:07:31.251293",
     "status": "completed"
    },
    "tags": []
   },
   "outputs": [],
   "source": [
    "# Plotting style\n",
    "plt.style.use('ggplot')\n",
    "\n",
    "# Global variables\n",
    "DATA_DIR = Path('/kaggle/working/data/')"
   ]
  },
  {
   "cell_type": "markdown",
   "id": "5fd34d3a",
   "metadata": {
    "papermill": {
     "duration": 0.019981,
     "end_time": "2023-03-30T09:07:31.324381",
     "exception": false,
     "start_time": "2023-03-30T09:07:31.304400",
     "status": "completed"
    },
    "tags": []
   },
   "source": [
    "# About the dataset"
   ]
  },
  {
   "cell_type": "markdown",
   "id": "7bcc4594",
   "metadata": {
    "papermill": {
     "duration": 0.022839,
     "end_time": "2023-03-30T09:07:31.366647",
     "exception": false,
     "start_time": "2023-03-30T09:07:31.343808",
     "status": "completed"
    },
    "tags": []
   },
   "source": [
    "## Download the dataset"
   ]
  },
  {
   "cell_type": "markdown",
   "id": "70165a1a",
   "metadata": {
    "papermill": {
     "duration": 0.016426,
     "end_time": "2023-03-30T09:07:31.400460",
     "exception": false,
     "start_time": "2023-03-30T09:07:31.384034",
     "status": "completed"
    },
    "tags": []
   },
   "source": [
    "To train anything we first need the data. For this project we will use the famous [MNIST dataset](https://pytorch.org/vision/stable/generated/torchvision.datasets.MNIST.html#torchvision.datasets.MNIST) comprised of images of digits from 0 to 9 where our task is to predict the digit based on the image provided. The dataset is already provided in the `dataset` module of `torchvision` library. To view which datasets are available see the [link](https://pytorch.org/vision/stable/datasets.html).\n",
    "\n",
    "To download the dataset we need to provide the following arguments: `root`: where to save the downloaded files, `train`: should the train dataset be downloaded, and `download` whether to download the dataset. Note that if the data already exists locally in the provided `root` argument then the data will not be downloaded. The dataset will be processed as PyTorch `DataSet`."
   ]
  },
  {
   "cell_type": "code",
   "execution_count": 5,
   "id": "5f6c23e7",
   "metadata": {
    "execution": {
     "iopub.execute_input": "2023-03-30T09:07:31.435760Z",
     "iopub.status.busy": "2023-03-30T09:07:31.435335Z",
     "iopub.status.idle": "2023-03-30T09:07:32.439974Z",
     "shell.execute_reply": "2023-03-30T09:07:32.437838Z"
    },
    "papermill": {
     "duration": 1.025629,
     "end_time": "2023-03-30T09:07:32.442906",
     "exception": false,
     "start_time": "2023-03-30T09:07:31.417277",
     "status": "completed"
    },
    "tags": []
   },
   "outputs": [
    {
     "name": "stdout",
     "output_type": "stream",
     "text": [
      "Downloading http://yann.lecun.com/exdb/mnist/train-images-idx3-ubyte.gz\n",
      "Downloading http://yann.lecun.com/exdb/mnist/train-images-idx3-ubyte.gz to /kaggle/working/data/MNIST/raw/train-images-idx3-ubyte.gz\n"
     ]
    },
    {
     "data": {
      "application/vnd.jupyter.widget-view+json": {
       "model_id": "c2cfeff0147a4bb9ab87b11d19b97a8d",
       "version_major": 2,
       "version_minor": 0
      },
      "text/plain": [
       "  0%|          | 0/9912422 [00:00<?, ?it/s]"
      ]
     },
     "metadata": {},
     "output_type": "display_data"
    },
    {
     "name": "stdout",
     "output_type": "stream",
     "text": [
      "Extracting /kaggle/working/data/MNIST/raw/train-images-idx3-ubyte.gz to /kaggle/working/data/MNIST/raw\n",
      "\n",
      "Downloading http://yann.lecun.com/exdb/mnist/train-labels-idx1-ubyte.gz\n",
      "Downloading http://yann.lecun.com/exdb/mnist/train-labels-idx1-ubyte.gz to /kaggle/working/data/MNIST/raw/train-labels-idx1-ubyte.gz\n"
     ]
    },
    {
     "data": {
      "application/vnd.jupyter.widget-view+json": {
       "model_id": "a33d906530714458b0d852ce4a8ad3bc",
       "version_major": 2,
       "version_minor": 0
      },
      "text/plain": [
       "  0%|          | 0/28881 [00:00<?, ?it/s]"
      ]
     },
     "metadata": {},
     "output_type": "display_data"
    },
    {
     "name": "stdout",
     "output_type": "stream",
     "text": [
      "Extracting /kaggle/working/data/MNIST/raw/train-labels-idx1-ubyte.gz to /kaggle/working/data/MNIST/raw\n",
      "\n",
      "Downloading http://yann.lecun.com/exdb/mnist/t10k-images-idx3-ubyte.gz\n",
      "Downloading http://yann.lecun.com/exdb/mnist/t10k-images-idx3-ubyte.gz to /kaggle/working/data/MNIST/raw/t10k-images-idx3-ubyte.gz\n"
     ]
    },
    {
     "data": {
      "application/vnd.jupyter.widget-view+json": {
       "model_id": "de4f7ce787fa4edd879c5b05089b9b21",
       "version_major": 2,
       "version_minor": 0
      },
      "text/plain": [
       "  0%|          | 0/1648877 [00:00<?, ?it/s]"
      ]
     },
     "metadata": {},
     "output_type": "display_data"
    },
    {
     "name": "stdout",
     "output_type": "stream",
     "text": [
      "Extracting /kaggle/working/data/MNIST/raw/t10k-images-idx3-ubyte.gz to /kaggle/working/data/MNIST/raw\n",
      "\n",
      "Downloading http://yann.lecun.com/exdb/mnist/t10k-labels-idx1-ubyte.gz\n",
      "Downloading http://yann.lecun.com/exdb/mnist/t10k-labels-idx1-ubyte.gz to /kaggle/working/data/MNIST/raw/t10k-labels-idx1-ubyte.gz\n"
     ]
    },
    {
     "data": {
      "application/vnd.jupyter.widget-view+json": {
       "model_id": "5b8e933245744324aab50d9323994e1b",
       "version_major": 2,
       "version_minor": 0
      },
      "text/plain": [
       "  0%|          | 0/4542 [00:00<?, ?it/s]"
      ]
     },
     "metadata": {},
     "output_type": "display_data"
    },
    {
     "name": "stdout",
     "output_type": "stream",
     "text": [
      "Extracting /kaggle/working/data/MNIST/raw/t10k-labels-idx1-ubyte.gz to /kaggle/working/data/MNIST/raw\n",
      "\n",
      "Train data: 60000\n",
      "Test data: 10000\n"
     ]
    }
   ],
   "source": [
    "# Train set\n",
    "data_train = datasets.MNIST(root=DATA_DIR, train=True, download=True,\n",
    "                            transform=ToTensor())\n",
    "# Test set\n",
    "data_test = datasets.MNIST(root=DATA_DIR, train=False, download=True,\n",
    "                           transform=ToTensor())\n",
    "\n",
    "print(f'Train data: {len(data_train)}')\n",
    "print(f'Test data: {len(data_test)}')"
   ]
  },
  {
   "cell_type": "markdown",
   "id": "7496224e",
   "metadata": {
    "papermill": {
     "duration": 0.016918,
     "end_time": "2023-03-30T09:07:32.477633",
     "exception": false,
     "start_time": "2023-03-30T09:07:32.460715",
     "status": "completed"
    },
    "tags": []
   },
   "source": [
    "- `root`: file directory into which the data is downloaded\n",
    "- `train`: should the training data set be downloaded\n",
    "- `download`: should we download the data. If the data already exists in the `root` it will not be downloaded\n",
    "- `transform = ToTensor()`: \"Convert a PIL Image or ndarray to tensor and scale the values accordingly.\" ([Ref.](https://pytorch.org/vision/stable/generated/torchvision.transforms.ToTensor.html#torchvision.transforms.ToTensor))"
   ]
  },
  {
   "cell_type": "markdown",
   "id": "5c0730c2",
   "metadata": {
    "papermill": {
     "duration": 0.017184,
     "end_time": "2023-03-30T09:07:32.511850",
     "exception": false,
     "start_time": "2023-03-30T09:07:32.494666",
     "status": "completed"
    },
    "tags": []
   },
   "source": [
    "Let's check that the data transformation was applied:"
   ]
  },
  {
   "cell_type": "code",
   "execution_count": 6,
   "id": "8c1561d1",
   "metadata": {
    "execution": {
     "iopub.execute_input": "2023-03-30T09:07:32.548454Z",
     "iopub.status.busy": "2023-03-30T09:07:32.548065Z",
     "iopub.status.idle": "2023-03-30T09:07:32.575525Z",
     "shell.execute_reply": "2023-03-30T09:07:32.574043Z"
    },
    "papermill": {
     "duration": 0.048746,
     "end_time": "2023-03-30T09:07:32.577980",
     "exception": false,
     "start_time": "2023-03-30T09:07:32.529234",
     "status": "completed"
    },
    "tags": []
   },
   "outputs": [
    {
     "name": "stdout",
     "output_type": "stream",
     "text": [
      "<class 'torch.Tensor'>\n"
     ]
    }
   ],
   "source": [
    "img, label = data_train[0]\n",
    "print(type(img))"
   ]
  },
  {
   "cell_type": "markdown",
   "id": "ee6a072f",
   "metadata": {
    "papermill": {
     "duration": 0.017211,
     "end_time": "2023-03-30T09:07:32.612862",
     "exception": false,
     "start_time": "2023-03-30T09:07:32.595651",
     "status": "completed"
    },
    "tags": []
   },
   "source": [
    "Let's check the size of the datasets:"
   ]
  },
  {
   "cell_type": "code",
   "execution_count": 7,
   "id": "7ffdafc1",
   "metadata": {
    "execution": {
     "iopub.execute_input": "2023-03-30T09:07:32.650262Z",
     "iopub.status.busy": "2023-03-30T09:07:32.649176Z",
     "iopub.status.idle": "2023-03-30T09:07:32.655418Z",
     "shell.execute_reply": "2023-03-30T09:07:32.654180Z"
    },
    "papermill": {
     "duration": 0.027437,
     "end_time": "2023-03-30T09:07:32.657767",
     "exception": false,
     "start_time": "2023-03-30T09:07:32.630330",
     "status": "completed"
    },
    "tags": []
   },
   "outputs": [
    {
     "name": "stdout",
     "output_type": "stream",
     "text": [
      "Train: torch.Size([60000, 28, 28])\n",
      "Test: torch.Size([10000, 28, 28])\n"
     ]
    }
   ],
   "source": [
    "print(f'Train: {data_train.data.shape}')\n",
    "print(f'Test: {data_test.data.shape}')"
   ]
  },
  {
   "cell_type": "markdown",
   "id": "235ec9af",
   "metadata": {
    "papermill": {
     "duration": 0.017272,
     "end_time": "2023-03-30T09:07:32.692627",
     "exception": false,
     "start_time": "2023-03-30T09:07:32.675355",
     "status": "completed"
    },
    "tags": []
   },
   "source": [
    "So in total there are 70000 images of handrwitten digits, where each is of size 28 by 28 pixels. Since the data is processed as PyTorch dataset then we know that each element of `data_train` is a tuple of inputs and labels."
   ]
  },
  {
   "cell_type": "markdown",
   "id": "751aaf28",
   "metadata": {
    "papermill": {
     "duration": 0.017373,
     "end_time": "2023-03-30T09:07:32.727745",
     "exception": false,
     "start_time": "2023-03-30T09:07:32.710372",
     "status": "completed"
    },
    "tags": []
   },
   "source": [
    "Let's see visualize some of the images look like:"
   ]
  },
  {
   "cell_type": "code",
   "execution_count": 8,
   "id": "cfeca318",
   "metadata": {
    "execution": {
     "iopub.execute_input": "2023-03-30T09:07:32.766426Z",
     "iopub.status.busy": "2023-03-30T09:07:32.765150Z",
     "iopub.status.idle": "2023-03-30T09:07:32.775114Z",
     "shell.execute_reply": "2023-03-30T09:07:32.774128Z"
    },
    "jupyter": {
     "source_hidden": true
    },
    "papermill": {
     "duration": 0.032234,
     "end_time": "2023-03-30T09:07:32.777566",
     "exception": false,
     "start_time": "2023-03-30T09:07:32.745332",
     "status": "completed"
    },
    "tags": []
   },
   "outputs": [],
   "source": [
    "def show_sample(data):\n",
    "    \"\"\"Ref: https://pytorch.org/tutorials/beginner/basics/data_tutorial.html\"\"\"\n",
    "    fig = plt.figure(figsize=(7,7))\n",
    "    cols, rows = 3,3\n",
    "    for i in range(1, cols*rows+1):\n",
    "        sample_idx = torch.randint(len(data), size=(1,)).item()\n",
    "        # Get image and the corresponding label\n",
    "        img, label = data[sample_idx]\n",
    "        fig.add_subplot(rows,cols,i)\n",
    "        plt.imshow(img.squeeze(), cmap='Blues')\n",
    "        plt.title(f'Label: {label}', size=10)\n",
    "        plt.axis(\"off\")\n",
    "    plt.show()"
   ]
  },
  {
   "cell_type": "code",
   "execution_count": 9,
   "id": "449e877d",
   "metadata": {
    "execution": {
     "iopub.execute_input": "2023-03-30T09:07:32.814822Z",
     "iopub.status.busy": "2023-03-30T09:07:32.814341Z",
     "iopub.status.idle": "2023-03-30T09:07:33.181434Z",
     "shell.execute_reply": "2023-03-30T09:07:33.180285Z"
    },
    "papermill": {
     "duration": 0.388912,
     "end_time": "2023-03-30T09:07:33.184273",
     "exception": false,
     "start_time": "2023-03-30T09:07:32.795361",
     "status": "completed"
    },
    "tags": []
   },
   "outputs": [
    {
     "data": {
      "image/png": "[encoded data removed]",
      "text/plain": [
       "<Figure size 700x700 with 9 Axes>"
      ]
     },
     "metadata": {},
     "output_type": "display_data"
    }
   ],
   "source": [
    "show_sample(data_train)"
   ]
  },
  {
   "cell_type": "markdown",
   "id": "5a63b397",
   "metadata": {
    "papermill": {
     "duration": 0.017853,
     "end_time": "2023-03-30T09:07:33.220291",
     "exception": false,
     "start_time": "2023-03-30T09:07:33.202438",
     "status": "completed"
    },
    "tags": []
   },
   "source": [
    "Each of the images is composed of pixels ranging from 0 to 255, where 0 represents white and 255 black, but since we applied the `ToTensor()` transform while downloading the data all of the pixel values will be in the range of `(0,1)`. Let's see what we mean by that:"
   ]
  },
  {
   "cell_type": "code",
   "execution_count": 10,
   "id": "4c75b8e9",
   "metadata": {
    "execution": {
     "iopub.execute_input": "2023-03-30T09:07:33.258242Z",
     "iopub.status.busy": "2023-03-30T09:07:33.257394Z",
     "iopub.status.idle": "2023-03-30T09:07:33.265051Z",
     "shell.execute_reply": "2023-03-30T09:07:33.263571Z"
    },
    "papermill": {
     "duration": 0.029177,
     "end_time": "2023-03-30T09:07:33.267376",
     "exception": false,
     "start_time": "2023-03-30T09:07:33.238199",
     "status": "completed"
    },
    "tags": []
   },
   "outputs": [
    {
     "name": "stdout",
     "output_type": "stream",
     "text": [
      "Image dimension: torch.Size([1, 28, 28])\n",
      "Label: 5\n"
     ]
    }
   ],
   "source": [
    "# Extract the first image and its label from the dataset\n",
    "img, label = data_train[0]\n",
    "print(f'Image dimension: {img.shape}')\n",
    "print(f'Label: {label}')"
   ]
  },
  {
   "cell_type": "markdown",
   "id": "c148f5c1",
   "metadata": {
    "papermill": {
     "duration": 0.017889,
     "end_time": "2023-03-30T09:07:33.302986",
     "exception": false,
     "start_time": "2023-03-30T09:07:33.285097",
     "status": "completed"
    },
    "tags": []
   },
   "source": [
    "So the image size is 28 by 28 pixels and the first image should represent digit 5. Let's see the pixel data with gradient colors for better visualization. We will use pandas `style` to apply the gradient effect. Since our image is of rank 3 in order to convert it to a pandas dataframe we need to remove the first dimension. We will do this using the `numpy` `squeeze()` which removes axes of length 1. Below image gives us the normalized pixel representation of the first digit image in the training sample. The label for this image is 5."
   ]
  },
  {
   "cell_type": "code",
   "execution_count": 11,
   "id": "1f85b315",
   "metadata": {
    "execution": {
     "iopub.execute_input": "2023-03-30T09:07:33.340751Z",
     "iopub.status.busy": "2023-03-30T09:07:33.340274Z",
     "iopub.status.idle": "2023-03-30T09:07:33.544511Z",
     "shell.execute_reply": "2023-03-30T09:07:33.543600Z"
    },
    "papermill": {
     "duration": 0.226259,
     "end_time": "2023-03-30T09:07:33.547402",
     "exception": false,
     "start_time": "2023-03-30T09:07:33.321143",
     "status": "completed"
    },
    "tags": []
   },
   "outputs": [
    {
     "data": {
      "text/html": [
       "<style type=\"text/css\">\n",
       "#T_2c6d3_row0_col0, #T_2c6d3_row0_col1, #T_2c6d3_row0_col2, #T_2c6d3_row0_col3, #T_2c6d3_row0_col4, #T_2c6d3_row0_col5, #T_2c6d3_row0_col6, #T_2c6d3_row0_col7, #T_2c6d3_row0_col8, #T_2c6d3_row0_col9, #T_2c6d3_row0_col10, #T_2c6d3_row0_col11, #T_2c6d3_row0_col12, #T_2c6d3_row0_col13, #T_2c6d3_row0_col14, #T_2c6d3_row0_col15, #T_2c6d3_row0_col16, #T_2c6d3_row0_col17, #T_2c6d3_row0_col18, #T_2c6d3_row0_col19, #T_2c6d3_row0_col20, #T_2c6d3_row0_col21, #T_2c6d3_row0_col22, #T_2c6d3_row0_col23, #T_2c6d3_row0_col24, #T_2c6d3_row0_col25, #T_2c6d3_row0_col26, #T_2c6d3_row0_col27, #T_2c6d3_row1_col0, #T_2c6d3_row1_col1, #T_2c6d3_row1_col2, #T_2c6d3_row1_col3, #T_2c6d3_row1_col4, #T_2c6d3_row1_col5, #T_2c6d3_row1_col6, #T_2c6d3_row1_col7, #T_2c6d3_row1_col8, #T_2c6d3_row1_col9, #T_2c6d3_row1_col10, #T_2c6d3_row1_col11, #T_2c6d3_row1_col12, #T_2c6d3_row1_col13, #T_2c6d3_row1_col14, #T_2c6d3_row1_col15, #T_2c6d3_row1_col16, #T_2c6d3_row1_col17, #T_2c6d3_row1_col18, #T_2c6d3_row1_col19, #T_2c6d3_row1_col20, #T_2c6d3_row1_col21, #T_2c6d3_row1_col22, #T_2c6d3_row1_col23, #T_2c6d3_row1_col24, #T_2c6d3_row1_col25, #T_2c6d3_row1_col26, #T_2c6d3_row1_col27, #T_2c6d3_row2_col0, #T_2c6d3_row2_col1, #T_2c6d3_row2_col2, #T_2c6d3_row2_col3, #T_2c6d3_row2_col4, #T_2c6d3_row2_col5, #T_2c6d3_row2_col6, #T_2c6d3_row2_col7, #T_2c6d3_row2_col8, #T_2c6d3_row2_col9, #T_2c6d3_row2_col10, #T_2c6d3_row2_col11, #T_2c6d3_row2_col12, #T_2c6d3_row2_col13, #T_2c6d3_row2_col14, #T_2c6d3_row2_col15, #T_2c6d3_row2_col16, #T_2c6d3_row2_col17, #T_2c6d3_row2_col18, #T_2c6d3_row2_col19, #T_2c6d3_row2_col20, #T_2c6d3_row2_col21, #T_2c6d3_row2_col22, #T_2c6d3_row2_col23, #T_2c6d3_row2_col24, #T_2c6d3_row2_col25, #T_2c6d3_row2_col26, #T_2c6d3_row2_col27, #T_2c6d3_row3_col0, #T_2c6d3_row3_col1, #T_2c6d3_row3_col2, #T_2c6d3_row3_col3, #T_2c6d3_row3_col4, #T_2c6d3_row3_col5, #T_2c6d3_row3_col6, #T_2c6d3_row3_col7, #T_2c6d3_row3_col8, #T_2c6d3_row3_col9, #T_2c6d3_row3_col10, #T_2c6d3_row3_col11, #T_2c6d3_row3_col12, #T_2c6d3_row3_col13, #T_2c6d3_row3_col14, #T_2c6d3_row3_col15, #T_2c6d3_row3_col16, #T_2c6d3_row3_col17, #T_2c6d3_row3_col18, #T_2c6d3_row3_col19, #T_2c6d3_row3_col20, #T_2c6d3_row3_col21, #T_2c6d3_row3_col22, #T_2c6d3_row3_col23, #T_2c6d3_row3_col24, #T_2c6d3_row3_col25, #T_2c6d3_row3_col26, #T_2c6d3_row3_col27, #T_2c6d3_row4_col0, #T_2c6d3_row4_col1, #T_2c6d3_row4_col2, #T_2c6d3_row4_col3, #T_2c6d3_row4_col4, #T_2c6d3_row4_col5, #T_2c6d3_row4_col6, #T_2c6d3_row4_col7, #T_2c6d3_row4_col8, #T_2c6d3_row4_col9, #T_2c6d3_row4_col10, #T_2c6d3_row4_col11, #T_2c6d3_row4_col12, #T_2c6d3_row4_col13, #T_2c6d3_row4_col14, #T_2c6d3_row4_col15, #T_2c6d3_row4_col16, #T_2c6d3_row4_col17, #T_2c6d3_row4_col18, #T_2c6d3_row4_col19, #T_2c6d3_row4_col20, #T_2c6d3_row4_col21, #T_2c6d3_row4_col22, #T_2c6d3_row4_col23, #T_2c6d3_row4_col24, #T_2c6d3_row4_col25, #T_2c6d3_row4_col26, #T_2c6d3_row4_col27, #T_2c6d3_row5_col0, #T_2c6d3_row5_col1, #T_2c6d3_row5_col2, #T_2c6d3_row5_col3, #T_2c6d3_row5_col4, #T_2c6d3_row5_col5, #T_2c6d3_row5_col6, #T_2c6d3_row5_col7, #T_2c6d3_row5_col8, #T_2c6d3_row5_col9, #T_2c6d3_row5_col10, #T_2c6d3_row5_col11, #T_2c6d3_row5_col24, #T_2c6d3_row5_col25, #T_2c6d3_row5_col26, #T_2c6d3_row5_col27, #T_2c6d3_row6_col0, #T_2c6d3_row6_col1, #T_2c6d3_row6_col2, #T_2c6d3_row6_col3, #T_2c6d3_row6_col4, #T_2c6d3_row6_col5, #T_2c6d3_row6_col6, #T_2c6d3_row6_col7, #T_2c6d3_row6_col24, #T_2c6d3_row6_col25, #T_2c6d3_row6_col26, #T_2c6d3_row6_col27, #T_2c6d3_row7_col0, #T_2c6d3_row7_col1, #T_2c6d3_row7_col2, #T_2c6d3_row7_col3, #T_2c6d3_row7_col4, #T_2c6d3_row7_col5, #T_2c6d3_row7_col6, #T_2c6d3_row7_col23, #T_2c6d3_row7_col24, #T_2c6d3_row7_col25, #T_2c6d3_row7_col26, #T_2c6d3_row7_col27, #T_2c6d3_row8_col0, #T_2c6d3_row8_col1, #T_2c6d3_row8_col2, #T_2c6d3_row8_col3, #T_2c6d3_row8_col4, #T_2c6d3_row8_col5, #T_2c6d3_row8_col6, #T_2c6d3_row8_col18, #T_2c6d3_row8_col19, #T_2c6d3_row8_col20, #T_2c6d3_row8_col21, #T_2c6d3_row8_col22, #T_2c6d3_row8_col23, #T_2c6d3_row8_col24, #T_2c6d3_row8_col25, #T_2c6d3_row8_col26, #T_2c6d3_row8_col27, #T_2c6d3_row9_col0, #T_2c6d3_row9_col1, #T_2c6d3_row9_col2, #T_2c6d3_row9_col3, #T_2c6d3_row9_col4, #T_2c6d3_row9_col5, #T_2c6d3_row9_col6, #T_2c6d3_row9_col7, #T_2c6d3_row9_col15, #T_2c6d3_row9_col18, #T_2c6d3_row9_col19, #T_2c6d3_row9_col20, #T_2c6d3_row9_col21, #T_2c6d3_row9_col22, #T_2c6d3_row9_col23, #T_2c6d3_row9_col24, #T_2c6d3_row9_col25, #T_2c6d3_row9_col26, #T_2c6d3_row9_col27, #T_2c6d3_row10_col0, #T_2c6d3_row10_col1, #T_2c6d3_row10_col2, #T_2c6d3_row10_col3, #T_2c6d3_row10_col4, #T_2c6d3_row10_col5, #T_2c6d3_row10_col6, #T_2c6d3_row10_col7, #T_2c6d3_row10_col8, #T_2c6d3_row10_col14, #T_2c6d3_row10_col15, #T_2c6d3_row10_col16, #T_2c6d3_row10_col17, #T_2c6d3_row10_col18, #T_2c6d3_row10_col19, #T_2c6d3_row10_col20, #T_2c6d3_row10_col21, #T_2c6d3_row10_col22, #T_2c6d3_row10_col23, #T_2c6d3_row10_col24, #T_2c6d3_row10_col25, #T_2c6d3_row10_col26, #T_2c6d3_row10_col27, #T_2c6d3_row11_col0, #T_2c6d3_row11_col1, #T_2c6d3_row11_col2, #T_2c6d3_row11_col3, #T_2c6d3_row11_col4, #T_2c6d3_row11_col5, #T_2c6d3_row11_col6, #T_2c6d3_row11_col7, #T_2c6d3_row11_col8, #T_2c6d3_row11_col9, #T_2c6d3_row11_col10, #T_2c6d3_row11_col15, #T_2c6d3_row11_col16, #T_2c6d3_row11_col17, #T_2c6d3_row11_col18, #T_2c6d3_row11_col19, #T_2c6d3_row11_col20, #T_2c6d3_row11_col21, #T_2c6d3_row11_col22, #T_2c6d3_row11_col23, #T_2c6d3_row11_col24, #T_2c6d3_row11_col25, #T_2c6d3_row11_col26, #T_2c6d3_row11_col27, #T_2c6d3_row12_col0, #T_2c6d3_row12_col1, #T_2c6d3_row12_col2, #T_2c6d3_row12_col3, #T_2c6d3_row12_col4, #T_2c6d3_row12_col5, #T_2c6d3_row12_col6, #T_2c6d3_row12_col7, #T_2c6d3_row12_col8, #T_2c6d3_row12_col9, #T_2c6d3_row12_col10, #T_2c6d3_row12_col15, #T_2c6d3_row12_col16, #T_2c6d3_row12_col17, #T_2c6d3_row12_col18, #T_2c6d3_row12_col19, #T_2c6d3_row12_col20, #T_2c6d3_row12_col21, #T_2c6d3_row12_col22, #T_2c6d3_row12_col23, #T_2c6d3_row12_col24, #T_2c6d3_row12_col25, #T_2c6d3_row12_col26, #T_2c6d3_row12_col27, #T_2c6d3_row13_col0, #T_2c6d3_row13_col1, #T_2c6d3_row13_col2, #T_2c6d3_row13_col3, #T_2c6d3_row13_col4, #T_2c6d3_row13_col5, #T_2c6d3_row13_col6, #T_2c6d3_row13_col7, #T_2c6d3_row13_col8, #T_2c6d3_row13_col9, #T_2c6d3_row13_col10, #T_2c6d3_row13_col11, #T_2c6d3_row13_col18, #T_2c6d3_row13_col19, #T_2c6d3_row13_col20, #T_2c6d3_row13_col21, #T_2c6d3_row13_col22, #T_2c6d3_row13_col23, #T_2c6d3_row13_col24, #T_2c6d3_row13_col25, #T_2c6d3_row13_col26, #T_2c6d3_row13_col27, #T_2c6d3_row14_col0, #T_2c6d3_row14_col1, #T_2c6d3_row14_col2, #T_2c6d3_row14_col3, #T_2c6d3_row14_col4, #T_2c6d3_row14_col5, #T_2c6d3_row14_col6, #T_2c6d3_row14_col7, #T_2c6d3_row14_col8, #T_2c6d3_row14_col9, #T_2c6d3_row14_col10, #T_2c6d3_row14_col11, #T_2c6d3_row14_col12, #T_2c6d3_row14_col19, #T_2c6d3_row14_col20, #T_2c6d3_row14_col21, #T_2c6d3_row14_col22, #T_2c6d3_row14_col23, #T_2c6d3_row14_col24, #T_2c6d3_row14_col25, #T_2c6d3_row14_col26, #T_2c6d3_row14_col27, #T_2c6d3_row15_col0, #T_2c6d3_row15_col1, #T_2c6d3_row15_col2, #T_2c6d3_row15_col3, #T_2c6d3_row15_col4, #T_2c6d3_row15_col5, #T_2c6d3_row15_col6, #T_2c6d3_row15_col7, #T_2c6d3_row15_col8, #T_2c6d3_row15_col9, #T_2c6d3_row15_col10, #T_2c6d3_row15_col11, #T_2c6d3_row15_col12, #T_2c6d3_row15_col13, #T_2c6d3_row15_col20, #T_2c6d3_row15_col21, #T_2c6d3_row15_col22, #T_2c6d3_row15_col23, #T_2c6d3_row15_col24, #T_2c6d3_row15_col25, #T_2c6d3_row15_col26, #T_2c6d3_row15_col27, #T_2c6d3_row16_col0, #T_2c6d3_row16_col1, #T_2c6d3_row16_col2, #T_2c6d3_row16_col3, #T_2c6d3_row16_col4, #T_2c6d3_row16_col5, #T_2c6d3_row16_col6, #T_2c6d3_row16_col7, #T_2c6d3_row16_col8, #T_2c6d3_row16_col9, #T_2c6d3_row16_col10, #T_2c6d3_row16_col11, #T_2c6d3_row16_col12, #T_2c6d3_row16_col13, #T_2c6d3_row16_col14, #T_2c6d3_row16_col20, #T_2c6d3_row16_col21, #T_2c6d3_row16_col22, #T_2c6d3_row16_col23, #T_2c6d3_row16_col24, #T_2c6d3_row16_col25, #T_2c6d3_row16_col26, #T_2c6d3_row16_col27, #T_2c6d3_row17_col0, #T_2c6d3_row17_col1, #T_2c6d3_row17_col2, #T_2c6d3_row17_col3, #T_2c6d3_row17_col4, #T_2c6d3_row17_col5, #T_2c6d3_row17_col6, #T_2c6d3_row17_col7, #T_2c6d3_row17_col8, #T_2c6d3_row17_col9, #T_2c6d3_row17_col10, #T_2c6d3_row17_col11, #T_2c6d3_row17_col12, #T_2c6d3_row17_col13, #T_2c6d3_row17_col14, #T_2c6d3_row17_col15, #T_2c6d3_row17_col16, #T_2c6d3_row17_col21, #T_2c6d3_row17_col22, #T_2c6d3_row17_col23, #T_2c6d3_row17_col24, #T_2c6d3_row17_col25, #T_2c6d3_row17_col26, #T_2c6d3_row17_col27, #T_2c6d3_row18_col0, #T_2c6d3_row18_col1, #T_2c6d3_row18_col2, #T_2c6d3_row18_col3, #T_2c6d3_row18_col4, #T_2c6d3_row18_col5, #T_2c6d3_row18_col6, #T_2c6d3_row18_col7, #T_2c6d3_row18_col8, #T_2c6d3_row18_col9, #T_2c6d3_row18_col10, #T_2c6d3_row18_col11, #T_2c6d3_row18_col12, #T_2c6d3_row18_col13, #T_2c6d3_row18_col21, #T_2c6d3_row18_col22, #T_2c6d3_row18_col23, #T_2c6d3_row18_col24, #T_2c6d3_row18_col25, #T_2c6d3_row18_col26, #T_2c6d3_row18_col27, #T_2c6d3_row19_col0, #T_2c6d3_row19_col1, #T_2c6d3_row19_col2, #T_2c6d3_row19_col3, #T_2c6d3_row19_col4, #T_2c6d3_row19_col5, #T_2c6d3_row19_col6, #T_2c6d3_row19_col7, #T_2c6d3_row19_col8, #T_2c6d3_row19_col9, #T_2c6d3_row19_col10, #T_2c6d3_row19_col11, #T_2c6d3_row19_col20, #T_2c6d3_row19_col21, #T_2c6d3_row19_col22, #T_2c6d3_row19_col23, #T_2c6d3_row19_col24, #T_2c6d3_row19_col25, #T_2c6d3_row19_col26, #T_2c6d3_row19_col27, #T_2c6d3_row20_col0, #T_2c6d3_row20_col1, #T_2c6d3_row20_col2, #T_2c6d3_row20_col3, #T_2c6d3_row20_col4, #T_2c6d3_row20_col5, #T_2c6d3_row20_col6, #T_2c6d3_row20_col7, #T_2c6d3_row20_col8, #T_2c6d3_row20_col9, #T_2c6d3_row20_col19, #T_2c6d3_row20_col20, #T_2c6d3_row20_col21, #T_2c6d3_row20_col22, #T_2c6d3_row20_col23, #T_2c6d3_row20_col24, #T_2c6d3_row20_col25, #T_2c6d3_row20_col26, #T_2c6d3_row20_col27, #T_2c6d3_row21_col0, #T_2c6d3_row21_col1, #T_2c6d3_row21_col2, #T_2c6d3_row21_col3, #T_2c6d3_row21_col4, #T_2c6d3_row21_col5, #T_2c6d3_row21_col6, #T_2c6d3_row21_col7, #T_2c6d3_row21_col18, #T_2c6d3_row21_col19, #T_2c6d3_row21_col20, #T_2c6d3_row21_col21, #T_2c6d3_row21_col22, #T_2c6d3_row21_col23, #T_2c6d3_row21_col24, #T_2c6d3_row21_col25, #T_2c6d3_row21_col26, #T_2c6d3_row21_col27, #T_2c6d3_row22_col0, #T_2c6d3_row22_col1, #T_2c6d3_row22_col2, #T_2c6d3_row22_col3, #T_2c6d3_row22_col4, #T_2c6d3_row22_col5, #T_2c6d3_row22_col16, #T_2c6d3_row22_col17, #T_2c6d3_row22_col18, #T_2c6d3_row22_col19, #T_2c6d3_row22_col20, #T_2c6d3_row22_col21, #T_2c6d3_row22_col22, #T_2c6d3_row22_col23, #T_2c6d3_row22_col24, #T_2c6d3_row22_col25, #T_2c6d3_row22_col26, #T_2c6d3_row22_col27, #T_2c6d3_row23_col0, #T_2c6d3_row23_col1, #T_2c6d3_row23_col2, #T_2c6d3_row23_col3, #T_2c6d3_row23_col14, #T_2c6d3_row23_col15, #T_2c6d3_row23_col16, #T_2c6d3_row23_col17, #T_2c6d3_row23_col18, #T_2c6d3_row23_col19, #T_2c6d3_row23_col20, #T_2c6d3_row23_col21, #T_2c6d3_row23_col22, #T_2c6d3_row23_col23, #T_2c6d3_row23_col24, #T_2c6d3_row23_col25, #T_2c6d3_row23_col26, #T_2c6d3_row23_col27, #T_2c6d3_row24_col0, #T_2c6d3_row24_col1, #T_2c6d3_row24_col2, #T_2c6d3_row24_col3, #T_2c6d3_row24_col12, #T_2c6d3_row24_col13, #T_2c6d3_row24_col14, #T_2c6d3_row24_col15, #T_2c6d3_row24_col16, #T_2c6d3_row24_col17, #T_2c6d3_row24_col18, #T_2c6d3_row24_col19, #T_2c6d3_row24_col20, #T_2c6d3_row24_col21, #T_2c6d3_row24_col22, #T_2c6d3_row24_col23, #T_2c6d3_row24_col24, #T_2c6d3_row24_col25, #T_2c6d3_row24_col26, #T_2c6d3_row24_col27, #T_2c6d3_row25_col0, #T_2c6d3_row25_col1, #T_2c6d3_row25_col2, #T_2c6d3_row25_col3, #T_2c6d3_row25_col4, #T_2c6d3_row25_col5, #T_2c6d3_row25_col6, #T_2c6d3_row25_col7, #T_2c6d3_row25_col8, #T_2c6d3_row25_col9, #T_2c6d3_row25_col10, #T_2c6d3_row25_col11, #T_2c6d3_row25_col12, #T_2c6d3_row25_col13, #T_2c6d3_row25_col14, #T_2c6d3_row25_col15, #T_2c6d3_row25_col16, #T_2c6d3_row25_col17, #T_2c6d3_row25_col18, #T_2c6d3_row25_col19, #T_2c6d3_row25_col20, #T_2c6d3_row25_col21, #T_2c6d3_row25_col22, #T_2c6d3_row25_col23, #T_2c6d3_row25_col24, #T_2c6d3_row25_col25, #T_2c6d3_row25_col26, #T_2c6d3_row25_col27, #T_2c6d3_row26_col0, #T_2c6d3_row26_col1, #T_2c6d3_row26_col2, #T_2c6d3_row26_col3, #T_2c6d3_row26_col4, #T_2c6d3_row26_col5, #T_2c6d3_row26_col6, #T_2c6d3_row26_col7, #T_2c6d3_row26_col8, #T_2c6d3_row26_col9, #T_2c6d3_row26_col10, #T_2c6d3_row26_col11, #T_2c6d3_row26_col12, #T_2c6d3_row26_col13, #T_2c6d3_row26_col14, #T_2c6d3_row26_col15, #T_2c6d3_row26_col16, #T_2c6d3_row26_col17, #T_2c6d3_row26_col18, #T_2c6d3_row26_col19, #T_2c6d3_row26_col20, #T_2c6d3_row26_col21, #T_2c6d3_row26_col22, #T_2c6d3_row26_col23, #T_2c6d3_row26_col24, #T_2c6d3_row26_col25, #T_2c6d3_row26_col26, #T_2c6d3_row26_col27, #T_2c6d3_row27_col0, #T_2c6d3_row27_col1, #T_2c6d3_row27_col2, #T_2c6d3_row27_col3, #T_2c6d3_row27_col4, #T_2c6d3_row27_col5, #T_2c6d3_row27_col6, #T_2c6d3_row27_col7, #T_2c6d3_row27_col8, #T_2c6d3_row27_col9, #T_2c6d3_row27_col10, #T_2c6d3_row27_col11, #T_2c6d3_row27_col12, #T_2c6d3_row27_col13, #T_2c6d3_row27_col14, #T_2c6d3_row27_col15, #T_2c6d3_row27_col16, #T_2c6d3_row27_col17, #T_2c6d3_row27_col18, #T_2c6d3_row27_col19, #T_2c6d3_row27_col20, #T_2c6d3_row27_col21, #T_2c6d3_row27_col22, #T_2c6d3_row27_col23, #T_2c6d3_row27_col24, #T_2c6d3_row27_col25, #T_2c6d3_row27_col26, #T_2c6d3_row27_col27 {\n",
       "  font-size: 6pt;\n",
       "  background-color: #f7fbff;\n",
       "  color: #000000;\n",
       "}\n",
       "#T_2c6d3_row5_col12 {\n",
       "  font-size: 6pt;\n",
       "  background-color: #f5f9fe;\n",
       "  color: #000000;\n",
       "}\n",
       "#T_2c6d3_row5_col13, #T_2c6d3_row5_col14, #T_2c6d3_row5_col15, #T_2c6d3_row8_col7, #T_2c6d3_row22_col6 {\n",
       "  font-size: 6pt;\n",
       "  background-color: #e9f2fa;\n",
       "  color: #000000;\n",
       "}\n",
       "#T_2c6d3_row5_col16 {\n",
       "  font-size: 6pt;\n",
       "  background-color: #6caed6;\n",
       "  color: #f1f1f1;\n",
       "}\n",
       "#T_2c6d3_row5_col17 {\n",
       "  font-size: 6pt;\n",
       "  background-color: #5fa6d1;\n",
       "  color: #f1f1f1;\n",
       "}\n",
       "#T_2c6d3_row5_col18 {\n",
       "  font-size: 6pt;\n",
       "  background-color: #3080bd;\n",
       "  color: #f1f1f1;\n",
       "}\n",
       "#T_2c6d3_row5_col19 {\n",
       "  font-size: 6pt;\n",
       "  background-color: #e3eef8;\n",
       "  color: #000000;\n",
       "}\n",
       "#T_2c6d3_row5_col20 {\n",
       "  font-size: 6pt;\n",
       "  background-color: #3a8ac2;\n",
       "  color: #f1f1f1;\n",
       "}\n",
       "#T_2c6d3_row5_col21, #T_2c6d3_row5_col22, #T_2c6d3_row5_col23, #T_2c6d3_row6_col13, #T_2c6d3_row6_col14, #T_2c6d3_row6_col15, #T_2c6d3_row6_col16, #T_2c6d3_row6_col17, #T_2c6d3_row6_col20, #T_2c6d3_row7_col9, #T_2c6d3_row7_col10, #T_2c6d3_row7_col11, #T_2c6d3_row7_col12, #T_2c6d3_row7_col13, #T_2c6d3_row7_col14, #T_2c6d3_row7_col15, #T_2c6d3_row7_col16, #T_2c6d3_row8_col9, #T_2c6d3_row8_col10, #T_2c6d3_row8_col11, #T_2c6d3_row8_col12, #T_2c6d3_row8_col13, #T_2c6d3_row9_col11, #T_2c6d3_row9_col12, #T_2c6d3_row10_col12, #T_2c6d3_row11_col12, #T_2c6d3_row12_col13, #T_2c6d3_row14_col15, #T_2c6d3_row14_col16, #T_2c6d3_row15_col16, #T_2c6d3_row15_col17, #T_2c6d3_row16_col18, #T_2c6d3_row17_col18, #T_2c6d3_row17_col19, #T_2c6d3_row18_col17, #T_2c6d3_row18_col18, #T_2c6d3_row19_col15, #T_2c6d3_row19_col16, #T_2c6d3_row19_col17, #T_2c6d3_row20_col13, #T_2c6d3_row20_col14, #T_2c6d3_row20_col15, #T_2c6d3_row20_col16, #T_2c6d3_row21_col11, #T_2c6d3_row21_col12, #T_2c6d3_row21_col13, #T_2c6d3_row21_col14, #T_2c6d3_row22_col9, #T_2c6d3_row22_col10, #T_2c6d3_row22_col11, #T_2c6d3_row22_col12, #T_2c6d3_row23_col7, #T_2c6d3_row23_col8, #T_2c6d3_row23_col9, #T_2c6d3_row23_col10, #T_2c6d3_row24_col4, #T_2c6d3_row24_col5, #T_2c6d3_row24_col6, #T_2c6d3_row24_col7 {\n",
       "  font-size: 6pt;\n",
       "  background-color: #08306b;\n",
       "  color: #f1f1f1;\n",
       "}\n",
       "#T_2c6d3_row6_col8 {\n",
       "  font-size: 6pt;\n",
       "  background-color: #dfecf7;\n",
       "  color: #000000;\n",
       "}\n",
       "#T_2c6d3_row6_col9 {\n",
       "  font-size: 6pt;\n",
       "  background-color: #dbe9f6;\n",
       "  color: #000000;\n",
       "}\n",
       "#T_2c6d3_row6_col10 {\n",
       "  font-size: 6pt;\n",
       "  background-color: #9fcae1;\n",
       "  color: #000000;\n",
       "}\n",
       "#T_2c6d3_row6_col11, #T_2c6d3_row9_col17, #T_2c6d3_row10_col11 {\n",
       "  font-size: 6pt;\n",
       "  background-color: #4896c8;\n",
       "  color: #f1f1f1;\n",
       "}\n",
       "#T_2c6d3_row6_col12 {\n",
       "  font-size: 6pt;\n",
       "  background-color: #3585bf;\n",
       "  color: #f1f1f1;\n",
       "}\n",
       "#T_2c6d3_row6_col18, #T_2c6d3_row13_col14 {\n",
       "  font-size: 6pt;\n",
       "  background-color: #084d96;\n",
       "  color: #f1f1f1;\n",
       "}\n",
       "#T_2c6d3_row6_col19 {\n",
       "  font-size: 6pt;\n",
       "  background-color: #3181bd;\n",
       "  color: #f1f1f1;\n",
       "}\n",
       "#T_2c6d3_row6_col21, #T_2c6d3_row14_col14 {\n",
       "  font-size: 6pt;\n",
       "  background-color: #083d7f;\n",
       "  color: #f1f1f1;\n",
       "}\n",
       "#T_2c6d3_row6_col22 {\n",
       "  font-size: 6pt;\n",
       "  background-color: #1966ad;\n",
       "  color: #f1f1f1;\n",
       "}\n",
       "#T_2c6d3_row6_col23 {\n",
       "  font-size: 6pt;\n",
       "  background-color: #69add5;\n",
       "  color: #f1f1f1;\n",
       "}\n",
       "#T_2c6d3_row7_col7 {\n",
       "  font-size: 6pt;\n",
       "  background-color: #d1e2f3;\n",
       "  color: #000000;\n",
       "}\n",
       "#T_2c6d3_row7_col8 {\n",
       "  font-size: 6pt;\n",
       "  background-color: #084082;\n",
       "  color: #f1f1f1;\n",
       "}\n",
       "#T_2c6d3_row7_col17 {\n",
       "  font-size: 6pt;\n",
       "  background-color: #08326e;\n",
       "  color: #f1f1f1;\n",
       "}\n",
       "#T_2c6d3_row7_col18, #T_2c6d3_row16_col16 {\n",
       "  font-size: 6pt;\n",
       "  background-color: #a0cbe2;\n",
       "  color: #000000;\n",
       "}\n",
       "#T_2c6d3_row7_col19 {\n",
       "  font-size: 6pt;\n",
       "  background-color: #add0e6;\n",
       "  color: #000000;\n",
       "}\n",
       "#T_2c6d3_row7_col20 {\n",
       "  font-size: 6pt;\n",
       "  background-color: #afd1e7;\n",
       "  color: #000000;\n",
       "}\n",
       "#T_2c6d3_row7_col21 {\n",
       "  font-size: 6pt;\n",
       "  background-color: #ccdff1;\n",
       "  color: #000000;\n",
       "}\n",
       "#T_2c6d3_row7_col22 {\n",
       "  font-size: 6pt;\n",
       "  background-color: #d8e7f5;\n",
       "  color: #000000;\n",
       "}\n",
       "#T_2c6d3_row8_col8, #T_2c6d3_row22_col8 {\n",
       "  font-size: 6pt;\n",
       "  background-color: #0a539e;\n",
       "  color: #f1f1f1;\n",
       "}\n",
       "#T_2c6d3_row8_col14, #T_2c6d3_row21_col15 {\n",
       "  font-size: 6pt;\n",
       "  background-color: #1a68ae;\n",
       "  color: #f1f1f1;\n",
       "}\n",
       "#T_2c6d3_row8_col15 {\n",
       "  font-size: 6pt;\n",
       "  background-color: #2979b9;\n",
       "  color: #f1f1f1;\n",
       "}\n",
       "#T_2c6d3_row8_col16 {\n",
       "  font-size: 6pt;\n",
       "  background-color: #083674;\n",
       "  color: #f1f1f1;\n",
       "}\n",
       "#T_2c6d3_row8_col17, #T_2c6d3_row13_col13 {\n",
       "  font-size: 6pt;\n",
       "  background-color: #083c7d;\n",
       "  color: #f1f1f1;\n",
       "}\n",
       "#T_2c6d3_row9_col8, #T_2c6d3_row22_col14 {\n",
       "  font-size: 6pt;\n",
       "  background-color: #b2d2e8;\n",
       "  color: #000000;\n",
       "}\n",
       "#T_2c6d3_row9_col9 {\n",
       "  font-size: 6pt;\n",
       "  background-color: #4594c7;\n",
       "  color: #f1f1f1;\n",
       "}\n",
       "#T_2c6d3_row9_col10 {\n",
       "  font-size: 6pt;\n",
       "  background-color: #8abfdd;\n",
       "  color: #000000;\n",
       "}\n",
       "#T_2c6d3_row9_col13 {\n",
       "  font-size: 6pt;\n",
       "  background-color: #1561a9;\n",
       "  color: #f1f1f1;\n",
       "}\n",
       "#T_2c6d3_row9_col14, #T_2c6d3_row12_col11, #T_2c6d3_row23_col13 {\n",
       "  font-size: 6pt;\n",
       "  background-color: #eef5fc;\n",
       "  color: #000000;\n",
       "}\n",
       "#T_2c6d3_row9_col16 {\n",
       "  font-size: 6pt;\n",
       "  background-color: #d6e5f4;\n",
       "  color: #000000;\n",
       "}\n",
       "#T_2c6d3_row10_col9 {\n",
       "  font-size: 6pt;\n",
       "  background-color: #ecf4fb;\n",
       "  color: #000000;\n",
       "}\n",
       "#T_2c6d3_row10_col10, #T_2c6d3_row13_col17 {\n",
       "  font-size: 6pt;\n",
       "  background-color: #f6faff;\n",
       "  color: #000000;\n",
       "}\n",
       "#T_2c6d3_row10_col13 {\n",
       "  font-size: 6pt;\n",
       "  background-color: #a4cce3;\n",
       "  color: #000000;\n",
       "}\n",
       "#T_2c6d3_row11_col11 {\n",
       "  font-size: 6pt;\n",
       "  background-color: #5ba3d0;\n",
       "  color: #f1f1f1;\n",
       "}\n",
       "#T_2c6d3_row11_col13, #T_2c6d3_row12_col12, #T_2c6d3_row16_col19 {\n",
       "  font-size: 6pt;\n",
       "  background-color: #2070b4;\n",
       "  color: #f1f1f1;\n",
       "}\n",
       "#T_2c6d3_row11_col14, #T_2c6d3_row18_col20, #T_2c6d3_row21_col17 {\n",
       "  font-size: 6pt;\n",
       "  background-color: #f5fafe;\n",
       "  color: #000000;\n",
       "}\n",
       "#T_2c6d3_row12_col14 {\n",
       "  font-size: 6pt;\n",
       "  background-color: #bed8ec;\n",
       "  color: #000000;\n",
       "}\n",
       "#T_2c6d3_row13_col12 {\n",
       "  font-size: 6pt;\n",
       "  background-color: #dce9f6;\n",
       "  color: #000000;\n",
       "}\n",
       "#T_2c6d3_row13_col15 {\n",
       "  font-size: 6pt;\n",
       "  background-color: #4090c5;\n",
       "  color: #f1f1f1;\n",
       "}\n",
       "#T_2c6d3_row13_col16 {\n",
       "  font-size: 6pt;\n",
       "  background-color: #89bedc;\n",
       "  color: #000000;\n",
       "}\n",
       "#T_2c6d3_row14_col13, #T_2c6d3_row21_col16 {\n",
       "  font-size: 6pt;\n",
       "  background-color: #b0d2e7;\n",
       "  color: #000000;\n",
       "}\n",
       "#T_2c6d3_row14_col17 {\n",
       "  font-size: 6pt;\n",
       "  background-color: #77b5d9;\n",
       "  color: #000000;\n",
       "}\n",
       "#T_2c6d3_row14_col18 {\n",
       "  font-size: 6pt;\n",
       "  background-color: #e3eef9;\n",
       "  color: #000000;\n",
       "}\n",
       "#T_2c6d3_row15_col14 {\n",
       "  font-size: 6pt;\n",
       "  background-color: #d4e4f4;\n",
       "  color: #000000;\n",
       "}\n",
       "#T_2c6d3_row15_col15 {\n",
       "  font-size: 6pt;\n",
       "  background-color: #2474b7;\n",
       "  color: #f1f1f1;\n",
       "}\n",
       "#T_2c6d3_row15_col18 {\n",
       "  font-size: 6pt;\n",
       "  background-color: #4d99ca;\n",
       "  color: #f1f1f1;\n",
       "}\n",
       "#T_2c6d3_row15_col19 {\n",
       "  font-size: 6pt;\n",
       "  background-color: #e2edf8;\n",
       "  color: #000000;\n",
       "}\n",
       "#T_2c6d3_row16_col15, #T_2c6d3_row24_col11 {\n",
       "  font-size: 6pt;\n",
       "  background-color: #eaf3fb;\n",
       "  color: #000000;\n",
       "}\n",
       "#T_2c6d3_row16_col17 {\n",
       "  font-size: 6pt;\n",
       "  background-color: #08316d;\n",
       "  color: #f1f1f1;\n",
       "}\n",
       "#T_2c6d3_row17_col17 {\n",
       "  font-size: 6pt;\n",
       "  background-color: #083471;\n",
       "  color: #f1f1f1;\n",
       "}\n",
       "#T_2c6d3_row17_col20 {\n",
       "  font-size: 6pt;\n",
       "  background-color: #c6dbef;\n",
       "  color: #000000;\n",
       "}\n",
       "#T_2c6d3_row18_col14 {\n",
       "  font-size: 6pt;\n",
       "  background-color: #d3e4f3;\n",
       "  color: #000000;\n",
       "}\n",
       "#T_2c6d3_row18_col15 {\n",
       "  font-size: 6pt;\n",
       "  background-color: #66abd4;\n",
       "  color: #f1f1f1;\n",
       "}\n",
       "#T_2c6d3_row18_col16 {\n",
       "  font-size: 6pt;\n",
       "  background-color: #2777b8;\n",
       "  color: #f1f1f1;\n",
       "}\n",
       "#T_2c6d3_row18_col19 {\n",
       "  font-size: 6pt;\n",
       "  background-color: #115ca5;\n",
       "  color: #f1f1f1;\n",
       "}\n",
       "#T_2c6d3_row19_col12 {\n",
       "  font-size: 6pt;\n",
       "  background-color: #d9e7f5;\n",
       "  color: #000000;\n",
       "}\n",
       "#T_2c6d3_row19_col13 {\n",
       "  font-size: 6pt;\n",
       "  background-color: #4f9bcb;\n",
       "  color: #f1f1f1;\n",
       "}\n",
       "#T_2c6d3_row19_col14 {\n",
       "  font-size: 6pt;\n",
       "  background-color: #084990;\n",
       "  color: #f1f1f1;\n",
       "}\n",
       "#T_2c6d3_row19_col18 {\n",
       "  font-size: 6pt;\n",
       "  background-color: #083370;\n",
       "  color: #f1f1f1;\n",
       "}\n",
       "#T_2c6d3_row19_col19 {\n",
       "  font-size: 6pt;\n",
       "  background-color: #2575b7;\n",
       "  color: #f1f1f1;\n",
       "}\n",
       "#T_2c6d3_row20_col10 {\n",
       "  font-size: 6pt;\n",
       "  background-color: #e4eff9;\n",
       "  color: #000000;\n",
       "}\n",
       "#T_2c6d3_row20_col11 {\n",
       "  font-size: 6pt;\n",
       "  background-color: #7fb9da;\n",
       "  color: #000000;\n",
       "}\n",
       "#T_2c6d3_row20_col12 {\n",
       "  font-size: 6pt;\n",
       "  background-color: #08519c;\n",
       "  color: #f1f1f1;\n",
       "}\n",
       "#T_2c6d3_row20_col17 {\n",
       "  font-size: 6pt;\n",
       "  background-color: #1865ac;\n",
       "  color: #f1f1f1;\n",
       "}\n",
       "#T_2c6d3_row20_col18 {\n",
       "  font-size: 6pt;\n",
       "  background-color: #b4d3e9;\n",
       "  color: #000000;\n",
       "}\n",
       "#T_2c6d3_row21_col8 {\n",
       "  font-size: 6pt;\n",
       "  background-color: #e5eff9;\n",
       "  color: #000000;\n",
       "}\n",
       "#T_2c6d3_row21_col9 {\n",
       "  font-size: 6pt;\n",
       "  background-color: #c3daee;\n",
       "  color: #000000;\n",
       "}\n",
       "#T_2c6d3_row21_col10 {\n",
       "  font-size: 6pt;\n",
       "  background-color: #0e59a2;\n",
       "  color: #f1f1f1;\n",
       "}\n",
       "#T_2c6d3_row22_col7 {\n",
       "  font-size: 6pt;\n",
       "  background-color: #3484bf;\n",
       "  color: #f1f1f1;\n",
       "}\n",
       "#T_2c6d3_row22_col13 {\n",
       "  font-size: 6pt;\n",
       "  background-color: #1c6bb0;\n",
       "  color: #f1f1f1;\n",
       "}\n",
       "#T_2c6d3_row22_col15 {\n",
       "  font-size: 6pt;\n",
       "  background-color: #f0f6fd;\n",
       "  color: #000000;\n",
       "}\n",
       "#T_2c6d3_row23_col4 {\n",
       "  font-size: 6pt;\n",
       "  background-color: #92c4de;\n",
       "  color: #000000;\n",
       "}\n",
       "#T_2c6d3_row23_col5 {\n",
       "  font-size: 6pt;\n",
       "  background-color: #3383be;\n",
       "  color: #f1f1f1;\n",
       "}\n",
       "#T_2c6d3_row23_col6 {\n",
       "  font-size: 6pt;\n",
       "  background-color: #084c95;\n",
       "  color: #f1f1f1;\n",
       "}\n",
       "#T_2c6d3_row23_col11 {\n",
       "  font-size: 6pt;\n",
       "  background-color: #083979;\n",
       "  color: #f1f1f1;\n",
       "}\n",
       "#T_2c6d3_row23_col12 {\n",
       "  font-size: 6pt;\n",
       "  background-color: #63a8d3;\n",
       "  color: #f1f1f1;\n",
       "}\n",
       "#T_2c6d3_row24_col8 {\n",
       "  font-size: 6pt;\n",
       "  background-color: #0f5aa3;\n",
       "  color: #f1f1f1;\n",
       "}\n",
       "#T_2c6d3_row24_col9 {\n",
       "  font-size: 6pt;\n",
       "  background-color: #60a7d2;\n",
       "  color: #f1f1f1;\n",
       "}\n",
       "#T_2c6d3_row24_col10 {\n",
       "  font-size: 6pt;\n",
       "  background-color: #64a9d3;\n",
       "  color: #f1f1f1;\n",
       "}\n",
       "</style>\n",
       "<table id=\"T_2c6d3_\">\n",
       "  <thead>\n",
       "    <tr>\n",
       "      <th class=\"blank level0\" >&nbsp;</th>\n",
       "      <th class=\"col_heading level0 col0\" >0</th>\n",
       "      <th class=\"col_heading level0 col1\" >1</th>\n",
       "      <th class=\"col_heading level0 col2\" >2</th>\n",
       "      <th class=\"col_heading level0 col3\" >3</th>\n",
       "      <th class=\"col_heading level0 col4\" >4</th>\n",
       "      <th class=\"col_heading level0 col5\" >5</th>\n",
       "      <th class=\"col_heading level0 col6\" >6</th>\n",
       "      <th class=\"col_heading level0 col7\" >7</th>\n",
       "      <th class=\"col_heading level0 col8\" >8</th>\n",
       "      <th class=\"col_heading level0 col9\" >9</th>\n",
       "      <th class=\"col_heading level0 col10\" >10</th>\n",
       "      <th class=\"col_heading level0 col11\" >11</th>\n",
       "      <th class=\"col_heading level0 col12\" >12</th>\n",
       "      <th class=\"col_heading level0 col13\" >13</th>\n",
       "      <th class=\"col_heading level0 col14\" >14</th>\n",
       "      <th class=\"col_heading level0 col15\" >15</th>\n",
       "      <th class=\"col_heading level0 col16\" >16</th>\n",
       "      <th class=\"col_heading level0 col17\" >17</th>\n",
       "      <th class=\"col_heading level0 col18\" >18</th>\n",
       "      <th class=\"col_heading level0 col19\" >19</th>\n",
       "      <th class=\"col_heading level0 col20\" >20</th>\n",
       "      <th class=\"col_heading level0 col21\" >21</th>\n",
       "      <th class=\"col_heading level0 col22\" >22</th>\n",
       "      <th class=\"col_heading level0 col23\" >23</th>\n",
       "      <th class=\"col_heading level0 col24\" >24</th>\n",
       "      <th class=\"col_heading level0 col25\" >25</th>\n",
       "      <th class=\"col_heading level0 col26\" >26</th>\n",
       "      <th class=\"col_heading level0 col27\" >27</th>\n",
       "    </tr>\n",
       "  </thead>\n",
       "  <tbody>\n",
       "    <tr>\n",
       "      <th id=\"T_2c6d3_level0_row0\" class=\"row_heading level0 row0\" >0</th>\n",
       "      <td id=\"T_2c6d3_row0_col0\" class=\"data row0 col0\" >0.000000</td>\n",
       "      <td id=\"T_2c6d3_row0_col1\" class=\"data row0 col1\" >0.000000</td>\n",
       "      <td id=\"T_2c6d3_row0_col2\" class=\"data row0 col2\" >0.000000</td>\n",
       "      <td id=\"T_2c6d3_row0_col3\" class=\"data row0 col3\" >0.000000</td>\n",
       "      <td id=\"T_2c6d3_row0_col4\" class=\"data row0 col4\" >0.000000</td>\n",
       "      <td id=\"T_2c6d3_row0_col5\" class=\"data row0 col5\" >0.000000</td>\n",
       "      <td id=\"T_2c6d3_row0_col6\" class=\"data row0 col6\" >0.000000</td>\n",
       "      <td id=\"T_2c6d3_row0_col7\" class=\"data row0 col7\" >0.000000</td>\n",
       "      <td id=\"T_2c6d3_row0_col8\" class=\"data row0 col8\" >0.000000</td>\n",
       "      <td id=\"T_2c6d3_row0_col9\" class=\"data row0 col9\" >0.000000</td>\n",
       "      <td id=\"T_2c6d3_row0_col10\" class=\"data row0 col10\" >0.000000</td>\n",
       "      <td id=\"T_2c6d3_row0_col11\" class=\"data row0 col11\" >0.000000</td>\n",
       "      <td id=\"T_2c6d3_row0_col12\" class=\"data row0 col12\" >0.000000</td>\n",
       "      <td id=\"T_2c6d3_row0_col13\" class=\"data row0 col13\" >0.000000</td>\n",
       "      <td id=\"T_2c6d3_row0_col14\" class=\"data row0 col14\" >0.000000</td>\n",
       "      <td id=\"T_2c6d3_row0_col15\" class=\"data row0 col15\" >0.000000</td>\n",
       "      <td id=\"T_2c6d3_row0_col16\" class=\"data row0 col16\" >0.000000</td>\n",
       "      <td id=\"T_2c6d3_row0_col17\" class=\"data row0 col17\" >0.000000</td>\n",
       "      <td id=\"T_2c6d3_row0_col18\" class=\"data row0 col18\" >0.000000</td>\n",
       "      <td id=\"T_2c6d3_row0_col19\" class=\"data row0 col19\" >0.000000</td>\n",
       "      <td id=\"T_2c6d3_row0_col20\" class=\"data row0 col20\" >0.000000</td>\n",
       "      <td id=\"T_2c6d3_row0_col21\" class=\"data row0 col21\" >0.000000</td>\n",
       "      <td id=\"T_2c6d3_row0_col22\" class=\"data row0 col22\" >0.000000</td>\n",
       "      <td id=\"T_2c6d3_row0_col23\" class=\"data row0 col23\" >0.000000</td>\n",
       "      <td id=\"T_2c6d3_row0_col24\" class=\"data row0 col24\" >0.000000</td>\n",
       "      <td id=\"T_2c6d3_row0_col25\" class=\"data row0 col25\" >0.000000</td>\n",
       "      <td id=\"T_2c6d3_row0_col26\" class=\"data row0 col26\" >0.000000</td>\n",
       "      <td id=\"T_2c6d3_row0_col27\" class=\"data row0 col27\" >0.000000</td>\n",
       "    </tr>\n",
       "    <tr>\n",
       "      <th id=\"T_2c6d3_level0_row1\" class=\"row_heading level0 row1\" >1</th>\n",
       "      <td id=\"T_2c6d3_row1_col0\" class=\"data row1 col0\" >0.000000</td>\n",
       "      <td id=\"T_2c6d3_row1_col1\" class=\"data row1 col1\" >0.000000</td>\n",
       "      <td id=\"T_2c6d3_row1_col2\" class=\"data row1 col2\" >0.000000</td>\n",
       "      <td id=\"T_2c6d3_row1_col3\" class=\"data row1 col3\" >0.000000</td>\n",
       "      <td id=\"T_2c6d3_row1_col4\" class=\"data row1 col4\" >0.000000</td>\n",
       "      <td id=\"T_2c6d3_row1_col5\" class=\"data row1 col5\" >0.000000</td>\n",
       "      <td id=\"T_2c6d3_row1_col6\" class=\"data row1 col6\" >0.000000</td>\n",
       "      <td id=\"T_2c6d3_row1_col7\" class=\"data row1 col7\" >0.000000</td>\n",
       "      <td id=\"T_2c6d3_row1_col8\" class=\"data row1 col8\" >0.000000</td>\n",
       "      <td id=\"T_2c6d3_row1_col9\" class=\"data row1 col9\" >0.000000</td>\n",
       "      <td id=\"T_2c6d3_row1_col10\" class=\"data row1 col10\" >0.000000</td>\n",
       "      <td id=\"T_2c6d3_row1_col11\" class=\"data row1 col11\" >0.000000</td>\n",
       "      <td id=\"T_2c6d3_row1_col12\" class=\"data row1 col12\" >0.000000</td>\n",
       "      <td id=\"T_2c6d3_row1_col13\" class=\"data row1 col13\" >0.000000</td>\n",
       "      <td id=\"T_2c6d3_row1_col14\" class=\"data row1 col14\" >0.000000</td>\n",
       "      <td id=\"T_2c6d3_row1_col15\" class=\"data row1 col15\" >0.000000</td>\n",
       "      <td id=\"T_2c6d3_row1_col16\" class=\"data row1 col16\" >0.000000</td>\n",
       "      <td id=\"T_2c6d3_row1_col17\" class=\"data row1 col17\" >0.000000</td>\n",
       "      <td id=\"T_2c6d3_row1_col18\" class=\"data row1 col18\" >0.000000</td>\n",
       "      <td id=\"T_2c6d3_row1_col19\" class=\"data row1 col19\" >0.000000</td>\n",
       "      <td id=\"T_2c6d3_row1_col20\" class=\"data row1 col20\" >0.000000</td>\n",
       "      <td id=\"T_2c6d3_row1_col21\" class=\"data row1 col21\" >0.000000</td>\n",
       "      <td id=\"T_2c6d3_row1_col22\" class=\"data row1 col22\" >0.000000</td>\n",
       "      <td id=\"T_2c6d3_row1_col23\" class=\"data row1 col23\" >0.000000</td>\n",
       "      <td id=\"T_2c6d3_row1_col24\" class=\"data row1 col24\" >0.000000</td>\n",
       "      <td id=\"T_2c6d3_row1_col25\" class=\"data row1 col25\" >0.000000</td>\n",
       "      <td id=\"T_2c6d3_row1_col26\" class=\"data row1 col26\" >0.000000</td>\n",
       "      <td id=\"T_2c6d3_row1_col27\" class=\"data row1 col27\" >0.000000</td>\n",
       "    </tr>\n",
       "    <tr>\n",
       "      <th id=\"T_2c6d3_level0_row2\" class=\"row_heading level0 row2\" >2</th>\n",
       "      <td id=\"T_2c6d3_row2_col0\" class=\"data row2 col0\" >0.000000</td>\n",
       "      <td id=\"T_2c6d3_row2_col1\" class=\"data row2 col1\" >0.000000</td>\n",
       "      <td id=\"T_2c6d3_row2_col2\" class=\"data row2 col2\" >0.000000</td>\n",
       "      <td id=\"T_2c6d3_row2_col3\" class=\"data row2 col3\" >0.000000</td>\n",
       "      <td id=\"T_2c6d3_row2_col4\" class=\"data row2 col4\" >0.000000</td>\n",
       "      <td id=\"T_2c6d3_row2_col5\" class=\"data row2 col5\" >0.000000</td>\n",
       "      <td id=\"T_2c6d3_row2_col6\" class=\"data row2 col6\" >0.000000</td>\n",
       "      <td id=\"T_2c6d3_row2_col7\" class=\"data row2 col7\" >0.000000</td>\n",
       "      <td id=\"T_2c6d3_row2_col8\" class=\"data row2 col8\" >0.000000</td>\n",
       "      <td id=\"T_2c6d3_row2_col9\" class=\"data row2 col9\" >0.000000</td>\n",
       "      <td id=\"T_2c6d3_row2_col10\" class=\"data row2 col10\" >0.000000</td>\n",
       "      <td id=\"T_2c6d3_row2_col11\" class=\"data row2 col11\" >0.000000</td>\n",
       "      <td id=\"T_2c6d3_row2_col12\" class=\"data row2 col12\" >0.000000</td>\n",
       "      <td id=\"T_2c6d3_row2_col13\" class=\"data row2 col13\" >0.000000</td>\n",
       "      <td id=\"T_2c6d3_row2_col14\" class=\"data row2 col14\" >0.000000</td>\n",
       "      <td id=\"T_2c6d3_row2_col15\" class=\"data row2 col15\" >0.000000</td>\n",
       "      <td id=\"T_2c6d3_row2_col16\" class=\"data row2 col16\" >0.000000</td>\n",
       "      <td id=\"T_2c6d3_row2_col17\" class=\"data row2 col17\" >0.000000</td>\n",
       "      <td id=\"T_2c6d3_row2_col18\" class=\"data row2 col18\" >0.000000</td>\n",
       "      <td id=\"T_2c6d3_row2_col19\" class=\"data row2 col19\" >0.000000</td>\n",
       "      <td id=\"T_2c6d3_row2_col20\" class=\"data row2 col20\" >0.000000</td>\n",
       "      <td id=\"T_2c6d3_row2_col21\" class=\"data row2 col21\" >0.000000</td>\n",
       "      <td id=\"T_2c6d3_row2_col22\" class=\"data row2 col22\" >0.000000</td>\n",
       "      <td id=\"T_2c6d3_row2_col23\" class=\"data row2 col23\" >0.000000</td>\n",
       "      <td id=\"T_2c6d3_row2_col24\" class=\"data row2 col24\" >0.000000</td>\n",
       "      <td id=\"T_2c6d3_row2_col25\" class=\"data row2 col25\" >0.000000</td>\n",
       "      <td id=\"T_2c6d3_row2_col26\" class=\"data row2 col26\" >0.000000</td>\n",
       "      <td id=\"T_2c6d3_row2_col27\" class=\"data row2 col27\" >0.000000</td>\n",
       "    </tr>\n",
       "    <tr>\n",
       "      <th id=\"T_2c6d3_level0_row3\" class=\"row_heading level0 row3\" >3</th>\n",
       "      <td id=\"T_2c6d3_row3_col0\" class=\"data row3 col0\" >0.000000</td>\n",
       "      <td id=\"T_2c6d3_row3_col1\" class=\"data row3 col1\" >0.000000</td>\n",
       "      <td id=\"T_2c6d3_row3_col2\" class=\"data row3 col2\" >0.000000</td>\n",
       "      <td id=\"T_2c6d3_row3_col3\" class=\"data row3 col3\" >0.000000</td>\n",
       "      <td id=\"T_2c6d3_row3_col4\" class=\"data row3 col4\" >0.000000</td>\n",
       "      <td id=\"T_2c6d3_row3_col5\" class=\"data row3 col5\" >0.000000</td>\n",
       "      <td id=\"T_2c6d3_row3_col6\" class=\"data row3 col6\" >0.000000</td>\n",
       "      <td id=\"T_2c6d3_row3_col7\" class=\"data row3 col7\" >0.000000</td>\n",
       "      <td id=\"T_2c6d3_row3_col8\" class=\"data row3 col8\" >0.000000</td>\n",
       "      <td id=\"T_2c6d3_row3_col9\" class=\"data row3 col9\" >0.000000</td>\n",
       "      <td id=\"T_2c6d3_row3_col10\" class=\"data row3 col10\" >0.000000</td>\n",
       "      <td id=\"T_2c6d3_row3_col11\" class=\"data row3 col11\" >0.000000</td>\n",
       "      <td id=\"T_2c6d3_row3_col12\" class=\"data row3 col12\" >0.000000</td>\n",
       "      <td id=\"T_2c6d3_row3_col13\" class=\"data row3 col13\" >0.000000</td>\n",
       "      <td id=\"T_2c6d3_row3_col14\" class=\"data row3 col14\" >0.000000</td>\n",
       "      <td id=\"T_2c6d3_row3_col15\" class=\"data row3 col15\" >0.000000</td>\n",
       "      <td id=\"T_2c6d3_row3_col16\" class=\"data row3 col16\" >0.000000</td>\n",
       "      <td id=\"T_2c6d3_row3_col17\" class=\"data row3 col17\" >0.000000</td>\n",
       "      <td id=\"T_2c6d3_row3_col18\" class=\"data row3 col18\" >0.000000</td>\n",
       "      <td id=\"T_2c6d3_row3_col19\" class=\"data row3 col19\" >0.000000</td>\n",
       "      <td id=\"T_2c6d3_row3_col20\" class=\"data row3 col20\" >0.000000</td>\n",
       "      <td id=\"T_2c6d3_row3_col21\" class=\"data row3 col21\" >0.000000</td>\n",
       "      <td id=\"T_2c6d3_row3_col22\" class=\"data row3 col22\" >0.000000</td>\n",
       "      <td id=\"T_2c6d3_row3_col23\" class=\"data row3 col23\" >0.000000</td>\n",
       "      <td id=\"T_2c6d3_row3_col24\" class=\"data row3 col24\" >0.000000</td>\n",
       "      <td id=\"T_2c6d3_row3_col25\" class=\"data row3 col25\" >0.000000</td>\n",
       "      <td id=\"T_2c6d3_row3_col26\" class=\"data row3 col26\" >0.000000</td>\n",
       "      <td id=\"T_2c6d3_row3_col27\" class=\"data row3 col27\" >0.000000</td>\n",
       "    </tr>\n",
       "    <tr>\n",
       "      <th id=\"T_2c6d3_level0_row4\" class=\"row_heading level0 row4\" >4</th>\n",
       "      <td id=\"T_2c6d3_row4_col0\" class=\"data row4 col0\" >0.000000</td>\n",
       "      <td id=\"T_2c6d3_row4_col1\" class=\"data row4 col1\" >0.000000</td>\n",
       "      <td id=\"T_2c6d3_row4_col2\" class=\"data row4 col2\" >0.000000</td>\n",
       "      <td id=\"T_2c6d3_row4_col3\" class=\"data row4 col3\" >0.000000</td>\n",
       "      <td id=\"T_2c6d3_row4_col4\" class=\"data row4 col4\" >0.000000</td>\n",
       "      <td id=\"T_2c6d3_row4_col5\" class=\"data row4 col5\" >0.000000</td>\n",
       "      <td id=\"T_2c6d3_row4_col6\" class=\"data row4 col6\" >0.000000</td>\n",
       "      <td id=\"T_2c6d3_row4_col7\" class=\"data row4 col7\" >0.000000</td>\n",
       "      <td id=\"T_2c6d3_row4_col8\" class=\"data row4 col8\" >0.000000</td>\n",
       "      <td id=\"T_2c6d3_row4_col9\" class=\"data row4 col9\" >0.000000</td>\n",
       "      <td id=\"T_2c6d3_row4_col10\" class=\"data row4 col10\" >0.000000</td>\n",
       "      <td id=\"T_2c6d3_row4_col11\" class=\"data row4 col11\" >0.000000</td>\n",
       "      <td id=\"T_2c6d3_row4_col12\" class=\"data row4 col12\" >0.000000</td>\n",
       "      <td id=\"T_2c6d3_row4_col13\" class=\"data row4 col13\" >0.000000</td>\n",
       "      <td id=\"T_2c6d3_row4_col14\" class=\"data row4 col14\" >0.000000</td>\n",
       "      <td id=\"T_2c6d3_row4_col15\" class=\"data row4 col15\" >0.000000</td>\n",
       "      <td id=\"T_2c6d3_row4_col16\" class=\"data row4 col16\" >0.000000</td>\n",
       "      <td id=\"T_2c6d3_row4_col17\" class=\"data row4 col17\" >0.000000</td>\n",
       "      <td id=\"T_2c6d3_row4_col18\" class=\"data row4 col18\" >0.000000</td>\n",
       "      <td id=\"T_2c6d3_row4_col19\" class=\"data row4 col19\" >0.000000</td>\n",
       "      <td id=\"T_2c6d3_row4_col20\" class=\"data row4 col20\" >0.000000</td>\n",
       "      <td id=\"T_2c6d3_row4_col21\" class=\"data row4 col21\" >0.000000</td>\n",
       "      <td id=\"T_2c6d3_row4_col22\" class=\"data row4 col22\" >0.000000</td>\n",
       "      <td id=\"T_2c6d3_row4_col23\" class=\"data row4 col23\" >0.000000</td>\n",
       "      <td id=\"T_2c6d3_row4_col24\" class=\"data row4 col24\" >0.000000</td>\n",
       "      <td id=\"T_2c6d3_row4_col25\" class=\"data row4 col25\" >0.000000</td>\n",
       "      <td id=\"T_2c6d3_row4_col26\" class=\"data row4 col26\" >0.000000</td>\n",
       "      <td id=\"T_2c6d3_row4_col27\" class=\"data row4 col27\" >0.000000</td>\n",
       "    </tr>\n",
       "    <tr>\n",
       "      <th id=\"T_2c6d3_level0_row5\" class=\"row_heading level0 row5\" >5</th>\n",
       "      <td id=\"T_2c6d3_row5_col0\" class=\"data row5 col0\" >0.000000</td>\n",
       "      <td id=\"T_2c6d3_row5_col1\" class=\"data row5 col1\" >0.000000</td>\n",
       "      <td id=\"T_2c6d3_row5_col2\" class=\"data row5 col2\" >0.000000</td>\n",
       "      <td id=\"T_2c6d3_row5_col3\" class=\"data row5 col3\" >0.000000</td>\n",
       "      <td id=\"T_2c6d3_row5_col4\" class=\"data row5 col4\" >0.000000</td>\n",
       "      <td id=\"T_2c6d3_row5_col5\" class=\"data row5 col5\" >0.000000</td>\n",
       "      <td id=\"T_2c6d3_row5_col6\" class=\"data row5 col6\" >0.000000</td>\n",
       "      <td id=\"T_2c6d3_row5_col7\" class=\"data row5 col7\" >0.000000</td>\n",
       "      <td id=\"T_2c6d3_row5_col8\" class=\"data row5 col8\" >0.000000</td>\n",
       "      <td id=\"T_2c6d3_row5_col9\" class=\"data row5 col9\" >0.000000</td>\n",
       "      <td id=\"T_2c6d3_row5_col10\" class=\"data row5 col10\" >0.000000</td>\n",
       "      <td id=\"T_2c6d3_row5_col11\" class=\"data row5 col11\" >0.000000</td>\n",
       "      <td id=\"T_2c6d3_row5_col12\" class=\"data row5 col12\" >0.011765</td>\n",
       "      <td id=\"T_2c6d3_row5_col13\" class=\"data row5 col13\" >0.070588</td>\n",
       "      <td id=\"T_2c6d3_row5_col14\" class=\"data row5 col14\" >0.070588</td>\n",
       "      <td id=\"T_2c6d3_row5_col15\" class=\"data row5 col15\" >0.070588</td>\n",
       "      <td id=\"T_2c6d3_row5_col16\" class=\"data row5 col16\" >0.494118</td>\n",
       "      <td id=\"T_2c6d3_row5_col17\" class=\"data row5 col17\" >0.533333</td>\n",
       "      <td id=\"T_2c6d3_row5_col18\" class=\"data row5 col18\" >0.686275</td>\n",
       "      <td id=\"T_2c6d3_row5_col19\" class=\"data row5 col19\" >0.101961</td>\n",
       "      <td id=\"T_2c6d3_row5_col20\" class=\"data row5 col20\" >0.650980</td>\n",
       "      <td id=\"T_2c6d3_row5_col21\" class=\"data row5 col21\" >1.000000</td>\n",
       "      <td id=\"T_2c6d3_row5_col22\" class=\"data row5 col22\" >0.968627</td>\n",
       "      <td id=\"T_2c6d3_row5_col23\" class=\"data row5 col23\" >0.498039</td>\n",
       "      <td id=\"T_2c6d3_row5_col24\" class=\"data row5 col24\" >0.000000</td>\n",
       "      <td id=\"T_2c6d3_row5_col25\" class=\"data row5 col25\" >0.000000</td>\n",
       "      <td id=\"T_2c6d3_row5_col26\" class=\"data row5 col26\" >0.000000</td>\n",
       "      <td id=\"T_2c6d3_row5_col27\" class=\"data row5 col27\" >0.000000</td>\n",
       "    </tr>\n",
       "    <tr>\n",
       "      <th id=\"T_2c6d3_level0_row6\" class=\"row_heading level0 row6\" >6</th>\n",
       "      <td id=\"T_2c6d3_row6_col0\" class=\"data row6 col0\" >0.000000</td>\n",
       "      <td id=\"T_2c6d3_row6_col1\" class=\"data row6 col1\" >0.000000</td>\n",
       "      <td id=\"T_2c6d3_row6_col2\" class=\"data row6 col2\" >0.000000</td>\n",
       "      <td id=\"T_2c6d3_row6_col3\" class=\"data row6 col3\" >0.000000</td>\n",
       "      <td id=\"T_2c6d3_row6_col4\" class=\"data row6 col4\" >0.000000</td>\n",
       "      <td id=\"T_2c6d3_row6_col5\" class=\"data row6 col5\" >0.000000</td>\n",
       "      <td id=\"T_2c6d3_row6_col6\" class=\"data row6 col6\" >0.000000</td>\n",
       "      <td id=\"T_2c6d3_row6_col7\" class=\"data row6 col7\" >0.000000</td>\n",
       "      <td id=\"T_2c6d3_row6_col8\" class=\"data row6 col8\" >0.117647</td>\n",
       "      <td id=\"T_2c6d3_row6_col9\" class=\"data row6 col9\" >0.141176</td>\n",
       "      <td id=\"T_2c6d3_row6_col10\" class=\"data row6 col10\" >0.368627</td>\n",
       "      <td id=\"T_2c6d3_row6_col11\" class=\"data row6 col11\" >0.603922</td>\n",
       "      <td id=\"T_2c6d3_row6_col12\" class=\"data row6 col12\" >0.666667</td>\n",
       "      <td id=\"T_2c6d3_row6_col13\" class=\"data row6 col13\" >0.992157</td>\n",
       "      <td id=\"T_2c6d3_row6_col14\" class=\"data row6 col14\" >0.992157</td>\n",
       "      <td id=\"T_2c6d3_row6_col15\" class=\"data row6 col15\" >0.992157</td>\n",
       "      <td id=\"T_2c6d3_row6_col16\" class=\"data row6 col16\" >0.992157</td>\n",
       "      <td id=\"T_2c6d3_row6_col17\" class=\"data row6 col17\" >0.992157</td>\n",
       "      <td id=\"T_2c6d3_row6_col18\" class=\"data row6 col18\" >0.882353</td>\n",
       "      <td id=\"T_2c6d3_row6_col19\" class=\"data row6 col19\" >0.674510</td>\n",
       "      <td id=\"T_2c6d3_row6_col20\" class=\"data row6 col20\" >0.992157</td>\n",
       "      <td id=\"T_2c6d3_row6_col21\" class=\"data row6 col21\" >0.949020</td>\n",
       "      <td id=\"T_2c6d3_row6_col22\" class=\"data row6 col22\" >0.764706</td>\n",
       "      <td id=\"T_2c6d3_row6_col23\" class=\"data row6 col23\" >0.250980</td>\n",
       "      <td id=\"T_2c6d3_row6_col24\" class=\"data row6 col24\" >0.000000</td>\n",
       "      <td id=\"T_2c6d3_row6_col25\" class=\"data row6 col25\" >0.000000</td>\n",
       "      <td id=\"T_2c6d3_row6_col26\" class=\"data row6 col26\" >0.000000</td>\n",
       "      <td id=\"T_2c6d3_row6_col27\" class=\"data row6 col27\" >0.000000</td>\n",
       "    </tr>\n",
       "    <tr>\n",
       "      <th id=\"T_2c6d3_level0_row7\" class=\"row_heading level0 row7\" >7</th>\n",
       "      <td id=\"T_2c6d3_row7_col0\" class=\"data row7 col0\" >0.000000</td>\n",
       "      <td id=\"T_2c6d3_row7_col1\" class=\"data row7 col1\" >0.000000</td>\n",
       "      <td id=\"T_2c6d3_row7_col2\" class=\"data row7 col2\" >0.000000</td>\n",
       "      <td id=\"T_2c6d3_row7_col3\" class=\"data row7 col3\" >0.000000</td>\n",
       "      <td id=\"T_2c6d3_row7_col4\" class=\"data row7 col4\" >0.000000</td>\n",
       "      <td id=\"T_2c6d3_row7_col5\" class=\"data row7 col5\" >0.000000</td>\n",
       "      <td id=\"T_2c6d3_row7_col6\" class=\"data row7 col6\" >0.000000</td>\n",
       "      <td id=\"T_2c6d3_row7_col7\" class=\"data row7 col7\" >0.192157</td>\n",
       "      <td id=\"T_2c6d3_row7_col8\" class=\"data row7 col8\" >0.933333</td>\n",
       "      <td id=\"T_2c6d3_row7_col9\" class=\"data row7 col9\" >0.992157</td>\n",
       "      <td id=\"T_2c6d3_row7_col10\" class=\"data row7 col10\" >0.992157</td>\n",
       "      <td id=\"T_2c6d3_row7_col11\" class=\"data row7 col11\" >0.992157</td>\n",
       "      <td id=\"T_2c6d3_row7_col12\" class=\"data row7 col12\" >0.992157</td>\n",
       "      <td id=\"T_2c6d3_row7_col13\" class=\"data row7 col13\" >0.992157</td>\n",
       "      <td id=\"T_2c6d3_row7_col14\" class=\"data row7 col14\" >0.992157</td>\n",
       "      <td id=\"T_2c6d3_row7_col15\" class=\"data row7 col15\" >0.992157</td>\n",
       "      <td id=\"T_2c6d3_row7_col16\" class=\"data row7 col16\" >0.992157</td>\n",
       "      <td id=\"T_2c6d3_row7_col17\" class=\"data row7 col17\" >0.984314</td>\n",
       "      <td id=\"T_2c6d3_row7_col18\" class=\"data row7 col18\" >0.364706</td>\n",
       "      <td id=\"T_2c6d3_row7_col19\" class=\"data row7 col19\" >0.321569</td>\n",
       "      <td id=\"T_2c6d3_row7_col20\" class=\"data row7 col20\" >0.321569</td>\n",
       "      <td id=\"T_2c6d3_row7_col21\" class=\"data row7 col21\" >0.219608</td>\n",
       "      <td id=\"T_2c6d3_row7_col22\" class=\"data row7 col22\" >0.152941</td>\n",
       "      <td id=\"T_2c6d3_row7_col23\" class=\"data row7 col23\" >0.000000</td>\n",
       "      <td id=\"T_2c6d3_row7_col24\" class=\"data row7 col24\" >0.000000</td>\n",
       "      <td id=\"T_2c6d3_row7_col25\" class=\"data row7 col25\" >0.000000</td>\n",
       "      <td id=\"T_2c6d3_row7_col26\" class=\"data row7 col26\" >0.000000</td>\n",
       "      <td id=\"T_2c6d3_row7_col27\" class=\"data row7 col27\" >0.000000</td>\n",
       "    </tr>\n",
       "    <tr>\n",
       "      <th id=\"T_2c6d3_level0_row8\" class=\"row_heading level0 row8\" >8</th>\n",
       "      <td id=\"T_2c6d3_row8_col0\" class=\"data row8 col0\" >0.000000</td>\n",
       "      <td id=\"T_2c6d3_row8_col1\" class=\"data row8 col1\" >0.000000</td>\n",
       "      <td id=\"T_2c6d3_row8_col2\" class=\"data row8 col2\" >0.000000</td>\n",
       "      <td id=\"T_2c6d3_row8_col3\" class=\"data row8 col3\" >0.000000</td>\n",
       "      <td id=\"T_2c6d3_row8_col4\" class=\"data row8 col4\" >0.000000</td>\n",
       "      <td id=\"T_2c6d3_row8_col5\" class=\"data row8 col5\" >0.000000</td>\n",
       "      <td id=\"T_2c6d3_row8_col6\" class=\"data row8 col6\" >0.000000</td>\n",
       "      <td id=\"T_2c6d3_row8_col7\" class=\"data row8 col7\" >0.070588</td>\n",
       "      <td id=\"T_2c6d3_row8_col8\" class=\"data row8 col8\" >0.858824</td>\n",
       "      <td id=\"T_2c6d3_row8_col9\" class=\"data row8 col9\" >0.992157</td>\n",
       "      <td id=\"T_2c6d3_row8_col10\" class=\"data row8 col10\" >0.992157</td>\n",
       "      <td id=\"T_2c6d3_row8_col11\" class=\"data row8 col11\" >0.992157</td>\n",
       "      <td id=\"T_2c6d3_row8_col12\" class=\"data row8 col12\" >0.992157</td>\n",
       "      <td id=\"T_2c6d3_row8_col13\" class=\"data row8 col13\" >0.992157</td>\n",
       "      <td id=\"T_2c6d3_row8_col14\" class=\"data row8 col14\" >0.776471</td>\n",
       "      <td id=\"T_2c6d3_row8_col15\" class=\"data row8 col15\" >0.713726</td>\n",
       "      <td id=\"T_2c6d3_row8_col16\" class=\"data row8 col16\" >0.968627</td>\n",
       "      <td id=\"T_2c6d3_row8_col17\" class=\"data row8 col17\" >0.945098</td>\n",
       "      <td id=\"T_2c6d3_row8_col18\" class=\"data row8 col18\" >0.000000</td>\n",
       "      <td id=\"T_2c6d3_row8_col19\" class=\"data row8 col19\" >0.000000</td>\n",
       "      <td id=\"T_2c6d3_row8_col20\" class=\"data row8 col20\" >0.000000</td>\n",
       "      <td id=\"T_2c6d3_row8_col21\" class=\"data row8 col21\" >0.000000</td>\n",
       "      <td id=\"T_2c6d3_row8_col22\" class=\"data row8 col22\" >0.000000</td>\n",
       "      <td id=\"T_2c6d3_row8_col23\" class=\"data row8 col23\" >0.000000</td>\n",
       "      <td id=\"T_2c6d3_row8_col24\" class=\"data row8 col24\" >0.000000</td>\n",
       "      <td id=\"T_2c6d3_row8_col25\" class=\"data row8 col25\" >0.000000</td>\n",
       "      <td id=\"T_2c6d3_row8_col26\" class=\"data row8 col26\" >0.000000</td>\n",
       "      <td id=\"T_2c6d3_row8_col27\" class=\"data row8 col27\" >0.000000</td>\n",
       "    </tr>\n",
       "    <tr>\n",
       "      <th id=\"T_2c6d3_level0_row9\" class=\"row_heading level0 row9\" >9</th>\n",
       "      <td id=\"T_2c6d3_row9_col0\" class=\"data row9 col0\" >0.000000</td>\n",
       "      <td id=\"T_2c6d3_row9_col1\" class=\"data row9 col1\" >0.000000</td>\n",
       "      <td id=\"T_2c6d3_row9_col2\" class=\"data row9 col2\" >0.000000</td>\n",
       "      <td id=\"T_2c6d3_row9_col3\" class=\"data row9 col3\" >0.000000</td>\n",
       "      <td id=\"T_2c6d3_row9_col4\" class=\"data row9 col4\" >0.000000</td>\n",
       "      <td id=\"T_2c6d3_row9_col5\" class=\"data row9 col5\" >0.000000</td>\n",
       "      <td id=\"T_2c6d3_row9_col6\" class=\"data row9 col6\" >0.000000</td>\n",
       "      <td id=\"T_2c6d3_row9_col7\" class=\"data row9 col7\" >0.000000</td>\n",
       "      <td id=\"T_2c6d3_row9_col8\" class=\"data row9 col8\" >0.313726</td>\n",
       "      <td id=\"T_2c6d3_row9_col9\" class=\"data row9 col9\" >0.611765</td>\n",
       "      <td id=\"T_2c6d3_row9_col10\" class=\"data row9 col10\" >0.419608</td>\n",
       "      <td id=\"T_2c6d3_row9_col11\" class=\"data row9 col11\" >0.992157</td>\n",
       "      <td id=\"T_2c6d3_row9_col12\" class=\"data row9 col12\" >0.992157</td>\n",
       "      <td id=\"T_2c6d3_row9_col13\" class=\"data row9 col13\" >0.803922</td>\n",
       "      <td id=\"T_2c6d3_row9_col14\" class=\"data row9 col14\" >0.043137</td>\n",
       "      <td id=\"T_2c6d3_row9_col15\" class=\"data row9 col15\" >0.000000</td>\n",
       "      <td id=\"T_2c6d3_row9_col16\" class=\"data row9 col16\" >0.168627</td>\n",
       "      <td id=\"T_2c6d3_row9_col17\" class=\"data row9 col17\" >0.603922</td>\n",
       "      <td id=\"T_2c6d3_row9_col18\" class=\"data row9 col18\" >0.000000</td>\n",
       "      <td id=\"T_2c6d3_row9_col19\" class=\"data row9 col19\" >0.000000</td>\n",
       "      <td id=\"T_2c6d3_row9_col20\" class=\"data row9 col20\" >0.000000</td>\n",
       "      <td id=\"T_2c6d3_row9_col21\" class=\"data row9 col21\" >0.000000</td>\n",
       "      <td id=\"T_2c6d3_row9_col22\" class=\"data row9 col22\" >0.000000</td>\n",
       "      <td id=\"T_2c6d3_row9_col23\" class=\"data row9 col23\" >0.000000</td>\n",
       "      <td id=\"T_2c6d3_row9_col24\" class=\"data row9 col24\" >0.000000</td>\n",
       "      <td id=\"T_2c6d3_row9_col25\" class=\"data row9 col25\" >0.000000</td>\n",
       "      <td id=\"T_2c6d3_row9_col26\" class=\"data row9 col26\" >0.000000</td>\n",
       "      <td id=\"T_2c6d3_row9_col27\" class=\"data row9 col27\" >0.000000</td>\n",
       "    </tr>\n",
       "    <tr>\n",
       "      <th id=\"T_2c6d3_level0_row10\" class=\"row_heading level0 row10\" >10</th>\n",
       "      <td id=\"T_2c6d3_row10_col0\" class=\"data row10 col0\" >0.000000</td>\n",
       "      <td id=\"T_2c6d3_row10_col1\" class=\"data row10 col1\" >0.000000</td>\n",
       "      <td id=\"T_2c6d3_row10_col2\" class=\"data row10 col2\" >0.000000</td>\n",
       "      <td id=\"T_2c6d3_row10_col3\" class=\"data row10 col3\" >0.000000</td>\n",
       "      <td id=\"T_2c6d3_row10_col4\" class=\"data row10 col4\" >0.000000</td>\n",
       "      <td id=\"T_2c6d3_row10_col5\" class=\"data row10 col5\" >0.000000</td>\n",
       "      <td id=\"T_2c6d3_row10_col6\" class=\"data row10 col6\" >0.000000</td>\n",
       "      <td id=\"T_2c6d3_row10_col7\" class=\"data row10 col7\" >0.000000</td>\n",
       "      <td id=\"T_2c6d3_row10_col8\" class=\"data row10 col8\" >0.000000</td>\n",
       "      <td id=\"T_2c6d3_row10_col9\" class=\"data row10 col9\" >0.054902</td>\n",
       "      <td id=\"T_2c6d3_row10_col10\" class=\"data row10 col10\" >0.003922</td>\n",
       "      <td id=\"T_2c6d3_row10_col11\" class=\"data row10 col11\" >0.603922</td>\n",
       "      <td id=\"T_2c6d3_row10_col12\" class=\"data row10 col12\" >0.992157</td>\n",
       "      <td id=\"T_2c6d3_row10_col13\" class=\"data row10 col13\" >0.352941</td>\n",
       "      <td id=\"T_2c6d3_row10_col14\" class=\"data row10 col14\" >0.000000</td>\n",
       "      <td id=\"T_2c6d3_row10_col15\" class=\"data row10 col15\" >0.000000</td>\n",
       "      <td id=\"T_2c6d3_row10_col16\" class=\"data row10 col16\" >0.000000</td>\n",
       "      <td id=\"T_2c6d3_row10_col17\" class=\"data row10 col17\" >0.000000</td>\n",
       "      <td id=\"T_2c6d3_row10_col18\" class=\"data row10 col18\" >0.000000</td>\n",
       "      <td id=\"T_2c6d3_row10_col19\" class=\"data row10 col19\" >0.000000</td>\n",
       "      <td id=\"T_2c6d3_row10_col20\" class=\"data row10 col20\" >0.000000</td>\n",
       "      <td id=\"T_2c6d3_row10_col21\" class=\"data row10 col21\" >0.000000</td>\n",
       "      <td id=\"T_2c6d3_row10_col22\" class=\"data row10 col22\" >0.000000</td>\n",
       "      <td id=\"T_2c6d3_row10_col23\" class=\"data row10 col23\" >0.000000</td>\n",
       "      <td id=\"T_2c6d3_row10_col24\" class=\"data row10 col24\" >0.000000</td>\n",
       "      <td id=\"T_2c6d3_row10_col25\" class=\"data row10 col25\" >0.000000</td>\n",
       "      <td id=\"T_2c6d3_row10_col26\" class=\"data row10 col26\" >0.000000</td>\n",
       "      <td id=\"T_2c6d3_row10_col27\" class=\"data row10 col27\" >0.000000</td>\n",
       "    </tr>\n",
       "    <tr>\n",
       "      <th id=\"T_2c6d3_level0_row11\" class=\"row_heading level0 row11\" >11</th>\n",
       "      <td id=\"T_2c6d3_row11_col0\" class=\"data row11 col0\" >0.000000</td>\n",
       "      <td id=\"T_2c6d3_row11_col1\" class=\"data row11 col1\" >0.000000</td>\n",
       "      <td id=\"T_2c6d3_row11_col2\" class=\"data row11 col2\" >0.000000</td>\n",
       "      <td id=\"T_2c6d3_row11_col3\" class=\"data row11 col3\" >0.000000</td>\n",
       "      <td id=\"T_2c6d3_row11_col4\" class=\"data row11 col4\" >0.000000</td>\n",
       "      <td id=\"T_2c6d3_row11_col5\" class=\"data row11 col5\" >0.000000</td>\n",
       "      <td id=\"T_2c6d3_row11_col6\" class=\"data row11 col6\" >0.000000</td>\n",
       "      <td id=\"T_2c6d3_row11_col7\" class=\"data row11 col7\" >0.000000</td>\n",
       "      <td id=\"T_2c6d3_row11_col8\" class=\"data row11 col8\" >0.000000</td>\n",
       "      <td id=\"T_2c6d3_row11_col9\" class=\"data row11 col9\" >0.000000</td>\n",
       "      <td id=\"T_2c6d3_row11_col10\" class=\"data row11 col10\" >0.000000</td>\n",
       "      <td id=\"T_2c6d3_row11_col11\" class=\"data row11 col11\" >0.545098</td>\n",
       "      <td id=\"T_2c6d3_row11_col12\" class=\"data row11 col12\" >0.992157</td>\n",
       "      <td id=\"T_2c6d3_row11_col13\" class=\"data row11 col13\" >0.745098</td>\n",
       "      <td id=\"T_2c6d3_row11_col14\" class=\"data row11 col14\" >0.007843</td>\n",
       "      <td id=\"T_2c6d3_row11_col15\" class=\"data row11 col15\" >0.000000</td>\n",
       "      <td id=\"T_2c6d3_row11_col16\" class=\"data row11 col16\" >0.000000</td>\n",
       "      <td id=\"T_2c6d3_row11_col17\" class=\"data row11 col17\" >0.000000</td>\n",
       "      <td id=\"T_2c6d3_row11_col18\" class=\"data row11 col18\" >0.000000</td>\n",
       "      <td id=\"T_2c6d3_row11_col19\" class=\"data row11 col19\" >0.000000</td>\n",
       "      <td id=\"T_2c6d3_row11_col20\" class=\"data row11 col20\" >0.000000</td>\n",
       "      <td id=\"T_2c6d3_row11_col21\" class=\"data row11 col21\" >0.000000</td>\n",
       "      <td id=\"T_2c6d3_row11_col22\" class=\"data row11 col22\" >0.000000</td>\n",
       "      <td id=\"T_2c6d3_row11_col23\" class=\"data row11 col23\" >0.000000</td>\n",
       "      <td id=\"T_2c6d3_row11_col24\" class=\"data row11 col24\" >0.000000</td>\n",
       "      <td id=\"T_2c6d3_row11_col25\" class=\"data row11 col25\" >0.000000</td>\n",
       "      <td id=\"T_2c6d3_row11_col26\" class=\"data row11 col26\" >0.000000</td>\n",
       "      <td id=\"T_2c6d3_row11_col27\" class=\"data row11 col27\" >0.000000</td>\n",
       "    </tr>\n",
       "    <tr>\n",
       "      <th id=\"T_2c6d3_level0_row12\" class=\"row_heading level0 row12\" >12</th>\n",
       "      <td id=\"T_2c6d3_row12_col0\" class=\"data row12 col0\" >0.000000</td>\n",
       "      <td id=\"T_2c6d3_row12_col1\" class=\"data row12 col1\" >0.000000</td>\n",
       "      <td id=\"T_2c6d3_row12_col2\" class=\"data row12 col2\" >0.000000</td>\n",
       "      <td id=\"T_2c6d3_row12_col3\" class=\"data row12 col3\" >0.000000</td>\n",
       "      <td id=\"T_2c6d3_row12_col4\" class=\"data row12 col4\" >0.000000</td>\n",
       "      <td id=\"T_2c6d3_row12_col5\" class=\"data row12 col5\" >0.000000</td>\n",
       "      <td id=\"T_2c6d3_row12_col6\" class=\"data row12 col6\" >0.000000</td>\n",
       "      <td id=\"T_2c6d3_row12_col7\" class=\"data row12 col7\" >0.000000</td>\n",
       "      <td id=\"T_2c6d3_row12_col8\" class=\"data row12 col8\" >0.000000</td>\n",
       "      <td id=\"T_2c6d3_row12_col9\" class=\"data row12 col9\" >0.000000</td>\n",
       "      <td id=\"T_2c6d3_row12_col10\" class=\"data row12 col10\" >0.000000</td>\n",
       "      <td id=\"T_2c6d3_row12_col11\" class=\"data row12 col11\" >0.043137</td>\n",
       "      <td id=\"T_2c6d3_row12_col12\" class=\"data row12 col12\" >0.745098</td>\n",
       "      <td id=\"T_2c6d3_row12_col13\" class=\"data row12 col13\" >0.992157</td>\n",
       "      <td id=\"T_2c6d3_row12_col14\" class=\"data row12 col14\" >0.274510</td>\n",
       "      <td id=\"T_2c6d3_row12_col15\" class=\"data row12 col15\" >0.000000</td>\n",
       "      <td id=\"T_2c6d3_row12_col16\" class=\"data row12 col16\" >0.000000</td>\n",
       "      <td id=\"T_2c6d3_row12_col17\" class=\"data row12 col17\" >0.000000</td>\n",
       "      <td id=\"T_2c6d3_row12_col18\" class=\"data row12 col18\" >0.000000</td>\n",
       "      <td id=\"T_2c6d3_row12_col19\" class=\"data row12 col19\" >0.000000</td>\n",
       "      <td id=\"T_2c6d3_row12_col20\" class=\"data row12 col20\" >0.000000</td>\n",
       "      <td id=\"T_2c6d3_row12_col21\" class=\"data row12 col21\" >0.000000</td>\n",
       "      <td id=\"T_2c6d3_row12_col22\" class=\"data row12 col22\" >0.000000</td>\n",
       "      <td id=\"T_2c6d3_row12_col23\" class=\"data row12 col23\" >0.000000</td>\n",
       "      <td id=\"T_2c6d3_row12_col24\" class=\"data row12 col24\" >0.000000</td>\n",
       "      <td id=\"T_2c6d3_row12_col25\" class=\"data row12 col25\" >0.000000</td>\n",
       "      <td id=\"T_2c6d3_row12_col26\" class=\"data row12 col26\" >0.000000</td>\n",
       "      <td id=\"T_2c6d3_row12_col27\" class=\"data row12 col27\" >0.000000</td>\n",
       "    </tr>\n",
       "    <tr>\n",
       "      <th id=\"T_2c6d3_level0_row13\" class=\"row_heading level0 row13\" >13</th>\n",
       "      <td id=\"T_2c6d3_row13_col0\" class=\"data row13 col0\" >0.000000</td>\n",
       "      <td id=\"T_2c6d3_row13_col1\" class=\"data row13 col1\" >0.000000</td>\n",
       "      <td id=\"T_2c6d3_row13_col2\" class=\"data row13 col2\" >0.000000</td>\n",
       "      <td id=\"T_2c6d3_row13_col3\" class=\"data row13 col3\" >0.000000</td>\n",
       "      <td id=\"T_2c6d3_row13_col4\" class=\"data row13 col4\" >0.000000</td>\n",
       "      <td id=\"T_2c6d3_row13_col5\" class=\"data row13 col5\" >0.000000</td>\n",
       "      <td id=\"T_2c6d3_row13_col6\" class=\"data row13 col6\" >0.000000</td>\n",
       "      <td id=\"T_2c6d3_row13_col7\" class=\"data row13 col7\" >0.000000</td>\n",
       "      <td id=\"T_2c6d3_row13_col8\" class=\"data row13 col8\" >0.000000</td>\n",
       "      <td id=\"T_2c6d3_row13_col9\" class=\"data row13 col9\" >0.000000</td>\n",
       "      <td id=\"T_2c6d3_row13_col10\" class=\"data row13 col10\" >0.000000</td>\n",
       "      <td id=\"T_2c6d3_row13_col11\" class=\"data row13 col11\" >0.000000</td>\n",
       "      <td id=\"T_2c6d3_row13_col12\" class=\"data row13 col12\" >0.137255</td>\n",
       "      <td id=\"T_2c6d3_row13_col13\" class=\"data row13 col13\" >0.945098</td>\n",
       "      <td id=\"T_2c6d3_row13_col14\" class=\"data row13 col14\" >0.882353</td>\n",
       "      <td id=\"T_2c6d3_row13_col15\" class=\"data row13 col15\" >0.627451</td>\n",
       "      <td id=\"T_2c6d3_row13_col16\" class=\"data row13 col16\" >0.423529</td>\n",
       "      <td id=\"T_2c6d3_row13_col17\" class=\"data row13 col17\" >0.003922</td>\n",
       "      <td id=\"T_2c6d3_row13_col18\" class=\"data row13 col18\" >0.000000</td>\n",
       "      <td id=\"T_2c6d3_row13_col19\" class=\"data row13 col19\" >0.000000</td>\n",
       "      <td id=\"T_2c6d3_row13_col20\" class=\"data row13 col20\" >0.000000</td>\n",
       "      <td id=\"T_2c6d3_row13_col21\" class=\"data row13 col21\" >0.000000</td>\n",
       "      <td id=\"T_2c6d3_row13_col22\" class=\"data row13 col22\" >0.000000</td>\n",
       "      <td id=\"T_2c6d3_row13_col23\" class=\"data row13 col23\" >0.000000</td>\n",
       "      <td id=\"T_2c6d3_row13_col24\" class=\"data row13 col24\" >0.000000</td>\n",
       "      <td id=\"T_2c6d3_row13_col25\" class=\"data row13 col25\" >0.000000</td>\n",
       "      <td id=\"T_2c6d3_row13_col26\" class=\"data row13 col26\" >0.000000</td>\n",
       "      <td id=\"T_2c6d3_row13_col27\" class=\"data row13 col27\" >0.000000</td>\n",
       "    </tr>\n",
       "    <tr>\n",
       "      <th id=\"T_2c6d3_level0_row14\" class=\"row_heading level0 row14\" >14</th>\n",
       "      <td id=\"T_2c6d3_row14_col0\" class=\"data row14 col0\" >0.000000</td>\n",
       "      <td id=\"T_2c6d3_row14_col1\" class=\"data row14 col1\" >0.000000</td>\n",
       "      <td id=\"T_2c6d3_row14_col2\" class=\"data row14 col2\" >0.000000</td>\n",
       "      <td id=\"T_2c6d3_row14_col3\" class=\"data row14 col3\" >0.000000</td>\n",
       "      <td id=\"T_2c6d3_row14_col4\" class=\"data row14 col4\" >0.000000</td>\n",
       "      <td id=\"T_2c6d3_row14_col5\" class=\"data row14 col5\" >0.000000</td>\n",
       "      <td id=\"T_2c6d3_row14_col6\" class=\"data row14 col6\" >0.000000</td>\n",
       "      <td id=\"T_2c6d3_row14_col7\" class=\"data row14 col7\" >0.000000</td>\n",
       "      <td id=\"T_2c6d3_row14_col8\" class=\"data row14 col8\" >0.000000</td>\n",
       "      <td id=\"T_2c6d3_row14_col9\" class=\"data row14 col9\" >0.000000</td>\n",
       "      <td id=\"T_2c6d3_row14_col10\" class=\"data row14 col10\" >0.000000</td>\n",
       "      <td id=\"T_2c6d3_row14_col11\" class=\"data row14 col11\" >0.000000</td>\n",
       "      <td id=\"T_2c6d3_row14_col12\" class=\"data row14 col12\" >0.000000</td>\n",
       "      <td id=\"T_2c6d3_row14_col13\" class=\"data row14 col13\" >0.317647</td>\n",
       "      <td id=\"T_2c6d3_row14_col14\" class=\"data row14 col14\" >0.941176</td>\n",
       "      <td id=\"T_2c6d3_row14_col15\" class=\"data row14 col15\" >0.992157</td>\n",
       "      <td id=\"T_2c6d3_row14_col16\" class=\"data row14 col16\" >0.992157</td>\n",
       "      <td id=\"T_2c6d3_row14_col17\" class=\"data row14 col17\" >0.466667</td>\n",
       "      <td id=\"T_2c6d3_row14_col18\" class=\"data row14 col18\" >0.098039</td>\n",
       "      <td id=\"T_2c6d3_row14_col19\" class=\"data row14 col19\" >0.000000</td>\n",
       "      <td id=\"T_2c6d3_row14_col20\" class=\"data row14 col20\" >0.000000</td>\n",
       "      <td id=\"T_2c6d3_row14_col21\" class=\"data row14 col21\" >0.000000</td>\n",
       "      <td id=\"T_2c6d3_row14_col22\" class=\"data row14 col22\" >0.000000</td>\n",
       "      <td id=\"T_2c6d3_row14_col23\" class=\"data row14 col23\" >0.000000</td>\n",
       "      <td id=\"T_2c6d3_row14_col24\" class=\"data row14 col24\" >0.000000</td>\n",
       "      <td id=\"T_2c6d3_row14_col25\" class=\"data row14 col25\" >0.000000</td>\n",
       "      <td id=\"T_2c6d3_row14_col26\" class=\"data row14 col26\" >0.000000</td>\n",
       "      <td id=\"T_2c6d3_row14_col27\" class=\"data row14 col27\" >0.000000</td>\n",
       "    </tr>\n",
       "    <tr>\n",
       "      <th id=\"T_2c6d3_level0_row15\" class=\"row_heading level0 row15\" >15</th>\n",
       "      <td id=\"T_2c6d3_row15_col0\" class=\"data row15 col0\" >0.000000</td>\n",
       "      <td id=\"T_2c6d3_row15_col1\" class=\"data row15 col1\" >0.000000</td>\n",
       "      <td id=\"T_2c6d3_row15_col2\" class=\"data row15 col2\" >0.000000</td>\n",
       "      <td id=\"T_2c6d3_row15_col3\" class=\"data row15 col3\" >0.000000</td>\n",
       "      <td id=\"T_2c6d3_row15_col4\" class=\"data row15 col4\" >0.000000</td>\n",
       "      <td id=\"T_2c6d3_row15_col5\" class=\"data row15 col5\" >0.000000</td>\n",
       "      <td id=\"T_2c6d3_row15_col6\" class=\"data row15 col6\" >0.000000</td>\n",
       "      <td id=\"T_2c6d3_row15_col7\" class=\"data row15 col7\" >0.000000</td>\n",
       "      <td id=\"T_2c6d3_row15_col8\" class=\"data row15 col8\" >0.000000</td>\n",
       "      <td id=\"T_2c6d3_row15_col9\" class=\"data row15 col9\" >0.000000</td>\n",
       "      <td id=\"T_2c6d3_row15_col10\" class=\"data row15 col10\" >0.000000</td>\n",
       "      <td id=\"T_2c6d3_row15_col11\" class=\"data row15 col11\" >0.000000</td>\n",
       "      <td id=\"T_2c6d3_row15_col12\" class=\"data row15 col12\" >0.000000</td>\n",
       "      <td id=\"T_2c6d3_row15_col13\" class=\"data row15 col13\" >0.000000</td>\n",
       "      <td id=\"T_2c6d3_row15_col14\" class=\"data row15 col14\" >0.176471</td>\n",
       "      <td id=\"T_2c6d3_row15_col15\" class=\"data row15 col15\" >0.729412</td>\n",
       "      <td id=\"T_2c6d3_row15_col16\" class=\"data row15 col16\" >0.992157</td>\n",
       "      <td id=\"T_2c6d3_row15_col17\" class=\"data row15 col17\" >0.992157</td>\n",
       "      <td id=\"T_2c6d3_row15_col18\" class=\"data row15 col18\" >0.588235</td>\n",
       "      <td id=\"T_2c6d3_row15_col19\" class=\"data row15 col19\" >0.105882</td>\n",
       "      <td id=\"T_2c6d3_row15_col20\" class=\"data row15 col20\" >0.000000</td>\n",
       "      <td id=\"T_2c6d3_row15_col21\" class=\"data row15 col21\" >0.000000</td>\n",
       "      <td id=\"T_2c6d3_row15_col22\" class=\"data row15 col22\" >0.000000</td>\n",
       "      <td id=\"T_2c6d3_row15_col23\" class=\"data row15 col23\" >0.000000</td>\n",
       "      <td id=\"T_2c6d3_row15_col24\" class=\"data row15 col24\" >0.000000</td>\n",
       "      <td id=\"T_2c6d3_row15_col25\" class=\"data row15 col25\" >0.000000</td>\n",
       "      <td id=\"T_2c6d3_row15_col26\" class=\"data row15 col26\" >0.000000</td>\n",
       "      <td id=\"T_2c6d3_row15_col27\" class=\"data row15 col27\" >0.000000</td>\n",
       "    </tr>\n",
       "    <tr>\n",
       "      <th id=\"T_2c6d3_level0_row16\" class=\"row_heading level0 row16\" >16</th>\n",
       "      <td id=\"T_2c6d3_row16_col0\" class=\"data row16 col0\" >0.000000</td>\n",
       "      <td id=\"T_2c6d3_row16_col1\" class=\"data row16 col1\" >0.000000</td>\n",
       "      <td id=\"T_2c6d3_row16_col2\" class=\"data row16 col2\" >0.000000</td>\n",
       "      <td id=\"T_2c6d3_row16_col3\" class=\"data row16 col3\" >0.000000</td>\n",
       "      <td id=\"T_2c6d3_row16_col4\" class=\"data row16 col4\" >0.000000</td>\n",
       "      <td id=\"T_2c6d3_row16_col5\" class=\"data row16 col5\" >0.000000</td>\n",
       "      <td id=\"T_2c6d3_row16_col6\" class=\"data row16 col6\" >0.000000</td>\n",
       "      <td id=\"T_2c6d3_row16_col7\" class=\"data row16 col7\" >0.000000</td>\n",
       "      <td id=\"T_2c6d3_row16_col8\" class=\"data row16 col8\" >0.000000</td>\n",
       "      <td id=\"T_2c6d3_row16_col9\" class=\"data row16 col9\" >0.000000</td>\n",
       "      <td id=\"T_2c6d3_row16_col10\" class=\"data row16 col10\" >0.000000</td>\n",
       "      <td id=\"T_2c6d3_row16_col11\" class=\"data row16 col11\" >0.000000</td>\n",
       "      <td id=\"T_2c6d3_row16_col12\" class=\"data row16 col12\" >0.000000</td>\n",
       "      <td id=\"T_2c6d3_row16_col13\" class=\"data row16 col13\" >0.000000</td>\n",
       "      <td id=\"T_2c6d3_row16_col14\" class=\"data row16 col14\" >0.000000</td>\n",
       "      <td id=\"T_2c6d3_row16_col15\" class=\"data row16 col15\" >0.062745</td>\n",
       "      <td id=\"T_2c6d3_row16_col16\" class=\"data row16 col16\" >0.364706</td>\n",
       "      <td id=\"T_2c6d3_row16_col17\" class=\"data row16 col17\" >0.988235</td>\n",
       "      <td id=\"T_2c6d3_row16_col18\" class=\"data row16 col18\" >0.992157</td>\n",
       "      <td id=\"T_2c6d3_row16_col19\" class=\"data row16 col19\" >0.733333</td>\n",
       "      <td id=\"T_2c6d3_row16_col20\" class=\"data row16 col20\" >0.000000</td>\n",
       "      <td id=\"T_2c6d3_row16_col21\" class=\"data row16 col21\" >0.000000</td>\n",
       "      <td id=\"T_2c6d3_row16_col22\" class=\"data row16 col22\" >0.000000</td>\n",
       "      <td id=\"T_2c6d3_row16_col23\" class=\"data row16 col23\" >0.000000</td>\n",
       "      <td id=\"T_2c6d3_row16_col24\" class=\"data row16 col24\" >0.000000</td>\n",
       "      <td id=\"T_2c6d3_row16_col25\" class=\"data row16 col25\" >0.000000</td>\n",
       "      <td id=\"T_2c6d3_row16_col26\" class=\"data row16 col26\" >0.000000</td>\n",
       "      <td id=\"T_2c6d3_row16_col27\" class=\"data row16 col27\" >0.000000</td>\n",
       "    </tr>\n",
       "    <tr>\n",
       "      <th id=\"T_2c6d3_level0_row17\" class=\"row_heading level0 row17\" >17</th>\n",
       "      <td id=\"T_2c6d3_row17_col0\" class=\"data row17 col0\" >0.000000</td>\n",
       "      <td id=\"T_2c6d3_row17_col1\" class=\"data row17 col1\" >0.000000</td>\n",
       "      <td id=\"T_2c6d3_row17_col2\" class=\"data row17 col2\" >0.000000</td>\n",
       "      <td id=\"T_2c6d3_row17_col3\" class=\"data row17 col3\" >0.000000</td>\n",
       "      <td id=\"T_2c6d3_row17_col4\" class=\"data row17 col4\" >0.000000</td>\n",
       "      <td id=\"T_2c6d3_row17_col5\" class=\"data row17 col5\" >0.000000</td>\n",
       "      <td id=\"T_2c6d3_row17_col6\" class=\"data row17 col6\" >0.000000</td>\n",
       "      <td id=\"T_2c6d3_row17_col7\" class=\"data row17 col7\" >0.000000</td>\n",
       "      <td id=\"T_2c6d3_row17_col8\" class=\"data row17 col8\" >0.000000</td>\n",
       "      <td id=\"T_2c6d3_row17_col9\" class=\"data row17 col9\" >0.000000</td>\n",
       "      <td id=\"T_2c6d3_row17_col10\" class=\"data row17 col10\" >0.000000</td>\n",
       "      <td id=\"T_2c6d3_row17_col11\" class=\"data row17 col11\" >0.000000</td>\n",
       "      <td id=\"T_2c6d3_row17_col12\" class=\"data row17 col12\" >0.000000</td>\n",
       "      <td id=\"T_2c6d3_row17_col13\" class=\"data row17 col13\" >0.000000</td>\n",
       "      <td id=\"T_2c6d3_row17_col14\" class=\"data row17 col14\" >0.000000</td>\n",
       "      <td id=\"T_2c6d3_row17_col15\" class=\"data row17 col15\" >0.000000</td>\n",
       "      <td id=\"T_2c6d3_row17_col16\" class=\"data row17 col16\" >0.000000</td>\n",
       "      <td id=\"T_2c6d3_row17_col17\" class=\"data row17 col17\" >0.976471</td>\n",
       "      <td id=\"T_2c6d3_row17_col18\" class=\"data row17 col18\" >0.992157</td>\n",
       "      <td id=\"T_2c6d3_row17_col19\" class=\"data row17 col19\" >0.976471</td>\n",
       "      <td id=\"T_2c6d3_row17_col20\" class=\"data row17 col20\" >0.250980</td>\n",
       "      <td id=\"T_2c6d3_row17_col21\" class=\"data row17 col21\" >0.000000</td>\n",
       "      <td id=\"T_2c6d3_row17_col22\" class=\"data row17 col22\" >0.000000</td>\n",
       "      <td id=\"T_2c6d3_row17_col23\" class=\"data row17 col23\" >0.000000</td>\n",
       "      <td id=\"T_2c6d3_row17_col24\" class=\"data row17 col24\" >0.000000</td>\n",
       "      <td id=\"T_2c6d3_row17_col25\" class=\"data row17 col25\" >0.000000</td>\n",
       "      <td id=\"T_2c6d3_row17_col26\" class=\"data row17 col26\" >0.000000</td>\n",
       "      <td id=\"T_2c6d3_row17_col27\" class=\"data row17 col27\" >0.000000</td>\n",
       "    </tr>\n",
       "    <tr>\n",
       "      <th id=\"T_2c6d3_level0_row18\" class=\"row_heading level0 row18\" >18</th>\n",
       "      <td id=\"T_2c6d3_row18_col0\" class=\"data row18 col0\" >0.000000</td>\n",
       "      <td id=\"T_2c6d3_row18_col1\" class=\"data row18 col1\" >0.000000</td>\n",
       "      <td id=\"T_2c6d3_row18_col2\" class=\"data row18 col2\" >0.000000</td>\n",
       "      <td id=\"T_2c6d3_row18_col3\" class=\"data row18 col3\" >0.000000</td>\n",
       "      <td id=\"T_2c6d3_row18_col4\" class=\"data row18 col4\" >0.000000</td>\n",
       "      <td id=\"T_2c6d3_row18_col5\" class=\"data row18 col5\" >0.000000</td>\n",
       "      <td id=\"T_2c6d3_row18_col6\" class=\"data row18 col6\" >0.000000</td>\n",
       "      <td id=\"T_2c6d3_row18_col7\" class=\"data row18 col7\" >0.000000</td>\n",
       "      <td id=\"T_2c6d3_row18_col8\" class=\"data row18 col8\" >0.000000</td>\n",
       "      <td id=\"T_2c6d3_row18_col9\" class=\"data row18 col9\" >0.000000</td>\n",
       "      <td id=\"T_2c6d3_row18_col10\" class=\"data row18 col10\" >0.000000</td>\n",
       "      <td id=\"T_2c6d3_row18_col11\" class=\"data row18 col11\" >0.000000</td>\n",
       "      <td id=\"T_2c6d3_row18_col12\" class=\"data row18 col12\" >0.000000</td>\n",
       "      <td id=\"T_2c6d3_row18_col13\" class=\"data row18 col13\" >0.000000</td>\n",
       "      <td id=\"T_2c6d3_row18_col14\" class=\"data row18 col14\" >0.180392</td>\n",
       "      <td id=\"T_2c6d3_row18_col15\" class=\"data row18 col15\" >0.509804</td>\n",
       "      <td id=\"T_2c6d3_row18_col16\" class=\"data row18 col16\" >0.717647</td>\n",
       "      <td id=\"T_2c6d3_row18_col17\" class=\"data row18 col17\" >0.992157</td>\n",
       "      <td id=\"T_2c6d3_row18_col18\" class=\"data row18 col18\" >0.992157</td>\n",
       "      <td id=\"T_2c6d3_row18_col19\" class=\"data row18 col19\" >0.811765</td>\n",
       "      <td id=\"T_2c6d3_row18_col20\" class=\"data row18 col20\" >0.007843</td>\n",
       "      <td id=\"T_2c6d3_row18_col21\" class=\"data row18 col21\" >0.000000</td>\n",
       "      <td id=\"T_2c6d3_row18_col22\" class=\"data row18 col22\" >0.000000</td>\n",
       "      <td id=\"T_2c6d3_row18_col23\" class=\"data row18 col23\" >0.000000</td>\n",
       "      <td id=\"T_2c6d3_row18_col24\" class=\"data row18 col24\" >0.000000</td>\n",
       "      <td id=\"T_2c6d3_row18_col25\" class=\"data row18 col25\" >0.000000</td>\n",
       "      <td id=\"T_2c6d3_row18_col26\" class=\"data row18 col26\" >0.000000</td>\n",
       "      <td id=\"T_2c6d3_row18_col27\" class=\"data row18 col27\" >0.000000</td>\n",
       "    </tr>\n",
       "    <tr>\n",
       "      <th id=\"T_2c6d3_level0_row19\" class=\"row_heading level0 row19\" >19</th>\n",
       "      <td id=\"T_2c6d3_row19_col0\" class=\"data row19 col0\" >0.000000</td>\n",
       "      <td id=\"T_2c6d3_row19_col1\" class=\"data row19 col1\" >0.000000</td>\n",
       "      <td id=\"T_2c6d3_row19_col2\" class=\"data row19 col2\" >0.000000</td>\n",
       "      <td id=\"T_2c6d3_row19_col3\" class=\"data row19 col3\" >0.000000</td>\n",
       "      <td id=\"T_2c6d3_row19_col4\" class=\"data row19 col4\" >0.000000</td>\n",
       "      <td id=\"T_2c6d3_row19_col5\" class=\"data row19 col5\" >0.000000</td>\n",
       "      <td id=\"T_2c6d3_row19_col6\" class=\"data row19 col6\" >0.000000</td>\n",
       "      <td id=\"T_2c6d3_row19_col7\" class=\"data row19 col7\" >0.000000</td>\n",
       "      <td id=\"T_2c6d3_row19_col8\" class=\"data row19 col8\" >0.000000</td>\n",
       "      <td id=\"T_2c6d3_row19_col9\" class=\"data row19 col9\" >0.000000</td>\n",
       "      <td id=\"T_2c6d3_row19_col10\" class=\"data row19 col10\" >0.000000</td>\n",
       "      <td id=\"T_2c6d3_row19_col11\" class=\"data row19 col11\" >0.000000</td>\n",
       "      <td id=\"T_2c6d3_row19_col12\" class=\"data row19 col12\" >0.152941</td>\n",
       "      <td id=\"T_2c6d3_row19_col13\" class=\"data row19 col13\" >0.580392</td>\n",
       "      <td id=\"T_2c6d3_row19_col14\" class=\"data row19 col14\" >0.898039</td>\n",
       "      <td id=\"T_2c6d3_row19_col15\" class=\"data row19 col15\" >0.992157</td>\n",
       "      <td id=\"T_2c6d3_row19_col16\" class=\"data row19 col16\" >0.992157</td>\n",
       "      <td id=\"T_2c6d3_row19_col17\" class=\"data row19 col17\" >0.992157</td>\n",
       "      <td id=\"T_2c6d3_row19_col18\" class=\"data row19 col18\" >0.980392</td>\n",
       "      <td id=\"T_2c6d3_row19_col19\" class=\"data row19 col19\" >0.713726</td>\n",
       "      <td id=\"T_2c6d3_row19_col20\" class=\"data row19 col20\" >0.000000</td>\n",
       "      <td id=\"T_2c6d3_row19_col21\" class=\"data row19 col21\" >0.000000</td>\n",
       "      <td id=\"T_2c6d3_row19_col22\" class=\"data row19 col22\" >0.000000</td>\n",
       "      <td id=\"T_2c6d3_row19_col23\" class=\"data row19 col23\" >0.000000</td>\n",
       "      <td id=\"T_2c6d3_row19_col24\" class=\"data row19 col24\" >0.000000</td>\n",
       "      <td id=\"T_2c6d3_row19_col25\" class=\"data row19 col25\" >0.000000</td>\n",
       "      <td id=\"T_2c6d3_row19_col26\" class=\"data row19 col26\" >0.000000</td>\n",
       "      <td id=\"T_2c6d3_row19_col27\" class=\"data row19 col27\" >0.000000</td>\n",
       "    </tr>\n",
       "    <tr>\n",
       "      <th id=\"T_2c6d3_level0_row20\" class=\"row_heading level0 row20\" >20</th>\n",
       "      <td id=\"T_2c6d3_row20_col0\" class=\"data row20 col0\" >0.000000</td>\n",
       "      <td id=\"T_2c6d3_row20_col1\" class=\"data row20 col1\" >0.000000</td>\n",
       "      <td id=\"T_2c6d3_row20_col2\" class=\"data row20 col2\" >0.000000</td>\n",
       "      <td id=\"T_2c6d3_row20_col3\" class=\"data row20 col3\" >0.000000</td>\n",
       "      <td id=\"T_2c6d3_row20_col4\" class=\"data row20 col4\" >0.000000</td>\n",
       "      <td id=\"T_2c6d3_row20_col5\" class=\"data row20 col5\" >0.000000</td>\n",
       "      <td id=\"T_2c6d3_row20_col6\" class=\"data row20 col6\" >0.000000</td>\n",
       "      <td id=\"T_2c6d3_row20_col7\" class=\"data row20 col7\" >0.000000</td>\n",
       "      <td id=\"T_2c6d3_row20_col8\" class=\"data row20 col8\" >0.000000</td>\n",
       "      <td id=\"T_2c6d3_row20_col9\" class=\"data row20 col9\" >0.000000</td>\n",
       "      <td id=\"T_2c6d3_row20_col10\" class=\"data row20 col10\" >0.094118</td>\n",
       "      <td id=\"T_2c6d3_row20_col11\" class=\"data row20 col11\" >0.447059</td>\n",
       "      <td id=\"T_2c6d3_row20_col12\" class=\"data row20 col12\" >0.866667</td>\n",
       "      <td id=\"T_2c6d3_row20_col13\" class=\"data row20 col13\" >0.992157</td>\n",
       "      <td id=\"T_2c6d3_row20_col14\" class=\"data row20 col14\" >0.992157</td>\n",
       "      <td id=\"T_2c6d3_row20_col15\" class=\"data row20 col15\" >0.992157</td>\n",
       "      <td id=\"T_2c6d3_row20_col16\" class=\"data row20 col16\" >0.992157</td>\n",
       "      <td id=\"T_2c6d3_row20_col17\" class=\"data row20 col17\" >0.788235</td>\n",
       "      <td id=\"T_2c6d3_row20_col18\" class=\"data row20 col18\" >0.305882</td>\n",
       "      <td id=\"T_2c6d3_row20_col19\" class=\"data row20 col19\" >0.000000</td>\n",
       "      <td id=\"T_2c6d3_row20_col20\" class=\"data row20 col20\" >0.000000</td>\n",
       "      <td id=\"T_2c6d3_row20_col21\" class=\"data row20 col21\" >0.000000</td>\n",
       "      <td id=\"T_2c6d3_row20_col22\" class=\"data row20 col22\" >0.000000</td>\n",
       "      <td id=\"T_2c6d3_row20_col23\" class=\"data row20 col23\" >0.000000</td>\n",
       "      <td id=\"T_2c6d3_row20_col24\" class=\"data row20 col24\" >0.000000</td>\n",
       "      <td id=\"T_2c6d3_row20_col25\" class=\"data row20 col25\" >0.000000</td>\n",
       "      <td id=\"T_2c6d3_row20_col26\" class=\"data row20 col26\" >0.000000</td>\n",
       "      <td id=\"T_2c6d3_row20_col27\" class=\"data row20 col27\" >0.000000</td>\n",
       "    </tr>\n",
       "    <tr>\n",
       "      <th id=\"T_2c6d3_level0_row21\" class=\"row_heading level0 row21\" >21</th>\n",
       "      <td id=\"T_2c6d3_row21_col0\" class=\"data row21 col0\" >0.000000</td>\n",
       "      <td id=\"T_2c6d3_row21_col1\" class=\"data row21 col1\" >0.000000</td>\n",
       "      <td id=\"T_2c6d3_row21_col2\" class=\"data row21 col2\" >0.000000</td>\n",
       "      <td id=\"T_2c6d3_row21_col3\" class=\"data row21 col3\" >0.000000</td>\n",
       "      <td id=\"T_2c6d3_row21_col4\" class=\"data row21 col4\" >0.000000</td>\n",
       "      <td id=\"T_2c6d3_row21_col5\" class=\"data row21 col5\" >0.000000</td>\n",
       "      <td id=\"T_2c6d3_row21_col6\" class=\"data row21 col6\" >0.000000</td>\n",
       "      <td id=\"T_2c6d3_row21_col7\" class=\"data row21 col7\" >0.000000</td>\n",
       "      <td id=\"T_2c6d3_row21_col8\" class=\"data row21 col8\" >0.090196</td>\n",
       "      <td id=\"T_2c6d3_row21_col9\" class=\"data row21 col9\" >0.258824</td>\n",
       "      <td id=\"T_2c6d3_row21_col10\" class=\"data row21 col10\" >0.835294</td>\n",
       "      <td id=\"T_2c6d3_row21_col11\" class=\"data row21 col11\" >0.992157</td>\n",
       "      <td id=\"T_2c6d3_row21_col12\" class=\"data row21 col12\" >0.992157</td>\n",
       "      <td id=\"T_2c6d3_row21_col13\" class=\"data row21 col13\" >0.992157</td>\n",
       "      <td id=\"T_2c6d3_row21_col14\" class=\"data row21 col14\" >0.992157</td>\n",
       "      <td id=\"T_2c6d3_row21_col15\" class=\"data row21 col15\" >0.776471</td>\n",
       "      <td id=\"T_2c6d3_row21_col16\" class=\"data row21 col16\" >0.317647</td>\n",
       "      <td id=\"T_2c6d3_row21_col17\" class=\"data row21 col17\" >0.007843</td>\n",
       "      <td id=\"T_2c6d3_row21_col18\" class=\"data row21 col18\" >0.000000</td>\n",
       "      <td id=\"T_2c6d3_row21_col19\" class=\"data row21 col19\" >0.000000</td>\n",
       "      <td id=\"T_2c6d3_row21_col20\" class=\"data row21 col20\" >0.000000</td>\n",
       "      <td id=\"T_2c6d3_row21_col21\" class=\"data row21 col21\" >0.000000</td>\n",
       "      <td id=\"T_2c6d3_row21_col22\" class=\"data row21 col22\" >0.000000</td>\n",
       "      <td id=\"T_2c6d3_row21_col23\" class=\"data row21 col23\" >0.000000</td>\n",
       "      <td id=\"T_2c6d3_row21_col24\" class=\"data row21 col24\" >0.000000</td>\n",
       "      <td id=\"T_2c6d3_row21_col25\" class=\"data row21 col25\" >0.000000</td>\n",
       "      <td id=\"T_2c6d3_row21_col26\" class=\"data row21 col26\" >0.000000</td>\n",
       "      <td id=\"T_2c6d3_row21_col27\" class=\"data row21 col27\" >0.000000</td>\n",
       "    </tr>\n",
       "    <tr>\n",
       "      <th id=\"T_2c6d3_level0_row22\" class=\"row_heading level0 row22\" >22</th>\n",
       "      <td id=\"T_2c6d3_row22_col0\" class=\"data row22 col0\" >0.000000</td>\n",
       "      <td id=\"T_2c6d3_row22_col1\" class=\"data row22 col1\" >0.000000</td>\n",
       "      <td id=\"T_2c6d3_row22_col2\" class=\"data row22 col2\" >0.000000</td>\n",
       "      <td id=\"T_2c6d3_row22_col3\" class=\"data row22 col3\" >0.000000</td>\n",
       "      <td id=\"T_2c6d3_row22_col4\" class=\"data row22 col4\" >0.000000</td>\n",
       "      <td id=\"T_2c6d3_row22_col5\" class=\"data row22 col5\" >0.000000</td>\n",
       "      <td id=\"T_2c6d3_row22_col6\" class=\"data row22 col6\" >0.070588</td>\n",
       "      <td id=\"T_2c6d3_row22_col7\" class=\"data row22 col7\" >0.670588</td>\n",
       "      <td id=\"T_2c6d3_row22_col8\" class=\"data row22 col8\" >0.858824</td>\n",
       "      <td id=\"T_2c6d3_row22_col9\" class=\"data row22 col9\" >0.992157</td>\n",
       "      <td id=\"T_2c6d3_row22_col10\" class=\"data row22 col10\" >0.992157</td>\n",
       "      <td id=\"T_2c6d3_row22_col11\" class=\"data row22 col11\" >0.992157</td>\n",
       "      <td id=\"T_2c6d3_row22_col12\" class=\"data row22 col12\" >0.992157</td>\n",
       "      <td id=\"T_2c6d3_row22_col13\" class=\"data row22 col13\" >0.764706</td>\n",
       "      <td id=\"T_2c6d3_row22_col14\" class=\"data row22 col14\" >0.313726</td>\n",
       "      <td id=\"T_2c6d3_row22_col15\" class=\"data row22 col15\" >0.035294</td>\n",
       "      <td id=\"T_2c6d3_row22_col16\" class=\"data row22 col16\" >0.000000</td>\n",
       "      <td id=\"T_2c6d3_row22_col17\" class=\"data row22 col17\" >0.000000</td>\n",
       "      <td id=\"T_2c6d3_row22_col18\" class=\"data row22 col18\" >0.000000</td>\n",
       "      <td id=\"T_2c6d3_row22_col19\" class=\"data row22 col19\" >0.000000</td>\n",
       "      <td id=\"T_2c6d3_row22_col20\" class=\"data row22 col20\" >0.000000</td>\n",
       "      <td id=\"T_2c6d3_row22_col21\" class=\"data row22 col21\" >0.000000</td>\n",
       "      <td id=\"T_2c6d3_row22_col22\" class=\"data row22 col22\" >0.000000</td>\n",
       "      <td id=\"T_2c6d3_row22_col23\" class=\"data row22 col23\" >0.000000</td>\n",
       "      <td id=\"T_2c6d3_row22_col24\" class=\"data row22 col24\" >0.000000</td>\n",
       "      <td id=\"T_2c6d3_row22_col25\" class=\"data row22 col25\" >0.000000</td>\n",
       "      <td id=\"T_2c6d3_row22_col26\" class=\"data row22 col26\" >0.000000</td>\n",
       "      <td id=\"T_2c6d3_row22_col27\" class=\"data row22 col27\" >0.000000</td>\n",
       "    </tr>\n",
       "    <tr>\n",
       "      <th id=\"T_2c6d3_level0_row23\" class=\"row_heading level0 row23\" >23</th>\n",
       "      <td id=\"T_2c6d3_row23_col0\" class=\"data row23 col0\" >0.000000</td>\n",
       "      <td id=\"T_2c6d3_row23_col1\" class=\"data row23 col1\" >0.000000</td>\n",
       "      <td id=\"T_2c6d3_row23_col2\" class=\"data row23 col2\" >0.000000</td>\n",
       "      <td id=\"T_2c6d3_row23_col3\" class=\"data row23 col3\" >0.000000</td>\n",
       "      <td id=\"T_2c6d3_row23_col4\" class=\"data row23 col4\" >0.215686</td>\n",
       "      <td id=\"T_2c6d3_row23_col5\" class=\"data row23 col5\" >0.674510</td>\n",
       "      <td id=\"T_2c6d3_row23_col6\" class=\"data row23 col6\" >0.886275</td>\n",
       "      <td id=\"T_2c6d3_row23_col7\" class=\"data row23 col7\" >0.992157</td>\n",
       "      <td id=\"T_2c6d3_row23_col8\" class=\"data row23 col8\" >0.992157</td>\n",
       "      <td id=\"T_2c6d3_row23_col9\" class=\"data row23 col9\" >0.992157</td>\n",
       "      <td id=\"T_2c6d3_row23_col10\" class=\"data row23 col10\" >0.992157</td>\n",
       "      <td id=\"T_2c6d3_row23_col11\" class=\"data row23 col11\" >0.956863</td>\n",
       "      <td id=\"T_2c6d3_row23_col12\" class=\"data row23 col12\" >0.521569</td>\n",
       "      <td id=\"T_2c6d3_row23_col13\" class=\"data row23 col13\" >0.043137</td>\n",
       "      <td id=\"T_2c6d3_row23_col14\" class=\"data row23 col14\" >0.000000</td>\n",
       "      <td id=\"T_2c6d3_row23_col15\" class=\"data row23 col15\" >0.000000</td>\n",
       "      <td id=\"T_2c6d3_row23_col16\" class=\"data row23 col16\" >0.000000</td>\n",
       "      <td id=\"T_2c6d3_row23_col17\" class=\"data row23 col17\" >0.000000</td>\n",
       "      <td id=\"T_2c6d3_row23_col18\" class=\"data row23 col18\" >0.000000</td>\n",
       "      <td id=\"T_2c6d3_row23_col19\" class=\"data row23 col19\" >0.000000</td>\n",
       "      <td id=\"T_2c6d3_row23_col20\" class=\"data row23 col20\" >0.000000</td>\n",
       "      <td id=\"T_2c6d3_row23_col21\" class=\"data row23 col21\" >0.000000</td>\n",
       "      <td id=\"T_2c6d3_row23_col22\" class=\"data row23 col22\" >0.000000</td>\n",
       "      <td id=\"T_2c6d3_row23_col23\" class=\"data row23 col23\" >0.000000</td>\n",
       "      <td id=\"T_2c6d3_row23_col24\" class=\"data row23 col24\" >0.000000</td>\n",
       "      <td id=\"T_2c6d3_row23_col25\" class=\"data row23 col25\" >0.000000</td>\n",
       "      <td id=\"T_2c6d3_row23_col26\" class=\"data row23 col26\" >0.000000</td>\n",
       "      <td id=\"T_2c6d3_row23_col27\" class=\"data row23 col27\" >0.000000</td>\n",
       "    </tr>\n",
       "    <tr>\n",
       "      <th id=\"T_2c6d3_level0_row24\" class=\"row_heading level0 row24\" >24</th>\n",
       "      <td id=\"T_2c6d3_row24_col0\" class=\"data row24 col0\" >0.000000</td>\n",
       "      <td id=\"T_2c6d3_row24_col1\" class=\"data row24 col1\" >0.000000</td>\n",
       "      <td id=\"T_2c6d3_row24_col2\" class=\"data row24 col2\" >0.000000</td>\n",
       "      <td id=\"T_2c6d3_row24_col3\" class=\"data row24 col3\" >0.000000</td>\n",
       "      <td id=\"T_2c6d3_row24_col4\" class=\"data row24 col4\" >0.533333</td>\n",
       "      <td id=\"T_2c6d3_row24_col5\" class=\"data row24 col5\" >0.992157</td>\n",
       "      <td id=\"T_2c6d3_row24_col6\" class=\"data row24 col6\" >0.992157</td>\n",
       "      <td id=\"T_2c6d3_row24_col7\" class=\"data row24 col7\" >0.992157</td>\n",
       "      <td id=\"T_2c6d3_row24_col8\" class=\"data row24 col8\" >0.831373</td>\n",
       "      <td id=\"T_2c6d3_row24_col9\" class=\"data row24 col9\" >0.529412</td>\n",
       "      <td id=\"T_2c6d3_row24_col10\" class=\"data row24 col10\" >0.517647</td>\n",
       "      <td id=\"T_2c6d3_row24_col11\" class=\"data row24 col11\" >0.062745</td>\n",
       "      <td id=\"T_2c6d3_row24_col12\" class=\"data row24 col12\" >0.000000</td>\n",
       "      <td id=\"T_2c6d3_row24_col13\" class=\"data row24 col13\" >0.000000</td>\n",
       "      <td id=\"T_2c6d3_row24_col14\" class=\"data row24 col14\" >0.000000</td>\n",
       "      <td id=\"T_2c6d3_row24_col15\" class=\"data row24 col15\" >0.000000</td>\n",
       "      <td id=\"T_2c6d3_row24_col16\" class=\"data row24 col16\" >0.000000</td>\n",
       "      <td id=\"T_2c6d3_row24_col17\" class=\"data row24 col17\" >0.000000</td>\n",
       "      <td id=\"T_2c6d3_row24_col18\" class=\"data row24 col18\" >0.000000</td>\n",
       "      <td id=\"T_2c6d3_row24_col19\" class=\"data row24 col19\" >0.000000</td>\n",
       "      <td id=\"T_2c6d3_row24_col20\" class=\"data row24 col20\" >0.000000</td>\n",
       "      <td id=\"T_2c6d3_row24_col21\" class=\"data row24 col21\" >0.000000</td>\n",
       "      <td id=\"T_2c6d3_row24_col22\" class=\"data row24 col22\" >0.000000</td>\n",
       "      <td id=\"T_2c6d3_row24_col23\" class=\"data row24 col23\" >0.000000</td>\n",
       "      <td id=\"T_2c6d3_row24_col24\" class=\"data row24 col24\" >0.000000</td>\n",
       "      <td id=\"T_2c6d3_row24_col25\" class=\"data row24 col25\" >0.000000</td>\n",
       "      <td id=\"T_2c6d3_row24_col26\" class=\"data row24 col26\" >0.000000</td>\n",
       "      <td id=\"T_2c6d3_row24_col27\" class=\"data row24 col27\" >0.000000</td>\n",
       "    </tr>\n",
       "    <tr>\n",
       "      <th id=\"T_2c6d3_level0_row25\" class=\"row_heading level0 row25\" >25</th>\n",
       "      <td id=\"T_2c6d3_row25_col0\" class=\"data row25 col0\" >0.000000</td>\n",
       "      <td id=\"T_2c6d3_row25_col1\" class=\"data row25 col1\" >0.000000</td>\n",
       "      <td id=\"T_2c6d3_row25_col2\" class=\"data row25 col2\" >0.000000</td>\n",
       "      <td id=\"T_2c6d3_row25_col3\" class=\"data row25 col3\" >0.000000</td>\n",
       "      <td id=\"T_2c6d3_row25_col4\" class=\"data row25 col4\" >0.000000</td>\n",
       "      <td id=\"T_2c6d3_row25_col5\" class=\"data row25 col5\" >0.000000</td>\n",
       "      <td id=\"T_2c6d3_row25_col6\" class=\"data row25 col6\" >0.000000</td>\n",
       "      <td id=\"T_2c6d3_row25_col7\" class=\"data row25 col7\" >0.000000</td>\n",
       "      <td id=\"T_2c6d3_row25_col8\" class=\"data row25 col8\" >0.000000</td>\n",
       "      <td id=\"T_2c6d3_row25_col9\" class=\"data row25 col9\" >0.000000</td>\n",
       "      <td id=\"T_2c6d3_row25_col10\" class=\"data row25 col10\" >0.000000</td>\n",
       "      <td id=\"T_2c6d3_row25_col11\" class=\"data row25 col11\" >0.000000</td>\n",
       "      <td id=\"T_2c6d3_row25_col12\" class=\"data row25 col12\" >0.000000</td>\n",
       "      <td id=\"T_2c6d3_row25_col13\" class=\"data row25 col13\" >0.000000</td>\n",
       "      <td id=\"T_2c6d3_row25_col14\" class=\"data row25 col14\" >0.000000</td>\n",
       "      <td id=\"T_2c6d3_row25_col15\" class=\"data row25 col15\" >0.000000</td>\n",
       "      <td id=\"T_2c6d3_row25_col16\" class=\"data row25 col16\" >0.000000</td>\n",
       "      <td id=\"T_2c6d3_row25_col17\" class=\"data row25 col17\" >0.000000</td>\n",
       "      <td id=\"T_2c6d3_row25_col18\" class=\"data row25 col18\" >0.000000</td>\n",
       "      <td id=\"T_2c6d3_row25_col19\" class=\"data row25 col19\" >0.000000</td>\n",
       "      <td id=\"T_2c6d3_row25_col20\" class=\"data row25 col20\" >0.000000</td>\n",
       "      <td id=\"T_2c6d3_row25_col21\" class=\"data row25 col21\" >0.000000</td>\n",
       "      <td id=\"T_2c6d3_row25_col22\" class=\"data row25 col22\" >0.000000</td>\n",
       "      <td id=\"T_2c6d3_row25_col23\" class=\"data row25 col23\" >0.000000</td>\n",
       "      <td id=\"T_2c6d3_row25_col24\" class=\"data row25 col24\" >0.000000</td>\n",
       "      <td id=\"T_2c6d3_row25_col25\" class=\"data row25 col25\" >0.000000</td>\n",
       "      <td id=\"T_2c6d3_row25_col26\" class=\"data row25 col26\" >0.000000</td>\n",
       "      <td id=\"T_2c6d3_row25_col27\" class=\"data row25 col27\" >0.000000</td>\n",
       "    </tr>\n",
       "    <tr>\n",
       "      <th id=\"T_2c6d3_level0_row26\" class=\"row_heading level0 row26\" >26</th>\n",
       "      <td id=\"T_2c6d3_row26_col0\" class=\"data row26 col0\" >0.000000</td>\n",
       "      <td id=\"T_2c6d3_row26_col1\" class=\"data row26 col1\" >0.000000</td>\n",
       "      <td id=\"T_2c6d3_row26_col2\" class=\"data row26 col2\" >0.000000</td>\n",
       "      <td id=\"T_2c6d3_row26_col3\" class=\"data row26 col3\" >0.000000</td>\n",
       "      <td id=\"T_2c6d3_row26_col4\" class=\"data row26 col4\" >0.000000</td>\n",
       "      <td id=\"T_2c6d3_row26_col5\" class=\"data row26 col5\" >0.000000</td>\n",
       "      <td id=\"T_2c6d3_row26_col6\" class=\"data row26 col6\" >0.000000</td>\n",
       "      <td id=\"T_2c6d3_row26_col7\" class=\"data row26 col7\" >0.000000</td>\n",
       "      <td id=\"T_2c6d3_row26_col8\" class=\"data row26 col8\" >0.000000</td>\n",
       "      <td id=\"T_2c6d3_row26_col9\" class=\"data row26 col9\" >0.000000</td>\n",
       "      <td id=\"T_2c6d3_row26_col10\" class=\"data row26 col10\" >0.000000</td>\n",
       "      <td id=\"T_2c6d3_row26_col11\" class=\"data row26 col11\" >0.000000</td>\n",
       "      <td id=\"T_2c6d3_row26_col12\" class=\"data row26 col12\" >0.000000</td>\n",
       "      <td id=\"T_2c6d3_row26_col13\" class=\"data row26 col13\" >0.000000</td>\n",
       "      <td id=\"T_2c6d3_row26_col14\" class=\"data row26 col14\" >0.000000</td>\n",
       "      <td id=\"T_2c6d3_row26_col15\" class=\"data row26 col15\" >0.000000</td>\n",
       "      <td id=\"T_2c6d3_row26_col16\" class=\"data row26 col16\" >0.000000</td>\n",
       "      <td id=\"T_2c6d3_row26_col17\" class=\"data row26 col17\" >0.000000</td>\n",
       "      <td id=\"T_2c6d3_row26_col18\" class=\"data row26 col18\" >0.000000</td>\n",
       "      <td id=\"T_2c6d3_row26_col19\" class=\"data row26 col19\" >0.000000</td>\n",
       "      <td id=\"T_2c6d3_row26_col20\" class=\"data row26 col20\" >0.000000</td>\n",
       "      <td id=\"T_2c6d3_row26_col21\" class=\"data row26 col21\" >0.000000</td>\n",
       "      <td id=\"T_2c6d3_row26_col22\" class=\"data row26 col22\" >0.000000</td>\n",
       "      <td id=\"T_2c6d3_row26_col23\" class=\"data row26 col23\" >0.000000</td>\n",
       "      <td id=\"T_2c6d3_row26_col24\" class=\"data row26 col24\" >0.000000</td>\n",
       "      <td id=\"T_2c6d3_row26_col25\" class=\"data row26 col25\" >0.000000</td>\n",
       "      <td id=\"T_2c6d3_row26_col26\" class=\"data row26 col26\" >0.000000</td>\n",
       "      <td id=\"T_2c6d3_row26_col27\" class=\"data row26 col27\" >0.000000</td>\n",
       "    </tr>\n",
       "    <tr>\n",
       "      <th id=\"T_2c6d3_level0_row27\" class=\"row_heading level0 row27\" >27</th>\n",
       "      <td id=\"T_2c6d3_row27_col0\" class=\"data row27 col0\" >0.000000</td>\n",
       "      <td id=\"T_2c6d3_row27_col1\" class=\"data row27 col1\" >0.000000</td>\n",
       "      <td id=\"T_2c6d3_row27_col2\" class=\"data row27 col2\" >0.000000</td>\n",
       "      <td id=\"T_2c6d3_row27_col3\" class=\"data row27 col3\" >0.000000</td>\n",
       "      <td id=\"T_2c6d3_row27_col4\" class=\"data row27 col4\" >0.000000</td>\n",
       "      <td id=\"T_2c6d3_row27_col5\" class=\"data row27 col5\" >0.000000</td>\n",
       "      <td id=\"T_2c6d3_row27_col6\" class=\"data row27 col6\" >0.000000</td>\n",
       "      <td id=\"T_2c6d3_row27_col7\" class=\"data row27 col7\" >0.000000</td>\n",
       "      <td id=\"T_2c6d3_row27_col8\" class=\"data row27 col8\" >0.000000</td>\n",
       "      <td id=\"T_2c6d3_row27_col9\" class=\"data row27 col9\" >0.000000</td>\n",
       "      <td id=\"T_2c6d3_row27_col10\" class=\"data row27 col10\" >0.000000</td>\n",
       "      <td id=\"T_2c6d3_row27_col11\" class=\"data row27 col11\" >0.000000</td>\n",
       "      <td id=\"T_2c6d3_row27_col12\" class=\"data row27 col12\" >0.000000</td>\n",
       "      <td id=\"T_2c6d3_row27_col13\" class=\"data row27 col13\" >0.000000</td>\n",
       "      <td id=\"T_2c6d3_row27_col14\" class=\"data row27 col14\" >0.000000</td>\n",
       "      <td id=\"T_2c6d3_row27_col15\" class=\"data row27 col15\" >0.000000</td>\n",
       "      <td id=\"T_2c6d3_row27_col16\" class=\"data row27 col16\" >0.000000</td>\n",
       "      <td id=\"T_2c6d3_row27_col17\" class=\"data row27 col17\" >0.000000</td>\n",
       "      <td id=\"T_2c6d3_row27_col18\" class=\"data row27 col18\" >0.000000</td>\n",
       "      <td id=\"T_2c6d3_row27_col19\" class=\"data row27 col19\" >0.000000</td>\n",
       "      <td id=\"T_2c6d3_row27_col20\" class=\"data row27 col20\" >0.000000</td>\n",
       "      <td id=\"T_2c6d3_row27_col21\" class=\"data row27 col21\" >0.000000</td>\n",
       "      <td id=\"T_2c6d3_row27_col22\" class=\"data row27 col22\" >0.000000</td>\n",
       "      <td id=\"T_2c6d3_row27_col23\" class=\"data row27 col23\" >0.000000</td>\n",
       "      <td id=\"T_2c6d3_row27_col24\" class=\"data row27 col24\" >0.000000</td>\n",
       "      <td id=\"T_2c6d3_row27_col25\" class=\"data row27 col25\" >0.000000</td>\n",
       "      <td id=\"T_2c6d3_row27_col26\" class=\"data row27 col26\" >0.000000</td>\n",
       "      <td id=\"T_2c6d3_row27_col27\" class=\"data row27 col27\" >0.000000</td>\n",
       "    </tr>\n",
       "  </tbody>\n",
       "</table>\n"
      ],
      "text/plain": [
       "<pandas.io.formats.style.Styler at 0x7fc854a2efd0>"
      ]
     },
     "execution_count": 11,
     "metadata": {},
     "output_type": "execute_result"
    }
   ],
   "source": [
    "dfimg = pd.DataFrame(img.squeeze().numpy())\n",
    "dfimg.style.set_properties(**{'font-size':'6pt'}).background_gradient('Blues')"
   ]
  },
  {
   "cell_type": "markdown",
   "id": "b4f24244",
   "metadata": {
    "papermill": {
     "duration": 0.019824,
     "end_time": "2023-03-30T09:07:33.588880",
     "exception": false,
     "start_time": "2023-03-30T09:07:33.569056",
     "status": "completed"
    },
    "tags": []
   },
   "source": [
    "## Prepare dataset for training"
   ]
  },
  {
   "cell_type": "markdown",
   "id": "6d623c67",
   "metadata": {
    "papermill": {
     "duration": 0.019689,
     "end_time": "2023-03-30T09:07:33.628532",
     "exception": false,
     "start_time": "2023-03-30T09:07:33.608843",
     "status": "completed"
    },
    "tags": []
   },
   "source": [
    "Previously we have downloaded two datasets, training and testing. To be able to deduce whether our model is overfitting during training we need another dataset, namely, validation set. The validation set will show us how our model performs on out-of-sample data, i.e. data that have not been used in training.\n",
    "\n",
    "We will generate the validation dataset from the training dataset since it is much bigger than the given test set, naturally.\n",
    "\n",
    "For this problem, we can assume that the images in the dataset are independent and don't have any underlying structure, like time, we should think about when splitting the dataset. The only aspect we should worry about is the distribution of digits in all samples. Ideally, we want the digits to be distributed in the same way in all samples, so when creating the dataset for validation we should keep this in mind. For example, if we would have a training set of a very small number of say digits 3 but a large sample of digits 3 in the test set then the model has a very limited information scope to learn from, but it is expected to know 3s very well in out-of-sample settings.\n",
    "\n",
    "So first, let's check the distributions of labels in our datasets. We can use `class_to_idx` to get the dictionary of labels in our dataset."
   ]
  },
  {
   "cell_type": "code",
   "execution_count": 12,
   "id": "94d2f84e",
   "metadata": {
    "execution": {
     "iopub.execute_input": "2023-03-30T09:07:33.671152Z",
     "iopub.status.busy": "2023-03-30T09:07:33.670730Z",
     "iopub.status.idle": "2023-03-30T09:07:33.676279Z",
     "shell.execute_reply": "2023-03-30T09:07:33.674731Z"
    },
    "papermill": {
     "duration": 0.030218,
     "end_time": "2023-03-30T09:07:33.678766",
     "exception": false,
     "start_time": "2023-03-30T09:07:33.648548",
     "status": "completed"
    },
    "tags": []
   },
   "outputs": [
    {
     "name": "stdout",
     "output_type": "stream",
     "text": [
      "{'0 - zero': 0, '1 - one': 1, '2 - two': 2, '3 - three': 3, '4 - four': 4, '5 - five': 5, '6 - six': 6, '7 - seven': 7, '8 - eight': 8, '9 - nine': 9}\n"
     ]
    }
   ],
   "source": [
    "# Get mapping of target IDs\n",
    "print(data_train.class_to_idx)"
   ]
  },
  {
   "cell_type": "code",
   "execution_count": 13,
   "id": "22aaa2a1",
   "metadata": {
    "execution": {
     "iopub.execute_input": "2023-03-30T09:07:33.721218Z",
     "iopub.status.busy": "2023-03-30T09:07:33.720314Z",
     "iopub.status.idle": "2023-03-30T09:07:33.726681Z",
     "shell.execute_reply": "2023-03-30T09:07:33.725517Z"
    },
    "jupyter": {
     "source_hidden": true
    },
    "papermill": {
     "duration": 0.029986,
     "end_time": "2023-03-30T09:07:33.728955",
     "exception": false,
     "start_time": "2023-03-30T09:07:33.698969",
     "status": "completed"
    },
    "tags": []
   },
   "outputs": [],
   "source": [
    "# Define custom colors for the labels\n",
    "import matplotlib.colors as mcolors\n",
    "\n",
    "colors = [\"#D9D2D8\",\"#F2BBC9\", \"#BF849A\", \"#8C7A89\", \"#9AC7D9\", \n",
    "          \"#82C0D9\", \"#7DABB3\", \"#8F9FBF\", \"#737F99\", \"#566073\"]\n",
    "cmap = mcolors.ListedColormap(colors)"
   ]
  },
  {
   "cell_type": "markdown",
   "id": "e78b698c",
   "metadata": {
    "papermill": {
     "duration": 0.019815,
     "end_time": "2023-03-30T09:07:33.768668",
     "exception": false,
     "start_time": "2023-03-30T09:07:33.748853",
     "status": "completed"
    },
    "tags": []
   },
   "source": [
    "Plot the distributions of labels for training and test sets:"
   ]
  },
  {
   "cell_type": "code",
   "execution_count": 14,
   "id": "ff196479",
   "metadata": {
    "execution": {
     "iopub.execute_input": "2023-03-30T09:07:33.809689Z",
     "iopub.status.busy": "2023-03-30T09:07:33.809266Z",
     "iopub.status.idle": "2023-03-30T09:07:34.189662Z",
     "shell.execute_reply": "2023-03-30T09:07:34.188486Z"
    },
    "jupyter": {
     "source_hidden": true
    },
    "papermill": {
     "duration": 0.404647,
     "end_time": "2023-03-30T09:07:34.192450",
     "exception": false,
     "start_time": "2023-03-30T09:07:33.787803",
     "status": "completed"
    },
    "tags": []
   },
   "outputs": [
    {
     "data": {
      "image/png": "[encoded data removed]",
      "text/plain": [
       "<Figure size 1000x300 with 2 Axes>"
      ]
     },
     "metadata": {},
     "output_type": "display_data"
    }
   ],
   "source": [
    "df = pd.DataFrame(pd.Series(data_train.targets).value_counts().reset_index())\n",
    "df.columns = ['digit', 'count']\n",
    "df.sort_values('digit', inplace=True)\n",
    "dft = pd.DataFrame(pd.Series(data_test.targets).value_counts().reset_index())\n",
    "dft.columns = ['digit', 'count']\n",
    "dft.sort_values('digit', inplace=True)\n",
    "fig,_=plt.subplots(1,2, figsize=(10,3))\n",
    "plt.suptitle('Target distribution label', size=15)\n",
    "plt.subplot(1,2,1)\n",
    "plt.bar('digit', 'count',data=df, color=cmap(df.digit))\n",
    "plt.title('Train set', size=10)\n",
    "plt.xlabel('digit')\n",
    "plt.xticks(range(len(df.digit)), df.digit)\n",
    "plt.ylabel('count')\n",
    "plt.subplot(1,2,2)\n",
    "plt.bar('digit', 'count',data=dft, color=cmap(dft.digit))\n",
    "plt.title('Test set', size=10)\n",
    "plt.xlabel('digit')\n",
    "plt.xticks(range(len(dft.digit)), dft.digit)\n",
    "plt.show()"
   ]
  },
  {
   "cell_type": "markdown",
   "id": "510a3618",
   "metadata": {
    "papermill": {
     "duration": 0.020458,
     "end_time": "2023-03-30T09:07:34.234338",
     "exception": false,
     "start_time": "2023-03-30T09:07:34.213880",
     "status": "completed"
    },
    "tags": []
   },
   "source": [
    "We can see from the above figures that the target distributions for both training and test sets are similar and all digits are represented relatively in a balanced structure, which means we can just split the training data randomly into training and validation sets. Note that if the sample is not balanced then when splitting the sample we should preserve the sample imblance.\n",
    "\n",
    "We will use `SubsetRandomSampler` to select the data. The `SubsetRandomSampler` uses indices from the original dataset to select subsets of data. So, first we need to define which indices are for the training sample and which are to be used for the validation sample. The steps are:"
   ]
  },
  {
   "cell_type": "markdown",
   "id": "100a3e7d",
   "metadata": {
    "papermill": {
     "duration": 0.020394,
     "end_time": "2023-03-30T09:07:34.275521",
     "exception": false,
     "start_time": "2023-03-30T09:07:34.255127",
     "status": "completed"
    },
    "tags": []
   },
   "source": [
    "[Ref](https://towardsdatascience.com/pytorch-basics-sampling-samplers-2a0f29f0bf2a)"
   ]
  },
  {
   "cell_type": "code",
   "execution_count": 15,
   "id": "aad1bc03",
   "metadata": {
    "execution": {
     "iopub.execute_input": "2023-03-30T09:07:34.318421Z",
     "iopub.status.busy": "2023-03-30T09:07:34.318019Z",
     "iopub.status.idle": "2023-03-30T09:07:34.612309Z",
     "shell.execute_reply": "2023-03-30T09:07:34.610391Z"
    },
    "papermill": {
     "duration": 0.319013,
     "end_time": "2023-03-30T09:07:34.615121",
     "exception": false,
     "start_time": "2023-03-30T09:07:34.296108",
     "status": "completed"
    },
    "tags": []
   },
   "outputs": [
    {
     "name": "stdout",
     "output_type": "stream",
     "text": [
      "Dataset length: 60000\n",
      "Shuffled indices [29871, 30961, 56031, 22460, 32241]\n",
      "\n",
      "Train idx length: 42000\n",
      "[15708, 51837, 41139, 50106, 20961]\n",
      "\n",
      "Valid idx length: 18000\n",
      "[26797, 40786, 24795, 8344, 59076]\n"
     ]
    }
   ],
   "source": [
    "# Step 1 - Length of train dataset from which we are splitting the data\n",
    "Nd = len(data_train); print(f'Dataset length: {Nd}')\n",
    "\n",
    "# Step 2 - Create a shuffled list of training indices\n",
    "Nd_idx = list(range(Nd))\n",
    "np.random.shuffle(Nd_idx)\n",
    "print(f'Shuffled indices {Nd_idx[:5]}')\n",
    "\n",
    "# Step 3 - Define percentage of indices for the training sample\n",
    "# to compute number of indices to be included in the training sample\n",
    "train_pct = 0.7\n",
    "Nt = int(np.floor(train_pct * Nd))\n",
    "\n",
    "# Step 4 - Split the indices into training and validation\n",
    "# and pass the indices to the SubsetRandomSampler\n",
    "tr_idx, vl_idx = Nd_idx[:Nt], Nd_idx[Nt:]\n",
    "\n",
    "# SubsetRandomSampler(indices): Samples elements randomly from a given list of indices, without replacement.\n",
    "tr_sampler = SubsetRandomSampler(tr_idx)\n",
    "vl_sampler = SubsetRandomSampler(vl_idx)\n",
    "\n",
    "print(f'\\nTrain idx length: {len(tr_sampler)}')\n",
    "print(list(tr_sampler)[:5])\n",
    "print(f'\\nValid idx length: {len(vl_sampler)}')\n",
    "print(list(vl_sampler)[:5])"
   ]
  },
  {
   "cell_type": "markdown",
   "id": "21623177",
   "metadata": {
    "papermill": {
     "duration": 0.020392,
     "end_time": "2023-03-30T09:07:34.656404",
     "exception": false,
     "start_time": "2023-03-30T09:07:34.636012",
     "status": "completed"
    },
    "tags": []
   },
   "source": [
    "Now, that we have the samplers for training and validation, we can create the objects for each dataset which will contain all the information used in the training process with respect to the input data.\n",
    "\n",
    "In order to train the model using PyTorch there are two basic requirements in regards to the input data:\n",
    "1. the dataset has to be in the form of a tuple with the structure (input, label) where each is a tensor\n",
    "2. the input data should be stored in batches, i.e. the input data is iterable over batches.\n",
    "\n",
    "Note that the initial data is already in form of tuples, as we saw previously. To create the iterable batches we will use a PyTorch object called `DataLoader` which takes a Python collection and converts it to an iterator based on batches. From the PyTorch documentation we have:\n",
    "\n",
    "> Data loader. Combines a dataset and a sampler, and provides an iterable over the given dataset. [Ref]()\n",
    "\n",
    "Since we have a dataset and samplers for each subset we can create dataloaders for each sample:"
   ]
  },
  {
   "cell_type": "code",
   "execution_count": 16,
   "id": "42c3faf9",
   "metadata": {
    "execution": {
     "iopub.execute_input": "2023-03-30T09:07:34.699970Z",
     "iopub.status.busy": "2023-03-30T09:07:34.699544Z",
     "iopub.status.idle": "2023-03-30T09:07:34.704525Z",
     "shell.execute_reply": "2023-03-30T09:07:34.703361Z"
    },
    "papermill": {
     "duration": 0.029698,
     "end_time": "2023-03-30T09:07:34.706866",
     "exception": false,
     "start_time": "2023-03-30T09:07:34.677168",
     "status": "completed"
    },
    "tags": []
   },
   "outputs": [],
   "source": [
    "# Define number of mini-batches\n",
    "no_batches = 64"
   ]
  },
  {
   "cell_type": "markdown",
   "id": "3528f215",
   "metadata": {
    "papermill": {
     "duration": 0.020927,
     "end_time": "2023-03-30T09:07:34.748872",
     "exception": false,
     "start_time": "2023-03-30T09:07:34.727945",
     "status": "completed"
    },
    "tags": []
   },
   "source": [
    "Let's check what we have got in training and validation dataloaders. We also need to check whether there are any partial batches, i.e. leftover samples when constructing mini-batches. Note that there is an option in `DataLoader` called `drop_last` to drop any such letfovers."
   ]
  },
  {
   "cell_type": "code",
   "execution_count": 17,
   "id": "3eb2dda6",
   "metadata": {
    "execution": {
     "iopub.execute_input": "2023-03-30T09:07:34.793265Z",
     "iopub.status.busy": "2023-03-30T09:07:34.792842Z",
     "iopub.status.idle": "2023-03-30T09:07:34.799724Z",
     "shell.execute_reply": "2023-03-30T09:07:34.798609Z"
    },
    "papermill": {
     "duration": 0.031763,
     "end_time": "2023-03-30T09:07:34.801911",
     "exception": false,
     "start_time": "2023-03-30T09:07:34.770148",
     "status": "completed"
    },
    "tags": []
   },
   "outputs": [],
   "source": [
    "def check_batches(sampler, batch_size):\n",
    "    \n",
    "    # Number of samples to expect in the final dataloader\n",
    "    no_samples = len(sampler)\n",
    "    \n",
    "    # Number of batches to expect in the final dataloader\n",
    "    no_batches = int(np.ceil(no_samples / batch_size))\n",
    "    print(f'Number of batches total: {no_batches}')\n",
    "    \n",
    "    # Samples in the last batch (leftover samples)\n",
    "    lb_samples = no_samples % batch_size\n",
    "    \n",
    "    if lb_samples != 0:\n",
    "        no_batches -= 1\n",
    "    \n",
    "    print(f'Full batches: {no_batches}')\n",
    "    if lb_samples != 0:\n",
    "        print(f'Samples in partial batch: {lb_samples}')\n",
    "    \n",
    "    return no_batches, lb_samples"
   ]
  },
  {
   "cell_type": "markdown",
   "id": "8f43c612",
   "metadata": {
    "papermill": {
     "duration": 0.020493,
     "end_time": "2023-03-30T09:07:34.843325",
     "exception": false,
     "start_time": "2023-03-30T09:07:34.822832",
     "status": "completed"
    },
    "tags": []
   },
   "source": [
    "Let's check for training and validation sample:"
   ]
  },
  {
   "cell_type": "code",
   "execution_count": 18,
   "id": "e8207a23",
   "metadata": {
    "execution": {
     "iopub.execute_input": "2023-03-30T09:07:34.886786Z",
     "iopub.status.busy": "2023-03-30T09:07:34.886231Z",
     "iopub.status.idle": "2023-03-30T09:07:34.893059Z",
     "shell.execute_reply": "2023-03-30T09:07:34.891741Z"
    },
    "papermill": {
     "duration": 0.031375,
     "end_time": "2023-03-30T09:07:34.895484",
     "exception": false,
     "start_time": "2023-03-30T09:07:34.864109",
     "status": "completed"
    },
    "tags": []
   },
   "outputs": [
    {
     "name": "stdout",
     "output_type": "stream",
     "text": [
      "Training sample\n",
      "Number of batches total: 657\n",
      "Full batches: 656\n",
      "Samples in partial batch: 16\n",
      "\n",
      "Validation sample\n",
      "Number of batches total: 282\n",
      "Full batches: 281\n",
      "Samples in partial batch: 16\n"
     ]
    }
   ],
   "source": [
    "print('Training sample')\n",
    "tr_batches, tr_lb_samples = check_batches(tr_sampler, no_batches)\n",
    "print('\\nValidation sample')\n",
    "vl_batches, vl_lb_samples = check_batches(vl_sampler, no_batches)"
   ]
  },
  {
   "cell_type": "markdown",
   "id": "c61c1120",
   "metadata": {
    "papermill": {
     "duration": 0.020533,
     "end_time": "2023-03-30T09:07:34.936796",
     "exception": false,
     "start_time": "2023-03-30T09:07:34.916263",
     "status": "completed"
    },
    "tags": []
   },
   "source": [
    "Note that we can not use `shuffle=True` when using `SubsetRandomSampler()`. "
   ]
  },
  {
   "cell_type": "code",
   "execution_count": 19,
   "id": "1bc5cfa3",
   "metadata": {
    "execution": {
     "iopub.execute_input": "2023-03-30T09:07:34.980222Z",
     "iopub.status.busy": "2023-03-30T09:07:34.979764Z",
     "iopub.status.idle": "2023-03-30T09:07:34.987266Z",
     "shell.execute_reply": "2023-03-30T09:07:34.985552Z"
    },
    "papermill": {
     "duration": 0.03234,
     "end_time": "2023-03-30T09:07:34.989810",
     "exception": false,
     "start_time": "2023-03-30T09:07:34.957470",
     "status": "completed"
    },
    "tags": []
   },
   "outputs": [],
   "source": [
    "# Training dataloader\n",
    "dl_train = torch.utils.data.DataLoader(data_train, batch_size=no_batches, shuffle=False, sampler=tr_sampler)\n",
    "\n",
    "# Validation dataloader\n",
    "dl_valid = torch.utils.data.DataLoader(data_train, batch_size=no_batches, shuffle=False, sampler=vl_sampler)\n",
    "\n",
    "# Test dataloader\n",
    "dl_test = torch.utils.data.DataLoader(data_test, batch_size=no_batches, shuffle=True)"
   ]
  },
  {
   "cell_type": "markdown",
   "id": "a9997dbe",
   "metadata": {
    "papermill": {
     "duration": 0.020443,
     "end_time": "2023-03-30T09:07:35.031085",
     "exception": false,
     "start_time": "2023-03-30T09:07:35.010642",
     "status": "completed"
    },
    "tags": []
   },
   "source": [
    "To check the size of the dataloader we can use `len()` which will give us the number of batches created for each dataset."
   ]
  },
  {
   "cell_type": "code",
   "execution_count": 20,
   "id": "89be69c9",
   "metadata": {
    "execution": {
     "iopub.execute_input": "2023-03-30T09:07:35.075829Z",
     "iopub.status.busy": "2023-03-30T09:07:35.074967Z",
     "iopub.status.idle": "2023-03-30T09:07:35.081969Z",
     "shell.execute_reply": "2023-03-30T09:07:35.080757Z"
    },
    "papermill": {
     "duration": 0.032511,
     "end_time": "2023-03-30T09:07:35.084984",
     "exception": false,
     "start_time": "2023-03-30T09:07:35.052473",
     "status": "completed"
    },
    "tags": []
   },
   "outputs": [
    {
     "name": "stdout",
     "output_type": "stream",
     "text": [
      "Training batches: 657\n",
      "Validation batches: 282\n",
      "Test batches: 157\n"
     ]
    }
   ],
   "source": [
    "print(f'Training batches: {len(dl_train)}')\n",
    "print(f'Validation batches: {len(dl_valid)}')\n",
    "print(f'Test batches: {len(dl_test)}')"
   ]
  },
  {
   "cell_type": "markdown",
   "id": "d60f9810",
   "metadata": {
    "papermill": {
     "duration": 0.027757,
     "end_time": "2023-03-30T09:07:35.134114",
     "exception": false,
     "start_time": "2023-03-30T09:07:35.106357",
     "status": "completed"
    },
    "tags": []
   },
   "source": [
    "The numbers for the batches from the dataloaders align with what we have calculated from the samplers. Finally let's check the shape of one batch:"
   ]
  },
  {
   "cell_type": "code",
   "execution_count": 21,
   "id": "2120af0f",
   "metadata": {
    "execution": {
     "iopub.execute_input": "2023-03-30T09:07:35.192451Z",
     "iopub.status.busy": "2023-03-30T09:07:35.191592Z",
     "iopub.status.idle": "2023-03-30T09:07:35.269176Z",
     "shell.execute_reply": "2023-03-30T09:07:35.267878Z"
    },
    "papermill": {
     "duration": 0.104764,
     "end_time": "2023-03-30T09:07:35.271658",
     "exception": false,
     "start_time": "2023-03-30T09:07:35.166894",
     "status": "completed"
    },
    "tags": []
   },
   "outputs": [
    {
     "name": "stdout",
     "output_type": "stream",
     "text": [
      "X shape: torch.Size([64, 1, 28, 28])\n",
      "y shape: torch.Size([64])\n"
     ]
    }
   ],
   "source": [
    "for batch in dl_train:\n",
    "    X, y = batch\n",
    "    print(f'X shape: {X.shape}')\n",
    "    print(f'y shape: {y.shape}')\n",
    "    break"
   ]
  },
  {
   "cell_type": "markdown",
   "id": "7243a605",
   "metadata": {
    "papermill": {
     "duration": 0.021151,
     "end_time": "2023-03-30T09:07:35.314138",
     "exception": false,
     "start_time": "2023-03-30T09:07:35.292987",
     "status": "completed"
    },
    "tags": []
   },
   "source": [
    "# Training - Baseline Model"
   ]
  },
  {
   "cell_type": "markdown",
   "id": "c6c16da5",
   "metadata": {
    "papermill": {
     "duration": 0.020442,
     "end_time": "2023-03-30T09:07:35.355381",
     "exception": false,
     "start_time": "2023-03-30T09:07:35.334939",
     "status": "completed"
    },
    "tags": []
   },
   "source": [
    "Now that we have our dataloaders ready we need to think about what other components we need to train a neural network. The components we need to consider are the following:\n",
    "1. training device: GPU or CPU\n",
    "2. model architecture\n",
    "3. hyper-parameters\n",
    "  - loss function\n",
    "  - optimizer and the learning rate\n",
    "  - metric\n",
    "\n",
    "All of the components depend on the project at hand and can be different given different data structure, project goals, etc. In the sections below we consider each separately:"
   ]
  },
  {
   "cell_type": "markdown",
   "id": "6c4715d3",
   "metadata": {
    "papermill": {
     "duration": 0.020639,
     "end_time": "2023-03-30T09:07:35.396971",
     "exception": false,
     "start_time": "2023-03-30T09:07:35.376332",
     "status": "completed"
    },
    "tags": []
   },
   "source": [
    "## Define the device for training"
   ]
  },
  {
   "cell_type": "markdown",
   "id": "1f6ddf8a",
   "metadata": {
    "papermill": {
     "duration": 0.020591,
     "end_time": "2023-03-30T09:07:35.438547",
     "exception": false,
     "start_time": "2023-03-30T09:07:35.417956",
     "status": "completed"
    },
    "tags": []
   },
   "source": [
    "We can train our model either on CPU or GPU whichever is available. It is widely known that deep learning models train faster on the GPU to utilize the ability of numerous parallel computations at one time. To see what is available on the current computer we can run the following command, which we save as an object to be used later in the training loop."
   ]
  },
  {
   "cell_type": "code",
   "execution_count": 22,
   "id": "e1315864",
   "metadata": {
    "execution": {
     "iopub.execute_input": "2023-03-30T09:07:35.482052Z",
     "iopub.status.busy": "2023-03-30T09:07:35.481614Z",
     "iopub.status.idle": "2023-03-30T09:07:35.487728Z",
     "shell.execute_reply": "2023-03-30T09:07:35.486147Z"
    },
    "papermill": {
     "duration": 0.031352,
     "end_time": "2023-03-30T09:07:35.490500",
     "exception": false,
     "start_time": "2023-03-30T09:07:35.459148",
     "status": "completed"
    },
    "tags": []
   },
   "outputs": [
    {
     "name": "stdout",
     "output_type": "stream",
     "text": [
      "Using cpu device!\n"
     ]
    }
   ],
   "source": [
    "device = \"cuda\" if torch.cuda.is_available() else \"cpu\"\n",
    "print(f'Using {device} device!')"
   ]
  },
  {
   "cell_type": "markdown",
   "id": "c6d74e65",
   "metadata": {
    "papermill": {
     "duration": 0.020556,
     "end_time": "2023-03-30T09:07:35.533068",
     "exception": false,
     "start_time": "2023-03-30T09:07:35.512512",
     "status": "completed"
    },
    "tags": []
   },
   "source": [
    "## Model architecture"
   ]
  },
  {
   "cell_type": "markdown",
   "id": "6dcc30fc",
   "metadata": {
    "papermill": {
     "duration": 0.020619,
     "end_time": "2023-03-30T09:07:35.574766",
     "exception": false,
     "start_time": "2023-03-30T09:07:35.554147",
     "status": "completed"
    },
    "tags": []
   },
   "source": [
    "We start to expore with a simple neural network with linear layers. This will provide a fast baseline to check that our modeling pipeline works. Later on, we will iterate on it to develop a better model. So first, we define the class for model architecture by inheriting from the PyTorch `nn.Module`. In the `__init__` function we define all the layers of the neural network and in the `forward` function we define how the data will pass through the defined network."
   ]
  },
  {
   "cell_type": "code",
   "execution_count": 23,
   "id": "8219363c",
   "metadata": {
    "execution": {
     "iopub.execute_input": "2023-03-30T09:07:35.618647Z",
     "iopub.status.busy": "2023-03-30T09:07:35.617864Z",
     "iopub.status.idle": "2023-03-30T09:07:35.626508Z",
     "shell.execute_reply": "2023-03-30T09:07:35.625297Z"
    },
    "papermill": {
     "duration": 0.033124,
     "end_time": "2023-03-30T09:07:35.628841",
     "exception": false,
     "start_time": "2023-03-30T09:07:35.595717",
     "status": "completed"
    },
    "tags": []
   },
   "outputs": [],
   "source": [
    "class SimpleLNN(nn.Module):\n",
    "    \"\"\"\n",
    "    A simple linear neural network with 2 linear layers\n",
    "    and an output layer with softmax activation function.\n",
    "    \n",
    "    in_shape (tuple): (height, width)\n",
    "    n_out (int): number of outputs of the model\n",
    "    \"\"\"\n",
    "    \n",
    "    def __init__(self, in_shape:tuple, n_out:int):\n",
    "        super().__init__()\n",
    "        self.in_shape = in_shape\n",
    "        H, W = self.in_shape\n",
    "        self.n_out = n_out\n",
    "        self.flatten = nn.Flatten()\n",
    "        self.linear_stack = nn.Sequential(\n",
    "            nn.Linear(H*W, 512),\n",
    "            nn.ReLU(),\n",
    "            nn.Linear(512, self.n_out),\n",
    "        )\n",
    "        self.softmax = nn.Softmax(dim=1)\n",
    "        \n",
    "        \n",
    "    def forward(self, x):\n",
    "        x = self.flatten(x)\n",
    "        x = self.linear_stack(x)\n",
    "        x = self.softmax(x)\n",
    "        \n",
    "        return x"
   ]
  },
  {
   "cell_type": "markdown",
   "id": "c9829cb7",
   "metadata": {
    "papermill": {
     "duration": 0.020743,
     "end_time": "2023-03-30T09:07:35.670932",
     "exception": false,
     "start_time": "2023-03-30T09:07:35.650189",
     "status": "completed"
    },
    "tags": []
   },
   "source": [
    "Initialize the model and send to device:"
   ]
  },
  {
   "cell_type": "code",
   "execution_count": 24,
   "id": "9315ccfd",
   "metadata": {
    "execution": {
     "iopub.execute_input": "2023-03-30T09:07:35.715461Z",
     "iopub.status.busy": "2023-03-30T09:07:35.714714Z",
     "iopub.status.idle": "2023-03-30T09:07:35.729466Z",
     "shell.execute_reply": "2023-03-30T09:07:35.727769Z"
    },
    "papermill": {
     "duration": 0.039523,
     "end_time": "2023-03-30T09:07:35.731840",
     "exception": false,
     "start_time": "2023-03-30T09:07:35.692317",
     "status": "completed"
    },
    "tags": []
   },
   "outputs": [
    {
     "name": "stdout",
     "output_type": "stream",
     "text": [
      "SimpleLNN(\n",
      "  (flatten): Flatten(start_dim=1, end_dim=-1)\n",
      "  (linear_stack): Sequential(\n",
      "    (0): Linear(in_features=784, out_features=512, bias=True)\n",
      "    (1): ReLU()\n",
      "    (2): Linear(in_features=512, out_features=10, bias=True)\n",
      "  )\n",
      "  (softmax): Softmax(dim=1)\n",
      ")\n"
     ]
    }
   ],
   "source": [
    "model = SimpleLNN(in_shape=(28,28), n_out=10).to(device)\n",
    "print(model)"
   ]
  },
  {
   "cell_type": "markdown",
   "id": "b0faa48e",
   "metadata": {
    "papermill": {
     "duration": 0.021096,
     "end_time": "2023-03-30T09:07:35.774530",
     "exception": false,
     "start_time": "2023-03-30T09:07:35.753434",
     "status": "completed"
    },
    "tags": []
   },
   "source": [
    "Given our simple neural network let's see how many parameters we have to train per each layer:"
   ]
  },
  {
   "cell_type": "code",
   "execution_count": 25,
   "id": "5dd46e44",
   "metadata": {
    "execution": {
     "iopub.execute_input": "2023-03-30T09:07:35.819867Z",
     "iopub.status.busy": "2023-03-30T09:07:35.819386Z",
     "iopub.status.idle": "2023-03-30T09:07:35.827966Z",
     "shell.execute_reply": "2023-03-30T09:07:35.826583Z"
    },
    "jupyter": {
     "source_hidden": true
    },
    "papermill": {
     "duration": 0.034383,
     "end_time": "2023-03-30T09:07:35.830499",
     "exception": false,
     "start_time": "2023-03-30T09:07:35.796116",
     "status": "completed"
    },
    "tags": []
   },
   "outputs": [],
   "source": [
    "def cnt_params(model, show_per_layer:bool=True):\n",
    "    \"\"\"\n",
    "    Get the number of model parameters for the instantiated model class.\n",
    "    If show_per_layer then print info for each layer.\n",
    "    \"\"\"\n",
    "\n",
    "    if show_per_layer:\n",
    "        print('-'*75)\n",
    "        print(f'PARAMETER INFORMATION PER LAYER')\n",
    "        print('•'*75)\n",
    "        for name, param in model.named_parameters():\n",
    "            if param.ndim < 2: \n",
    "                in_fts = param.ndim\n",
    "            else:\n",
    "                in_fts = param.shape[1]\n",
    "            out_fts = param.shape[0]\n",
    "            print(f\"Layer: {name}  | InP: {in_fts}  | OutP: {out_fts}  |  CntParams: {in_fts*out_fts}\")\n",
    "    \n",
    "    total_cnt_params = sum([x.reshape(-1).shape[0] for x in model.parameters()])\n",
    "    print('-'*75)\n",
    "    print(f'Total number of parameter: {total_cnt_params}')\n",
    "    print('-'*75)\n",
    "\n",
    "    return total_cnt_params"
   ]
  },
  {
   "cell_type": "code",
   "execution_count": 26,
   "id": "4a5b47c3",
   "metadata": {
    "execution": {
     "iopub.execute_input": "2023-03-30T09:07:35.875780Z",
     "iopub.status.busy": "2023-03-30T09:07:35.875333Z",
     "iopub.status.idle": "2023-03-30T09:07:35.884330Z",
     "shell.execute_reply": "2023-03-30T09:07:35.882232Z"
    },
    "papermill": {
     "duration": 0.035267,
     "end_time": "2023-03-30T09:07:35.887761",
     "exception": false,
     "start_time": "2023-03-30T09:07:35.852494",
     "status": "completed"
    },
    "tags": []
   },
   "outputs": [
    {
     "name": "stdout",
     "output_type": "stream",
     "text": [
      "---------------------------------------------------------------------------\n",
      "PARAMETER INFORMATION PER LAYER\n",
      "•••••••••••••••••••••••••••••••••••••••••••••••••••••••••••••••••••••••••••\n",
      "Layer: linear_stack.0.weight  | InP: 784  | OutP: 512  |  CntParams: 401408\n",
      "Layer: linear_stack.0.bias  | InP: 1  | OutP: 512  |  CntParams: 512\n",
      "Layer: linear_stack.2.weight  | InP: 512  | OutP: 10  |  CntParams: 5120\n",
      "Layer: linear_stack.2.bias  | InP: 1  | OutP: 10  |  CntParams: 10\n",
      "---------------------------------------------------------------------------\n",
      "Total number of parameter: 407050\n",
      "---------------------------------------------------------------------------\n"
     ]
    }
   ],
   "source": [
    "_ = cnt_params(model)"
   ]
  },
  {
   "cell_type": "markdown",
   "id": "45197cc5",
   "metadata": {
    "papermill": {
     "duration": 0.021178,
     "end_time": "2023-03-30T09:07:35.930495",
     "exception": false,
     "start_time": "2023-03-30T09:07:35.909317",
     "status": "completed"
    },
    "tags": []
   },
   "source": [
    "## Hyperparameters"
   ]
  },
  {
   "cell_type": "markdown",
   "id": "b8263859",
   "metadata": {
    "papermill": {
     "duration": 0.02061,
     "end_time": "2023-03-30T09:07:35.972182",
     "exception": false,
     "start_time": "2023-03-30T09:07:35.951572",
     "status": "completed"
    },
    "tags": []
   },
   "source": [
    "In this project we are trying to classify images of handwritten digits, hence we are trying to predict 10 diferent classes. We need to choose a loss function which is suited for classification problems."
   ]
  },
  {
   "cell_type": "code",
   "execution_count": 27,
   "id": "05c0c0af",
   "metadata": {
    "execution": {
     "iopub.execute_input": "2023-03-30T09:07:36.017167Z",
     "iopub.status.busy": "2023-03-30T09:07:36.016406Z",
     "iopub.status.idle": "2023-03-30T09:07:36.021816Z",
     "shell.execute_reply": "2023-03-30T09:07:36.020847Z"
    },
    "papermill": {
     "duration": 0.030818,
     "end_time": "2023-03-30T09:07:36.024052",
     "exception": false,
     "start_time": "2023-03-30T09:07:35.993234",
     "status": "completed"
    },
    "tags": []
   },
   "outputs": [],
   "source": [
    "loss_fun = nn.CrossEntropyLoss()"
   ]
  },
  {
   "cell_type": "code",
   "execution_count": 28,
   "id": "cc3fce78",
   "metadata": {
    "execution": {
     "iopub.execute_input": "2023-03-30T09:07:36.069544Z",
     "iopub.status.busy": "2023-03-30T09:07:36.068854Z",
     "iopub.status.idle": "2023-03-30T09:07:36.073769Z",
     "shell.execute_reply": "2023-03-30T09:07:36.072952Z"
    },
    "papermill": {
     "duration": 0.030215,
     "end_time": "2023-03-30T09:07:36.075976",
     "exception": false,
     "start_time": "2023-03-30T09:07:36.045761",
     "status": "completed"
    },
    "tags": []
   },
   "outputs": [],
   "source": [
    "lr_rate = 1e-3"
   ]
  },
  {
   "cell_type": "code",
   "execution_count": 29,
   "id": "1e85ceb7",
   "metadata": {
    "execution": {
     "iopub.execute_input": "2023-03-30T09:07:36.121801Z",
     "iopub.status.busy": "2023-03-30T09:07:36.121318Z",
     "iopub.status.idle": "2023-03-30T09:07:36.127110Z",
     "shell.execute_reply": "2023-03-30T09:07:36.126213Z"
    },
    "papermill": {
     "duration": 0.032349,
     "end_time": "2023-03-30T09:07:36.129728",
     "exception": false,
     "start_time": "2023-03-30T09:07:36.097379",
     "status": "completed"
    },
    "tags": []
   },
   "outputs": [],
   "source": [
    "optimizer = torch.optim.SGD(model.parameters(), lr=lr_rate)"
   ]
  },
  {
   "cell_type": "markdown",
   "id": "961842d4",
   "metadata": {
    "papermill": {
     "duration": 0.020884,
     "end_time": "2023-03-30T09:07:36.172640",
     "exception": false,
     "start_time": "2023-03-30T09:07:36.151756",
     "status": "completed"
    },
    "tags": []
   },
   "source": [
    "### Training Loop "
   ]
  },
  {
   "cell_type": "markdown",
   "id": "c87f0886",
   "metadata": {
    "papermill": {
     "duration": 0.021304,
     "end_time": "2023-03-30T09:07:36.215852",
     "exception": false,
     "start_time": "2023-03-30T09:07:36.194548",
     "status": "completed"
    },
    "tags": []
   },
   "source": [
    "Now that we have all the training components we can combine everything into a training loop. We will define a function for training and validation which will run given the number of epochs defined. To make the whole process more concise and clear first we define a training loop for one iteration through the data (one epoch), which we can then use to define a complete training function over all epochs."
   ]
  },
  {
   "cell_type": "code",
   "execution_count": 30,
   "id": "99c6560f",
   "metadata": {
    "execution": {
     "iopub.execute_input": "2023-03-30T09:07:36.261965Z",
     "iopub.status.busy": "2023-03-30T09:07:36.261240Z",
     "iopub.status.idle": "2023-03-30T09:07:36.270565Z",
     "shell.execute_reply": "2023-03-30T09:07:36.269698Z"
    },
    "papermill": {
     "duration": 0.034975,
     "end_time": "2023-03-30T09:07:36.272916",
     "exception": false,
     "start_time": "2023-03-30T09:07:36.237941",
     "status": "completed"
    },
    "tags": []
   },
   "outputs": [],
   "source": [
    "def train_epoch(dataloader, model, loss_fun, optimizer, \n",
    "                lr_rate, device, print_cnt=100):\n",
    "    \"\"\"\n",
    "    Training step for one batch\n",
    "    \"\"\"\n",
    "    # Define where to save training results\n",
    "    loss_train = 0\n",
    "    accuracy_train = 0\n",
    "    \n",
    "    # Initialize training mode\n",
    "    model.train()\n",
    "    \n",
    "    # Number of batches\n",
    "    Nbatches = len(dataloader)\n",
    "    \n",
    "    # Loop through the batches in the dataloader\n",
    "    for batch, (X,y) in enumerate(dataloader):\n",
    "        \n",
    "        # --- FORWARD PASS ---\n",
    "        # Input data sent to device\n",
    "        X, y = X.to(device), y.to(device)\n",
    "        \n",
    "        # Model output\n",
    "        outputs = model(X)\n",
    "        \n",
    "        # Model prediction - class\n",
    "        _,preds = torch.max(outputs.data,1)\n",
    "\n",
    "        # Model loss & accuracy\n",
    "        loss = loss_fun(outputs, y)\n",
    "        correct_preds = (preds == y).sum().item()\n",
    "        accuracy = correct_preds/len(y)\n",
    "        \n",
    "        # --- BACKPROPAGATION ---\n",
    "        # Clear the gradients\n",
    "        optimizer.zero_grad()\n",
    "\n",
    "        # Compute the gradients\n",
    "        loss.backward()\n",
    "        \n",
    "        # Update the parameters\n",
    "        optimizer.step()\n",
    "        \n",
    "        # --- SAVE & PRINT RESULTS ---\n",
    "        # Save results of every batch\n",
    "        loss_train += loss.item()\n",
    "        accuracy_train += accuracy\n",
    "\n",
    "        # Print results of every 50th batch\n",
    "        if print_cnt:\n",
    "            if batch % print_cnt == 0:\n",
    "                print(f'Batch: {batch+1}/{Nbatches}   Loss: {loss.item()}   Accuracy:{accuracy}')\n",
    "    \n",
    "    # Average the results\n",
    "    loss_train /= Nbatches\n",
    "    accuracy_train /= Nbatches\n",
    "\n",
    "    return loss_train, accuracy_train"
   ]
  },
  {
   "cell_type": "markdown",
   "id": "64bafa94",
   "metadata": {
    "papermill": {
     "duration": 0.021174,
     "end_time": "2023-03-30T09:07:36.315394",
     "exception": false,
     "start_time": "2023-03-30T09:07:36.294220",
     "status": "completed"
    },
    "tags": []
   },
   "source": [
    "The above function `train` provides the general training sequence of steps:\n",
    "- After the model trains for one epoch, we would like to see the results of that training. So we need to define where to save that information. Values of interest are loss and accuracy.\n",
    "- Calling `model.train()` propels our defined architecture into action by setting the model into a training state and enabling some layers to behave in a specific way.\n",
    "- For clarity we compute the number of batches, `Nbatches`, which we will use to average the final results of training.\n",
    "- To train the model we loop through all the batches in the dataloader and compute the forward and backward pass\n",
    "- We add the batch loss to `loss_train`. Note that the `loss.item()` gives the average loss for all samples in the corresponding batch. To get the average loss for the epoch we need to divide the accumulated batch losses with the number of batches used during training.\n",
    "- To compute the accuracy we need to\n",
    "  - get the index of the class with the highest probability - `torch.max(X, dim=1)`\n",
    "  - sum all instances where the predicted and target class are equal to get the number of correct predictions\n",
    "  - to get the percentage we divide by the number of samples in the batch."
   ]
  },
  {
   "cell_type": "markdown",
   "id": "f2fe0fea",
   "metadata": {
    "papermill": {
     "duration": 0.020818,
     "end_time": "2023-03-30T09:07:36.357705",
     "exception": false,
     "start_time": "2023-03-30T09:07:36.336887",
     "status": "completed"
    },
    "tags": []
   },
   "source": [
    "Similarly, we can define the validation function:"
   ]
  },
  {
   "cell_type": "code",
   "execution_count": 31,
   "id": "f579dcf7",
   "metadata": {
    "execution": {
     "iopub.execute_input": "2023-03-30T09:07:36.402259Z",
     "iopub.status.busy": "2023-03-30T09:07:36.401608Z",
     "iopub.status.idle": "2023-03-30T09:07:36.410184Z",
     "shell.execute_reply": "2023-03-30T09:07:36.409235Z"
    },
    "papermill": {
     "duration": 0.033582,
     "end_time": "2023-03-30T09:07:36.412429",
     "exception": false,
     "start_time": "2023-03-30T09:07:36.378847",
     "status": "completed"
    },
    "tags": []
   },
   "outputs": [],
   "source": [
    "def validate_epoch(dataloader_valid, model, loss_fun, device, print_cnt=100):\n",
    "    \"\"\"Model validation during training\"\"\"\n",
    "    \n",
    "    # Define where to save training results\n",
    "    loss_valid = 0\n",
    "    accuracy_valid = 0\n",
    "    \n",
    "    # Number of batches\n",
    "    Nbatches = len(dataloader_valid)\n",
    "    \n",
    "    # Set the evaluation mode\n",
    "    model.eval()\n",
    "    \n",
    "    with torch.no_grad():\n",
    "        for batch, (Xv,yv) in enumerate(dataloader_valid):\n",
    "        \n",
    "            # --- FORWARD PASS ---\n",
    "            # Input data sent to device\n",
    "            Xv, yv = Xv.to(device), yv.to(device)\n",
    "\n",
    "            # Model output\n",
    "            outputs = model(Xv)\n",
    "\n",
    "            # Model prediction - class\n",
    "            _,preds = torch.max(outputs.data,1)\n",
    "\n",
    "            # Model loss & accuracy\n",
    "            loss = loss_fun(outputs, yv)\n",
    "            correct_preds = (preds == yv).sum().item()\n",
    "            accuracy = correct_preds/len(yv)\n",
    "\n",
    "            # --- SAVE & PRINT RESULTS ---\n",
    "            # Save results of every batch\n",
    "            loss_valid += loss.item()\n",
    "            accuracy_valid += accuracy\n",
    "\n",
    "            # Print results of every 50th batch\n",
    "            if print_cnt:\n",
    "                if batch % print_cnt == 0:\n",
    "                    print(f'Batch: {batch+1}/{Nbatches}   Loss: {loss.item()}   Accuracy:{accuracy}')\n",
    "    \n",
    "        # Average the results\n",
    "        loss_valid /= Nbatches\n",
    "        accuracy_valid /= Nbatches\n",
    "\n",
    "    return loss_valid, accuracy_valid"
   ]
  },
  {
   "cell_type": "markdown",
   "id": "6a71d3b1",
   "metadata": {
    "papermill": {
     "duration": 0.021043,
     "end_time": "2023-03-30T09:07:36.454926",
     "exception": false,
     "start_time": "2023-03-30T09:07:36.433883",
     "status": "completed"
    },
    "tags": []
   },
   "source": [
    "Difference between the validation and training step is that in the validation step we are only computing the forward based on the trained model in the training step; hence no need for backpropagation since we are not updating any parameters. We simply want to deduce how well our model for a given epoch is doing on unseen (during training) data.\n",
    "\n",
    "Now, we can combine both functions into a final training loop:"
   ]
  },
  {
   "cell_type": "code",
   "execution_count": 32,
   "id": "77bbc0f9",
   "metadata": {
    "execution": {
     "iopub.execute_input": "2023-03-30T09:07:36.499853Z",
     "iopub.status.busy": "2023-03-30T09:07:36.499203Z",
     "iopub.status.idle": "2023-03-30T09:07:36.506549Z",
     "shell.execute_reply": "2023-03-30T09:07:36.505752Z"
    },
    "papermill": {
     "duration": 0.0323,
     "end_time": "2023-03-30T09:07:36.508624",
     "exception": false,
     "start_time": "2023-03-30T09:07:36.476324",
     "status": "completed"
    },
    "tags": []
   },
   "outputs": [],
   "source": [
    "def training(dataloader_train, dataloader_valid, no_epochs,\n",
    "             model, loss_fun, optimizer, lr_rate, device, print_cnt=None):\n",
    "    \"\"\"Model training\"\"\"\n",
    "    \n",
    "    loss_train_epoch = [0]*no_epochs\n",
    "    accuracy_train_epoch = [0]*no_epochs\n",
    "    loss_valid_epoch = [0]*no_epochs\n",
    "    accuracy_valid_epoch = [0]*no_epochs\n",
    "    \n",
    "    for i in range(no_epochs):\n",
    "        loss_train, accuracy_train = train_epoch(dataloader_train, model, loss_fun, optimizer, lr_rate, device,print_cnt)\n",
    "        loss_valid, accuracy_valid = validate_epoch(dataloader_valid,model, loss_fun, device,print_cnt)\n",
    "        \n",
    "        loss_train_epoch[i] = loss_train\n",
    "        accuracy_train_epoch[i] = accuracy_train\n",
    "        loss_valid_epoch[i] = loss_valid\n",
    "        accuracy_valid_epoch[i] = accuracy_valid\n",
    "        \n",
    "        print(f'EPOCH: {i+1}/{no_epochs}  Train Loss: {loss_train} Train Accuracy:{accuracy_train} // Valid Loss: {loss_valid}  Valid Accuracy: {accuracy_valid}')\n",
    "            \n",
    "    return loss_train_epoch, accuracy_train_epoch, loss_valid_epoch, accuracy_valid_epoch\n",
    "    "
   ]
  },
  {
   "cell_type": "code",
   "execution_count": 33,
   "id": "8f9e5e80",
   "metadata": {
    "execution": {
     "iopub.execute_input": "2023-03-30T09:07:36.553030Z",
     "iopub.status.busy": "2023-03-30T09:07:36.552389Z",
     "iopub.status.idle": "2023-03-30T09:07:52.850584Z",
     "shell.execute_reply": "2023-03-30T09:07:52.849226Z"
    },
    "papermill": {
     "duration": 16.323648,
     "end_time": "2023-03-30T09:07:52.853263",
     "exception": false,
     "start_time": "2023-03-30T09:07:36.529615",
     "status": "completed"
    },
    "tags": []
   },
   "outputs": [
    {
     "name": "stdout",
     "output_type": "stream",
     "text": [
      "EPOCH: 1/2  Train Loss: 2.301271475976279 Train Accuracy:0.10992199391171995 // Valid Loss: 2.3005262435750757  Valid Accuracy: 0.13259086879432624\n",
      "EPOCH: 2/2  Train Loss: 2.2996239364600797 Train Accuracy:0.17589421613394216 // Valid Loss: 2.2988589841423304  Valid Accuracy: 0.21420656028368795\n"
     ]
    }
   ],
   "source": [
    "no_epochs = 2\n",
    "model_results = training(dl_train, dl_valid, no_epochs, model, loss_fun, optimizer, lr_rate, device)"
   ]
  },
  {
   "cell_type": "markdown",
   "id": "ef2a30dc",
   "metadata": {
    "papermill": {
     "duration": 0.021819,
     "end_time": "2023-03-30T09:07:52.899382",
     "exception": false,
     "start_time": "2023-03-30T09:07:52.877563",
     "status": "completed"
    },
    "tags": []
   },
   "source": [
    "# Training - Model CNN"
   ]
  },
  {
   "cell_type": "markdown",
   "id": "75f7d057",
   "metadata": {
    "papermill": {
     "duration": 0.02148,
     "end_time": "2023-03-30T09:07:52.942319",
     "exception": false,
     "start_time": "2023-03-30T09:07:52.920839",
     "status": "completed"
    },
    "tags": []
   },
   "source": [
    "- normalize input data (substract the mean and divide by stdev"
   ]
  },
  {
   "cell_type": "code",
   "execution_count": null,
   "id": "09617f34",
   "metadata": {
    "papermill": {
     "duration": 0.021439,
     "end_time": "2023-03-30T09:07:52.986044",
     "exception": false,
     "start_time": "2023-03-30T09:07:52.964605",
     "status": "completed"
    },
    "tags": []
   },
   "outputs": [],
   "source": []
  }
 ],
 "metadata": {
  "kernelspec": {
   "display_name": "Python 3",
   "language": "python",
   "name": "python3"
  },
  "language_info": {
   "codemirror_mode": {
    "name": "ipython",
    "version": 3
   },
   "file_extension": ".py",
   "mimetype": "text/x-python",
   "name": "python",
   "nbconvert_exporter": "python",
   "pygments_lexer": "ipython3",
   "version": "3.7.12"
  },
  "papermill": {
   "default_parameters": {},
   "duration": 49.997536,
   "end_time": "2023-03-30T09:07:54.034276",
   "environment_variables": {},
   "exception": null,
   "input_path": "__notebook__.ipynb",
   "output_path": "__notebook__.ipynb",
   "parameters": {},
   "start_time": "2023-03-30T09:07:04.036740",
   "version": "2.4.0"
  },
  "widgets": {
   "application/vnd.jupyter.widget-state+json": {
    "state": {
     "0969a700f4164ab8a923650f5ea6c954": {
      "model_module": "@jupyter-widgets/base",
      "model_module_version": "1.2.0",
      "model_name": "LayoutModel",
      "state": {
       "_model_module": "@jupyter-widgets/base",
       "_model_module_version": "1.2.0",
       "_model_name": "LayoutModel",
       "_view_count": null,
       "_view_module": "@jupyter-widgets/base",
       "_view_module_version": "1.2.0",
       "_view_name": "LayoutView",
       "align_content": null,
       "align_items": null,
       "align_self": null,
       "border": null,
       "bottom": null,
       "display": null,
       "flex": null,
       "flex_flow": null,
       "grid_area": null,
       "grid_auto_columns": null,
       "grid_auto_flow": null,
       "grid_auto_rows": null,
       "grid_column": null,
       "grid_gap": null,
       "grid_row": null,
       "grid_template_areas": null,
       "grid_template_columns": null,
       "grid_template_rows": null,
       "height": null,
       "justify_content": null,
       "justify_items": null,
       "left": null,
       "margin": null,
       "max_height": null,
       "max_width": null,
       "min_height": null,
       "min_width": null,
       "object_fit": null,
       "object_position": null,
       "order": null,
       "overflow": null,
       "overflow_x": null,
       "overflow_y": null,
       "padding": null,
       "right": null,
       "top": null,
       "visibility": null,
       "width": null
      }
     },
     "0f75622ca1934d2fb05f3464b0c6d9c7": {
      "model_module": "@jupyter-widgets/controls",
      "model_module_version": "1.5.0",
      "model_name": "HTMLModel",
      "state": {
       "_dom_classes": [],
       "_model_module": "@jupyter-widgets/controls",
       "_model_module_version": "1.5.0",
       "_model_name": "HTMLModel",
       "_view_count": null,
       "_view_module": "@jupyter-widgets/controls",
       "_view_module_version": "1.5.0",
       "_view_name": "HTMLView",
       "description": "",
       "description_tooltip": null,
       "layout": "IPY_MODEL_2fcb80a916a44eb78219a173271d665c",
       "placeholder": "​",
       "style": "IPY_MODEL_8abdf8b27edf4145abcb3cdda93fb64e",
       "value": " 28881/28881 [00:00&lt;00:00, 2077549.76it/s]"
      }
     },
     "15e9cdb623e74f2d9092dca8206f7c5c": {
      "model_module": "@jupyter-widgets/base",
      "model_module_version": "1.2.0",
      "model_name": "LayoutModel",
      "state": {
       "_model_module": "@jupyter-widgets/base",
       "_model_module_version": "1.2.0",
       "_model_name": "LayoutModel",
       "_view_count": null,
       "_view_module": "@jupyter-widgets/base",
       "_view_module_version": "1.2.0",
       "_view_name": "LayoutView",
       "align_content": null,
       "align_items": null,
       "align_self": null,
       "border": null,
       "bottom": null,
       "display": null,
       "flex": null,
       "flex_flow": null,
       "grid_area": null,
       "grid_auto_columns": null,
       "grid_auto_flow": null,
       "grid_auto_rows": null,
       "grid_column": null,
       "grid_gap": null,
       "grid_row": null,
       "grid_template_areas": null,
       "grid_template_columns": null,
       "grid_template_rows": null,
       "height": null,
       "justify_content": null,
       "justify_items": null,
       "left": null,
       "margin": null,
       "max_height": null,
       "max_width": null,
       "min_height": null,
       "min_width": null,
       "object_fit": null,
       "object_position": null,
       "order": null,
       "overflow": null,
       "overflow_x": null,
       "overflow_y": null,
       "padding": null,
       "right": null,
       "top": null,
       "visibility": null,
       "width": null
      }
     },
     "1a2e4fea24ce4efc8806a13807ffb703": {
      "model_module": "@jupyter-widgets/controls",
      "model_module_version": "1.5.0",
      "model_name": "ProgressStyleModel",
      "state": {
       "_model_module": "@jupyter-widgets/controls",
       "_model_module_version": "1.5.0",
       "_model_name": "ProgressStyleModel",
       "_view_count": null,
       "_view_module": "@jupyter-widgets/base",
       "_view_module_version": "1.2.0",
       "_view_name": "StyleView",
       "bar_color": null,
       "description_width": ""
      }
     },
     "1c906f2391c54c40aab4a2e5910ae777": {
      "model_module": "@jupyter-widgets/controls",
      "model_module_version": "1.5.0",
      "model_name": "DescriptionStyleModel",
      "state": {
       "_model_module": "@jupyter-widgets/controls",
       "_model_module_version": "1.5.0",
       "_model_name": "DescriptionStyleModel",
       "_view_count": null,
       "_view_module": "@jupyter-widgets/base",
       "_view_module_version": "1.2.0",
       "_view_name": "StyleView",
       "description_width": ""
      }
     },
     "1f738c849e5d4a789d207d88aec566fb": {
      "model_module": "@jupyter-widgets/controls",
      "model_module_version": "1.5.0",
      "model_name": "FloatProgressModel",
      "state": {
       "_dom_classes": [],
       "_model_module": "@jupyter-widgets/controls",
       "_model_module_version": "1.5.0",
       "_model_name": "FloatProgressModel",
       "_view_count": null,
       "_view_module": "@jupyter-widgets/controls",
       "_view_module_version": "1.5.0",
       "_view_name": "ProgressView",
       "bar_style": "success",
       "description": "",
       "description_tooltip": null,
       "layout": "IPY_MODEL_a2e121f2fc2b43318233805385c675d1",
       "max": 1648877.0,
       "min": 0.0,
       "orientation": "horizontal",
       "style": "IPY_MODEL_2ba1a6f048dd4b94b669a2606fa82d72",
       "value": 1648877.0
      }
     },
     "204a92e327334c1a8cc822abdc9c9e8a": {
      "model_module": "@jupyter-widgets/controls",
      "model_module_version": "1.5.0",
      "model_name": "ProgressStyleModel",
      "state": {
       "_model_module": "@jupyter-widgets/controls",
       "_model_module_version": "1.5.0",
       "_model_name": "ProgressStyleModel",
       "_view_count": null,
       "_view_module": "@jupyter-widgets/base",
       "_view_module_version": "1.2.0",
       "_view_name": "StyleView",
       "bar_color": null,
       "description_width": ""
      }
     },
     "2ba1a6f048dd4b94b669a2606fa82d72": {
      "model_module": "@jupyter-widgets/controls",
      "model_module_version": "1.5.0",
      "model_name": "ProgressStyleModel",
      "state": {
       "_model_module": "@jupyter-widgets/controls",
       "_model_module_version": "1.5.0",
       "_model_name": "ProgressStyleModel",
       "_view_count": null,
       "_view_module": "@jupyter-widgets/base",
       "_view_module_version": "1.2.0",
       "_view_name": "StyleView",
       "bar_color": null,
       "description_width": ""
      }
     },
     "2fcb80a916a44eb78219a173271d665c": {
      "model_module": "@jupyter-widgets/base",
      "model_module_version": "1.2.0",
      "model_name": "LayoutModel",
      "state": {
       "_model_module": "@jupyter-widgets/base",
       "_model_module_version": "1.2.0",
       "_model_name": "LayoutModel",
       "_view_count": null,
       "_view_module": "@jupyter-widgets/base",
       "_view_module_version": "1.2.0",
       "_view_name": "LayoutView",
       "align_content": null,
       "align_items": null,
       "align_self": null,
       "border": null,
       "bottom": null,
       "display": null,
       "flex": null,
       "flex_flow": null,
       "grid_area": null,
       "grid_auto_columns": null,
       "grid_auto_flow": null,
       "grid_auto_rows": null,
       "grid_column": null,
       "grid_gap": null,
       "grid_row": null,
       "grid_template_areas": null,
       "grid_template_columns": null,
       "grid_template_rows": null,
       "height": null,
       "justify_content": null,
       "justify_items": null,
       "left": null,
       "margin": null,
       "max_height": null,
       "max_width": null,
       "min_height": null,
       "min_width": null,
       "object_fit": null,
       "object_position": null,
       "order": null,
       "overflow": null,
       "overflow_x": null,
       "overflow_y": null,
       "padding": null,
       "right": null,
       "top": null,
       "visibility": null,
       "width": null
      }
     },
     "3466fed712b74a57864a1a5bea4d8578": {
      "model_module": "@jupyter-widgets/controls",
      "model_module_version": "1.5.0",
      "model_name": "DescriptionStyleModel",
      "state": {
       "_model_module": "@jupyter-widgets/controls",
       "_model_module_version": "1.5.0",
       "_model_name": "DescriptionStyleModel",
       "_view_count": null,
       "_view_module": "@jupyter-widgets/base",
       "_view_module_version": "1.2.0",
       "_view_name": "StyleView",
       "description_width": ""
      }
     },
     "370dc523c7eb4172a1ca5d187b5ce043": {
      "model_module": "@jupyter-widgets/controls",
      "model_module_version": "1.5.0",
      "model_name": "DescriptionStyleModel",
      "state": {
       "_model_module": "@jupyter-widgets/controls",
       "_model_module_version": "1.5.0",
       "_model_name": "DescriptionStyleModel",
       "_view_count": null,
       "_view_module": "@jupyter-widgets/base",
       "_view_module_version": "1.2.0",
       "_view_name": "StyleView",
       "description_width": ""
      }
     },
     "37e354e8d7e440d88836854a28d89cfe": {
      "model_module": "@jupyter-widgets/controls",
      "model_module_version": "1.5.0",
      "model_name": "DescriptionStyleModel",
      "state": {
       "_model_module": "@jupyter-widgets/controls",
       "_model_module_version": "1.5.0",
       "_model_name": "DescriptionStyleModel",
       "_view_count": null,
       "_view_module": "@jupyter-widgets/base",
       "_view_module_version": "1.2.0",
       "_view_name": "StyleView",
       "description_width": ""
      }
     },
     "3844ce91b520402d8959069df490d10a": {
      "model_module": "@jupyter-widgets/base",
      "model_module_version": "1.2.0",
      "model_name": "LayoutModel",
      "state": {
       "_model_module": "@jupyter-widgets/base",
       "_model_module_version": "1.2.0",
       "_model_name": "LayoutModel",
       "_view_count": null,
       "_view_module": "@jupyter-widgets/base",
       "_view_module_version": "1.2.0",
       "_view_name": "LayoutView",
       "align_content": null,
       "align_items": null,
       "align_self": null,
       "border": null,
       "bottom": null,
       "display": null,
       "flex": null,
       "flex_flow": null,
       "grid_area": null,
       "grid_auto_columns": null,
       "grid_auto_flow": null,
       "grid_auto_rows": null,
       "grid_column": null,
       "grid_gap": null,
       "grid_row": null,
       "grid_template_areas": null,
       "grid_template_columns": null,
       "grid_template_rows": null,
       "height": null,
       "justify_content": null,
       "justify_items": null,
       "left": null,
       "margin": null,
       "max_height": null,
       "max_width": null,
       "min_height": null,
       "min_width": null,
       "object_fit": null,
       "object_position": null,
       "order": null,
       "overflow": null,
       "overflow_x": null,
       "overflow_y": null,
       "padding": null,
       "right": null,
       "top": null,
       "visibility": null,
       "width": null
      }
     },
     "413b5cca054b46a0b4098bd6e7da6a55": {
      "model_module": "@jupyter-widgets/controls",
      "model_module_version": "1.5.0",
      "model_name": "DescriptionStyleModel",
      "state": {
       "_model_module": "@jupyter-widgets/controls",
       "_model_module_version": "1.5.0",
       "_model_name": "DescriptionStyleModel",
       "_view_count": null,
       "_view_module": "@jupyter-widgets/base",
       "_view_module_version": "1.2.0",
       "_view_name": "StyleView",
       "description_width": ""
      }
     },
     "440e44c0aaa741cb870ef17184d85353": {
      "model_module": "@jupyter-widgets/controls",
      "model_module_version": "1.5.0",
      "model_name": "FloatProgressModel",
      "state": {
       "_dom_classes": [],
       "_model_module": "@jupyter-widgets/controls",
       "_model_module_version": "1.5.0",
       "_model_name": "FloatProgressModel",
       "_view_count": null,
       "_view_module": "@jupyter-widgets/controls",
       "_view_module_version": "1.5.0",
       "_view_name": "ProgressView",
       "bar_style": "success",
       "description": "",
       "description_tooltip": null,
       "layout": "IPY_MODEL_b9ca181b37df4b77a851ffb8b546fb86",
       "max": 28881.0,
       "min": 0.0,
       "orientation": "horizontal",
       "style": "IPY_MODEL_bb6d8ad6b446486583362cc2b1dbd737",
       "value": 28881.0
      }
     },
     "45d8b00e79fc41eeae1a942599ca0bc7": {
      "model_module": "@jupyter-widgets/base",
      "model_module_version": "1.2.0",
      "model_name": "LayoutModel",
      "state": {
       "_model_module": "@jupyter-widgets/base",
       "_model_module_version": "1.2.0",
       "_model_name": "LayoutModel",
       "_view_count": null,
       "_view_module": "@jupyter-widgets/base",
       "_view_module_version": "1.2.0",
       "_view_name": "LayoutView",
       "align_content": null,
       "align_items": null,
       "align_self": null,
       "border": null,
       "bottom": null,
       "display": null,
       "flex": null,
       "flex_flow": null,
       "grid_area": null,
       "grid_auto_columns": null,
       "grid_auto_flow": null,
       "grid_auto_rows": null,
       "grid_column": null,
       "grid_gap": null,
       "grid_row": null,
       "grid_template_areas": null,
       "grid_template_columns": null,
       "grid_template_rows": null,
       "height": null,
       "justify_content": null,
       "justify_items": null,
       "left": null,
       "margin": null,
       "max_height": null,
       "max_width": null,
       "min_height": null,
       "min_width": null,
       "object_fit": null,
       "object_position": null,
       "order": null,
       "overflow": null,
       "overflow_x": null,
       "overflow_y": null,
       "padding": null,
       "right": null,
       "top": null,
       "visibility": null,
       "width": null
      }
     },
     "49bbb6e1953f4c22b1b33fca53d1b093": {
      "model_module": "@jupyter-widgets/controls",
      "model_module_version": "1.5.0",
      "model_name": "DescriptionStyleModel",
      "state": {
       "_model_module": "@jupyter-widgets/controls",
       "_model_module_version": "1.5.0",
       "_model_name": "DescriptionStyleModel",
       "_view_count": null,
       "_view_module": "@jupyter-widgets/base",
       "_view_module_version": "1.2.0",
       "_view_name": "StyleView",
       "description_width": ""
      }
     },
     "52338bdf946c477e92b4340930b16461": {
      "model_module": "@jupyter-widgets/controls",
      "model_module_version": "1.5.0",
      "model_name": "HTMLModel",
      "state": {
       "_dom_classes": [],
       "_model_module": "@jupyter-widgets/controls",
       "_model_module_version": "1.5.0",
       "_model_name": "HTMLModel",
       "_view_count": null,
       "_view_module": "@jupyter-widgets/controls",
       "_view_module_version": "1.5.0",
       "_view_name": "HTMLView",
       "description": "",
       "description_tooltip": null,
       "layout": "IPY_MODEL_decb2a446a4c425296a6562379aa2ae8",
       "placeholder": "​",
       "style": "IPY_MODEL_413b5cca054b46a0b4098bd6e7da6a55",
       "value": "100%"
      }
     },
     "567933c9408544589df25d884ffb9920": {
      "model_module": "@jupyter-widgets/controls",
      "model_module_version": "1.5.0",
      "model_name": "DescriptionStyleModel",
      "state": {
       "_model_module": "@jupyter-widgets/controls",
       "_model_module_version": "1.5.0",
       "_model_name": "DescriptionStyleModel",
       "_view_count": null,
       "_view_module": "@jupyter-widgets/base",
       "_view_module_version": "1.2.0",
       "_view_name": "StyleView",
       "description_width": ""
      }
     },
     "5b8e933245744324aab50d9323994e1b": {
      "model_module": "@jupyter-widgets/controls",
      "model_module_version": "1.5.0",
      "model_name": "HBoxModel",
      "state": {
       "_dom_classes": [],
       "_model_module": "@jupyter-widgets/controls",
       "_model_module_version": "1.5.0",
       "_model_name": "HBoxModel",
       "_view_count": null,
       "_view_module": "@jupyter-widgets/controls",
       "_view_module_version": "1.5.0",
       "_view_name": "HBoxView",
       "box_style": "",
       "children": [
        "IPY_MODEL_f17808ec837b44668ce34bcd28c2fe71",
        "IPY_MODEL_96a46036c5214e03ae2f8c1a27d9e77a",
        "IPY_MODEL_a877cbe3d4aa4ae3892bec39a3105451"
       ],
       "layout": "IPY_MODEL_dbc019d045664add94d6d2dde42d3f81"
      }
     },
     "5cce12eebf3a4a5abd465d61cc69ac04": {
      "model_module": "@jupyter-widgets/controls",
      "model_module_version": "1.5.0",
      "model_name": "HTMLModel",
      "state": {
       "_dom_classes": [],
       "_model_module": "@jupyter-widgets/controls",
       "_model_module_version": "1.5.0",
       "_model_name": "HTMLModel",
       "_view_count": null,
       "_view_module": "@jupyter-widgets/controls",
       "_view_module_version": "1.5.0",
       "_view_name": "HTMLView",
       "description": "",
       "description_tooltip": null,
       "layout": "IPY_MODEL_d0dfb45341ab4c588e8ac6046bc56d3c",
       "placeholder": "​",
       "style": "IPY_MODEL_3466fed712b74a57864a1a5bea4d8578",
       "value": "100%"
      }
     },
     "7e3b739eff6b4472bff8d7f16f820431": {
      "model_module": "@jupyter-widgets/base",
      "model_module_version": "1.2.0",
      "model_name": "LayoutModel",
      "state": {
       "_model_module": "@jupyter-widgets/base",
       "_model_module_version": "1.2.0",
       "_model_name": "LayoutModel",
       "_view_count": null,
       "_view_module": "@jupyter-widgets/base",
       "_view_module_version": "1.2.0",
       "_view_name": "LayoutView",
       "align_content": null,
       "align_items": null,
       "align_self": null,
       "border": null,
       "bottom": null,
       "display": null,
       "flex": null,
       "flex_flow": null,
       "grid_area": null,
       "grid_auto_columns": null,
       "grid_auto_flow": null,
       "grid_auto_rows": null,
       "grid_column": null,
       "grid_gap": null,
       "grid_row": null,
       "grid_template_areas": null,
       "grid_template_columns": null,
       "grid_template_rows": null,
       "height": null,
       "justify_content": null,
       "justify_items": null,
       "left": null,
       "margin": null,
       "max_height": null,
       "max_width": null,
       "min_height": null,
       "min_width": null,
       "object_fit": null,
       "object_position": null,
       "order": null,
       "overflow": null,
       "overflow_x": null,
       "overflow_y": null,
       "padding": null,
       "right": null,
       "top": null,
       "visibility": null,
       "width": null
      }
     },
     "8abdf8b27edf4145abcb3cdda93fb64e": {
      "model_module": "@jupyter-widgets/controls",
      "model_module_version": "1.5.0",
      "model_name": "DescriptionStyleModel",
      "state": {
       "_model_module": "@jupyter-widgets/controls",
       "_model_module_version": "1.5.0",
       "_model_name": "DescriptionStyleModel",
       "_view_count": null,
       "_view_module": "@jupyter-widgets/base",
       "_view_module_version": "1.2.0",
       "_view_name": "StyleView",
       "description_width": ""
      }
     },
     "8fe32bf4896845ae874fd0ae7c1a22fd": {
      "model_module": "@jupyter-widgets/base",
      "model_module_version": "1.2.0",
      "model_name": "LayoutModel",
      "state": {
       "_model_module": "@jupyter-widgets/base",
       "_model_module_version": "1.2.0",
       "_model_name": "LayoutModel",
       "_view_count": null,
       "_view_module": "@jupyter-widgets/base",
       "_view_module_version": "1.2.0",
       "_view_name": "LayoutView",
       "align_content": null,
       "align_items": null,
       "align_self": null,
       "border": null,
       "bottom": null,
       "display": null,
       "flex": null,
       "flex_flow": null,
       "grid_area": null,
       "grid_auto_columns": null,
       "grid_auto_flow": null,
       "grid_auto_rows": null,
       "grid_column": null,
       "grid_gap": null,
       "grid_row": null,
       "grid_template_areas": null,
       "grid_template_columns": null,
       "grid_template_rows": null,
       "height": null,
       "justify_content": null,
       "justify_items": null,
       "left": null,
       "margin": null,
       "max_height": null,
       "max_width": null,
       "min_height": null,
       "min_width": null,
       "object_fit": null,
       "object_position": null,
       "order": null,
       "overflow": null,
       "overflow_x": null,
       "overflow_y": null,
       "padding": null,
       "right": null,
       "top": null,
       "visibility": null,
       "width": null
      }
     },
     "96a46036c5214e03ae2f8c1a27d9e77a": {
      "model_module": "@jupyter-widgets/controls",
      "model_module_version": "1.5.0",
      "model_name": "FloatProgressModel",
      "state": {
       "_dom_classes": [],
       "_model_module": "@jupyter-widgets/controls",
       "_model_module_version": "1.5.0",
       "_model_name": "FloatProgressModel",
       "_view_count": null,
       "_view_module": "@jupyter-widgets/controls",
       "_view_module_version": "1.5.0",
       "_view_name": "ProgressView",
       "bar_style": "success",
       "description": "",
       "description_tooltip": null,
       "layout": "IPY_MODEL_b783070b4130477fa8b51a6d8d0a527d",
       "max": 4542.0,
       "min": 0.0,
       "orientation": "horizontal",
       "style": "IPY_MODEL_204a92e327334c1a8cc822abdc9c9e8a",
       "value": 4542.0
      }
     },
     "a2e121f2fc2b43318233805385c675d1": {
      "model_module": "@jupyter-widgets/base",
      "model_module_version": "1.2.0",
      "model_name": "LayoutModel",
      "state": {
       "_model_module": "@jupyter-widgets/base",
       "_model_module_version": "1.2.0",
       "_model_name": "LayoutModel",
       "_view_count": null,
       "_view_module": "@jupyter-widgets/base",
       "_view_module_version": "1.2.0",
       "_view_name": "LayoutView",
       "align_content": null,
       "align_items": null,
       "align_self": null,
       "border": null,
       "bottom": null,
       "display": null,
       "flex": null,
       "flex_flow": null,
       "grid_area": null,
       "grid_auto_columns": null,
       "grid_auto_flow": null,
       "grid_auto_rows": null,
       "grid_column": null,
       "grid_gap": null,
       "grid_row": null,
       "grid_template_areas": null,
       "grid_template_columns": null,
       "grid_template_rows": null,
       "height": null,
       "justify_content": null,
       "justify_items": null,
       "left": null,
       "margin": null,
       "max_height": null,
       "max_width": null,
       "min_height": null,
       "min_width": null,
       "object_fit": null,
       "object_position": null,
       "order": null,
       "overflow": null,
       "overflow_x": null,
       "overflow_y": null,
       "padding": null,
       "right": null,
       "top": null,
       "visibility": null,
       "width": null
      }
     },
     "a33d906530714458b0d852ce4a8ad3bc": {
      "model_module": "@jupyter-widgets/controls",
      "model_module_version": "1.5.0",
      "model_name": "HBoxModel",
      "state": {
       "_dom_classes": [],
       "_model_module": "@jupyter-widgets/controls",
       "_model_module_version": "1.5.0",
       "_model_name": "HBoxModel",
       "_view_count": null,
       "_view_module": "@jupyter-widgets/controls",
       "_view_module_version": "1.5.0",
       "_view_name": "HBoxView",
       "box_style": "",
       "children": [
        "IPY_MODEL_f9c64f6ec633423fbca346e955380a14",
        "IPY_MODEL_440e44c0aaa741cb870ef17184d85353",
        "IPY_MODEL_0f75622ca1934d2fb05f3464b0c6d9c7"
       ],
       "layout": "IPY_MODEL_15e9cdb623e74f2d9092dca8206f7c5c"
      }
     },
     "a877cbe3d4aa4ae3892bec39a3105451": {
      "model_module": "@jupyter-widgets/controls",
      "model_module_version": "1.5.0",
      "model_name": "HTMLModel",
      "state": {
       "_dom_classes": [],
       "_model_module": "@jupyter-widgets/controls",
       "_model_module_version": "1.5.0",
       "_model_name": "HTMLModel",
       "_view_count": null,
       "_view_module": "@jupyter-widgets/controls",
       "_view_module_version": "1.5.0",
       "_view_name": "HTMLView",
       "description": "",
       "description_tooltip": null,
       "layout": "IPY_MODEL_d855263e0ab14703a1328fc39517fa03",
       "placeholder": "​",
       "style": "IPY_MODEL_370dc523c7eb4172a1ca5d187b5ce043",
       "value": " 4542/4542 [00:00&lt;00:00, 338784.48it/s]"
      }
     },
     "a8e87496e2ae42b1bfad15a1c8bd5009": {
      "model_module": "@jupyter-widgets/base",
      "model_module_version": "1.2.0",
      "model_name": "LayoutModel",
      "state": {
       "_model_module": "@jupyter-widgets/base",
       "_model_module_version": "1.2.0",
       "_model_name": "LayoutModel",
       "_view_count": null,
       "_view_module": "@jupyter-widgets/base",
       "_view_module_version": "1.2.0",
       "_view_name": "LayoutView",
       "align_content": null,
       "align_items": null,
       "align_self": null,
       "border": null,
       "bottom": null,
       "display": null,
       "flex": null,
       "flex_flow": null,
       "grid_area": null,
       "grid_auto_columns": null,
       "grid_auto_flow": null,
       "grid_auto_rows": null,
       "grid_column": null,
       "grid_gap": null,
       "grid_row": null,
       "grid_template_areas": null,
       "grid_template_columns": null,
       "grid_template_rows": null,
       "height": null,
       "justify_content": null,
       "justify_items": null,
       "left": null,
       "margin": null,
       "max_height": null,
       "max_width": null,
       "min_height": null,
       "min_width": null,
       "object_fit": null,
       "object_position": null,
       "order": null,
       "overflow": null,
       "overflow_x": null,
       "overflow_y": null,
       "padding": null,
       "right": null,
       "top": null,
       "visibility": null,
       "width": null
      }
     },
     "b5b130dc5b8944e59b691c7d700ee7a0": {
      "model_module": "@jupyter-widgets/base",
      "model_module_version": "1.2.0",
      "model_name": "LayoutModel",
      "state": {
       "_model_module": "@jupyter-widgets/base",
       "_model_module_version": "1.2.0",
       "_model_name": "LayoutModel",
       "_view_count": null,
       "_view_module": "@jupyter-widgets/base",
       "_view_module_version": "1.2.0",
       "_view_name": "LayoutView",
       "align_content": null,
       "align_items": null,
       "align_self": null,
       "border": null,
       "bottom": null,
       "display": null,
       "flex": null,
       "flex_flow": null,
       "grid_area": null,
       "grid_auto_columns": null,
       "grid_auto_flow": null,
       "grid_auto_rows": null,
       "grid_column": null,
       "grid_gap": null,
       "grid_row": null,
       "grid_template_areas": null,
       "grid_template_columns": null,
       "grid_template_rows": null,
       "height": null,
       "justify_content": null,
       "justify_items": null,
       "left": null,
       "margin": null,
       "max_height": null,
       "max_width": null,
       "min_height": null,
       "min_width": null,
       "object_fit": null,
       "object_position": null,
       "order": null,
       "overflow": null,
       "overflow_x": null,
       "overflow_y": null,
       "padding": null,
       "right": null,
       "top": null,
       "visibility": null,
       "width": null
      }
     },
     "b783070b4130477fa8b51a6d8d0a527d": {
      "model_module": "@jupyter-widgets/base",
      "model_module_version": "1.2.0",
      "model_name": "LayoutModel",
      "state": {
       "_model_module": "@jupyter-widgets/base",
       "_model_module_version": "1.2.0",
       "_model_name": "LayoutModel",
       "_view_count": null,
       "_view_module": "@jupyter-widgets/base",
       "_view_module_version": "1.2.0",
       "_view_name": "LayoutView",
       "align_content": null,
       "align_items": null,
       "align_self": null,
       "border": null,
       "bottom": null,
       "display": null,
       "flex": null,
       "flex_flow": null,
       "grid_area": null,
       "grid_auto_columns": null,
       "grid_auto_flow": null,
       "grid_auto_rows": null,
       "grid_column": null,
       "grid_gap": null,
       "grid_row": null,
       "grid_template_areas": null,
       "grid_template_columns": null,
       "grid_template_rows": null,
       "height": null,
       "justify_content": null,
       "justify_items": null,
       "left": null,
       "margin": null,
       "max_height": null,
       "max_width": null,
       "min_height": null,
       "min_width": null,
       "object_fit": null,
       "object_position": null,
       "order": null,
       "overflow": null,
       "overflow_x": null,
       "overflow_y": null,
       "padding": null,
       "right": null,
       "top": null,
       "visibility": null,
       "width": null
      }
     },
     "b9ca181b37df4b77a851ffb8b546fb86": {
      "model_module": "@jupyter-widgets/base",
      "model_module_version": "1.2.0",
      "model_name": "LayoutModel",
      "state": {
       "_model_module": "@jupyter-widgets/base",
       "_model_module_version": "1.2.0",
       "_model_name": "LayoutModel",
       "_view_count": null,
       "_view_module": "@jupyter-widgets/base",
       "_view_module_version": "1.2.0",
       "_view_name": "LayoutView",
       "align_content": null,
       "align_items": null,
       "align_self": null,
       "border": null,
       "bottom": null,
       "display": null,
       "flex": null,
       "flex_flow": null,
       "grid_area": null,
       "grid_auto_columns": null,
       "grid_auto_flow": null,
       "grid_auto_rows": null,
       "grid_column": null,
       "grid_gap": null,
       "grid_row": null,
       "grid_template_areas": null,
       "grid_template_columns": null,
       "grid_template_rows": null,
       "height": null,
       "justify_content": null,
       "justify_items": null,
       "left": null,
       "margin": null,
       "max_height": null,
       "max_width": null,
       "min_height": null,
       "min_width": null,
       "object_fit": null,
       "object_position": null,
       "order": null,
       "overflow": null,
       "overflow_x": null,
       "overflow_y": null,
       "padding": null,
       "right": null,
       "top": null,
       "visibility": null,
       "width": null
      }
     },
     "bb6d8ad6b446486583362cc2b1dbd737": {
      "model_module": "@jupyter-widgets/controls",
      "model_module_version": "1.5.0",
      "model_name": "ProgressStyleModel",
      "state": {
       "_model_module": "@jupyter-widgets/controls",
       "_model_module_version": "1.5.0",
       "_model_name": "ProgressStyleModel",
       "_view_count": null,
       "_view_module": "@jupyter-widgets/base",
       "_view_module_version": "1.2.0",
       "_view_name": "StyleView",
       "bar_color": null,
       "description_width": ""
      }
     },
     "c2cfeff0147a4bb9ab87b11d19b97a8d": {
      "model_module": "@jupyter-widgets/controls",
      "model_module_version": "1.5.0",
      "model_name": "HBoxModel",
      "state": {
       "_dom_classes": [],
       "_model_module": "@jupyter-widgets/controls",
       "_model_module_version": "1.5.0",
       "_model_name": "HBoxModel",
       "_view_count": null,
       "_view_module": "@jupyter-widgets/controls",
       "_view_module_version": "1.5.0",
       "_view_name": "HBoxView",
       "box_style": "",
       "children": [
        "IPY_MODEL_5cce12eebf3a4a5abd465d61cc69ac04",
        "IPY_MODEL_ebb0c79f2e884669b39611f881dbdeeb",
        "IPY_MODEL_fc03d9b377cf4b2fada0718d3c09bc8e"
       ],
       "layout": "IPY_MODEL_b5b130dc5b8944e59b691c7d700ee7a0"
      }
     },
     "c5122e42542349939c108088f38d04da": {
      "model_module": "@jupyter-widgets/controls",
      "model_module_version": "1.5.0",
      "model_name": "HTMLModel",
      "state": {
       "_dom_classes": [],
       "_model_module": "@jupyter-widgets/controls",
       "_model_module_version": "1.5.0",
       "_model_name": "HTMLModel",
       "_view_count": null,
       "_view_module": "@jupyter-widgets/controls",
       "_view_module_version": "1.5.0",
       "_view_name": "HTMLView",
       "description": "",
       "description_tooltip": null,
       "layout": "IPY_MODEL_0969a700f4164ab8a923650f5ea6c954",
       "placeholder": "​",
       "style": "IPY_MODEL_567933c9408544589df25d884ffb9920",
       "value": " 1648877/1648877 [00:00&lt;00:00, 42107421.86it/s]"
      }
     },
     "d0dfb45341ab4c588e8ac6046bc56d3c": {
      "model_module": "@jupyter-widgets/base",
      "model_module_version": "1.2.0",
      "model_name": "LayoutModel",
      "state": {
       "_model_module": "@jupyter-widgets/base",
       "_model_module_version": "1.2.0",
       "_model_name": "LayoutModel",
       "_view_count": null,
       "_view_module": "@jupyter-widgets/base",
       "_view_module_version": "1.2.0",
       "_view_name": "LayoutView",
       "align_content": null,
       "align_items": null,
       "align_self": null,
       "border": null,
       "bottom": null,
       "display": null,
       "flex": null,
       "flex_flow": null,
       "grid_area": null,
       "grid_auto_columns": null,
       "grid_auto_flow": null,
       "grid_auto_rows": null,
       "grid_column": null,
       "grid_gap": null,
       "grid_row": null,
       "grid_template_areas": null,
       "grid_template_columns": null,
       "grid_template_rows": null,
       "height": null,
       "justify_content": null,
       "justify_items": null,
       "left": null,
       "margin": null,
       "max_height": null,
       "max_width": null,
       "min_height": null,
       "min_width": null,
       "object_fit": null,
       "object_position": null,
       "order": null,
       "overflow": null,
       "overflow_x": null,
       "overflow_y": null,
       "padding": null,
       "right": null,
       "top": null,
       "visibility": null,
       "width": null
      }
     },
     "d855263e0ab14703a1328fc39517fa03": {
      "model_module": "@jupyter-widgets/base",
      "model_module_version": "1.2.0",
      "model_name": "LayoutModel",
      "state": {
       "_model_module": "@jupyter-widgets/base",
       "_model_module_version": "1.2.0",
       "_model_name": "LayoutModel",
       "_view_count": null,
       "_view_module": "@jupyter-widgets/base",
       "_view_module_version": "1.2.0",
       "_view_name": "LayoutView",
       "align_content": null,
       "align_items": null,
       "align_self": null,
       "border": null,
       "bottom": null,
       "display": null,
       "flex": null,
       "flex_flow": null,
       "grid_area": null,
       "grid_auto_columns": null,
       "grid_auto_flow": null,
       "grid_auto_rows": null,
       "grid_column": null,
       "grid_gap": null,
       "grid_row": null,
       "grid_template_areas": null,
       "grid_template_columns": null,
       "grid_template_rows": null,
       "height": null,
       "justify_content": null,
       "justify_items": null,
       "left": null,
       "margin": null,
       "max_height": null,
       "max_width": null,
       "min_height": null,
       "min_width": null,
       "object_fit": null,
       "object_position": null,
       "order": null,
       "overflow": null,
       "overflow_x": null,
       "overflow_y": null,
       "padding": null,
       "right": null,
       "top": null,
       "visibility": null,
       "width": null
      }
     },
     "dbc019d045664add94d6d2dde42d3f81": {
      "model_module": "@jupyter-widgets/base",
      "model_module_version": "1.2.0",
      "model_name": "LayoutModel",
      "state": {
       "_model_module": "@jupyter-widgets/base",
       "_model_module_version": "1.2.0",
       "_model_name": "LayoutModel",
       "_view_count": null,
       "_view_module": "@jupyter-widgets/base",
       "_view_module_version": "1.2.0",
       "_view_name": "LayoutView",
       "align_content": null,
       "align_items": null,
       "align_self": null,
       "border": null,
       "bottom": null,
       "display": null,
       "flex": null,
       "flex_flow": null,
       "grid_area": null,
       "grid_auto_columns": null,
       "grid_auto_flow": null,
       "grid_auto_rows": null,
       "grid_column": null,
       "grid_gap": null,
       "grid_row": null,
       "grid_template_areas": null,
       "grid_template_columns": null,
       "grid_template_rows": null,
       "height": null,
       "justify_content": null,
       "justify_items": null,
       "left": null,
       "margin": null,
       "max_height": null,
       "max_width": null,
       "min_height": null,
       "min_width": null,
       "object_fit": null,
       "object_position": null,
       "order": null,
       "overflow": null,
       "overflow_x": null,
       "overflow_y": null,
       "padding": null,
       "right": null,
       "top": null,
       "visibility": null,
       "width": null
      }
     },
     "de4f7ce787fa4edd879c5b05089b9b21": {
      "model_module": "@jupyter-widgets/controls",
      "model_module_version": "1.5.0",
      "model_name": "HBoxModel",
      "state": {
       "_dom_classes": [],
       "_model_module": "@jupyter-widgets/controls",
       "_model_module_version": "1.5.0",
       "_model_name": "HBoxModel",
       "_view_count": null,
       "_view_module": "@jupyter-widgets/controls",
       "_view_module_version": "1.5.0",
       "_view_name": "HBoxView",
       "box_style": "",
       "children": [
        "IPY_MODEL_52338bdf946c477e92b4340930b16461",
        "IPY_MODEL_1f738c849e5d4a789d207d88aec566fb",
        "IPY_MODEL_c5122e42542349939c108088f38d04da"
       ],
       "layout": "IPY_MODEL_7e3b739eff6b4472bff8d7f16f820431"
      }
     },
     "decb2a446a4c425296a6562379aa2ae8": {
      "model_module": "@jupyter-widgets/base",
      "model_module_version": "1.2.0",
      "model_name": "LayoutModel",
      "state": {
       "_model_module": "@jupyter-widgets/base",
       "_model_module_version": "1.2.0",
       "_model_name": "LayoutModel",
       "_view_count": null,
       "_view_module": "@jupyter-widgets/base",
       "_view_module_version": "1.2.0",
       "_view_name": "LayoutView",
       "align_content": null,
       "align_items": null,
       "align_self": null,
       "border": null,
       "bottom": null,
       "display": null,
       "flex": null,
       "flex_flow": null,
       "grid_area": null,
       "grid_auto_columns": null,
       "grid_auto_flow": null,
       "grid_auto_rows": null,
       "grid_column": null,
       "grid_gap": null,
       "grid_row": null,
       "grid_template_areas": null,
       "grid_template_columns": null,
       "grid_template_rows": null,
       "height": null,
       "justify_content": null,
       "justify_items": null,
       "left": null,
       "margin": null,
       "max_height": null,
       "max_width": null,
       "min_height": null,
       "min_width": null,
       "object_fit": null,
       "object_position": null,
       "order": null,
       "overflow": null,
       "overflow_x": null,
       "overflow_y": null,
       "padding": null,
       "right": null,
       "top": null,
       "visibility": null,
       "width": null
      }
     },
     "ebb0c79f2e884669b39611f881dbdeeb": {
      "model_module": "@jupyter-widgets/controls",
      "model_module_version": "1.5.0",
      "model_name": "FloatProgressModel",
      "state": {
       "_dom_classes": [],
       "_model_module": "@jupyter-widgets/controls",
       "_model_module_version": "1.5.0",
       "_model_name": "FloatProgressModel",
       "_view_count": null,
       "_view_module": "@jupyter-widgets/controls",
       "_view_module_version": "1.5.0",
       "_view_name": "ProgressView",
       "bar_style": "success",
       "description": "",
       "description_tooltip": null,
       "layout": "IPY_MODEL_a8e87496e2ae42b1bfad15a1c8bd5009",
       "max": 9912422.0,
       "min": 0.0,
       "orientation": "horizontal",
       "style": "IPY_MODEL_1a2e4fea24ce4efc8806a13807ffb703",
       "value": 9912422.0
      }
     },
     "f17808ec837b44668ce34bcd28c2fe71": {
      "model_module": "@jupyter-widgets/controls",
      "model_module_version": "1.5.0",
      "model_name": "HTMLModel",
      "state": {
       "_dom_classes": [],
       "_model_module": "@jupyter-widgets/controls",
       "_model_module_version": "1.5.0",
       "_model_name": "HTMLModel",
       "_view_count": null,
       "_view_module": "@jupyter-widgets/controls",
       "_view_module_version": "1.5.0",
       "_view_name": "HTMLView",
       "description": "",
       "description_tooltip": null,
       "layout": "IPY_MODEL_3844ce91b520402d8959069df490d10a",
       "placeholder": "​",
       "style": "IPY_MODEL_1c906f2391c54c40aab4a2e5910ae777",
       "value": "100%"
      }
     },
     "f9c64f6ec633423fbca346e955380a14": {
      "model_module": "@jupyter-widgets/controls",
      "model_module_version": "1.5.0",
      "model_name": "HTMLModel",
      "state": {
       "_dom_classes": [],
       "_model_module": "@jupyter-widgets/controls",
       "_model_module_version": "1.5.0",
       "_model_name": "HTMLModel",
       "_view_count": null,
       "_view_module": "@jupyter-widgets/controls",
       "_view_module_version": "1.5.0",
       "_view_name": "HTMLView",
       "description": "",
       "description_tooltip": null,
       "layout": "IPY_MODEL_45d8b00e79fc41eeae1a942599ca0bc7",
       "placeholder": "​",
       "style": "IPY_MODEL_37e354e8d7e440d88836854a28d89cfe",
       "value": "100%"
      }
     },
     "fc03d9b377cf4b2fada0718d3c09bc8e": {
      "model_module": "@jupyter-widgets/controls",
      "model_module_version": "1.5.0",
      "model_name": "HTMLModel",
      "state": {
       "_dom_classes": [],
       "_model_module": "@jupyter-widgets/controls",
       "_model_module_version": "1.5.0",
       "_model_name": "HTMLModel",
       "_view_count": null,
       "_view_module": "@jupyter-widgets/controls",
       "_view_module_version": "1.5.0",
       "_view_name": "HTMLView",
       "description": "",
       "description_tooltip": null,
       "layout": "IPY_MODEL_8fe32bf4896845ae874fd0ae7c1a22fd",
       "placeholder": "​",
       "style": "IPY_MODEL_49bbb6e1953f4c22b1b33fca53d1b093",
       "value": " 9912422/9912422 [00:00&lt;00:00, 134256383.31it/s]"
      }
     }
    },
    "version_major": 2,
    "version_minor": 0
   }
  }
 },
 "nbformat": 4,
 "nbformat_minor": 5
}
